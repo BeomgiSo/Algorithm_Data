{
 "cells": [
  {
   "cell_type": "code",
   "execution_count": null,
   "metadata": {},
   "outputs": [],
   "source": []
  },
  {
   "cell_type": "markdown",
   "metadata": {},
   "source": [
    "## 모든 테트 케이스를 통과하도로 풀어야한다.\n",
    "- 비율적인 알고리즘으로 타임아웃이 발생하지 않도록 최적화에도 많은 신경을 써야한다.\n",
    "- 적어도 코딩테스트 시에는 충분히 생가하고 문제가 없는지 코드를 다시한번 더 꼼꼼히 확인 후에 제출하는 편이 유리하다.\n",
    "\n",
    "## 타임아웃이 발생하는경우\n",
    "- O(n^2)인 알고리즘은 타임아웃이 발생하고 적어도 O(n) 혹은 O(nlogn)정도는 되어야 풀리는 상황을 만들어내기 위해서다.\n",
    "\n",
    "## 예외처리를 잊지말자\n",
    "\n",
    "## 잘못 접근한 풀이, 어떻게 대처할까\n",
    "- 스스로 문제당 제한 식나을 정해두고 그 시간을 초고활 경우 바로바로 다음문제로 넘어가자\n",
    "\n",
    "## 풀이시간을 초과했을 때, 포기해야 할까?\n",
    "- 시간이 주어지면 다 풀 수있는 경우\n",
    "- 면접관의 이메일 주소를 알고 있을 경우\n",
    "\n",
    "## REPL 도구로 코드를 검증하자\n",
    "- Read Evaluate Print Loop : 사용자 입력에 대한 실행 결과를 바로 돌려주는 상호작용환경"
   ]
  },
  {
   "cell_type": "markdown",
   "metadata": {},
   "source": []
  }
 ],
 "metadata": {
  "language_info": {
   "name": "python"
  },
  "orig_nbformat": 4
 },
 "nbformat": 4,
 "nbformat_minor": 2
}
