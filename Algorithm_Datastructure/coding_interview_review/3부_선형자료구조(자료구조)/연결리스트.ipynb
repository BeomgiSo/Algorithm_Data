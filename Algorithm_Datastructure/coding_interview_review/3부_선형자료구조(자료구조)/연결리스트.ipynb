{
 "cells": [
  {
   "cell_type": "code",
   "execution_count": null,
   "metadata": {},
   "outputs": [],
   "source": []
  },
  {
   "cell_type": "markdown",
   "metadata": {},
   "source": [
    "## 연결리스트\n",
    "- 연결 리스트는 데이터의 요소의 선형 결합으로, 데이터의 순서가 메모리에 물리적인 순서대로 저장되지는 않는다.\n",
    "- 연결리스트는 배열과 함께 가장 기본이 되는 대표적인 선형 자료구조중 하나로 다영한 추상자료형(ADT)구현의 기반이 된다.\n",
    "- 동적으로 새로운 노드를 삽입하거나 삭제하기가 간편하며, 연결 구조를 통해 물리 메모리를 연속적으로 사용하지 않아도 된다.\n",
    "- 또한 데이터를 구조체로 묶어서 포인터로 연결한다는 개념은 여러가지 방법으로 다양한게 활용이 가능하다.\n",
    "- 연결리스트는 배열과 달리 특정 인덱스르에 접근하기 위해서는 전체 순서를 순서대로 읽어야 하므로 상수시간에 접근할 수 없다.\n",
    "- 즉 탐색에서는 O(n)이 소요된다.\n",
    "- 시작 혹은 끝 지점에 아이템추가 삭제 추출 작업시 O(1)에 가능하다.\n"
   ]
  },
  {
   "cell_type": "markdown",
   "metadata": {},
   "source": [
    "## 13 펜린드롬 연결리스트\n",
    "- 연결 리스트가 펜린드롬 구조인지 확인하라\n",
    "- ex 1->2 false\n",
    "- ex 1->2->2->1 true"
   ]
  },
  {
   "cell_type": "code",
   "execution_count": null,
   "metadata": {},
   "outputs": [],
   "source": [
    "class problem13_solution():\n",
    "    def solution1(self,head:ListNode)->bool:\n",
    "        q : List =[]\n",
    "        if not head:\n",
    "            return True\n",
    "\n",
    "        node = head\n",
    "\n",
    "        # 리스트 변환\n",
    "\n",
    "        while node is not None:\n",
    "            q.append(node.val)\n",
    "            node = node.next\n",
    "        \n",
    "        while len(q)>1:\n",
    "            if q.pop(0) != q.pop():\n",
    "                return False\n",
    "        \n",
    "        return True\n",
    "\n"
   ]
  }
 ],
 "metadata": {
  "language_info": {
   "name": "python"
  },
  "orig_nbformat": 4
 },
 "nbformat": 4,
 "nbformat_minor": 2
}
