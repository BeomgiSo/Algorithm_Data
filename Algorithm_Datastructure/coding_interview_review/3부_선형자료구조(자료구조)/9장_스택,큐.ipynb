{
 "cells": [
  {
   "cell_type": "markdown",
   "metadata": {},
   "source": [
    "## 스택, 큐\n",
    "- 스택(Stack), 큐(Queue)- LIFO,FIFO\n",
    "- 스택은 리스트로\n",
    "- 큐는 Deque로사용한다.\n",
    "\n",
    "> 스택\n",
    "- 스택(stack)은 다음과 같은 2가지 주요 연산을 지원하는 요소의 컬렉션으로 사용되는 추상형 자료이다.\n",
    "    - push() : 요소의 컬렉션에 추가한다.\n",
    "    - pop() : 아직 제거되지 않은 가장 최근에 삽입된 요소를 제거한다.\n",
    "- 콜 스택(Call Stack) : 컴퓨터 프로그램 서브루틴에 대한 정보를 저장하는 자료구조에도 널리 활용된다.\n",
    "- 컴파일러가 출력하는 에러도 스택처럼 맨 마지막 애러가 가장 먼저 출력된ㄴ 순서를 보인다.\n",
    "- 스택은 메모리영역에서 LIFO 형태로 할당하고 접근하는 구조인 아키택처 레벨의 하드웨어 스택의 이름으로도 널리 사용된다.\n",
    "- 스택 버퍼 오버플로(Stack buffer overflow) : 스택에 요소가 넘처서 에러가 발생하는것\n",
    "- 스택은 거의모든 애플리케이션을 만들 때 사용되는 자료구조로서, 스택과 연관된 알고리즘을 제대로 이해하느냐 못하느냐에 따라서 기본 알고리즘을 설계할 수 있느냐 없느냐가 결정된다.\n",
    "- 그림에서 ADT는 스택의 연산을 지원하기 위해서 1부터 5까지 각 요소가 쌓지만, 실제로 연결리스트로 구현하게 된다면 물리 메모리상에는 순서와 관계없이 여기저기 무작위로 배치되고 포인터로 가리키게 된다.\n",
    "\n",
    "> 연결리스트를 이용한 스택 ADT구현\n"
   ]
  },
  {
   "cell_type": "code",
   "execution_count": 5,
   "metadata": {},
   "outputs": [
    {
     "name": "stdout",
     "output_type": "stream",
     "text": [
      "5\n",
      "4\n",
      "3\n",
      "2\n",
      "1\n"
     ]
    }
   ],
   "source": [
    "class Node:\n",
    "    def __init__(self,item,next):\n",
    "        self.item = item\n",
    "        self.next = next\n",
    "\n",
    "class Stack:\n",
    "    def __init__(self):\n",
    "        self.last = None\n",
    "    \n",
    "    def push(self,item):\n",
    "        self.last = Node(item,self.last)\n",
    "\n",
    "    def pop(self):\n",
    "        item = self.last.item\n",
    "        self.last = self.last.next\n",
    "        return item\n",
    "\n",
    "\n",
    "stack = Stack()\n",
    "stack.push(1)\n",
    "stack.push(2)\n",
    "stack.push(3)\n",
    "stack.push(4)\n",
    "stack.push(5)\n",
    "\n",
    "for _ in range(5):\n",
    "    print(stack.pop())\n",
    "\n"
   ]
  },
  {
   "cell_type": "markdown",
   "metadata": {},
   "source": [
    "# 문제 20 유요한 괄호\n",
    "- 예시\n",
    "- (){}[]\n",
    "- True\n",
    "\n",
    "- ([{ 을 만나면 push하고   }])만나면 pop한 결과가 매핑 테블 결과와 매칭되는지 확인하면된다.\n",
    "- 여기서 매핑 테이블을 먼저 만들어 놓고 테블에 존재하지않으면 주모건 푸시하고, 팝 했을 때 결과가 일치하지않으면 False를 리턴하도록 한다."
   ]
  },
  {
   "cell_type": "code",
   "execution_count": 6,
   "metadata": {},
   "outputs": [
    {
     "ename": "SyntaxError",
     "evalue": "'return' outside function (1212660942.py, line 11)",
     "output_type": "error",
     "traceback": [
      "\u001b[0;36m  Input \u001b[0;32mIn [6]\u001b[0;36m\u001b[0m\n\u001b[0;31m    return False\u001b[0m\n\u001b[0m    ^\u001b[0m\n\u001b[0;31mSyntaxError\u001b[0m\u001b[0;31m:\u001b[0m 'return' outside function\n"
     ]
    }
   ],
   "source": [
    "stack = []\n",
    "table = {\n",
    "    ')':'(',\n",
    "    ']':'[',\n",
    "    '}':'{',\n",
    "}\n",
    "\n",
    "if char not in table:\n",
    "    stack.append(char)\n",
    "elif table[char] != stack.pop():\n",
    "    return False"
   ]
  },
  {
   "cell_type": "code",
   "execution_count": 7,
   "metadata": {},
   "outputs": [
    {
     "name": "stdout",
     "output_type": "stream",
     "text": [
      "True\n"
     ]
    }
   ],
   "source": [
    "def isValid(s:str) -> bool:\n",
    "    stack=[]\n",
    "    table = {\n",
    "        ')':'(',\n",
    "        ']':'[',\n",
    "        '}':'{',\n",
    "    }\n",
    "    \n",
    "    # 스택 이용 예외처리 및 일치 여부 판별\n",
    "    \n",
    "    for char in s:\n",
    "        if char not in table:\n",
    "            stack.append(char)\n",
    "        elif not stack or table[char] != stack.pop():\n",
    "            return False\n",
    "    return len(stack) == 0\n",
    "\n",
    "print(isValid('(())'))"
   ]
  },
  {
   "cell_type": "code",
   "execution_count": 8,
   "metadata": {},
   "outputs": [
    {
     "name": "stdout",
     "output_type": "stream",
     "text": [
      "abc\n"
     ]
    }
   ],
   "source": [
    "# 중복문자 제거\n",
    "# 중복된 문자를 제거하고 사전식 순서로 나열하라\n",
    "# - \"bcabc\"\n",
    "# - \"abc\"\n",
    "\n",
    "def solution1(s:str) ->str:\n",
    "    s=list(set(s))\n",
    "    s=sorted(s)\n",
    "\n",
    "    return ''.join(s)\n",
    "\n",
    "print(solution1(\"bcabc\"))\n"
   ]
  },
  {
   "cell_type": "markdown",
   "metadata": {},
   "source": [
    "# 더 따뜻한날이 언제가 나올지 출력하는 프로그램\n",
    "- input = [73,74,75,69,72,76,73]"
   ]
  },
  {
   "cell_type": "code",
   "execution_count": 11,
   "metadata": {},
   "outputs": [
    {
     "name": "stdout",
     "output_type": "stream",
     "text": [
      "1\n",
      "1\n",
      "0\n",
      "None\n"
     ]
    }
   ],
   "source": [
    "def solution(data):\n",
    "    stack = []\n",
    "    right = 0\n",
    "    check_point = 0\n",
    "    while True:\n",
    "        if data[right] < data[right+1]:\n",
    "            stack.append(data[right])\n",
    "            print(len(stack))\n",
    "            stack = []\n",
    "            check_point +=right\n",
    "        else:\n",
    "            stack.append(data[right])\n",
    "\n",
    "data = [73,74,75,69,72,76,73]\n",
    "print(solution(data))"
   ]
  }
 ],
 "metadata": {
  "interpreter": {
   "hash": "31f2aee4e71d21fbe5cf8b01ff0e069b9275f58929596ceb00d14d90e3e16cd6"
  },
  "kernelspec": {
   "display_name": "Python 3.8.9 64-bit",
   "language": "python",
   "name": "python3"
  },
  "language_info": {
   "codemirror_mode": {
    "name": "ipython",
    "version": 3
   },
   "file_extension": ".py",
   "mimetype": "text/x-python",
   "name": "python",
   "nbconvert_exporter": "python",
   "pygments_lexer": "ipython3",
   "version": "3.8.9"
  },
  "orig_nbformat": 4
 },
 "nbformat": 4,
 "nbformat_minor": 2
}
