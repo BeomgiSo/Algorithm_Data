{
 "cells": [
  {
   "cell_type": "code",
   "execution_count": null,
   "metadata": {},
   "outputs": [],
   "source": []
  },
  {
   "cell_type": "markdown",
   "metadata": {},
   "source": [
    "## 12장 그래프\n",
    "- 수학에서  그래프 이론에서 그래프란  객체의 일부 쌍(pair)들이 \"연관되어\"있는 객체집합구조를 말한다.\n",
    "\n",
    "- "
   ]
  },
  {
   "cell_type": "code",
   "execution_count": 1,
   "metadata": {},
   "outputs": [],
   "source": [
    "graph = {\n",
    "    1:[2,3,4],\n",
    "    2:[5],\n",
    "    3:[5],\n",
    "    4:[],\n",
    "    5:[6,7],\n",
    "    6:[],\n",
    "    7:[3]}"
   ]
  },
  {
   "cell_type": "code",
   "execution_count": 3,
   "metadata": {},
   "outputs": [
    {
     "name": "stdout",
     "output_type": "stream",
     "text": [
      "recursive dfs : [1, 2, 5, 6, 7, 3, 4]\n"
     ]
    }
   ],
   "source": [
    "# DFS 깊이 우선 탐색\n",
    "def recursive_dfs(v,discovered=[]):\n",
    "    discovered.append(v)\n",
    "    for w in graph[v]:\n",
    "        if not w in discovered:\n",
    "            discovered = recursive_dfs(w,discovered)\n",
    "    return discovered\n",
    "\n",
    "print(f'recursive dfs : {recursive_dfs(1)}')"
   ]
  }
 ],
 "metadata": {
  "interpreter": {
   "hash": "31f2aee4e71d21fbe5cf8b01ff0e069b9275f58929596ceb00d14d90e3e16cd6"
  },
  "kernelspec": {
   "display_name": "Python 3.8.9 64-bit",
   "language": "python",
   "name": "python3"
  },
  "language_info": {
   "codemirror_mode": {
    "name": "ipython",
    "version": 3
   },
   "file_extension": ".py",
   "mimetype": "text/x-python",
   "name": "python",
   "nbconvert_exporter": "python",
   "pygments_lexer": "ipython3",
   "version": "3.8.9"
  },
  "orig_nbformat": 4
 },
 "nbformat": 4,
 "nbformat_minor": 2
}
