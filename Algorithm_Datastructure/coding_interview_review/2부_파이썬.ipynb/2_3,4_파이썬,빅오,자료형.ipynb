{
 "cells": [
  {
   "cell_type": "markdown",
   "metadata": {},
   "source": [
    "# 2_3장 파이썬\n",
    "\n",
    "## 파이썬의 문법\n",
    "\n",
    "> 인덴트(indent)\n",
    "- PEP(Python Enhancement proposals)프로세스를 통해 진행된다. 파이썬의 디자인 결정을 문서화하는 파이썬의 주요 개발 프로세스\n",
    "```python\n",
    "def long_function(  \n",
    "    varone,vartwo,varthree,\n",
    "    var_four):\n",
    "```\n",
    "- 여러줄의 input이 있을경우 한줄 뛰어서 tap을(4칸을 설정한다.)\n",
    "\n",
    "```python\n",
    "def long_function(  \n",
    "    varone,vartwo,\n",
    "    varthree,var_four):\n",
    "```\n",
    "- 다음과 같이 보기 편하게 보일 수 있다.\n",
    "\n",
    "> 네이밍 컨벤션(Naming Convention)\n",
    "\n",
    "- `파이썬 변수명`은 자바와 달리 각 단어를 밑줄로 구분하여 표기하는 `스네이크 케이스(Snake case)`를 따른다.\n",
    "    - ex) snake_case\n",
    "- 파이썬과 달리 자바에서는 단어별로 대소문자를 구별하여 표기하는 `카멜케이스`를 따른다.\n",
    "    - ex) camelCase\n",
    "- 파이썬의 `PEP8` 및 철학에 따라 `스네이크 코딩`을 지향한다.\n"
   ]
  },
  {
   "cell_type": "markdown",
   "metadata": {},
   "source": [
    "> 타입 힌트\n",
    "```python\n",
    "def fn(a):\n",
    "    ...\n",
    "\n",
    "def fn(a:int)->bool:\n",
    "    ...\n",
    "```\n",
    "- fn함수의 파라미터가 a가 정수형임을 분명하게 알 수 있으며 리턴값이 bool이라는것도 확실하게 알 수 있다.\n",
    "- 이와같이 명시적으로 선언하게 되면 가독성이 높아지며 버그 발생 확률을 줄일 수 있다.\n",
    "- 실제로는 강제 규약이 아니다 보니 여전히 동적으로 할당 될 수 있으므로 주의가 피료아하다."
   ]
  },
  {
   "cell_type": "code",
   "execution_count": 1,
   "metadata": {},
   "outputs": [
    {
     "name": "stdout",
     "output_type": "stream",
     "text": [
      "1\n",
      "2\n"
     ]
    }
   ],
   "source": [
    "a: str = \"1\"\n",
    "b: int = 2\n",
    "print(a)\n",
    "print(b)"
   ]
  },
  {
   "cell_type": "markdown",
   "metadata": {},
   "source": [
    "\n",
    "\n",
    "> 리스트 컴프리핸션\n",
    "- 파이썬은 `map`,`filter`와 같은 `함수형(functional)기능`을 지원하며 다음과 같은 람다 표현식을 지원한다.\n",
    "\n",
    "```python\n",
    "list(map(lambda x : x+10,[1,2,3]))\n",
    "```\n",
    "\n",
    "- `List comprehension` : 기존 리스트를 기반으로 새로운 리스트를 만들어 내는 구문\n",
    "- 람다 표현식에 `map`이나 `filter`를 섞어서 사용하는것에 비해 가독성이 높아진다.\n",
    "\n",
    "- 홀수인경우 2를 곱해 출력하는 리스트 컴프리핸션\n",
    "\n",
    "```python\n",
    "[n*2 for n in range(1,10+1) if n % 2 == 1]\n",
    "```\n",
    "\n",
    "- dictionary도 가능하다.\n",
    "\n",
    "```python\n",
    "a={}\n",
    "\n",
    "for key, value in original.items():\n",
    "    a[key] = value\n",
    "\n",
    "a = {key: value for key, value in original.items()}\n",
    "```"
   ]
  },
  {
   "cell_type": "code",
   "execution_count": 7,
   "metadata": {},
   "outputs": [
    {
     "name": "stdout",
     "output_type": "stream",
     "text": [
      "{'apple': 'A', 'banana': 'B'}\n"
     ]
    },
    {
     "ename": "NameError",
     "evalue": "name 'original' is not defined",
     "output_type": "error",
     "traceback": [
      "\u001b[0;31m---------------------------------------------------------------------------\u001b[0m",
      "\u001b[0;31mNameError\u001b[0m                                 Traceback (most recent call last)",
      "Input \u001b[0;32mIn [7]\u001b[0m, in \u001b[0;36m<module>\u001b[0;34m\u001b[0m\n\u001b[1;32m      7\u001b[0m \u001b[38;5;28mprint\u001b[39m(a)\n\u001b[1;32m      9\u001b[0m b \u001b[38;5;241m=\u001b[39m {}\n\u001b[0;32m---> 10\u001b[0m \u001b[38;5;28;01mfor\u001b[39;00m key,item \u001b[38;5;129;01min\u001b[39;00m \u001b[43moriginal\u001b[49m\u001b[38;5;241m.\u001b[39mitems():\n\u001b[1;32m     11\u001b[0m     b[key] \u001b[38;5;241m=\u001b[39m value\n\u001b[1;32m     12\u001b[0m \u001b[38;5;28mprint\u001b[39m(b)\n",
      "\u001b[0;31mNameError\u001b[0m: name 'original' is not defined"
     ]
    }
   ],
   "source": [
    "str_list = [\"apple A\",\"banana B\"]\n",
    "a = {}\n",
    "for i in range(len(str_list)):\n",
    "    A,B = list(str_list[i].split(\" \"))\n",
    "    a[A] = B\n",
    "\n",
    "print(a)\n",
    "\n",
    "b = {}\n",
    "for key,item in original.items():\n",
    "    b[key] = value\n",
    "print(b)"
   ]
  },
  {
   "cell_type": "markdown",
   "metadata": {},
   "source": [
    "\n",
    "> 제너레이터(generator)\n",
    "- 루프의 `반복 동작을 제어`할 수 있는 루틴 형태를 말한다.\n",
    "- 이경우 `yield구문`을 사용할 수 있다.\n",
    "- 기존 함수는 `return구문`을 맞닥뜨리며 값을 리턴하고 모든 함수의 동작을 종료한다. 그러나 `yield는 제너레이터가 여기까지 실행 중이던 값을 내보낸다는 의미`로, 중간값을 리턴한 다음 함수는 종료되지 않고 계속해서 맨끝에 도달할 때까지 실행된다.\n",
    "\n",
    "```python\n",
    "def get_natrual_number():\n",
    "    n=0\n",
    "    while True:\n",
    "        n+=1\n",
    "        yield n\n",
    "\n",
    "g = gent_natrual_number()\n",
    "for _ in range(0,100):\n",
    "    print(next(g))\n",
    "```\n",
    "- `next`를 사용하여 수행하면 된다.\n"
   ]
  },
  {
   "cell_type": "code",
   "execution_count": 9,
   "metadata": {},
   "outputs": [
    {
     "name": "stdout",
     "output_type": "stream",
     "text": [
      "1\n",
      "2\n",
      "3\n",
      "4\n",
      "5\n",
      "6\n",
      "7\n",
      "8\n",
      "9\n",
      "10\n",
      "11\n",
      "12\n",
      "13\n",
      "14\n",
      "15\n",
      "16\n",
      "17\n",
      "18\n",
      "19\n",
      "20\n",
      "21\n",
      "22\n",
      "23\n",
      "24\n",
      "25\n",
      "26\n",
      "27\n",
      "28\n",
      "29\n",
      "30\n",
      "31\n",
      "32\n",
      "33\n",
      "34\n",
      "35\n",
      "36\n",
      "37\n",
      "38\n",
      "39\n",
      "40\n",
      "41\n",
      "42\n",
      "43\n",
      "44\n",
      "45\n",
      "46\n",
      "47\n",
      "48\n",
      "49\n",
      "50\n",
      "51\n",
      "52\n",
      "53\n",
      "54\n",
      "55\n",
      "56\n",
      "57\n",
      "58\n",
      "59\n",
      "60\n",
      "61\n",
      "62\n",
      "63\n",
      "64\n",
      "65\n",
      "66\n",
      "67\n",
      "68\n",
      "69\n",
      "70\n",
      "71\n",
      "72\n",
      "73\n",
      "74\n",
      "75\n",
      "76\n",
      "77\n",
      "78\n",
      "79\n",
      "80\n",
      "81\n",
      "82\n",
      "83\n",
      "84\n",
      "85\n",
      "86\n",
      "87\n",
      "88\n",
      "89\n",
      "90\n",
      "91\n",
      "92\n",
      "93\n",
      "94\n",
      "95\n",
      "96\n",
      "97\n",
      "98\n",
      "99\n",
      "100\n"
     ]
    }
   ],
   "source": [
    "def get_natrual_number():\n",
    "    n=0\n",
    "    while True:\n",
    "        n+=1\n",
    "        yield n\n",
    "\n",
    "g = get_natrual_number()\n",
    "for _ in range(0,100):\n",
    "    print(next(g))"
   ]
  },
  {
   "cell_type": "markdown",
   "metadata": {},
   "source": [
    "\n",
    "> enumerate\n",
    "- 여거하다라는 함수로 순서가 있는 `자료형(list,set,tuple등)`을 인덱스를 포함한 enumerate를 객체로 리턴한다.\n",
    "- 이처럼 list()로 결과를 추출 할 수 있는데, 인덱스를 자동으로 부여해 주기 떄문에 매우 편리하게 활용할 수 있다."
   ]
  },
  {
   "cell_type": "code",
   "execution_count": 8,
   "metadata": {},
   "outputs": [
    {
     "name": "stdout",
     "output_type": "stream",
     "text": [
      "[1, 3, 2, 45, 2, 2, 5]\n",
      "<enumerate object at 0x1060defc0>\n",
      "[(0, 1), (1, 3), (2, 2), (3, 45), (4, 2), (5, 2), (6, 5)]\n",
      "0 1\n",
      "1 3\n",
      "2 2\n",
      "3 45\n",
      "4 2\n",
      "5 2\n",
      "6 5\n",
      "(0 5) (1 4) (2 2) (3 1) (4 3) (5 2) 0 , 5\n",
      "1 , 4\n",
      "2 , 2\n",
      "3 , 1\n",
      "4 , 3\n",
      "5 , 2\n"
     ]
    }
   ],
   "source": [
    "a=[1,3,2,45,2,2,5]\n",
    "print(a)\n",
    "print(enumerate(a))\n",
    "print(list(enumerate(a)))\n",
    "\n",
    "for i , v in enumerate(a):\n",
    "    print(i,v)\n",
    "\n",
    "a= [5,4,2,1,3,2]\n",
    "for i in range(len(a)):\n",
    "    print(\"(\"+str(i),str(a[i])+\")\", end = \" \")\n",
    "\n",
    "for x,y in enumerate(a):\n",
    "    print(x,y, sep = \" , \")\n",
    "\n"
   ]
  },
  {
   "cell_type": "code",
   "execution_count": 6,
   "metadata": {},
   "outputs": [
    {
     "name": "stdout",
     "output_type": "stream",
     "text": [
      "A1 V2\n",
      "A1,V2\n",
      "1 2\n",
      "a b\n",
      "2 : apple\n"
     ]
    }
   ],
   "source": [
    "# print에 관해서\n",
    "print('A1','V2')\n",
    "# ,는 띄어스기로 할 수 있다.\n",
    "print('A1','V2',sep=',')\n",
    "# end 파라미터ㄴ를 공백으로 처리하여 줄바꿈을 하지 않도록 할 수 있다\n",
    "print(1, end = \" \")\n",
    "print(2)\n",
    "# 리스트를 출력할때 .join(a)로 묶어서 처리 가능하다.\n",
    "a=['a','b']\n",
    "print(' '.join(a))\n",
    "\n",
    "# idx와 fruit이 정해져있을때 idx값에 1을 더하여 fruit와 함께 출력하는 방법은 어떻게 할까\n",
    "idx = 1\n",
    "fruit = \"apple\"\n",
    "print('{0} : {1}'.format(idx+1,fruit))\n",
    "# 인덱스를 생략할 수 있다.\n",
    "print('{} : {}'.format(idx+1,fruit))\n",
    "# f-string표현법\n",
    "print(f'{idx+1} : {fruit}')\n"
   ]
  },
  {
   "cell_type": "markdown",
   "metadata": {},
   "source": [
    "> pass\n",
    "- 코딩을 하다 보면 일단 코드의 전체 골격을 잡아 놓고 내부에서 처리할 내용은 차근차근 생각하며 만들겠다는 의도로 다음과 같이 코딩 하는 경우가 있다. 그러나 error가 생긴다\n",
    "- 파이썬에서 pass는 널 연산(Null operation)으로 아무것도 하지 않는 기능이다.\n",
    "- 이처럼 아무 역활을 하지 않는 pass를 지정하면, 앞서 발생한 인뎅트 오류같은 불필요한 오류를 방지 할 수 있다.\n",
    "- pass는 먼저 목업(mockup)인터페이스부터 구현한 다음에 추후 구현을 진행할 수 있ㅇ게한다."
   ]
  },
  {
   "cell_type": "code",
   "execution_count": 7,
   "metadata": {},
   "outputs": [
    {
     "ename": "IndentationError",
     "evalue": "expected an indented block (1856366418.py, line 4)",
     "output_type": "error",
     "traceback": [
      "\u001b[0;36m  Input \u001b[0;32mIn [7]\u001b[0;36m\u001b[0m\n\u001b[0;31m    def method_b(self):\u001b[0m\n\u001b[0m    ^\u001b[0m\n\u001b[0;31mIndentationError\u001b[0m\u001b[0;31m:\u001b[0m expected an indented block\n"
     ]
    }
   ],
   "source": [
    "class Myclass():\n",
    "    def method_a(self):\n",
    "    \n",
    "    def method_b(self):\n",
    "        print(\"MethodB\")\n",
    "\n",
    "c=Myclass()"
   ]
  },
  {
   "cell_type": "code",
   "execution_count": 8,
   "metadata": {},
   "outputs": [],
   "source": [
    "class Myclass():\n",
    "    def method_a(self):\n",
    "        pass\n",
    "    def method_b(self):\n",
    "        print(\"MethodB\")\n",
    "\n",
    "c=Myclass()"
   ]
  },
  {
   "cell_type": "markdown",
   "metadata": {},
   "source": [
    "## 코딩 스타일\n",
    "- clean code\n",
    "- 좋은 코드는 가능한 많은 사람이 좋아하며 선호하는 방식을 택하는 것이 중요하다.\n",
    "- 개발은 혼자서만 하는 것이 아니며, 좋은 코드란 모두가 이해할 수 있을때 더 높은 가치를 발휘한다.\n",
    "\n",
    "> 변수명과 주석\n",
    "- 해당 주석을 꼭 확인한다. 즉, 상세한 주석을 다아두는 편이 좋다\n",
    "- 강제로 인덴트를 부여한다.\n",
    "\n",
    "> 리스트 컴프리핸션\n",
    "- 한줄에 풀이를 집착하기보다는 라인을 좀더 여유있게 활용하여 가독성을 높이자.\n",
    "\n",
    "> 구글 파이썬 스타일 가이드\n",
    "- 먼저, 함수의 기본값으로 가변 객체를 사용하지 않아야한다.\n",
    "- 함수가 객체를 수정하면 기본값이 변경되기 떄문에 다음과 같이 기본값으로 []나 {}를 지양하자\n",
    "- 대신 불면객체(immutable object를 사용한다.)\n"
   ]
  },
  {
   "cell_type": "code",
   "execution_count": null,
   "metadata": {},
   "outputs": [],
   "source": [
    "def foo(a,b=None):\n",
    "    if b is None:\n",
    "        b=[]\n",
    "        "
   ]
  },
  {
   "cell_type": "markdown",
   "metadata": {},
   "source": [
    "## 자료형\n",
    "\n",
    "- 파이썬3 표준타입 계층구조\n",
    "- 숫자\n",
    "    - 정수형\n",
    "        - 정수\n",
    "        - 불리언\n",
    "    - 실수\n",
    "- 시퀀스\n",
    "    - 불변\n",
    "        - 문자열\n",
    "        - 튜플\n",
    "        - 바이트\n",
    "    - 가변\n",
    "        - 리스트"
   ]
  },
  {
   "cell_type": "markdown",
   "metadata": {},
   "source": [
    "> 숫자\n",
    "- 파이썬 숫자 정수형 int만 제공한다.\n",
    "- int가 부족하면 자동으로 long으로 변경하게된다\n",
    "- bool 자료형은 논리형 자료인데 파이썬에서는 내부적으로 1(True)와 0(False)로 처리되는 int의 서브 클래스이다.\n",
    "- int는 object의 하위 클래스이기도하기 떄문에 결국 다음과같은 구조를 갖는다.\n",
    "    - object>int>book\n",
    "\n",
    "> 매핑(Mapping)타입\n",
    "- 키와 자료형으로 구성된 복잡 자료형이며, 파이썬에 내장된 유일한 매핑자료형은 딕셔너리이다.\n",
    "\n",
    "> 집합\n",
    "- 중복된 값을 갖지 않는 자료형이다. 파이썬에서 빈 집합은 다음과같이 선언된다."
   ]
  },
  {
   "cell_type": "code",
   "execution_count": 11,
   "metadata": {},
   "outputs": [
    {
     "name": "stdout",
     "output_type": "stream",
     "text": [
      "{'b', 'c', 'd', 'a'}\n"
     ]
    }
   ],
   "source": [
    "# set\n",
    "a = set()\n",
    "\n",
    "a = {'a','a','b','c','d','d','d'}\n",
    "print(a)\n",
    "\n"
   ]
  },
  {
   "cell_type": "markdown",
   "metadata": {},
   "source": [
    "## 시퀀스(sequence)\n",
    "- 특정 대상의 순서가 있는 나열을 뜻한다.\n",
    "- str은 문자의 순서 있는 나열로 문자열을 이루는 자료형이며, list는 다양한 값들을 배열 형태의 순서 있는 나열로 구성하는 자료형\n",
    "- 시퀀스는 불변과 가변으로 구분된다.\n",
    "- str은 불변의 자료형이다. 변수를 참조하는 주소가 변경되었을 뿐이다\n",
    "- 따라서 변경될 수 있는 자료형은 list이다.\n",
    "    - 불변 객체 : bool, int, float, tuple, str\n",
    "    - 가변 객체 : list, set, dict\n",
    "\n",
    "> 파이썬의 is와 ==\n",
    "- is : id()값을비교하는 함수이다. 따라서, None은 Null로서 값 자체가 정의되지 않으므로 ==로 비교가 불가능하다."
   ]
  },
  {
   "cell_type": "markdown",
   "metadata": {},
   "source": [
    "> 자료구조, 자료형, 추상 자료형\n",
    "- 자료구조(Data Structure), 자료형(Data Type), 추상 자료형(Abstract Data type)\n",
    "- 자료구조 : 데이터에 효율적으로 접근하고 조작하기 위한 데이터의 조적, 관리, 저장구조\n",
    "- 자료형 : 컴파일러 또는 인터프리터에게 프로그래모가 데이터를 어떻게 사용하는지 알려주는 일종의 데이터의 속성(Attribute)이다.\n",
    "    - 즉 자료구조에 비해 훨씬 더 구체적이며, 특정 언어에소 자료형이라 함은 정수,실수,문자열등 해당언어에 지원하는 원시 자료형까지 포함되는 모든 자료의 유형\n",
    "- 자료구조 : 일반적으로 원시 자료형을 기반으로하는 배열, 연결리스트,객체(Object)등을 말하며,자료형 관점에서 보자면 원시 자료형을 조합한 자료구조는 복합 자료형(Composite Data type)이 된다.\n",
    "- 추상형 자료구조 : 일반적으로 줄여서 ADT라 부르며 자료형에 대한 수학적 모델을 지칭한다.\n",
    "- ADT란 해당 유형의 자료에 대한 연산들을 명기한 것이다.\n",
    "- ADT는 행동만을 정의할 뿐 실제 구현방법은 명시하지 않는다.\n",
    "- 객체 지향프로그래멩(OOP)에서 추상화는 필수적인 속성만 보여주고, 불필요한 정보는 감추는 것을 의미하는데 이처럼 인터페이스만을 보여주고 실제 구현은 보여주지 않는다는 점에서 ADT는 OOP의 추상화와 비슷한 개념이라 할 수 있다.\n",
    " "
   ]
  }
 ],
 "metadata": {
  "interpreter": {
   "hash": "31f2aee4e71d21fbe5cf8b01ff0e069b9275f58929596ceb00d14d90e3e16cd6"
  },
  "kernelspec": {
   "display_name": "Python 3.8.9 64-bit",
   "language": "python",
   "name": "python3"
  },
  "language_info": {
   "codemirror_mode": {
    "name": "ipython",
    "version": 3
   },
   "file_extension": ".py",
   "mimetype": "text/x-python",
   "name": "python",
   "nbconvert_exporter": "python",
   "pygments_lexer": "ipython3",
   "version": "3.8.9"
  },
  "orig_nbformat": 4
 },
 "nbformat": 4,
 "nbformat_minor": 2
}
