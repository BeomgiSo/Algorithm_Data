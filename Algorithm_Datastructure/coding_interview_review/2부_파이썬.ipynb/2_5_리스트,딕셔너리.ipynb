{
 "cells": [
  {
   "cell_type": "markdown",
   "metadata": {},
   "source": [
    "# 5장 리스트, 딕셔너리\n",
    "\n",
    "## list\n",
    "- 순서대로 저장하는 시퀀스이자 변경 가능한 목록(Mutable list)이다.\n",
    "- 내부적으로 동적 배열로 구현되어 있다.\n",
    "- 리스트를 사용하면 사실상 스택을 사용할지, 큐를 사용할지 고민하지 않아도 되며, 스택과 큐에서 사용가능한 모든연산을 함께 제공한다.\n",
    "- len , a[] , a[i:j], a.count(elem) , a.index(elem), a.append(elem), a.pop(), a.pop(0), del a[i], a.sort(), min(a), max(a), a.reverse(), insert(3,5)\n",
    "\n",
    "- 리스트에서 요소를 삭제하기\n",
    "    - 인덱스로 삭제하기 del a[3]\n",
    "    - 값으로 삭제하기 a.remove(3)\n",
    "    - a.pop(), a.pop(0)\n",
    "\n",
    "\n",
    "> 딕셔너리 모듈\n",
    "- 키/값 으로 이루어진 딕셔너리 구조, 내부적으로 해시테이블(Hash Table)로 이루어져 있다.\n",
    "- lan(a) , a[key], a[key] = value , key in a => 시간복잡도 O(1)\n",
    "\n",
    "- `collections.OrderedDict()`라는 별도의 자료형을 제공 : 항상 입력 순서가 유지됨\n",
    "- `collections.defaultdict` : 존재하지 않는 키를 조회할 경우, 에러 메시지를 출력하는 대신 디폴트 값을 기준으로 해당 키에 대한 딕셔너리 아이템을 생성해준다.\n",
    "- `collections.Counter` : 개수를 값 형태로 만들어 카운팅함\n",
    "\n",
    "- Counter객체\n",
    "- 아이템에 대한 개수를 계산하여 딕셔너리로 리턴한다.\n",
    "- 아이템의 값이 값에는 해당 아이템에대한 개수가 들어간 딕셔너리를 생성한다.\n",
    "- 실제로는 다음과 같이 딕셔너리를 한번 더 래핑한 클래스를 갖는다.\n",
    "- most_common()을 사용하면 빈도수대로 뽑을 수 있다.\n",
    "\n",
    "- OrderedDict객체\n",
    "- 해시 테이블을 이용한 자료형은 입력 순서가 유지되지 않는다.\n",
    "- 파이썬도 입력순서가 유지되는 OrderedDict라는 별도의 객체를 제공했다.\n"
   ]
  },
  {
   "cell_type": "code",
   "execution_count": 8,
   "metadata": {},
   "outputs": [
    {
     "name": "stdout",
     "output_type": "stream",
     "text": [
      "{'key1': 'value1', 'key2': 'value2', 'key3': 'value3'}\n",
      "존재하지않은 key 입니다.\n",
      "{'key2': 'value2', 'key3': 'value3'}\n",
      "defaultdict(<class 'int'>, {'A': 5, 'B': 3})\n",
      "defaultdict(<class 'int'>, {'A': 5, 'B': 3, 'C': 1})\n",
      "Counter({4: 3, 5: 2, 6: 2, 1: 1, 2: 1, 3: 1})\n",
      "[(4, 3), (5, 2)]\n"
     ]
    }
   ],
   "source": [
    "# dict 선언\n",
    "a = dict()\n",
    "a = {}\n",
    "\n",
    "a = {'key1' : 'value1','key2': 'value2'}\n",
    "a['key3'] = 'value3'\n",
    "print(a)\n",
    "\n",
    "# index error 빌셍힌다 이경우 예외처리할 수있다\n",
    "try:\n",
    "    print(a['key4'])\n",
    "except KeyError:\n",
    "    print(\"존재하지않은 key 입니다.\") \n",
    "\n",
    "\n",
    "del a['key1']\n",
    "print(a)\n",
    "\n",
    "\n",
    "## 딕셔너리의 다양한 모듈\n",
    "# defaultdict 객체 : 존재하지 않는 키를 조회할 경우, 에러메시지를 출력하는 대신 디폴트 값을 기준으로 해당 키에 대한 딕셔너리 아이템을 생성해준다.\n",
    "import collections\n",
    "\n",
    "\n",
    "a=collections.defaultdict(int)\n",
    "a['A']=5\n",
    "a['B']=3\n",
    "print(a)\n",
    "\n",
    "a['C'] +=1\n",
    "print(a)\n",
    "\n",
    "# Counter 객체 : 아이템의 값이, 값에는 해당 아이템의 개수가 들어간 딕셔너리를 생성한다. 실제로는 다음과 같이 딕셔너리를 한번 더 랩핑한 클래스를 갖는다.\n",
    "a=[1,2,3,4,5,4,4,5,6,6]\n",
    "b=collections.Counter(a)\n",
    "\n",
    "print(b)\n",
    "print(b.most_common(2)) #빈도가 높은 2개의 요소를 추출한다.\n",
    "\n",
    "# orderedDict 객체 : 해시 테이블을 이용한 자료형은 입력순서가 유지되지 않는다. orderedDict라는 별도의 객체를 제공해 순서를 지정할 수 있다.\n"
   ]
  },
  {
   "cell_type": "markdown",
   "metadata": {},
   "source": []
  }
 ],
 "metadata": {
  "interpreter": {
   "hash": "31f2aee4e71d21fbe5cf8b01ff0e069b9275f58929596ceb00d14d90e3e16cd6"
  },
  "kernelspec": {
   "display_name": "Python 3.8.9 64-bit",
   "language": "python",
   "name": "python3"
  },
  "language_info": {
   "codemirror_mode": {
    "name": "ipython",
    "version": 3
   },
   "file_extension": ".py",
   "mimetype": "text/x-python",
   "name": "python",
   "nbconvert_exporter": "python",
   "pygments_lexer": "ipython3",
   "version": "3.8.9"
  },
  "orig_nbformat": 4
 },
 "nbformat": 4,
 "nbformat_minor": 2
}
