{
 "cells": [
  {
   "cell_type": "markdown",
   "metadata": {},
   "source": [
    "# 5장 리스트, 딕셔너리\n",
    "\n",
    "## list\n",
    "- 순서대로 저장하는 시퀀스이자 변경 가능한 목록(Mutable list)이다.\n",
    "- 내부적으로 동적 배열로 구현되어 있다.\n",
    "- 리스트를 사용하면 사실상 스택을 사용할지, 큐를 사용할지 고민하지 않아도 되며, 스택과 큐에서 사용가능한 모든연산을 함께 제공한다.\n",
    "- len , a[] , a[i:j], a.count(elem) , a.index(elem), a.append(elem), a.pop(), a.pop(0), del a[i], a.sort(), min(a), max(a), a.reverse(), insert(3,5)\n",
    "\n",
    "- 리스트에서 요소를 삭제하기\n",
    "    - 인덱스로 삭제하기 del a[3]\n",
    "    - 값으로 삭제하기 a.remove(3)\n",
    "    - a.pop(), a.pop(0)\n",
    "\n",
    "\n"
   ]
  }
 ],
 "metadata": {
  "language_info": {
   "name": "python"
  },
  "orig_nbformat": 4
 },
 "nbformat": 4,
 "nbformat_minor": 2
}
