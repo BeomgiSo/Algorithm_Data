{
 "cells": [
  {
   "cell_type": "markdown",
   "metadata": {},
   "source": [
    "# 6장 문자열 조작(String Manipulation)"
   ]
  },
  {
   "cell_type": "code",
   "execution_count": 14,
   "metadata": {},
   "outputs": [
    {
     "name": "stdout",
     "output_type": "stream",
     "text": [
      "True\n",
      "True\n"
     ]
    }
   ],
   "source": [
    "# 유요한 팬랜드롬\n",
    "\n",
    "\n",
    "# 펠린드롬\n",
    "def pel1(strs):\n",
    "    strs = []\n",
    "    for char in s:\n",
    "        if char.isalnum(): # 영문자,숫자 여부를 판별하는 함수로, 이를 이용해 필요한 문자만 넣는다\n",
    "            strs.append(char.lower())\n",
    "\n",
    "    while len(strs) > 1:\n",
    "        if strs.pop(0) != strs.pop():\n",
    "            return False\n",
    "    \n",
    "    return True\n",
    "\n",
    "s = \"A man, a plan, a canal: Panama\"\n",
    "print(pel1(s))\n",
    "s2 = 'race a car'\n",
    "print(pel1(s2))"
   ]
  },
  {
   "cell_type": "code",
   "execution_count": 27,
   "metadata": {},
   "outputs": [
    {
     "name": "stdout",
     "output_type": "stream",
     "text": [
      "A man, a plan, a canal: Panama\n",
      "['a', 'm', 'a', 'n', 'a', 'p', 'l', 'a', 'n', 'a', 'c', 'a', 'n', 'a', 'l', 'p', 'a', 'n', 'a', 'm', 'a']\n"
     ]
    }
   ],
   "source": [
    "# 문자열 뒤집기\n",
    "# sol1 투 포인터를 이용한 스왑\n",
    "def reversing(s):\n",
    "    strs = []\n",
    "    for char in s:\n",
    "        if char.isalnum(): # 영문자,숫자 여부를 판별하는 함수로, 이를 이용해 필요한 문자만 넣는다\n",
    "            strs.append(char.lower())\n",
    "\n",
    "\n",
    "    left,right = 0,len(strs)-1\n",
    "\n",
    "    while left < right :\n",
    "        strs[left],strs[right] = strs[right],strs[left]\n",
    "        left +=1\n",
    "        right-=1\n",
    "    \n",
    "    return strs\n",
    "\n",
    "# def reversing2(s:List[str]) -> None:\n",
    "#     left,right = 0,len(s)-1\n",
    "\n",
    "#     while left < right :\n",
    "#         s[left],s[right] = s[right],s[left]\n",
    "#         left +=1\n",
    "#         right+=1\n",
    "    \n",
    "print(s)\n",
    "print(reversing(s))\n",
    "    "
   ]
  },
  {
   "cell_type": "code",
   "execution_count": 40,
   "metadata": {},
   "outputs": [
    {
     "name": "stdout",
     "output_type": "stream",
     "text": [
      "bob\n"
     ]
    }
   ],
   "source": [
    "# 가장 흔한 단어\n",
    "import collections\n",
    "strs = \"Bob git a ball, the hit ball flew far after it was hit bob bob\"\n",
    "\n",
    "def counting_word(strs):\n",
    "\n",
    "    str1 = strs.lower().split(\" \")\n",
    "    \n",
    "    counts = collections.defaultdict(int)\n",
    "    for word in str1:\n",
    "        counts[word] += 1\n",
    "    \n",
    "    return max(counts, key=counts.get)\n",
    "    \n",
    "\n",
    "print(counting_word(strs))\n",
    "\n"
   ]
  },
  {
   "cell_type": "code",
   "execution_count": 3,
   "metadata": {},
   "outputs": [
    {
     "ename": "AttributeError",
     "evalue": "'collections.defaultdict' object has no attribute 'append'",
     "output_type": "error",
     "traceback": [
      "\u001b[0;31m---------------------------------------------------------------------------\u001b[0m",
      "\u001b[0;31mAttributeError\u001b[0m                            Traceback (most recent call last)",
      "Input \u001b[0;32mIn [3]\u001b[0m, in \u001b[0;36m<module>\u001b[0;34m\u001b[0m\n\u001b[1;32m      4\u001b[0m str1 \u001b[38;5;241m=\u001b[39m \u001b[38;5;124m\"\u001b[39m\u001b[38;5;124mApple A\u001b[39m\u001b[38;5;124m\"\u001b[39m\n\u001b[1;32m      5\u001b[0m \u001b[38;5;28;01mfor\u001b[39;00m word \u001b[38;5;129;01min\u001b[39;00m str1:\n\u001b[0;32m----> 6\u001b[0m     \u001b[43mcounts\u001b[49m\u001b[38;5;241;43m.\u001b[39;49m\u001b[43mappend\u001b[49m(word)\n",
      "\u001b[0;31mAttributeError\u001b[0m: 'collections.defaultdict' object has no attribute 'append'"
     ]
    }
   ],
   "source": [
    "import collections\n",
    "\n",
    "counts = collections.defaultdict(list)\n",
    "str1 = \"Apple A\"\n",
    "for word in str1:\n",
    "    counts.a"
   ]
  }
 ],
 "metadata": {
  "interpreter": {
   "hash": "31f2aee4e71d21fbe5cf8b01ff0e069b9275f58929596ceb00d14d90e3e16cd6"
  },
  "kernelspec": {
   "display_name": "Python 3.8.9 64-bit",
   "language": "python",
   "name": "python3"
  },
  "language_info": {
   "codemirror_mode": {
    "name": "ipython",
    "version": 3
   },
   "file_extension": ".py",
   "mimetype": "text/x-python",
   "name": "python",
   "nbconvert_exporter": "python",
   "pygments_lexer": "ipython3",
   "version": "3.8.9"
  },
  "orig_nbformat": 4
 },
 "nbformat": 4,
 "nbformat_minor": 2
}
