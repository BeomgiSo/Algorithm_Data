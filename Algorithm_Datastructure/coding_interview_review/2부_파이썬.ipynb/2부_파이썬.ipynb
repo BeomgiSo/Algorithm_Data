{
 "cells": [
  {
   "cell_type": "code",
   "execution_count": null,
   "metadata": {},
   "outputs": [],
   "source": []
  },
  {
   "cell_type": "markdown",
   "metadata": {},
   "source": [
    "> 인덴트(indent)\n",
    "```python\n",
    "def long_function(  \n",
    "    varone,vartwo,varthree,\n",
    "    var_four):\n",
    "```\n",
    "- 여러줄의 input이 있을경우 한줄 뛰어서 tap을(4칸을 설정한다.)\n",
    "\n",
    "> 네이밍 컨벤션(Naming Convention)\n",
    "- 파이썬 변수명은 자바와 달리 각 단어를 밑줄로 구분하여 표기하는 스네이크 케이스(Snake case)를 따른다.\n",
    "- 파이썬과 달리 자바에서는 단어별로 대소문자를 구별하여 표기하는 카멜케이스를 따른다.\n",
    "- 파이썬의 PEP8 및 철학에 따라 스네이크 코딩을 지형한다.\n",
    "\n",
    "> 타입 힌트\n",
    "```python\n",
    "def fn(a):\n",
    "    ...\n",
    "\n",
    "def fn(a:int)->bool:\n",
    "    ...\n",
    "```\n",
    "- fn함수의 파라미터가 a가 정수형임을 분명하게 알 수 있으며 리턴값이 bool이라는것도 확실하게 알 수 있다.\n",
    "\n",
    "> 리스트 컴프리핸션\n",
    "- 파이썬은 map,filter와 같은 함수형(functional)기능을 지원하며 다음과 같은 람다 표현식을 지원한다.\n",
    "```python\n",
    "list(map(lambda x : x+10,[1,2,3]))\n",
    "```\n",
    "- List comprehension : 기존 리스트를 기반으로 새로운 리스트를 만들어 내는 구문\n",
    "- 람다 표현식에 map이나 filter를 섞어서 사용하는것에 비해 가독성이 높아진다.\n",
    "\n",
    "- 홀수인경우 2를 곱해 출력하는 리스트 컴프리핸션\n",
    "```python\n",
    "[n*2 for n in range(1,10+1) if n % 2 == 1]\n",
    "```\n",
    "\n",
    "- dictionary도 가능하다.\n",
    "```python\n",
    "a = {key: value for key, value in original.items()}\n",
    "```\n",
    "\n",
    "\n",
    "> 제너레이터(generator)\n",
    "- 루프의 반복 동작을 제허할 수 있는 루틴 형태를 말한다.\n",
    "- 이경우 yield구문을 사용할 수 있다.\n",
    "- 기존 함수는 return구문을 맞닥뜨리며 값을 리턴하고 모든 함수의 동작을 종료한다. 그러나 yield는 제너레이터가 여기까지 실행 중이던 값을 내보낸다는 의마로, 중간값을 리턴한 다음 함수는 종료되지 않고 계속해서 맨끝에 도달할 때까지 실행된다.\n",
    "\n",
    "```python\n",
    "def get_natrual_number():\n",
    "    n=0\n",
    "    while True:\n",
    "        n+=1\n",
    "        yield n\n",
    "\n",
    "g = gent_natrual_number()\n",
    "for _ in range(0,100):\n",
    "    print(next(g))\n",
    "```\n",
    "- next를 사용하여 수행하면 된다.\n",
    "\n",
    "> enumerate\n",
    "- 여거하다라는 함수로 순서가 있는 자료형(list,set,tuple등)을 인덱스를 포함한 enumerate를 객체로 리턴한다.\n",
    "- 이처럼 list()로 결과를 추출 할 수 있는데, 인덱스를 자동으로 부여해 주기 떄문에 매우 편리하게 활용할 수 있다."
   ]
  },
  {
   "cell_type": "code",
   "execution_count": 2,
   "metadata": {},
   "outputs": [
    {
     "name": "stdout",
     "output_type": "stream",
     "text": [
      "[1, 3, 2, 45, 2, 2, 5]\n",
      "<enumerate object at 0x103830f80>\n",
      "[(0, 1), (1, 3), (2, 2), (3, 45), (4, 2), (5, 2), (6, 5)]\n",
      "0 1\n",
      "1 3\n",
      "2 2\n",
      "3 45\n",
      "4 2\n",
      "5 2\n",
      "6 5\n"
     ]
    }
   ],
   "source": [
    "a=[1,3,2,45,2,2,5]\n",
    "print(a)\n",
    "print(enumerate(a))\n",
    "print(list(enumerate(a)))\n",
    "\n",
    "for i , v in enumerate(a):\n",
    "    print(i,v)"
   ]
  },
  {
   "cell_type": "code",
   "execution_count": 6,
   "metadata": {},
   "outputs": [
    {
     "name": "stdout",
     "output_type": "stream",
     "text": [
      "A1 V2\n",
      "A1,V2\n",
      "1 2\n",
      "a b\n",
      "2 : apple\n"
     ]
    }
   ],
   "source": [
    "# print에 관해서\n",
    "print('A1','V2')\n",
    "# ,는 띄어스기로 할 수 있다.\n",
    "print('A1','V2',sep=',')\n",
    "# end 파라미터ㄴ를 공백으로 처리하여 줄바꿈을 하지 않도록 할 수 있다\n",
    "print(1, end = \" \")\n",
    "print(2)\n",
    "# 리스트를 출력할때 .join(a)로 묶어서 처리 가능하다.\n",
    "a=['a','b']\n",
    "print(' '.join(a))\n",
    "\n",
    "# idx와 fruit이 정해져있을때 idx값에 1을 더하여 fruit와 함께 출력하는 방법은 어떻게 할까\n",
    "idx = 1\n",
    "fruit = \"apple\"\n",
    "print('{0} : {1}'.format(idx+1,fruit))\n",
    "# 인덱스를 생략할 수 있다.\n",
    "print('{} : {}'.format(idx+1,fruit))\n",
    "# f-string표현법\n",
    "print(f'{idx+1} : {fruit}')\n"
   ]
  },
  {
   "cell_type": "markdown",
   "metadata": {},
   "source": [
    "> pass\n",
    "- 코딩을 하다 보면 일단 코드의 전체 골격을 잡아 놓고 내부에서 처리할 내용은 차근차근 생각하며 만들겠다는 의도로 다음과 같이 코딩 하는 경우가 있다. 그러나 error가 생긴다"
   ]
  },
  {
   "cell_type": "code",
   "execution_count": 7,
   "metadata": {},
   "outputs": [
    {
     "ename": "IndentationError",
     "evalue": "expected an indented block (1856366418.py, line 4)",
     "output_type": "error",
     "traceback": [
      "\u001b[0;36m  Input \u001b[0;32mIn [7]\u001b[0;36m\u001b[0m\n\u001b[0;31m    def method_b(self):\u001b[0m\n\u001b[0m    ^\u001b[0m\n\u001b[0;31mIndentationError\u001b[0m\u001b[0;31m:\u001b[0m expected an indented block\n"
     ]
    }
   ],
   "source": [
    "class Myclass():\n",
    "    def method_a(self):\n",
    "    \n",
    "    def method_b(self):\n",
    "        print(\"MethodB\")\n",
    "\n",
    "c=Myclass()"
   ]
  },
  {
   "cell_type": "code",
   "execution_count": 8,
   "metadata": {},
   "outputs": [],
   "source": [
    "class Myclass():\n",
    "    def method_a(self):\n",
    "        pass\n",
    "    def method_b(self):\n",
    "        print(\"MethodB\")\n",
    "\n",
    "c=Myclass()"
   ]
  },
  {
   "cell_type": "markdown",
   "metadata": {},
   "source": [
    "## 코딩 스타일\n",
    "- clean code\n",
    "- 좋은 코드는 가능한 많은 사람이 좋아하며 선호하는 방식을 택하는 것이 중요하다.\n",
    "- 개발은 혼자서만 하는 것이 아니며, 좋은 코드란 모두가 이해할 수 있을때 더 높은 가치를 발휘한다.\n",
    "\n",
    "> 변수명과 주석\n",
    "- 해당 주석을 꼭 확인한다. 즉, 상세한 주석을 다아두는 편이 좋다\n",
    "- 강제로 인덴트를 부여한다.\n",
    "\n",
    "> 리스트 컴프리핸션\n",
    "- 한줄에 풀이를 집착하기보다는 라인을 좀더 여유있게 활용하여 가독성을 높이자.\n",
    "\n",
    "> 구글 파이썬 스타일 가이드\n",
    "- 먼저, 함수의 기본값으로 가변 객체를 사용하지 않아야한다.\n",
    "- 함수가 객체를 수정하면 기본값이 변경되기 떄문에 다음과 같이 기본값으로 []나 {}를 지양하자\n",
    "- 대신 불면객체(immutable object를 사용한다.)\n"
   ]
  },
  {
   "cell_type": "code",
   "execution_count": null,
   "metadata": {},
   "outputs": [],
   "source": [
    "def foo(a,b=None):\n",
    "    if b is None:\n",
    "        b=[]\n",
    "        "
   ]
  },
  {
   "cell_type": "markdown",
   "metadata": {},
   "source": [
    "## 자료형"
   ]
  },
  {
   "cell_type": "markdown",
   "metadata": {},
   "source": [
    "> 딕셔너리 모듈\n",
    "- defaultdict,Counter,OrdereDict\n",
    "- defaultdict : 존재하지 않는 키를 조회할 경우, 에러 메시지를 출력하는 대신 디폴트 값을 기준으로 해당 키에 대한 딕셔너리 아이템을 생성해준다.\n",
    "\n",
    "- Counter객체\n",
    "- 아이템에 대한 개수를 계산하여 딕셔너리로 리턴한다.\n",
    "- 아이템의 값이 값에는 해당 아이템에대한 개수가 들어간 딕셔너리를 생성한다.\n",
    "- 실제로는 다음과 같이 딕셔너리를 한번 더 래핑한 클래스를 갖는다.\n",
    "- most_common()을 사용하면 빈도수대로 뽑을 수 있다.\n",
    "\n",
    "- OrderedDict객체\n",
    "- 해시 테이블을 이용한 자료형은 입력 순서가 유지되지 않는다.\n",
    "- 파이썬도 입력순서가 유지되는 OrderedDict라는 별도의 객체를 제공했다.\n"
   ]
  },
  {
   "cell_type": "code",
   "execution_count": 14,
   "metadata": {},
   "outputs": [
    {
     "name": "stdout",
     "output_type": "stream",
     "text": [
      "defaultdict(<class 'int'>, {'A': 5, 'B': 4})\n",
      "defaultdict(<class 'int'>, {'A': 5, 'B': 4, 'C': 1})\n",
      "Counter({2: 6, 3: 6, 1: 4, 4: 4, 5: 1})\n",
      "[(2, 6), (3, 6), (1, 4), (4, 4), (5, 1)]\n"
     ]
    }
   ],
   "source": [
    "import collections\n",
    "\n",
    "a= collections.defaultdict(int)\n",
    "a[\"A\"] =5\n",
    "a[\"B\"] =4\n",
    "print(a)\n",
    "a['C']+=1\n",
    "print(a)\n",
    "\n",
    "# counter\n",
    "a=[1,2,3,2,1,2,3,5,3,2,3,4,1,2,3,4,4,4,3,2,1]\n",
    "b= collections.Counter(a)\n",
    "print(b)\n",
    "print(b.most_common())"
   ]
  },
  {
   "cell_type": "markdown",
   "metadata": {},
   "source": [
    "import colle"
   ]
  }
 ],
 "metadata": {
  "interpreter": {
   "hash": "31f2aee4e71d21fbe5cf8b01ff0e069b9275f58929596ceb00d14d90e3e16cd6"
  },
  "kernelspec": {
   "display_name": "Python 3.8.9 64-bit",
   "language": "python",
   "name": "python3"
  },
  "language_info": {
   "codemirror_mode": {
    "name": "ipython",
    "version": 3
   },
   "file_extension": ".py",
   "mimetype": "text/x-python",
   "name": "python",
   "nbconvert_exporter": "python",
   "pygments_lexer": "ipython3",
   "version": "3.8.9"
  },
  "orig_nbformat": 4
 },
 "nbformat": 4,
 "nbformat_minor": 2
}
