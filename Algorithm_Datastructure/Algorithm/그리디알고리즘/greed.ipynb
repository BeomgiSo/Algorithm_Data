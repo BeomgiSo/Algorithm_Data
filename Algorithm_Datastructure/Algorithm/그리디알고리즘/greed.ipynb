{
 "cells": [
  {
   "cell_type": "code",
   "execution_count": null,
   "metadata": {},
   "outputs": [],
   "source": []
  },
  {
   "cell_type": "markdown",
   "metadata": {},
   "source": [
    "# Chapter 03 그리디\n",
    "\n",
    "## 3.1 당장 좋은것만 선택하는 그리디 알고리즘\n",
    "- 그리디(Greedy) 알고리즘 : `현재 상황에서 지금 당장 좋은 것만 고르는 방법`\n",
    "- 예시 : 플로이드 워셜(Floyd-Warshall)혹은 다익스트라(Dijkstra)알고리즘과 같은 특정 알고리즘을 미리 알고 있거나 팀 노트를 통해 준비해야 풀 수 있다.\n",
    "- `가장 큰 순서대로`,`가장 작은 순서대로`와 같은 기준을 알게 모르게 제시해 준다.\n",
    "- 그리디 알고리즘 문제는 자주 정렬 알고리즘과 짝을 이뤄 출제된다.\n",
    "\n"
   ]
  },
  {
   "cell_type": "code",
   "execution_count": 2,
   "metadata": {},
   "outputs": [
    {
     "name": "stdout",
     "output_type": "stream",
     "text": [
      "6\n"
     ]
    }
   ],
   "source": [
    "# 거스름돈\n",
    "n = 1260\n",
    "\n",
    "# 지폐\n",
    "coin = [500,100,50,10]\n",
    "\n",
    "count=0\n",
    "\n",
    "for c in coin:\n",
    "    count += n // c\n",
    "    n %= c\n",
    "    \n",
    "print(count)"
   ]
  },
  {
   "cell_type": "markdown",
   "metadata": {},
   "source": [
    "- 코드의 시간 복잡도 O(K)\n",
    "\n",
    "## 3.1 그리디 알고리즘의 정당성\n",
    "- 탐욕적으로 문제를 찾았을때 정당한지 검토해야 한다.\n",
    "- `가지고 있는 동전 중에서 큰 단위가 항상 작은 단위의 배수이므로 작은 단위의 도전들을 종합해 다른해가 나올 수 없기 떄문이다`\n",
    "- 대부분의 그리디 알고리즘 문제에서는 이처럼 문제 풀이를 위한 최소한의 아이디어를 떠올리고 이것이 정당한지 검토할 수 있어야 답을 도출할 수 있다.\n"
   ]
  },
  {
   "cell_type": "code",
   "execution_count": 14,
   "metadata": {},
   "outputs": [
    {
     "name": "stdout",
     "output_type": "stream",
     "text": [
      "28\n"
     ]
    }
   ],
   "source": [
    "# 큰수의 법칙\n",
    "N,M,K = map(int,input().split())\n",
    "\n",
    "list_target = list(map(int,input().split()))\n",
    "\n",
    "# print(N,M,K)\n",
    "# print(list_target)\n",
    "# for _ in range(N):\n",
    "#     a=int(input())\n",
    "#     list_target.append(a)\n",
    "\n",
    "first_max = max(list_target)\n",
    "list_target.remove(first_max)\n",
    "second_max = max(list_target)\n",
    "\n",
    "solution = 0\n",
    "a = M//K\n",
    "b = M%K\n",
    "# print(a)\n",
    "# print(b)\n",
    "\n",
    "# print(first_max*a*K)\n",
    "# print(second_max*b)\n",
    "solution = first_max*a*K + second_max*b\n",
    "\n",
    "print(solution)\n"
   ]
  },
  {
   "cell_type": "code",
   "execution_count": 34,
   "metadata": {},
   "outputs": [
    {
     "name": "stdout",
     "output_type": "stream",
     "text": [
      "[2, 2, 2]\n"
     ]
    }
   ],
   "source": [
    "# 숫자 카드게임\n",
    "# N,M = map(int,input().split())\n",
    "\n",
    "# space = [[0]* N for i in range(M)]\n",
    "\n",
    "# for i in range(N):\n",
    "#     space[i] = list(map(int,input().split()))\n",
    "\n",
    "space = [[3,1,2],[4,1,4],[2,2,2]]\n",
    "\n",
    "print(space[])\n",
    "\n",
    "for i in range(M):\n",
    "     list1 = []\n",
    "     list1.append(space[0][i])\n",
    "\n",
    "\n"
   ]
  },
  {
   "cell_type": "code",
   "execution_count": 37,
   "metadata": {},
   "outputs": [
    {
     "name": "stdout",
     "output_type": "stream",
     "text": [
      "3\n"
     ]
    }
   ],
   "source": [
    "# 1이 될때 까지\n",
    "# N이 1이 될때까지 두가지중 하나만 반복적으로 수행해야한다.\n",
    "# N에서 1을 뺀다\n",
    "# N을 K로 나눈다\n",
    "# 최소 횟수\n",
    "\n",
    "N = 27\n",
    "k = 3\n",
    "\n",
    "count = 0\n",
    "while True:\n",
    "    if N % k == 0:\n",
    "        N = N / k\n",
    "        count +=1\n",
    "    else:\n",
    "        N -= 1\n",
    "        cont +=1\n",
    "    \n",
    "    if N==1:\n",
    "        break\n",
    "\n",
    "print(count)"
   ]
  }
 ],
 "metadata": {
  "interpreter": {
   "hash": "31f2aee4e71d21fbe5cf8b01ff0e069b9275f58929596ceb00d14d90e3e16cd6"
  },
  "kernelspec": {
   "display_name": "Python 3.8.9 64-bit",
   "language": "python",
   "name": "python3"
  },
  "language_info": {
   "codemirror_mode": {
    "name": "ipython",
    "version": 3
   },
   "file_extension": ".py",
   "mimetype": "text/x-python",
   "name": "python",
   "nbconvert_exporter": "python",
   "pygments_lexer": "ipython3",
   "version": "3.8.9"
  },
  "orig_nbformat": 4
 },
 "nbformat": 4,
 "nbformat_minor": 2
}
