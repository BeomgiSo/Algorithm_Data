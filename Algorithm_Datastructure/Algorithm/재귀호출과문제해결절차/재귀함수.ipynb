{
 "cells": [
  {
   "cell_type": "markdown",
   "metadata": {},
   "source": [
    "## `이것이 코딩테스트다`\n",
    "- `탐색(Search)`이란 : 많은 양의 데이터 중에서 `원하는 데이터를 찾는과정`\n",
    "- 대표적인 그래프 탐색 알고리즘으로는 DFS와 BFS가 있다..\n",
    "\n",
    "- DFS/BFS는 코딩 테스트에서 매우 자주 등장한다.\n",
    "- 재귀 함수\n",
    "    - DFS와 BFS를 구현하려면 재귀함수도 이해해야한다.\n",
    "    - `재귀함수(Recursive function)`은 자기 자신을 다시 함수로 호출하는 함수이다.\n",
    "- 재귀 함수의 종료조건\n",
    "    - 재귀 함수를 문제 플이에서 사용할떄는 재귀 함수가 언제 끝날지 `종료조건`을 꼭 명시해주어야 한다.\n",
    "\n",
    "- 재귀 함수 사용의 유의 사항\n",
    "- 재귀 함수를 잘 활용하려면 복잡한 알고리즘을 간결하게 작성할 수 있다.\n",
    "    - 단, 다른 사람이 이해하기 어려운 형태의 코드가 될 수 있으므로 신중하게 사용해야한다.\n",
    "- 모든 `재귀 함수는 반복문을 이용하여 동일한 기능을 구현할 수 있다`\n",
    "- 재귀함수가 반복문보다 유리한 경우도 있고 불리한 경우도 있다.\n",
    "- 컴퓨터가 `함수를 연속적`으로 호출하면 컴퓨터 메모리 내부의 스택프레임이 쌓인다.\n",
    "    - 그래서 `스택`을 사용할 때 구현상 `스택 라이브러리` 대신에 `재귀함수`를 이용하는 경우가 ㅁ낳다.\n",
    "    \n",
    "\n"
   ]
  },
  {
   "cell_type": "code",
   "execution_count": 1,
   "metadata": {},
   "outputs": [
    {
     "name": "stdout",
     "output_type": "stream",
     "text": [
      "120\n"
     ]
    }
   ],
   "source": [
    "# 간단한 재귀함수 예시\n",
    "def factorial(n):\n",
    "    # 종료조건을 반드시 명시해주어야 한다.\n",
    "    if n==1:\n",
    "        return 1    \n",
    "    return n * factorial(n-1)\n",
    "\n",
    "print(factorial(5))\n"
   ]
  },
  {
   "cell_type": "code",
   "execution_count": 6,
   "metadata": {},
   "outputs": [
    {
     "name": "stdout",
     "output_type": "stream",
     "text": [
      "6\n"
     ]
    }
   ],
   "source": [
    "# 최대 공약수 계산 (유클리드 호제법) 에졔\n",
    "# 두개의 자연수에 대한 최대 공약수를 구하는 대표적인 알고리즘으로 유클리드 호제법이 있다\n",
    "# 유클리드 호제법\n",
    "    # 두 자연수 A,B에 대하여(A>B) A를 B로 나눈 나머지를 R이라고 하자.\n",
    "    # 이때 A와 B의 최대 공약수는 B와 R의 최대 공약수와 같다.\n",
    "# 유클리드 호제법의 아디어 그대로 재귀함수를 작성할 수 있다.\n",
    "# GCD(192,162)\n",
    "def uclid_hoje(A,B):\n",
    "    if A % B == 0:\n",
    "        return B\n",
    "    R = A%B\n",
    "    return uclid_hoje(B,R)\n",
    "\n",
    "print(uclid_hoje(192,162))\n",
    "    \n",
    "    "
   ]
  },
  {
   "cell_type": "markdown",
   "metadata": {},
   "source": [
    "## 탐색 알고리즘 DFS/BFS\n",
    "- 스택과 큐, 재귀함수는 DFS / BFS에서 가장 중요한 개념이다.\n",
    "- `DFS (Depth - First Search)`, 깊이 우선 탁색이라고 부르며 그래프에서 깊은 부분을 우선적으로 탐색하는 알고리즘이다.\n",
    "- `DFS`를 설명하기전 grph의 기본구조를 알아야한다.\n",
    "- 그래프(graph)는 노드(node)와 간선(Edge)로 표현되며 이때 노드를 정점(Vertex)라고 한다.\n",
    "- 그래프 탐색이란 : 하나의 노드를 시작으로 다수의 노드를 방문하는 것을 말한다.\n",
    "- 또한 두 노드가 간선으로 연결되었다면 `두 노드는 인접해 있다(adjacent)`라고 표현한다.\n",
    "\n",
    "- A라는 도시에서 B라는 도시로 이동하기 위해서 A와 B를 연결하는 도로(간선)을 거친다고 이해하면 쉽다.\n",
    "    - 인접행렬(Adjacency Matrix) : 2 차원 배열로 그래프의 관계를 표현하는방식\n",
    "    - 인접리스트(Adjacency List) : 리스트로 그래프의 연결관계를 표현하는 방식\n",
    "\n",
    "- `인접행렬 방식(Adjacency Matrix)`\n",
    "    - 2차원 배열에 각 노드가 연결된 형태를 기록하는 방식\n",
    "    - 2차원리스트로 구현가능\n",
    "    - 연결되지 않은 노드를 inifinity의 비용이라고 생각\n",
    "\n",
    "- `인접 리스트 방식(Adjacency List)`\n",
    "    - 인접 리스트는 `연결 리스트`라는 자료구조를 이용한다.\n",
    "    - 파이썬은 리스트 자료형이 append()와 메소드를 제공하므로, 전통적인 프로그래밍 언어에서 배운 배열과 연결 리스트의 기능을 모두 기본으로 제공한다.\n",
    "    - 파이썬으로 인접 리스트를 이용해 그래프를 표현한다고 하고자 할때에도 단순히 2차원 리스트를 이용한다.\n",
    "\n",
    "- `두방식의 차이`\n",
    "    - 코딩 테스트를 위해 학습하는 터라 메모리와 속도 측면에서 살펴보자\n",
    "    - 메모리 측면 : 인접행렬 방식은 모든 관계를 저장하므로 노드 개수가 많을 수록 메모리가 불필요하게 낭비된다. ,인접 리스트 방식은 연결된 정보만을 저장하기 떄문에 메모리를 효율적으로 사용한다.\n",
    "    - 속도 측면 : 인접리스트는 인접 행렬 방식에 비해 특정한 두 노드가 연결되어ㅗ 있는지에 대한 정보를 얻는 속도가 느리다. 인접 리스트방식에는 연결된 데이터를 하나씩 확인해야 하기 댸문이다.\n",
    "    - 예로 한 그래프에서 노드1 과 노드7이 여결되어 있는 상황을 생각해보자. 인접 행렬 방식에서는 graph[1][7]만 확인하면 된다. 반면 인접리스트 방식에서는 노드 1에 대한 인접 리스트를 앞에서부터 차례대로 확인해야한다.\n",
    "    - 따라서 특정한 노드와 연결된 모든 인접 노드를 순회해야하는 경우, 인접 리스트 방식이 인접 행렬 방식에 비해 메모리 공간의 낭비가 적다.\n",
    "\n",
    "- `DFS` : `깊이 우선 탐색`이라고 부르며, 특정상황에서 `최대한 깊숙이 들어가서` 노드를 방문후 다시 돌아가 다른 경로로 탐색하는 알고리즘이다.\n",
    "\n",
    "- `DFS`는 스택 자료구조를 이용하며 구체적인 동작과정은다음과 같다.\n",
    "    - 1. 탐색 시작 노드를 스택에 삽입하고 방문 처리를 한다.\n",
    "    - 2. 스택의 최상단 노드에 방문하지 않은 인접 노드가 있으면 그 인접 노드를 스택에 넣고 방문초리를 한다. 방문하지 않은 인접노드가 없으면 스택에서 최상단 노드를 꺼낸다.\n",
    "    - 3. 2번 과정을 더이상 수행할 수 없을때 까지 반복한다. \n",
    "    - tip : `방문처리`는 스택에 한번 삽입 되어 처리된 노드가 다시 삽입되지 않게 체크하는 것을 의미한다. 방문 처리를 함으로써 각 노드를 한 번씩만 처리할 수 있다.\n",
    "\n",
    "![DFS](./img/DFS.png)\n",
    "    \n",
    "    "
   ]
  },
  {
   "cell_type": "code",
   "execution_count": 2,
   "metadata": {},
   "outputs": [
    {
     "name": "stdout",
     "output_type": "stream",
     "text": [
      "[[0, 7, 5], [7, 0, 99999999], [5, 99999999, 0]]\n",
      "[[(1, 7), (2, 5)], [(0, 7)], [(0, 5)]]\n"
     ]
    }
   ],
   "source": [
    "# 인접행렬 방식\n",
    "INF = 99999999\n",
    "graph = [[0,7,5],[7,0,INF],[5,INF,0]]\n",
    "print(graph)\n",
    "\n",
    "# 인접리스트 사용\n",
    "# row가 3개인 2차원 리스트로 표현\n",
    "graph = [[] for _ in range(3)]\n",
    "\n",
    "# 노드 0에 연결된 노드 정보 저장(노드, 거리)\n",
    "graph[0].append((1,7))\n",
    "graph[0].append((2,5))\n",
    "\n",
    "# 노드 1에 연결된 노드 정보 저장(노드, 거리)\n",
    "graph[1].append((0,7))\n",
    "# 노드 2에 연결된 노드 정보 저장(노드, 거리)\n",
    "graph[2].append((0,5))\n",
    "\n",
    "print(graph)"
   ]
  },
  {
   "cell_type": "code",
   "execution_count": 8,
   "metadata": {},
   "outputs": [
    {
     "name": "stdout",
     "output_type": "stream",
     "text": [
      "1->2->7->6->8->3->4->5->"
     ]
    }
   ],
   "source": [
    "def dfs(graph,v,visited): # 그래프정보, 방문처리 여부\n",
    "    # ㅎㄴ재 노드를 방문 처리\n",
    "    visited[v] = True\n",
    "    print(v, end = '->')\n",
    "    # 현재 노드와 연결된 다른 노드를 재귀적으로 방문\n",
    "    for i in graph[v]: # 스텍에 최상단 연결되어 있는 노드 확인\n",
    "        if not visited[i]:\n",
    "            dfs(graph,i,visited)\n",
    "\n",
    "\n",
    "# 각 노드가 연결된 정보를 표현(2차원리스트)\n",
    "graph=[\n",
    "    [], # 1번노드로 시작해서 빈0번리스트를 만들어준다.\n",
    "    [2,3,8],\n",
    "    [1,7],\n",
    "    [1,4,5],\n",
    "    [3,5],\n",
    "    [3,4],\n",
    "    [7],\n",
    "    [2,6,8],\n",
    "    [1,7]\n",
    "]\n",
    "# 각 노드가 박문된 정보를 리스트 자료형으로 표현\n",
    "visited=[False]*9\n",
    "\n",
    "dfs(graph,1,visited)"
   ]
  },
  {
   "cell_type": "markdown",
   "metadata": {},
   "source": [
    "## BFS(Breadth First Search)알고리즘\n",
    "- `너비 우선 탐색` 이라는 의미를 가진다. 쉽게 말해 `가까운 노드부터 탐색`하는 알고리즘이다.\n",
    "- DFS는 최대한 멀리 있는 노드를 우선으로 탐색하는 방식으로 동작한다.\n",
    "- BFS는 그 반대이다.\n",
    "- BFS구현은 선입 선출 방식인(FIFO) 큐 자료구조를 이용하는 것이 좋다.\n",
    "- 인접한 노드를 반복적으로 `큐`에 넣도록 알고리즘을 작성하면, 자연스럽게 먼저 들어온 것이 나가게 되어, 가까운 노드부터 탐색을 진행하게 된다.\n",
    "    1. 탐색 시작 노드를 큐에 삽입하고 방문 처리를 한다.\n",
    "    2. 큐에서 노드를 꺼내 해당 노드의 인접 노드 중에서 방문하지 않은 노드를 모두 큐에 삽입하고 방문처리를 한다. 즉, 인접한 모든 노드에 넣어주어야한다.\n",
    "    3. 2번의 과정을 더이상 수행할 수 없을 떄까지 반복한다.\n",
    "\n",
    "- BFS를 이용하여 탐색하면 그 과정은 다음과 같다. 마찬가지로 인전한 노드가 여러개 있을 떄, 숫자가 작은 노드부터 먼저 큐에 삽입한다고 가정하자. 다음 그림에서 큐에 원소가 들어올 때, 위에서 들어오고 아래쪽에서 꺼낸다고 가정하자.\n",
    "\n",
    "- BFS는 `큐 자료구조`에 기초하여 간단하게 구현이 가능하다. 실제로 구현함에 있어 앞서 언급한 대로 deque 라이브러리를 사용하는 것이 좋으며 탐색을 수행함에 있어 O(N)의 시간이 소요된다. 일반적인 경우 실제 수행 시간은 DFS보다 좋은편이다\n",
    "\n",
    "- `CF)``재귀함수로 DFS`를 구현하면 컴퓨터 시스템 동작 특성상 실제 프로개름 수행시간은 느려질 수 있다.따라서 스택 라이브러리를 이용해 시간 복잡도를 안하는 태크닉이 필요할 때도 있다.\n",
    "![BFS](./img/BFS.png)"
   ]
  },
  {
   "cell_type": "code",
   "execution_count": 9,
   "metadata": {},
   "outputs": [
    {
     "name": "stdout",
     "output_type": "stream",
     "text": [
      "1 2 3 8 7 4 5 6 "
     ]
    }
   ],
   "source": [
    "from collections import deque\n",
    "\n",
    "# BFS 메서드 정의\n",
    "def bfs(graph,start,visited):\n",
    "    \n",
    "    # 큐 구현을 위해 하나의 원소를 뽑아 출력\n",
    "    queue = deque([start])\n",
    "    # 현재 노드를 방문 처리\n",
    "    visited[start] = True\n",
    "    # 큐가 빌때까지 반복한다.\n",
    "    while queue:\n",
    "        # 큐에서 하나의 원소를 뽑아 출력한다.\n",
    "        v= queue.popleft()\n",
    "        print(v,end=\" \")\n",
    "        # 해당 원소와 연결된 , 아직 방문하지 않은 원소들을 큐에 삽입한다.\n",
    "        for i in graph[v]:\n",
    "            if not visited[i]:\n",
    "                queue.append(i)\n",
    "                visited[i] = True\n",
    "                \n",
    "# 각 노드가 연결된 정보를 표현(2차원리스트)\n",
    "graph=[\n",
    "    [], # 1번노드로 시작해서 빈0번리스트를 만들어준다.\n",
    "    [2,3,8],\n",
    "    [1,7],\n",
    "    [1,4,5],\n",
    "    [3,5],\n",
    "    [3,4],\n",
    "    [7],\n",
    "    [2,6,8],\n",
    "    [1,7]\n",
    "]\n",
    "# 각 노드가 박문된 정보를 리스트 자료형으로 표현\n",
    "visited=[False]*9\n",
    "\n",
    "bfs(graph,1,visited)"
   ]
  },
  {
   "cell_type": "markdown",
   "metadata": {},
   "source": [
    "![problem1](./img/DFS%2CBFS%EA%B8%B0%EB%B3%B8%EB%AC%B8%EC%A0%9C.png)\n",
    "![problem2](./img/DFS%2CBFS%EA%B8%B0%EB%B3%B8%EB%AC%B8%EC%A0%9C2.png)\n",
    "\n",
    "- DFS 활용하기\n",
    "    1. 특정한 주변 상하좌우 를  살펴본 뒤에 주변 지점 중에서 값이 0 이면서 아직 방문하지 않은 지점이 있다면 해당 지점을 방문합니다.\n",
    "    2. 방문한 지점에서 다시 상하좌우를 살펴보면서 방문을 진행하는 과정을 반복하면서, 연결된 모든 지점을 방문할 수 있습니다.\n",
    "    3. 모든 노드에 대하여 1~2번의 과정을 반복하며, 방문하지 않은 지점의 수를 카운트 합니다.\n",
    "    "
   ]
  },
  {
   "cell_type": "code",
   "execution_count": 2,
   "metadata": {},
   "outputs": [
    {
     "ename": "ValueError",
     "evalue": "invalid literal for int() with base 10: ' '",
     "output_type": "error",
     "traceback": [
      "\u001b[0;31m---------------------------------------------------------------------------\u001b[0m",
      "\u001b[0;31mValueError\u001b[0m                                Traceback (most recent call last)",
      "\u001b[1;32m/Users/ramg/Desktop/github/algorithm/Algorithm/재귀호출과문제해결절차/재귀함수.ipynb Cell 10'\u001b[0m in \u001b[0;36m<module>\u001b[0;34m\u001b[0m\n\u001b[1;32m      <a href='vscode-notebook-cell:/Users/ramg/Desktop/github/algorithm/Algorithm/%EC%9E%AC%EA%B7%80%ED%98%B8%EC%B6%9C%EA%B3%BC%EB%AC%B8%EC%A0%9C%ED%95%B4%EA%B2%B0%EC%A0%88%EC%B0%A8/%EC%9E%AC%EA%B7%80%ED%95%A8%EC%88%98.ipynb#ch0000009?line=1'>2</a>\u001b[0m graph \u001b[39m=\u001b[39m []\n\u001b[1;32m      <a href='vscode-notebook-cell:/Users/ramg/Desktop/github/algorithm/Algorithm/%EC%9E%AC%EA%B7%80%ED%98%B8%EC%B6%9C%EA%B3%BC%EB%AC%B8%EC%A0%9C%ED%95%B4%EA%B2%B0%EC%A0%88%EC%B0%A8/%EC%9E%AC%EA%B7%80%ED%95%A8%EC%88%98.ipynb#ch0000009?line=2'>3</a>\u001b[0m \u001b[39mfor\u001b[39;00m i \u001b[39min\u001b[39;00m \u001b[39mrange\u001b[39m(N):\n\u001b[0;32m----> <a href='vscode-notebook-cell:/Users/ramg/Desktop/github/algorithm/Algorithm/%EC%9E%AC%EA%B7%80%ED%98%B8%EC%B6%9C%EA%B3%BC%EB%AC%B8%EC%A0%9C%ED%95%B4%EA%B2%B0%EC%A0%88%EC%B0%A8/%EC%9E%AC%EA%B7%80%ED%95%A8%EC%88%98.ipynb#ch0000009?line=3'>4</a>\u001b[0m     graph\u001b[39m.\u001b[39mappend(\u001b[39mlist\u001b[39;49m(\u001b[39mmap\u001b[39;49m(\u001b[39mint\u001b[39;49m,\u001b[39minput\u001b[39;49m())))\n\u001b[1;32m      <a href='vscode-notebook-cell:/Users/ramg/Desktop/github/algorithm/Algorithm/%EC%9E%AC%EA%B7%80%ED%98%B8%EC%B6%9C%EA%B3%BC%EB%AC%B8%EC%A0%9C%ED%95%B4%EA%B2%B0%EC%A0%88%EC%B0%A8/%EC%9E%AC%EA%B7%80%ED%95%A8%EC%88%98.ipynb#ch0000009?line=6'>7</a>\u001b[0m result \u001b[39m=\u001b[39m \u001b[39m0\u001b[39m\n\u001b[1;32m      <a href='vscode-notebook-cell:/Users/ramg/Desktop/github/algorithm/Algorithm/%EC%9E%AC%EA%B7%80%ED%98%B8%EC%B6%9C%EA%B3%BC%EB%AC%B8%EC%A0%9C%ED%95%B4%EA%B2%B0%EC%A0%88%EC%B0%A8/%EC%9E%AC%EA%B7%80%ED%95%A8%EC%88%98.ipynb#ch0000009?line=7'>8</a>\u001b[0m \u001b[39mfor\u001b[39;00m i \u001b[39min\u001b[39;00m \u001b[39mrange\u001b[39m(n):\n",
      "\u001b[0;31mValueError\u001b[0m: invalid literal for int() with base 10: ' '"
     ]
    }
   ],
   "source": [
    "N,M = map(int,input().split())\n",
    "graph = []\n",
    "for i in range(N):\n",
    "    graph.append(list(map(int,input())))\n",
    "    \n",
    "    \n",
    "result = 0\n",
    "for i in range(n):\n",
    "    for j in range(m):\n",
    "        if dfs(i,j) == True:\n",
    "            result +=1\n",
    "print(result)\n",
    "\n",
    "def dfs(x,y):\n",
    "    if x<= -1 or x>= n or y<= -1 or y>=m:\n",
    "        return False\n",
    "    \n",
    "    if graph[x][y] == 0:\n",
    "        graph[x][y] = 1\n",
    "        dfs(x-1,y)\n",
    "        dfs(x+1,y)\n",
    "        dfs(x,y-1)\n",
    "        dfs(x,y+1)\n",
    "        return True\n",
    "    return False"
   ]
  },
  {
   "cell_type": "code",
   "execution_count": null,
   "metadata": {},
   "outputs": [],
   "source": []
  }
 ],
 "metadata": {
  "interpreter": {
   "hash": "ee431ac274e33366c10c3ac30cd4fb33ff3ed0dd6a8cc3f05073bd47291a9c12"
  },
  "kernelspec": {
   "display_name": "Python 3.8.12",
   "language": "python",
   "name": "python3"
  },
  "language_info": {
   "codemirror_mode": {
    "name": "ipython",
    "version": 3
   },
   "file_extension": ".py",
   "mimetype": "text/x-python",
   "name": "python",
   "nbconvert_exporter": "python",
   "pygments_lexer": "ipython3",
   "version": "3.8.12"
  },
  "orig_nbformat": 4
 },
 "nbformat": 4,
 "nbformat_minor": 2
}
