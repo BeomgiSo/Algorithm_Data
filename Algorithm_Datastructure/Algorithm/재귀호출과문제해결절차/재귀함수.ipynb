{
 "cells": [
  {
   "cell_type": "markdown",
   "metadata": {},
   "source": []
  },
  {
   "cell_type": "markdown",
   "metadata": {},
   "source": []
  },
  {
   "cell_type": "code",
   "execution_count": 9,
   "metadata": {},
   "outputs": [
    {
     "name": "stdout",
     "output_type": "stream",
     "text": [
      "1 2 3 8 7 4 5 6 "
     ]
    }
   ],
   "source": []
  },
  {
   "cell_type": "markdown",
   "metadata": {},
   "source": []
  },
  {
   "cell_type": "code",
   "execution_count": 4,
   "metadata": {},
   "outputs": [
    {
     "name": "stdout",
     "output_type": "stream",
     "text": [
      "3\n"
     ]
    }
   ],
   "source": [
    "\n",
    "\n",
    "# 연결요소 찾기(conneted component 찾기)\n",
    "\n",
    "# N,M을 공백으로 구분하여 입력받기\n",
    "\n",
    "\n",
    "N,M = map(int,input().split())\n",
    "\n",
    "# 2차원 리스트의 맵 정보 받기\n",
    "graph = []\n",
    "for i in range(N):\n",
    "    graph.append(list(map(int,input())))\n",
    "    \n",
    "# DFS로 특정한 노드를 방문한 뒤에 연결되는 모든 노드들도 방문\n",
    "def dfs(x,y):\n",
    "    # 종료조건\n",
    "    if x<= -1 or x>= N or y<= -1 or y>=M:\n",
    "        return False\n",
    "    \n",
    "    if graph[x][y] == 0:\n",
    "        # 해당 노드 방문 처리\n",
    "        graph[x][y] = 1\n",
    "        # 상,하,좌,우의 위치들도 모두 재귀적으로 호출\n",
    "        dfs(x-1,y)\n",
    "        dfs(x+1,y)\n",
    "        dfs(x,y-1)\n",
    "        dfs(x,y+1)\n",
    "        return True\n",
    "    return False\n",
    "\n",
    "\n",
    "# 모든 노드를 통해 계산한다.\n",
    "result = 0\n",
    "for i in range(N):\n",
    "    for j in range(M):\n",
    "        # 현재 위치에서 DFS수행\n",
    "        if dfs(i,j) == True:\n",
    "            result +=1\n",
    "print(result) # 정답 출력\n",
    "\n",
    "\n"
   ]
  },
  {
   "cell_type": "code",
   "execution_count": null,
   "metadata": {},
   "outputs": [],
   "source": []
  }
 ],
 "metadata": {
  "interpreter": {
   "hash": "ee431ac274e33366c10c3ac30cd4fb33ff3ed0dd6a8cc3f05073bd47291a9c12"
  },
  "kernelspec": {
   "display_name": "Python 3.8.12",
   "language": "python",
   "name": "python3"
  },
  "language_info": {
   "codemirror_mode": {
    "name": "ipython",
    "version": 3
   },
   "file_extension": ".py",
   "mimetype": "text/x-python",
   "name": "python",
   "nbconvert_exporter": "python",
   "pygments_lexer": "ipython3",
   "version": "3.8.12"
  },
  "orig_nbformat": 4
 },
 "nbformat": 4,
 "nbformat_minor": 2
}
