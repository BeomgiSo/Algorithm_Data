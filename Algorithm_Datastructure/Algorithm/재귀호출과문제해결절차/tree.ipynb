{
 "cells": [
  {
   "cell_type": "markdown",
   "metadata": {},
   "source": [
    "# 자료구조\n",
    "## 3장 트리\n",
    "    1. 비선형구조와 트리\n",
    "    2. 트리의 표현 방법\n",
    "    3. 트리 순회하기\n",
    "    4. 트리의 활용\n",
    "    5. 트리 실습\n",
    "\n",
    "> 3.1 비선형구조와 트리\n",
    "- 비선형구조와 트리\n",
    "    - 선형구조 : 스택(Stack),큐(Queue)\n",
    "    - 비선형구조 : 트리(Tree), 그래프(Graph)\n",
    "\n",
    "- 선형구조 : 자료가 순서를 가지고 연속되어 있음\n",
    "- 비선형 구조 : 선형구조에 해당하지 않는 자료구조\n",
    "\n",
    "- 비선형 구조의 대표적 예시는 트리와 그래프이다.\n",
    "- 트리는 `그래프의 특수한 형태` 중 하나이다.\n",
    "- 트리를 이해하기위해 우선 그래프의 정의부터 알아보자\n",
    "\n",
    "> 그래프\n",
    "    - 어떤 정점에서 간선을 통해 다른 정점으로 이동할 수 있다.\n",
    "    - 어떤 정점에서 다른 정점으로 이동하기 위해 거치는 모든 정점을 경로라고 한다.\n",
    "        - 정점(Vertex)과 간선(Edge)으로 이루어져 있는 자료구조\n",
    "        - 정점(Vertext) : 자료,상태 등 뭔가를 담고 있음\n",
    "        - 간선(Edge) : 정점 간의 관계를 나타냄\n",
    "\n",
    "![]()\n",
    "- 정점4에서 정점6으로 인동하는 경로들 중 하나는 4->5->3->6\n",
    "\n",
    "![]()\n",
    "- 그래프의 간선은 방향이 있을수도, 없을 수도 있다. 위의 그래프에서 정점1에서2로 이동할 수 있지만, 2에서 1로 이동할 수는 없다. 방향이 있는 간선을 포함한 그래프를 유향그래프 라고한다.\n",
    "\n",
    "- 어떤 정점에서 출발하여 자기 자신으로 돌아오는 경로가 있을 수 있다. 이와 같이 처음 시작한 정점으로 다시 돌아오는 경로를 '사이클'이라고 한다.\n",
    "- 3->6->7->3\n",
    "\n",
    "> 트리\n",
    "![]()\n",
    "- 그래프 중 아래이 특별한 성질을 갖는 그래프를 트리라고 한다.\n",
    "    1. 트리의 간선들은 모두 방향성을 갖는다.\n",
    "    2. 어떤 정점을 가리키는 정점의 개수는 최대 1기앋.\n",
    "    3. 어떤 정점에서 다른 정점으로 이동할 수 있는 경로는 1개이다.\n",
    "    4. 트리는 사이클을 갖지 않는다.\n",
    "- 트리에서 다른 어떠한 정점도 가리키지 않는 정점을 루트노드(Root Node)라고 한다. 정점 1이 루트노드에 해당한다. 또, 루트 노드로부터의 거리를 깊이라고한다.\n",
    "\n",
    "- 부모 노드(Parent Node)\n",
    "- 자식 노드(Child Node)\n",
    "- 리프 노드(Leaf Node)\n",
    "\n",
    "- 트리는 계층적인 구조로 되어 있는 자료구조다. 운영체제에서 파일을 분류학 위해 사용하는 디렉터리(폴더)는 트리 구조의 대표적인 예시이다.\n",
    "\n",
    "> 이진트리\n",
    "- 각 장점들이 자식 노드를 최대 2개까지만 갖는 트리를 이진트리라고 한다.\n",
    "- 이진 탐색 트리 등 유용하게 활용되는 트리 중에는 대부분 이진 트리를 응용한 것이 많다.\n",
    "\n",
    "> 포화이진트리\n",
    "- 리프노드를 제외한 모든 정점이 항상 자식을 2개씩 갖고 있으면서 모든 리프 노드의 깊이가 동일한 트리를 포화 이진트리라고 한다. 포화 이진 트리의 높이를 h라고 할때, 정점의 개수는 항상 $2^h - 1$ 이다.\n",
    "\n",
    "> 완전 이진 트리\n",
    "- 마지막 깊이를 제외하고 모든 정점이 완전히 채워져 있으며, 마지막 깊이의 정점들은 가능한 한 왼쪽에 있는 트리를 완전 이진 트리 라고한다. 또는 이진 트리에서 마지막 깊이의 정점이 오른쪽에서 부터 일부 제거된 트리라고 볼 수 있다. 이때 완전 이진트리의 높이가 h일때 정점의 개수는  $2^{h-1}$이상 $2^h - 1$개 이하 이다.\n",
    "\n",
    "> 정 이진 트리\n",
    "- 정 이진 트리는 리프 노드를 제외한 모든 노드들이 두개의 자식노드를 갖고 있는 이진트리이다. 즉, 모든 정점은 0개 또는 2개의 자식 노드를 갖는다.\n",
    "\n",
    "# 2. 트리의 표현 방법\n",
    "- 이진 트리를 표현하는 방법을 알아보자.\n",
    "- 완전 이진 트리의 경우, 배열을 이용하여 간단하게 구현이 가능하다.\n",
    "- 아래와 같은 완전 이진 트리가 존재할 떄 각 정점에 순서대로 번호를 붙일 수 있다.\n",
    "- 트리의 표현방법\n",
    "    - 어떤 정점의 번호 가 n이면 왼쪽 자식은 2n 오른쪽 자식은 2n+1이다.\n",
    "\n",
    "- 또 트리는 그래프의 일종이므로 그래프로 표현하는 인접행렬, 인접리스트, 간선 리스트를 사용할 수 있다."
   ]
  },
  {
   "cell_type": "code",
   "execution_count": null,
   "metadata": {},
   "outputs": [],
   "source": [
    "class TreeNode:\n",
    "    # 이진 트리의 각 노드는 왼쪽 또는 오른쪽의 자식을 갖고있다.\n",
    "    def __init__(self):\n",
    "        self.left = None\n",
    "        self.right = None"
   ]
  },
  {
   "cell_type": "markdown",
   "metadata": {},
   "source": [
    "# 3 트리순회하기\n",
    "> 트리 순회하기\n",
    "- 트리 순회란 트리의 모든 노드를 방문하는 순서이다.\n",
    "- 트리에 들어있는 자료에 접근하기 위해 순회를 해야 한다.\n",
    "- 배열,연결리스트 등 선형 구조는 각 자료가 순서를 가지지만 비선형 구조에 해당하는 트리는 정해진 순서가 존재하지 않는다.\n",
    "- 트리의 모든 노드를 방문하는 순서는 크게 두가지 종류가 있다. DFS(깊이 우선 탐색) 과 BFS(너비 우선 탐색)이다.\n",
    "\n",
    "- 우선 깊이 탐색(DFS)\n",
    "    1. 전위 순회\n",
    "    2. 중위 순회\n",
    "    3. 후위 순회"
   ]
  },
  {
   "cell_type": "code",
   "execution_count": 1,
   "metadata": {},
   "outputs": [],
   "source": [
    "class TreeNode:\n",
    "    def __init__(self,val):\n",
    "        self.val = val\n",
    "        self.left = None\n",
    "        self.right = None\n",
    "\n",
    "node1 = TreeNode(1)\n",
    "node2 = TreeNode(2)\n",
    "node3 = TreeNode(3)\n",
    "node4 = TreeNode(4)\n",
    "node5 = TreeNode(5)\n",
    "node6 = TreeNode(6)\n",
    "node7 = TreeNode(7)\n",
    "\n",
    "node1.left = node2\n",
    "node1.right = node3\n",
    "node2.left = node4\n",
    "node2.right = node5\n",
    "node3.left = node6\n",
    "node3.right = node7\n",
    "\n",
    "\n",
    "\n"
   ]
  },
  {
   "cell_type": "code",
   "execution_count": 2,
   "metadata": {},
   "outputs": [
    {
     "name": "stdout",
     "output_type": "stream",
     "text": [
      "1245367"
     ]
    }
   ],
   "source": [
    "def recursivePreOrder(node):\n",
    "    if node is None:\n",
    "        return\n",
    "    \n",
    "    print(node.val, end = '')\n",
    "    recursivePreOrder(node.left)\n",
    "    recursivePreOrder(node.right)\n",
    "    \n",
    "recursivePreOrder(node1)    \n"
   ]
  },
  {
   "cell_type": "code",
   "execution_count": 4,
   "metadata": {},
   "outputs": [
    {
     "name": "stdout",
     "output_type": "stream",
     "text": [
      "4 2 5 1 6 3 7 "
     ]
    }
   ],
   "source": [
    "#inOrder LNR\n",
    "def recursiveInOrder(node):\n",
    "    if node is None:\n",
    "        return\n",
    "    \n",
    "    recursiveInOrder(node.left)\n",
    "    print(node.val, end=' ')\n",
    "    recursiveInOrder(node.right)\n",
    "    \n",
    "recursiveInOrder(node1)"
   ]
  },
  {
   "cell_type": "code",
   "execution_count": 5,
   "metadata": {},
   "outputs": [
    {
     "name": "stdout",
     "output_type": "stream",
     "text": [
      "4 5 2 6 7 3 1 "
     ]
    }
   ],
   "source": [
    "def recursivePost(node):\n",
    "    if node is None:\n",
    "        return\n",
    "    \n",
    "    recursivePost(node.left)\n",
    "    recursivePost(node.right)\n",
    "    print(node.val, end=' ')\n",
    "    \n",
    "recursivePost(node1)"
   ]
  },
  {
   "cell_type": "code",
   "execution_count": 6,
   "metadata": {},
   "outputs": [],
   "source": [
    "class TreeNode1:\n",
    "    def __init__(self,val):\n",
    "        self.val = val\n",
    "        self.left = None\n",
    "        self.right = None\n",
    "    \n",
    "\n",
    "node1 = TreeNode1(1)\n",
    "node2 = TreeNode1(2)\n",
    "node3 = TreeNode1(3)\n",
    "node4 = TreeNode1(4)\n",
    "node5 = TreeNode1(5)\n",
    "node6 = TreeNode1(6)\n",
    "node7 = TreeNode1(7)\n",
    "\n",
    "node1.left = node2\n",
    "node1.right = node3\n",
    "node2.left = node4\n",
    "node2.right = node5\n",
    "node3.left = node6\n",
    "node3.right = node7\n",
    "        "
   ]
  },
  {
   "cell_type": "code",
   "execution_count": 7,
   "metadata": {},
   "outputs": [
    {
     "name": "stdout",
     "output_type": "stream",
     "text": [
      "1 2 3 4 5 6 7 "
     ]
    }
   ],
   "source": [
    "from collections import deque\n",
    "\n",
    "def treeLevelPrint(node):\n",
    "    if node is None:\n",
    "        return\n",
    "    \n",
    "    q= deque()\n",
    "    q.append(node)\n",
    "    \n",
    "    while 0<len(q):\n",
    "        crnt_node = q.popleft()\n",
    "        print(crnt_node.val , end = ' ')\n",
    "        if crnt_node.left:\n",
    "            q.append(crnt_node.left) \n",
    "        if crnt_node.right:\n",
    "            q.append(crnt_node.right)\n",
    "\n",
    "treeLevelPrint(node1)\n",
    "\n",
    "\n",
    "  "
   ]
  },
  {
   "cell_type": "code",
   "execution_count": null,
   "metadata": {},
   "outputs": [],
   "source": []
  },
  {
   "cell_type": "code",
   "execution_count": null,
   "metadata": {},
   "outputs": [],
   "source": []
  },
  {
   "cell_type": "code",
   "execution_count": null,
   "metadata": {},
   "outputs": [],
   "source": []
  },
  {
   "cell_type": "code",
   "execution_count": null,
   "metadata": {},
   "outputs": [],
   "source": []
  },
  {
   "cell_type": "code",
   "execution_count": null,
   "metadata": {},
   "outputs": [],
   "source": []
  },
  {
   "cell_type": "code",
   "execution_count": null,
   "metadata": {},
   "outputs": [],
   "source": []
  },
  {
   "cell_type": "code",
   "execution_count": null,
   "metadata": {},
   "outputs": [],
   "source": []
  },
  {
   "cell_type": "code",
   "execution_count": null,
   "metadata": {},
   "outputs": [],
   "source": []
  }
 ],
 "metadata": {
  "interpreter": {
   "hash": "ee431ac274e33366c10c3ac30cd4fb33ff3ed0dd6a8cc3f05073bd47291a9c12"
  },
  "kernelspec": {
   "display_name": "Python 3.8.12",
   "language": "python",
   "name": "python3"
  },
  "language_info": {
   "codemirror_mode": {
    "name": "ipython",
    "version": 3
   },
   "file_extension": ".py",
   "mimetype": "text/x-python",
   "name": "python",
   "nbconvert_exporter": "python",
   "pygments_lexer": "ipython3",
   "version": "3.8.12"
  },
  "orig_nbformat": 4
 },
 "nbformat": 4,
 "nbformat_minor": 2
}
