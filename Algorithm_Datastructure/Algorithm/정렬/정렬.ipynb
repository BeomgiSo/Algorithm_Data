{
 "cells": [
  {
   "cell_type": "markdown",
   "metadata": {},
   "source": [
    "# 이코테\n",
    "## 정렬\n",
    "- 정렬(sorting)이란 `데이터를 특정한 기준에 따라서 순서대로 나열`하는 것을 말한다.\n",
    "- 데이터 정렬후 `이진탐색(binary search)`가 가능하다. 즉, 이진트리의 전처리과정이다.\n",
    "- 선택 정렬, 삽입정렬, 퀵정렬, 계수정렬이 있다.\n",
    "- 7 5 9 0 3 1 6 2 4 8\n",
    "- 리스트를 뒤집는 연산은 O(N)의 복잡도로 간단히 수행할 수 있다."
   ]
  },
  {
   "cell_type": "markdown",
   "metadata": {},
   "source": [
    "## 선택정렬\n",
    "- 데이터가 무작위로 여러개 있을 때, 이 중에서 가장 작은 데이터를 선택해 맨앞에 있는 데이터와 바꾸고, 그다음 작은 데이터를 선택해 앞에서 두번째 데이터와 바꾸는과정을 반복한다.\n",
    "- 원시적으로 가장 작은 것을 선택 한다는 의미에서 선택 정렬(Selction sort) 알고리즘이라고 한다.\n",
    "- 스와프란 특정한 리스트가 주어졌을때 주 변수의 위치를 변경하는 작업을 의미한다.\n",
    "\n",
    "- $O(N^2)$ 의 시간 복잡도를 갖는다."
   ]
  },
  {
   "cell_type": "code",
   "execution_count": 5,
   "metadata": {},
   "outputs": [
    {
     "name": "stdout",
     "output_type": "stream",
     "text": [
      "[1, 2, 2, 3, 3, 4, 5, 25]\n"
     ]
    }
   ],
   "source": [
    "List = [4,5,2,3,1,25,2,3]\n",
    "\n",
    "for i in range(len(List)):\n",
    "    min_index = i\n",
    "    for j in range(i+1,len(List)):\n",
    "        if List[min_index]>List[j]:\n",
    "            min_index = j\n",
    "    List[min_index] , List[i] = List[i],List[min_index]\n",
    "\n",
    "print(List)\n",
    "        "
   ]
  },
  {
   "cell_type": "code",
   "execution_count": 1,
   "metadata": {},
   "outputs": [
    {
     "name": "stdout",
     "output_type": "stream",
     "text": [
      "[0, 1, 2, 3, 4, 6, 7, 8, 9]\n"
     ]
    }
   ],
   "source": [
    "target = [7,9,0,3,1,6,2,4,8]\n",
    "m = len(target)\n",
    "for i in range(m):\n",
    "    min_index = i\n",
    "    for j in range(i+1,m):\n",
    "        if target[min_index] > target[j]:\n",
    "            min_index = j\n",
    "            # 스와프\n",
    "    target[i], target[min_index] = target[min_index],target[i]\n",
    "    \n",
    "print(target)"
   ]
  },
  {
   "cell_type": "markdown",
   "metadata": {},
   "source": [
    "## 삽입정렬\n",
    "- 선택 정렬은 알고리즘 문제 사용에 느린편이다.\n",
    "- 데이터를 하나씩 확인하며 각 데이터를 적절한 위치에 삽입하면 어떨까?\n",
    "- 특히 삽입 정렬은 필요할 때만 위치를 바꾸므로 `데이터가 거의 정렬되어 있을때 ` 효율적이다.\n",
    "- 선택 정렬은 현재 데이터의 상태와 상관없이 무조건 모든 원소를 비교하고 위치를 바꾸는 반면 삽입 정렬은 그렇지 않다.\n",
    "- 삽입 정렬은 특정한 데이터를 적절한 위치에 삽입한다는 의미에서 `삽입 정렬(Insertion Sort)`dlfkrh qnfmsek.\n",
    "- 더불어 삽입 정렬은 특정한 데이터가 적절한 위치에 들어가기 이전에, 그 앞까지의 데이터는 이미 정렬되어 있다고 가정한다.\n",
    "- 정렬되어 있는 데이터 리스트에서 적절한 위치를 찾은 뒤에, 그 위치에 삽입된다는 점이 특징이다.\n",
    "\n",
    "- 7 5 9 0 3 1 6 2 4 8\n",
    "- 삽입정렬은 두 번째 데이터 부터 시작한다. 첫번째 데이터는 그 자체로 정렬되어 있다고 판단하기 때문이다.\n",
    "- 삽입정렬은 재미있는 특징이 있는데, 정렬이 이루어진 원소는 항상 오름차순을 유지하고 있다.\n",
    "    - 삽입 정렬에서는 특정한 데이터가 삽입될 위치를 선정할 떄(삽입될 위치를 찾기 위하여 왼쪽으로 한 칸씩 이동할 떄),삽입될 데이터 보다 작은 데이터를 만나면 그 위치에서 멈추면 된다.\n",
    "\n",
    "- 삽입 정렬의 시간 복잡도\n",
    "- $O(N^2)$의 시간 복잡도인데, 선택 정렬과 마찬가지고 반복문이 2번 중첩되어 사용되었다.\n",
    "- 그러나 정렬이 되어있는 상태라면 매우 빠르게 동작한다.\n",
    "- 최선의 경우에는 O(N)의 시간 복잡도를 갖는다.\n",
    "- 바로 다음에 배울 퀵 저렬 알고리즘과 비교했을 때, 보통은 삽입 정렬이 비효율적이나 정렬이 거의 완료되어 있는 상황에서는 퀵 정렬 알고리즘 보다 더 강력하다.\n",
    "- 따라서 거의 정렬되어있는 상태로 주어지는 문제라면 퀵 정렬등의 여타 정렬알고리즘을 사용하는것보다 빠르다."
   ]
  },
  {
   "cell_type": "code",
   "execution_count": 6,
   "metadata": {},
   "outputs": [
    {
     "name": "stdout",
     "output_type": "stream",
     "text": [
      "[1, 2, 3, 2, 4, 5, 7, 10]\n"
     ]
    }
   ],
   "source": [
    "List=[1,3,2,10,2,4,5,7]\n",
    "for i in range(1,len(List)):\n",
    "    for j in range(i,0,-1):\n",
    "        if List[j]>List[i]:\n",
    "            List[i],List[j] = List[j],List[i]\n",
    "            \n",
    "print(List)\n",
    "            "
   ]
  },
  {
   "cell_type": "code",
   "execution_count": 4,
   "metadata": {},
   "outputs": [
    {
     "name": "stdout",
     "output_type": "stream",
     "text": [
      "[0, 1, 2, 3, 4, 6, 7, 8, 9]\n"
     ]
    }
   ],
   "source": [
    "# 삽입정렬\n",
    "target = [7,9,0,3,1,6,2,4,8]\n",
    "m = len(target)\n",
    "for i in range(1,m):\n",
    "    for j in range(i,0,-1):\n",
    "        if target[j] < target[j-1]:\n",
    "            target[j],target[j-1] = target[j-1], target[j]\n",
    "            \n",
    "print(target)\n",
    "\n",
    "# range의 세번째 매개변수\n",
    "# range는 (start,end,stop)이다"
   ]
  },
  {
   "cell_type": "markdown",
   "metadata": {},
   "source": [
    "## 퀵 정렬\n",
    "- `퀵 정렬`은 정렬 알고리즘 중에 가장 많이 사용되는 알고리즘이다.\n",
    "- 퀵정렬과 병합정렬이 가장 빠른 알고리즘이다.\n",
    "- 대부분의 프로그래밍 언어에서 정렬 라이브러리의 근간이 되는 알고리즘이다.\n",
    "\n",
    "- `기준 데이터를 설정하고 그 기준보다 큰 데이터와 작은 데이터의 위치를 바꾸면 어떨까?`\n",
    "\n",
    "- 퀵 정렬은 기준을 설정한 다음 큰수와 작은수를 과한한 후 리스트를 반으로 나누는 방식\n",
    "- 퀵 정렬은 피벗(pivot)이 사용된다. 큰 숫자와 작은 숫자를 교환할때, 교환하기 위한 기준을 바로 피벗이라고한다.\n",
    "- 그 다음 작은 데이터와 큰 데이터의 위치를 서로 교환해 준다.\n",
    "- 피벗을 설정하고 리스트를 분할하는 방법에 다라서 여러가지 방식으로 퀸 정렬을 구분한다.\n",
    "- 분할(Hoare Partition)방식을 기준으로 퀵정렬하자\n",
    "    - 리스트에서 첫 번째 데이터를 피벗으로 정한다.\n",
    "    - 왼쪽은 비벗보다 큰 데이터를 찾고 오른쪽에는 피벗보다 작은값을 찾는다.\n",
    "\n",
    "- 퀵정렬의 시간복잡도는 O(NlogN)의 평균 복잡도를 보여준다.\n",
    "- 퀵 정렬에서의 최선의 경우 피봇값의 위치가 변경되어 분할이 일어날 떄마다 정확히 왼쪽 오른쪽 리스트를 절반씩 분할한다면 분학의 횟수가 기하적으로 감소하게 된다.\n",
    "- 최악의 시간 복잡도는 $O(N^2)$이다.\n",
    "- 데이터가 무작위일 경우 퀵정렬이 빠르게 동작할 확류이 높다.\n",
    "- 이미 정렬이 되어있는경우 매우 느리게 작동한다.\n",
    "- 삽입정렬은 이미 데이터가 정렬되어 있는 경우는 매우 빠르게 동작하는데이 비해 퀵정렬은 반대라고 볼 수 있다.\n"
   ]
  },
  {
   "cell_type": "code",
   "execution_count": 12,
   "metadata": {},
   "outputs": [
    {
     "name": "stdout",
     "output_type": "stream",
     "text": [
      "[1, 2, 3, 3, 4, 4, 5, 5, 6, 43, 53]\n"
     ]
    }
   ],
   "source": [
    "List = [4,5,3,43,5,53,2,1,3,4,6]\n",
    "def left_sort(L,pivot):\n",
    "    left = []\n",
    "    for i in range(len(L)):\n",
    "        if pivot > L[i]:\n",
    "            left.append(L[i])\n",
    "    return left\n",
    "\n",
    "def right_sort(L,pivot):\n",
    "    right = []\n",
    "    for i in range(len(L)):\n",
    "        if pivot <= L[i]:\n",
    "            right.append(L[i])\n",
    "    return right\n",
    "\n",
    "def quick_sort(L):\n",
    "    if len(L) <= 1:\n",
    "        return L\n",
    "    \n",
    "    pivot = L[0]\n",
    "    left = left_sort(L[1:],pivot)\n",
    "    right = right_sort(L[1:],pivot)\n",
    "    \n",
    "    return quick_sort(left) + [pivot] + quick_sort(right)\n",
    "\n",
    "print(quick_sort(List))\n",
    "    "
   ]
  },
  {
   "cell_type": "code",
   "execution_count": 5,
   "metadata": {},
   "outputs": [
    {
     "name": "stdout",
     "output_type": "stream",
     "text": [
      "[7, 9, 6, 3, 1, 5, 2, 4, 8, 0]\n"
     ]
    }
   ],
   "source": [
    "target =[ 5,7,9,0,3,1,6,2,4,8]\n",
    "def quick_sort(array, start, end):\n",
    "    if start >= end: # 즉 원소가 1개인 경우 종료한다.\n",
    "        return\n",
    "    \n",
    "    pivot = start\n",
    "    left = start +1\n",
    "    right =  end\n",
    "    \n",
    "    while left <= right:\n",
    "        # 피벗보다 큰 데이터를 찾을때 까지 반복\n",
    "        while left <= end and array[left] <= array[pivot]:\n",
    "            left+=1    \n",
    "        # 피봇보다 작은 데이터를 찾을때 까지 반복\n",
    "        while right > start and array[right] >= array[right]:\n",
    "            right -=1\n",
    "        if left>right:\n",
    "            array[left], array[right] = array[right],array[left]\n",
    "        else:\n",
    "            array[left],array[right] = array[right], array[left]\n",
    "        \n",
    "    quick_sort(array,start,right-1)\n",
    "    quick_sort(array,right+1,end)\n",
    "\n",
    "quick_sort(target,0,len(target)-1)\n",
    "print(target)"
   ]
  },
  {
   "cell_type": "code",
   "execution_count": 6,
   "metadata": {},
   "outputs": [
    {
     "name": "stdout",
     "output_type": "stream",
     "text": [
      "[0, 1, 2, 3, 4, 5, 6, 7, 8, 9]\n"
     ]
    }
   ],
   "source": [
    "def quick_sort2(array):\n",
    "    if len(array) <=1:\n",
    "        return array\n",
    "    \n",
    "    pivot = array[0]\n",
    "    tail = array[1:]\n",
    "    left_side = [x for x in tail if x<=pivot]\n",
    "    right_side = [x for x in tail if x>pivot]\n",
    "    \n",
    "    return quick_sort2(left_side)+[pivot]+quick_sort2(right_side)\n",
    "\n",
    "print(quick_sort2(target))"
   ]
  },
  {
   "cell_type": "code",
   "execution_count": null,
   "metadata": {},
   "outputs": [],
   "source": []
  },
  {
   "cell_type": "markdown",
   "metadata": {},
   "source": [
    "# 계수정렬(Count sort)알고리즘\n",
    "- 특정한 조건이 부합할 때만 사용할 수 있지만 매우 빠른 정렬알고리즘이다.\n",
    "- 모든 데이터가 양의 정수인 상황\n",
    "    - 데이터 갯수가 N, 그중에서 최대값이 K일때, 계수정렬은 최악의 경우 수행시간이 O(N+K)\n",
    "    - `다만 계수정렬은 데이터의 크기 범위가 제한되어 정수 형태로 표현할 수 있을때만 사용된다.`\n",
    "    - ex 데이터의 값이 무한한 범위를 가질 수 있는 실수형 데이터가 주어진 경우 사용하기 어렵다.\n",
    "    - 일반적으로 가장 큰 데이터와 가장 작은 데이터의 차이가 1,000,000을 너지 않을때 효과적이다.\n",
    "\n",
    "- 예를 들어 0이상 100이하의 성적데이터를 계수정렬이 효과적이다.\n",
    "- 다만, 가장큰 데이터와 가장 작은 데이터의 차이가 너무 크다면 계수정렬은 사용할 수 없다.\n",
    "- 계수 정렬이 이러한 특징을 가지는 이유는 계수 정렬을 이용할 떄는 모든 범위를 담을 수 있는 크기의 리스트를 선언해야하기 떄문이다.\n",
    "    - ex) 가장 큰 데이터와 가장 작은 데이터의 차이가 1,000,000이라면 총 1,000,001개의 데이터가 들어갈 수 있는 리스트를 초기화 해야한다.\n",
    "    - 여기에서 1개를 더해주는 이유는 0 부터 1,000,000까지는 총 1,000,001개의 수가 존재하기 댸문이다.\n",
    "- 계수 정렬은 앞서 다루었떤 3가지 정렬 알고리즘처럼 직접 데이터의 값으 립교한 뒤에 위치를 변경하며 정렬하는 방식(비교 기반의 정렬알고리즘)이 아니다.\n",
    "- cf) 선택정렬,삽입정렬,퀵정렬처럼 데이터를 비교하여 위치를 변경하는 정렬 방법을 비교기반 정렬 알고리즘이라고 부른다.\n",
    "\n",
    "- 계수 정렬은 일반적으로 별도의 리스트를 선언하고 그 안에 절렬에 대한 정보를 담는다.\n",
    "\n",
    "- 모든 데이터가 양의 정수인 상황에서 데이터의 개수를 N, 데이터 중 최대값의 크기를 k라고 할때, 계수 정렬의 시간 복잡도는 O(N+K)이다.\n",
    "- 계수 정렬은 앞에서부터 데이터를 하나씩 확인하며 리스트에서 적절한 인덱스 값을 1씩 증가 시킬 분만 아니라 추우에 리스트의 각 인덱스에 해당하는 값을 확인할 떄 데이터중 최대값의 크기만큼 반복을 수행한다.\n",
    "- 따라서 데이터의 범위로 한정되어 있다면 효과적으로 사용할 수 있고 빠르게 동작한다.\n",
    "- 사실상 현존하는 정렬 알고리즘 중에서 기수정렬 (ridix sort)과 더불어 가장 빠르다고 볼 수 있다.\n",
    "- 기수 정렬은 계수정렬에 비해 동작은 느리지만 처리할 수 있는 정수의 크기는 더크다.\n",
    "\n",
    "- 계수 정렬은 떄에 따라서 심각한 비효율성을 초래할 수 있다.\n",
    "- 예를 들어 데이터가 0부터 999,999 단 2개만 존재한다고 가정하면 많은 공간 복잡도가 가 생산된다.\n",
    "- `따라서 동일한 값을 가지는 데이터가 여러개 등장할때 적합하다.`\n",
    "- 데이터의 특성을 파악하기 어렵다면 퀵 정렬을 사용하는 것이 유리하다.\n",
    "\n",
    "- 다시 말해, 계수정렬은 데이터의 크기가 한정되어 있고, 데이터의 크기가 많이 중복되어 있을수록 유리하며 항상 사용할 수 없다.\n",
    "- 하지만 조건만 만족한다며 계수 정렬은 정렬해야하는 데이터의 개수가 매우 많을 떄에도 효과적으로 사용할 수 있다.\n",
    "- 코딩테스트 시스템 환경상 메모리 공간상의 제약과 입출력 시간 문제로인해 입력되는 데이터의 개수를 1,000만개 이상으로 설정하 ㄹ수 없는 경우가 많다"
   ]
  },
  {
   "cell_type": "code",
   "execution_count": 7,
   "metadata": {},
   "outputs": [
    {
     "name": "stdout",
     "output_type": "stream",
     "text": [
      "1 1 2 2 2 3 3 3 4 5 5 7 8 9 43 "
     ]
    }
   ],
   "source": [
    "array= [7,8,9,1,2,3,5,1,2,3,43,4,5,3,2]\n",
    "\n",
    "count = [0]*(max(array)+1)\n",
    "for i in range(len(array)):\n",
    "    count[array[i]] +=1 # 각 인덱스에 해당하는 인덱스 값을 증가시킨다.\n",
    "    \n",
    "for i in range(len(count)): # 리스트에 기록된 정렬 정보 확인\n",
    "    for j in range(count[i]):\n",
    "        print(i, end = \" \") # 띄어쓰기를 구분하여 등장한 만큼 인덱스를 출력한다."
   ]
  },
  {
   "cell_type": "code",
   "execution_count": 35,
   "metadata": {},
   "outputs": [
    {
     "name": "stdout",
     "output_type": "stream",
     "text": [
      "[1, 2, 2, 2, 3, 3, 12, 32, 44, 123]\n"
     ]
    }
   ],
   "source": [
    "List =[2,3,1,2,44,3,2,123,32,12]\n",
    "count= [0]*(max(List)+1)\n",
    "\n",
    "new=[]\n",
    "for i in List:\n",
    "    count[i]+=1\n",
    "    \n",
    "for i in range(len(count)):\n",
    "    for j in range(count[i]):\n",
    "        new.append(i)\n",
    "        \n",
    "print(new)\n",
    "print([])"
   ]
  },
  {
   "cell_type": "code",
   "execution_count": 15,
   "metadata": {},
   "outputs": [
    {
     "name": "stdout",
     "output_type": "stream",
     "text": [
      "[1, 2, 3, 4, 5, 6, 7]\n",
      "[('바나나', 2), ('당근', 3), ('사과', 5)]\n"
     ]
    }
   ],
   "source": [
    "# 파이썬\n",
    "array= [1,2,3,4,5,6,7]\n",
    "result = sorted(array)\n",
    "\n",
    "print(result)\n",
    "# 리스트 변수가 하나 있을 떄 내부 원소를 바로 정렬할 수도 있다. 리스트 객체의 내장함수 sort()를 이용하는 것인데, 이를 활용하는 별도의 정렬된 리스트가 반환되지 않고 내부 원소가 바로 정렬된다.\n",
    "\n",
    "array = [('바나나',2),('사과',5),('당근',3)]\n",
    "result = sorted(array,key = lambda x : x[1])\n",
    "print(result)"
   ]
  },
  {
   "cell_type": "code",
   "execution_count": 32,
   "metadata": {},
   "outputs": [
    {
     "name": "stdout",
     "output_type": "stream",
     "text": [
      "바나나 2\n",
      "사과 5\n",
      "치킨 2\n",
      "dict_values([2, 5, 2])\n",
      "['사과', '바나나', '치킨']\n"
     ]
    }
   ],
   "source": [
    "array = {\"바나나\" : 2 , \"사과\":5,\"치킨\":2}\n",
    "for index,value in array.items():\n",
    "    print(index, value)\n",
    "    \n",
    "print(array.values())\n",
    "print(sorted(array,key = lambda x : x[1]))"
   ]
  },
  {
   "cell_type": "code",
   "execution_count": 3,
   "metadata": {},
   "outputs": [
    {
     "name": "stdout",
     "output_type": "stream",
     "text": [
      "[35, 7, 6, 5, 4, 4, 3, 1]\n"
     ]
    }
   ],
   "source": [
    "a=[1,5,3,4,6,7,4,35]\n",
    "b=sorted(a,reverse = True)\n",
    "print(b)"
   ]
  }
 ],
 "metadata": {
  "interpreter": {
   "hash": "ee431ac274e33366c10c3ac30cd4fb33ff3ed0dd6a8cc3f05073bd47291a9c12"
  },
  "kernelspec": {
   "display_name": "Python 3.8.12",
   "language": "python",
   "name": "python3"
  },
  "language_info": {
   "codemirror_mode": {
    "name": "ipython",
    "version": 3
   },
   "file_extension": ".py",
   "mimetype": "text/x-python",
   "name": "python",
   "nbconvert_exporter": "python",
   "pygments_lexer": "ipython3",
   "version": "3.8.12"
  },
  "orig_nbformat": 4
 },
 "nbformat": 4,
 "nbformat_minor": 2
}
