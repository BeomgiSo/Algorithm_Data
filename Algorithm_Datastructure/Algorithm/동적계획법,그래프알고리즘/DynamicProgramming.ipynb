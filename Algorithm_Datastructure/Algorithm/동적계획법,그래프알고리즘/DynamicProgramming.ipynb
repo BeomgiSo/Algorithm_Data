{
 "cells": [
  {
   "cell_type": "markdown",
   "metadata": {},
   "source": [
    "> # 다이나믹 프로그래밍\n",
    "    - 한 번 계산한 문제는 다시 계산하지 않도록 하는 알고리즘\n",
    "    - 이것이 코딩테스트다\n",
    "> 중복되는 연산을 줄이자\n",
    "- 다이나믹 프로그래밍의 2가지방식 Top-down방식 Bottom-up 방식\n",
    "\n",
    "> 다이나믹 프로그래밍과 동적 할당의 다이나믹은 같은 의미일까?\n",
    "- 프로그래밍에서 다이나믹은 `프로그램이 실행되는 도중에`라는 의미이다. 예를 들어 자료구조에서 동적 할당은 프로그램 실행 중에 프로그램 ㅅㄹ행에 필요한 메모리를 할당하는 기법이다. 그러나 다이나믹 프로그래밍에서의 다이나믹은 이런의미가 아니라는 의미이다.\n",
    "\n",
    "- 수열 => 배열이나 리스트로 표현할 수 있다. \"연속된 많은 데이터\"를 처리\n",
    "\n",
    "- 조건\n",
    "    - 1. 큰 문제를 작은 문제로 나눌 수 있다.\n",
    "    - 2. 작은 문제에서 구한 정답은 그것을 포함하는 큰 문제에서도 동일하다.\n",
    "\n",
    "- 메모제이션(Memorization)기법을 사용해보자.\n",
    "- 다이나플 프로그래밍을 구현하는 방법중 한 종류로, 한번 구한 결과를 메모리 공간에 메모해두고 같은 식을 다시 호출하면 메모리 결과를 그대로 가져오는 기법이다.\n",
    "- 메모제이션은 값을 저장하는 방법이므로 캐싱(Caching)이라고 한다."
   ]
  },
  {
   "cell_type": "code",
   "execution_count": 1,
   "metadata": {},
   "outputs": [
    {
     "name": "stdout",
     "output_type": "stream",
     "text": [
      "3\n"
     ]
    }
   ],
   "source": [
    "def fibo(x):\n",
    "    if x == 1 or x==2:\n",
    "        return 1\n",
    "    return fibo(x-1) + fibo(x-2)\n",
    "\n",
    "print(fibo(4))"
   ]
  },
  {
   "cell_type": "code",
   "execution_count": 2,
   "metadata": {},
   "outputs": [
    {
     "name": "stdout",
     "output_type": "stream",
     "text": [
      "218922995834555169026\n"
     ]
    }
   ],
   "source": [
    "# memorization\n",
    "d = [0]*100\n",
    "\n",
    "def fibo(x):\n",
    "    if x==1 or x==2:\n",
    "        return 1\n",
    "    if d[x] !=0:\n",
    "        return d[x]\n",
    "    d[x] = fibo(x-1)+fibo(x-2)\n",
    "    return d[x]\n",
    "\n",
    "print(fibo(99))"
   ]
  },
  {
   "cell_type": "markdown",
   "metadata": {},
   "source": [
    "- 다이나믹 프로그래밍이란 큰 문제를 작게 나누고, 같은 문제라면 한 번씩만 풀어 문제를 효율적으로 해결하는 알고리즘 기법\n",
    "- 퀵정렬은 정렬을 수행할 때 정렬한 리스트를 분할하며 전체적으로 정렬이 될 수 있도록 한다.\n",
    "- 분할 정복(Divide and conquer) 알고리즘 으로 분류된다.\n",
    "- 다이나믹 프로그래밍과 분할 정복의 차이점은 다이나믹 프로그래밍은 문제들이 서로 영항을 미치고 있다는 점이다.\n",
    "- 퀵정렬\n",
    "    - 퀵 정렬은 한 번 기준 원소(Pivot)가 자리를 변경해서 자를 잡게 되면 그 기준 원소의 위치는 더 이상 바뀌지 않고 그 피벗값을 다시 처리하는 문제는 존재하지 않는다.\n",
    "\n",
    "- 다이나믹 프로그래밍\n",
    "    - 한번 해결했던 문제를 다시금 해결한다는 점이 특징이다.\n",
    "    - 그렇기에 이미 해결된 부분 문제에 대한 답을 저장해 놓고, 이 문제는 이미 해결이된 부분 문제에 대한 답을 저장해 놓고, 이 문제는 이미 해결이 됐던 것이니깐 다시 해결할 필요가 없다.\n",
    "\n",
    "- 재귀함수를 사용하면 시스템에서 함수를 다시 호출했을 떄 메모리상에 적재되는 일련의 과정에서 오버헤드가 발생할 수 있다.\n",
    "- 따라서 재귀함수 대신에 반복문을 사용하여 오버헤드를 줄일 수 있다.\n",
    "- 일반적으로 반복문을 이용한 다이나믹 프로그래밍이 더 성능이 좋기 떄문이다.\n"
   ]
  },
  {
   "cell_type": "code",
   "execution_count": null,
   "metadata": {},
   "outputs": [],
   "source": []
  },
  {
   "cell_type": "code",
   "execution_count": null,
   "metadata": {},
   "outputs": [],
   "source": []
  },
  {
   "cell_type": "markdown",
   "metadata": {},
   "source": [
    "# 알고리즘정석2\n",
    "- 동적계획법\n",
    "    1. 피보나치 수열\n",
    "    2. 재귀를 이용한 피보나치 수열\n",
    "    3. 동적 계획법\n",
    "    4. 시간/공간 복잡도 계산하기\n",
    "    5. 동적 계획법 문제풀이 테크닉\n",
    "    6. 동계획법 문제풀이\n",
    "    7. 정리\n",
    "\n",
    "- 동적계획법?\n",
    "    - 복접한 문제를 간단한 `여러 개의 하위 문제로 나누어 푸는 방법`\n",
    "    - 이 때, 하위 문제의 답을 `저장`하여 `중복연산을 하지 않는다`.\n",
    "\n",
    "- 동적계획법 문제의 특성\n",
    "    - 중복되는 부분문제(Overlapping subproblems)\n",
    "        - 작은 하위문제들이 중복되어 나타난다.\n",
    "    - 최적 부분 구조(optimal substructure)\n",
    "        - 최적해는 부분 문제의 최적해로부터 구할 수 있다.\n",
    "\n",
    "- 분할정복법과 동적계획법의 차이\n",
    "    - 중복되는 부분문제(Overlapping subprobelms) : 작은 하위문제들이 나타난다.\n",
    "\n",
    "    - 동적계획법\n",
    "        - 공간 복잡도 - 공간을 얼마나 사용할까?\n",
    "            - 동적계획법은 하위문제들의 답을 저장해 놓기 떄문에, 하위문제의 수만큼 저장공간이 필요하다.\n",
    "        - 동적계획법을 구현하는 태크닉\n",
    "            - 점화식 : 복잡한 문제를 작은 하위문제로 표현한 식\n",
    "            - Top-down vs Bottom-up\n",
    "            - Top-down \n",
    "                - 1. 큰 문제를 작은 문제로 나눈다.\n",
    "                - 2. 작은 문제를 풀어 return 해준다.\n",
    "            - Bottom-up\n",
    "                - 1. 작은 문제부터 차례로 풀어 적는다.\n",
    "                - 2. 크기를 조금씩 늘려서 문제를 푼다.\n",
    "                - 반복문 식 방법\n"
   ]
  },
  {
   "cell_type": "code",
   "execution_count": 1,
   "metadata": {},
   "outputs": [],
   "source": [
    "#재귀를 사용한 피보나치 수열\n",
    "def fibo(n):\n",
    "    if n<3:\n",
    "        return 1\n",
    "    else:\n",
    "        return fibo(n-1)+fibo(n-2)\n",
    "\n",
    "# 동적 계획법\n",
    "fibonacci = {1:1,2:1} #cache\n",
    "def fibo(n):\n",
    "    if n in fibonacci:\n",
    "        return fibonacci[n] #memorization\n",
    "    else:\n",
    "        fibonacci[n] = fibo(n-1)+fibo(n-2)\n",
    "        return fibonacci[n]\n",
    "        "
   ]
  },
  {
   "cell_type": "code",
   "execution_count": null,
   "metadata": {},
   "outputs": [],
   "source": [
    "# bottom-up\n",
    "\n",
    "def fibo(n):\n",
    "    fibonacci=[-1,1,1]\n",
    "    if n<3: return 1\n",
    "    for i in range(3,n+1):\n",
    "        fibonacci.append(fibonacci[i-1]+fibonacci[i-2])\n",
    "    return fibonacci[n]\n"
   ]
  },
  {
   "cell_type": "markdown",
   "metadata": {},
   "source": [
    "## 동적계획법 문제풀이\n",
    "1. 구하고자하는 값 정의하기\n",
    "    - 구하고자 하고는 값이 무엇인지 파악한다.\n",
    "2. 부분문제로 표현하여 점화식 구하기\n",
    "    - 구하고자 하는 값을 부분문제로 구성된 식으로 표현한다.\n",
    "3. 코드로 옮기기\n",
    "    - 점화식을 재귀호츨, 반복문식으로 코드로 작성한다."
   ]
  },
  {
   "cell_type": "markdown",
   "metadata": {},
   "source": [
    "> 타일 체우기 문제\n",
    "-  2*N짜리 액자에 2*1타일을 채워 넣으려고한다. 해당 액자와 타일로 만들수 있는 서로 다른 작품의수는 몇개인가?"
   ]
  },
  {
   "cell_type": "code",
   "execution_count": null,
   "metadata": {},
   "outputs": [],
   "source": []
  },
  {
   "cell_type": "markdown",
   "metadata": {},
   "source": [
    "- 숫자만들기\n",
    "- 1부터M까지의 숫자를 사용하여 합이 N이 되도록 만드는 경의수는?\n",
    "ex) 1부터 3까지 숫자를 이용하여 M=3합이 N=5가 되도록 만드는 경의의수는 모두13가지이다."
   ]
  }
 ],
 "metadata": {
  "interpreter": {
   "hash": "ee431ac274e33366c10c3ac30cd4fb33ff3ed0dd6a8cc3f05073bd47291a9c12"
  },
  "kernelspec": {
   "display_name": "Python 3.8.12",
   "language": "python",
   "name": "python3"
  },
  "language_info": {
   "codemirror_mode": {
    "name": "ipython",
    "version": 3
   },
   "file_extension": ".py",
   "mimetype": "text/x-python",
   "name": "python",
   "nbconvert_exporter": "python",
   "pygments_lexer": "ipython3",
   "version": "3.9.7"
  },
  "orig_nbformat": 4
 },
 "nbformat": 4,
 "nbformat_minor": 2
}
