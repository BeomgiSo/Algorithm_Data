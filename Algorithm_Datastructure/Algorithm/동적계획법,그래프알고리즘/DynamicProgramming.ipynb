{
 "cells": [
  {
   "cell_type": "markdown",
   "metadata": {},
   "source": [
    "- 숫자만들기\n",
    "- 1부터M까지의 숫자를 사용하여 합이 N이 되도록 만드는 경의수는?\n",
    "ex) 1부터 3까지 숫자를 이용하여 M=3합이 N=5가 되도록 만드는 경의의수는 모두13가지이다."
   ]
  }
 ],
 "metadata": {
  "interpreter": {
   "hash": "ee431ac274e33366c10c3ac30cd4fb33ff3ed0dd6a8cc3f05073bd47291a9c12"
  },
  "kernelspec": {
   "display_name": "Python 3.8.12",
   "language": "python",
   "name": "python3"
  },
  "language_info": {
   "codemirror_mode": {
    "name": "ipython",
    "version": 3
   },
   "file_extension": ".py",
   "mimetype": "text/x-python",
   "name": "python",
   "nbconvert_exporter": "python",
   "pygments_lexer": "ipython3",
   "version": "3.9.7"
  },
  "orig_nbformat": 4
 },
 "nbformat": 4,
 "nbformat_minor": 2
}
