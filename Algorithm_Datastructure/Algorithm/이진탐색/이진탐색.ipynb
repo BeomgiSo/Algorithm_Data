{
 "cells": [
  {
   "cell_type": "markdown",
   "metadata": {},
   "source": [
    "# 이것이 코딩테스트다\n",
    "## 이진탐색\n",
    "> 순차탐색(Sequential Search)\n",
    "- 리스트 안에 있는 특정한 데이터를 찾기 위해 앞에서부터 데이터를 하나씩 확인하는 방법\n",
    "- 순타 탐색은 이름처럼 순차로 데이터를 탐색하는 의미이다.\n",
    "- 리스트의 데이터에 하나씩 방문하여 특정한 문장열과 같은지 검사한다.\n",
    "- 리스트의에 특정 값의 원소가 있는지 체크할 때도 순착 탐색으로 원소를 확인하고 리스트 자료형에서 특정한 값을 가지는 원소를 세는 count()메서드를 이요할때도 내부에서 순차탐색이 수행된다.\n",
    "\n",
    "- 데이터의 개수가 N개일때 최대N번의 연산이 필요하므로 순차탐색의 시간복잡도는 O(N)이다."
   ]
  },
  {
   "cell_type": "code",
   "execution_count": 1,
   "metadata": {},
   "outputs": [
    {
     "name": "stdout",
     "output_type": "stream",
     "text": [
      "생성할 원소 개수를 입력한 다음 한 칸 띄고 찾을 문자열을 입력하세요\n",
      " 앞서 적은 원소 개수만큼 문자열을 입력하시오\n",
      "3\n"
     ]
    }
   ],
   "source": [
    "def sequntial_search(n,target,array):\n",
    "    for i in range(n):\n",
    "        if array[i] == target:\n",
    "            return i+1\n",
    "        \n",
    "print(\"생성할 원소 개수를 입력한 다음 한 칸 띄고 찾을 문자열을 입력하세요\")\n",
    "input_data = input().split()\n",
    "\n",
    "n=int(input_data[0])\n",
    "target = input_data[1]\n",
    "\n",
    "print(\" 앞서 적은 원소 개수만큼 문자열을 입력하시오\")\n",
    "array = input().split()\n",
    "\n",
    "\n",
    "print(sequntial_search(n,target,array))"
   ]
  },
  {
   "cell_type": "markdown",
   "metadata": {},
   "source": [
    "> 이진탐색(Binary Search) : 반으로 쪼개면서 탐색하기\n",
    "- 배열 내부의 데이터가 정렬되어 있어야만 사용할 수 있는 알고리즘이다.\n",
    "- 데이터가 무작위 일때는 사용할수 없다.\n",
    "- 이미 정렬되어 있다면 빠르게 데이터를 찾을 수 있다.\n",
    "\n",
    "- 이진탐색은 위치를 나타내느 변수 3개를 사용한다. 시작점,끝점 그리고 중간점\n",
    "- 찾으려는 데이터와 중간점 위치에 있는 데이터를 반복적으로 비교해서 원하는 데이터를 찾는 과정이다.\n",
    "- 이진 탐색은 한번 확인 할 떄마다 확인할 원소가 절반씩 줄어든다는 점에서 시간복잡도가 $O(logN)$ \n"
   ]
  },
  {
   "cell_type": "code",
   "execution_count": 16,
   "metadata": {},
   "outputs": [
    {
     "ename": "ValueError",
     "evalue": "not enough values to unpack (expected 2, got 0)",
     "output_type": "error",
     "traceback": [
      "\u001b[0;31m---------------------------------------------------------------------------\u001b[0m",
      "\u001b[0;31mValueError\u001b[0m                                Traceback (most recent call last)",
      "\u001b[1;32m/Users/ramg/Desktop/github/algorithm/Algorithm/이진탐색/이진탐색.ipynb Cell 4'\u001b[0m in \u001b[0;36m<module>\u001b[0;34m\u001b[0m\n\u001b[1;32m     <a href='vscode-notebook-cell:/Users/ramg/Desktop/github/algorithm/Algorithm/%EC%9D%B4%EC%A7%84%ED%83%90%EC%83%89/%EC%9D%B4%EC%A7%84%ED%83%90%EC%83%89.ipynb#ch0000003?line=11'>12</a>\u001b[0m     \u001b[39melse\u001b[39;00m:\n\u001b[1;32m     <a href='vscode-notebook-cell:/Users/ramg/Desktop/github/algorithm/Algorithm/%EC%9D%B4%EC%A7%84%ED%83%90%EC%83%89/%EC%9D%B4%EC%A7%84%ED%83%90%EC%83%89.ipynb#ch0000003?line=12'>13</a>\u001b[0m         \u001b[39mreturn\u001b[39;00m binary_recur(array,target,mid\u001b[39m+\u001b[39m\u001b[39m1\u001b[39m,end)\n\u001b[0;32m---> <a href='vscode-notebook-cell:/Users/ramg/Desktop/github/algorithm/Algorithm/%EC%9D%B4%EC%A7%84%ED%83%90%EC%83%89/%EC%9D%B4%EC%A7%84%ED%83%90%EC%83%89.ipynb#ch0000003?line=15'>16</a>\u001b[0m n,target \u001b[39m=\u001b[39m \u001b[39mlist\u001b[39m(\u001b[39mmap\u001b[39m(\u001b[39mint\u001b[39m,\u001b[39minput\u001b[39m()\u001b[39m.\u001b[39msplit()))\n\u001b[1;32m     <a href='vscode-notebook-cell:/Users/ramg/Desktop/github/algorithm/Algorithm/%EC%9D%B4%EC%A7%84%ED%83%90%EC%83%89/%EC%9D%B4%EC%A7%84%ED%83%90%EC%83%89.ipynb#ch0000003?line=16'>17</a>\u001b[0m array \u001b[39m=\u001b[39m \u001b[39mlist\u001b[39m(\u001b[39mmap\u001b[39m(\u001b[39mint\u001b[39m,\u001b[39minput\u001b[39m()\u001b[39m.\u001b[39msplit()))\n\u001b[1;32m     <a href='vscode-notebook-cell:/Users/ramg/Desktop/github/algorithm/Algorithm/%EC%9D%B4%EC%A7%84%ED%83%90%EC%83%89/%EC%9D%B4%EC%A7%84%ED%83%90%EC%83%89.ipynb#ch0000003?line=18'>19</a>\u001b[0m result \u001b[39m=\u001b[39m binary_recur(array, target , \u001b[39m0\u001b[39m , n\u001b[39m-\u001b[39m\u001b[39m1\u001b[39m)\n",
      "\u001b[0;31mValueError\u001b[0m: not enough values to unpack (expected 2, got 0)"
     ]
    }
   ],
   "source": [
    "# 재귀함수 이용하기\n",
    "def binary_recur(array, target, start, end):\n",
    "    if start>end:\n",
    "        return None\n",
    "    \n",
    "    mid = (start+end)//2\n",
    "    \n",
    "    if array[mid] == target:\n",
    "        return mid\n",
    "    elif array[mid]>target:\n",
    "        return binary_recur(array,target,start,mid-1)\n",
    "    else:\n",
    "        return binary_recur(array,target,mid+1,end)\n",
    "  \n",
    "  \n",
    "n,target = list(map(int,input().split()))\n",
    "array = list(map(int,input().split()))\n",
    "\n",
    "result = binary_recur(array, target , 0 , n-1)\n",
    "\n",
    "if result ==None:\n",
    "    print(\"원소가 존재하지 않는다\")\n",
    "else:\n",
    "    print(result+1)\n",
    "\n"
   ]
  },
  {
   "cell_type": "code",
   "execution_count": 15,
   "metadata": {},
   "outputs": [
    {
     "name": "stdout",
     "output_type": "stream",
     "text": [
      "index =  7\n"
     ]
    }
   ],
   "source": [
    "def binary_search(array,target,start,end):\n",
    "    # 재귀함수\n",
    "    if start > end:\n",
    "        return None\n",
    "    \n",
    "    mid = (start+end)//2\n",
    "    \n",
    "    if array[mid] == target:\n",
    "        return mid\n",
    "    elif array[mid] > target:\n",
    "        return binary_search(array,target,start,mid-1)\n",
    "    else:\n",
    "        return binary_search(array,target,mid+1,end)\n",
    "    \n",
    "array = [1,2,3,4,5,6,7,8,9]\n",
    "target = 8\n",
    "solution = binary_search(array,target,0,len(array)-1)\n",
    "print(\"index = \", solution)"
   ]
  },
  {
   "cell_type": "code",
   "execution_count": 13,
   "metadata": {},
   "outputs": [
    {
     "name": "stdout",
     "output_type": "stream",
     "text": [
      "No\n",
      "Yes\n",
      "Yes\n"
     ]
    }
   ],
   "source": [
    "# 부품이 N개 // 정수의 고유한번호\n",
    "N = int(input())\n",
    "N_number = list(map(int,input().split()))\n",
    "# 손님이 문의한 부품 M개 \n",
    "M= int(input())\n",
    "# 손님이 문의한 부품 종류\n",
    "M_number = list(map(int,input().split()))\n",
    "\n",
    "for i in M_number:\n",
    "    if i in N_number:\n",
    "        print(\"Yes\")\n",
    "    else:\n",
    "        print(\"No\") \n"
   ]
  },
  {
   "cell_type": "code",
   "execution_count": null,
   "metadata": {},
   "outputs": [],
   "source": []
  }
 ],
 "metadata": {
  "interpreter": {
   "hash": "ee431ac274e33366c10c3ac30cd4fb33ff3ed0dd6a8cc3f05073bd47291a9c12"
  },
  "kernelspec": {
   "display_name": "Python 3.8.12",
   "language": "python",
   "name": "python3"
  },
  "language_info": {
   "codemirror_mode": {
    "name": "ipython",
    "version": 3
   },
   "file_extension": ".py",
   "mimetype": "text/x-python",
   "name": "python",
   "nbconvert_exporter": "python",
   "pygments_lexer": "ipython3",
   "version": "3.8.12"
  },
  "orig_nbformat": 4
 },
 "nbformat": 4,
 "nbformat_minor": 2
}
