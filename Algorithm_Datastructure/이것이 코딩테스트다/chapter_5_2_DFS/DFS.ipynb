{
 "cells": [
  {
   "cell_type": "code",
   "execution_count": 1,
   "metadata": {},
   "outputs": [
    {
     "name": "stdout",
     "output_type": "stream",
     "text": [
      "[[0, 7, 5], [7, 0, 999999], [5, 999999, 0]]\n"
     ]
    }
   ],
   "source": [
    "# 인접행렬(adjacency matrix) 방식\n",
    "INF = 999999\n",
    "graph = [\n",
    "    [0,7,5],\n",
    "    [7,0,INF],\n",
    "    [5,INF,0]\n",
    "]\n",
    "\n",
    "print(graph)"
   ]
  },
  {
   "cell_type": "code",
   "execution_count": 2,
   "metadata": {},
   "outputs": [
    {
     "name": "stdout",
     "output_type": "stream",
     "text": [
      "[[(1, 7), (2, 5)], [(0, 7)], [(0, 5)]]\n"
     ]
    }
   ],
   "source": [
    "# 인접리스트(Adhacency list) 방식\n",
    "# 행이 3개인 2차원 리스트로 인접리스트 표현\n",
    "graph= [[] for _ in range(3)]\n",
    "\n",
    "graph[0].append((1,7))\n",
    "graph[0].append((2,5))\n",
    "\n",
    "graph[1].append((0,7))\n",
    "\n",
    "graph[2].append((0,5))\n",
    "\n",
    "print(graph)\n"
   ]
  },
  {
   "cell_type": "markdown",
   "metadata": {},
   "source": [
    "## DFS는 스택자료구조를 이용하고 다음과 같이 동작한다.\n",
    "- 탐사 시작 노드를 스택에 삽입하고 방문 처리를 한다.\n",
    "- 스택의 최상단 노드부터 방문하지 않은 인접 노드가 있으면 그 인접노드에 스택에 넣고 방문 처리를한다.\n",
    "- 방문하지않은 인접 노드가 없으면 스택에서 최상단 노드를 꺼낸다.\n",
    "- 2번의 과정이 더이상 수행할 수없을때까지 반복한다.\n",
    "\n",
    "- 깊이 우선 탐색 알고리즘 DFS는 스택 자료구조에 기초한다\n",
    "- 실제 스택을 쓰지 않아도 되며 탐색을 수행함에 있어서 데이터가 N개인 경우 O(N)의 시간이 소요된다."
   ]
  },
  {
   "cell_type": "code",
   "execution_count": 6,
   "metadata": {},
   "outputs": [
    {
     "name": "stdout",
     "output_type": "stream",
     "text": [
      "2 "
     ]
    }
   ],
   "source": [
    "def dfs(graph,v,visited):\n",
    "    # graph : graph의 내용\n",
    "    # v : point\n",
    "    # visited : 방문여부\n",
    "    visited[v]=True\n",
    "    print(v,end =' ')\n",
    "    for i in graph[v]:\n",
    "        if not visited[v]:\n",
    "            dfs(graph,i,visited)\n",
    "\n",
    "\n",
    "graph = [\n",
    "    [],\n",
    "    [2,3,8],\n",
    "    [1,7],\n",
    "    [1,4,5],\n",
    "    [3,5],\n",
    "    [3,4],\n",
    "    [7],\n",
    "    [2,6,8],\n",
    "    [1,7]\n",
    "]\n",
    "\n",
    "visited = [False]*9\n",
    "\n",
    "dfs(graph,2,visited)\n"
   ]
  }
 ],
 "metadata": {
  "interpreter": {
   "hash": "31f2aee4e71d21fbe5cf8b01ff0e069b9275f58929596ceb00d14d90e3e16cd6"
  },
  "kernelspec": {
   "display_name": "Python 3.8.9 64-bit",
   "language": "python",
   "name": "python3"
  },
  "language_info": {
   "codemirror_mode": {
    "name": "ipython",
    "version": 3
   },
   "file_extension": ".py",
   "mimetype": "text/x-python",
   "name": "python",
   "nbconvert_exporter": "python",
   "pygments_lexer": "ipython3",
   "version": "3.8.9"
  },
  "orig_nbformat": 4
 },
 "nbformat": 4,
 "nbformat_minor": 2
}
