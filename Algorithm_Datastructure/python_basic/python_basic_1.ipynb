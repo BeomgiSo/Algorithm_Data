{
 "cells": [
  {
   "cell_type": "code",
   "execution_count": 1,
   "metadata": {},
   "outputs": [
    {
     "name": "stdout",
     "output_type": "stream",
     "text": [
      "7\n",
      "1.3333333333333333\n",
      "64\n",
      "1\n",
      "1\n"
     ]
    }
   ],
   "source": [
    "print(4+3)\n",
    "print(4/3) # 나누기\n",
    "print(4**3) # 제곱\n",
    "print(4%3) # 나머지\n",
    "print(4//3) # 몫"
   ]
  },
  {
   "cell_type": "code",
   "execution_count": 2,
   "metadata": {},
   "outputs": [
    {
     "name": "stdout",
     "output_type": "stream",
     "text": [
      "\n",
      "life\n",
      "is \n",
      "too\n",
      "short\n",
      "\n"
     ]
    }
   ],
   "source": [
    "mulitline='''\n",
    "life\n",
    "is \n",
    "too\n",
    "short\n",
    "'''\n",
    "print(mulitline)"
   ]
  },
  {
   "cell_type": "code",
   "execution_count": 7,
   "metadata": {},
   "outputs": [
    {
     "name": "stdout",
     "output_type": "stream",
     "text": [
      "I eat 3 apples\n",
      "I eat 3.5 apples\n",
      "I eat 3.500000 apples and 5.600000 ham\n"
     ]
    }
   ],
   "source": [
    "a=3.5\n",
    "print(\"I eat %d apples\" %a) # 숫자 바로대입\n",
    "print(\"I eat %s apples\" %a) # string으로 대입\n",
    "b=5.6\n",
    "print(\"I eat %f apples and %f ham\" %(a,b)) # 변수 두개 넣기\n"
   ]
  },
  {
   "cell_type": "code",
   "execution_count": 10,
   "metadata": {},
   "outputs": [
    {
     "name": "stdout",
     "output_type": "stream",
     "text": [
      "        hi\n",
      "hi        \n",
      "3.4142\n",
      "    3.4142\n"
     ]
    }
   ],
   "source": [
    "print(\"%10s\"%\"hi\") # 전체길이 10개 중에 뒤에서 hi채움\n",
    "print(\"%-10s\"%\"hi\") # 전체길이 10개 중에 뒤에서 hi채움\n",
    "print(\"%.4f\" %3.41423456) # 반올림해서 4번쨰 자리까지 표시!\n",
    "print(\"%10.4f\" %3.41423456) # 반올림해서 4번쨰 자리까지 표시! 앞에 공백까지\n",
    "\n"
   ]
  },
  {
   "cell_type": "code",
   "execution_count": 14,
   "metadata": {},
   "outputs": [
    {
     "name": "stdout",
     "output_type": "stream",
     "text": [
      "I eat 3 apples\n",
      "I eat five apples\n",
      "I eat 3 apples\n",
      "I eat 10 apples and for three days\n",
      "I eat 110 apples and for three days\n",
      "hi        \n",
      "        hi\n",
      "    hi    \n",
      "++++hi++++\n"
     ]
    }
   ],
   "source": [
    "# 숫자 바로 대입하기\n",
    "print(\"I eat {0} apples\".format(3))\n",
    "# 문자 바로대입하기\n",
    "print(\"I eat {0} apples\".format(\"five\"))\n",
    "# 변수로 대입하기\n",
    "a=3\n",
    "print(\"I eat {0} apples\".format(a))\n",
    "# 2 개이상 값넣기\n",
    "number=10\n",
    "day=\"three\"\n",
    "print(\"I eat {0} apples and for {1} days\".format(number,day))\n",
    "# f 문자열 포맷팅\n",
    "print(f\"I eat {number+100} apples and for {day} days\")\n",
    "\n",
    "\n",
    "# 왼쪽 정렬\n",
    "print(\"{0:<10}\".format(\"hi\"))\n",
    "# 오른쪽 정렬\n",
    "print(\"{0:>10}\".format(\"hi\"))\n",
    "# 가운데 정렬\n",
    "print(\"{0:^10}\".format(\"hi\"))\n",
    "# 공백채우기\n",
    "print(\"{0:+^10}\".format(\"hi\"))\n"
   ]
  },
  {
   "cell_type": "code",
   "execution_count": 21,
   "metadata": {},
   "outputs": [
    {
     "name": "stdout",
     "output_type": "stream",
     "text": [
      "3\n",
      "0\n",
      "-1\n",
      "7\n",
      "P!y!t!h!o!n! !i!s!.!.!.\n",
      "PYTHON IS...\n",
      "python is...\n",
      "Python is...\n",
      "Java is...\n",
      "['Life', 'is', 'too', 'short']\n"
     ]
    }
   ],
   "source": [
    "# 문자열 관련 함수\n",
    "# count\n",
    "a=\"aabbddcda\"\n",
    "print(a.count(\"a\"))\n",
    "# find\n",
    "a= \"Python is...\"\n",
    "print(a.find(\"P\"))\n",
    "print(a.find(\"p\")) #대소문자를 구분하고 값이 존재하지 않는다면 -1 을 반환한다.\n",
    "# find\n",
    "print(a.index('i')) # 문자열이 없으면 error가 난다 find와 차이점\n",
    "# join\n",
    "print(\"!\".join(a)) # 문자열 사이에 !를 넣어준다.\n",
    "# 대문자 변환 upper\n",
    "print(a.upper())\n",
    "# 소문자 변환 lower\n",
    "print(a.lower())\n",
    "# 양쪽 공백을 제거\n",
    "print(a.strip())\n",
    "# 문자열 바꾸기\n",
    "print(a.replace(\"Python\",\"Java\"))\n",
    "# 문자열 나누기\n",
    "a=\"Life is too short\"\n",
    "print(a.split()) # 공백기준으로 문자열을 나눠줌\n",
    "\n"
   ]
  },
  {
   "cell_type": "code",
   "execution_count": 31,
   "metadata": {},
   "outputs": [
    {
     "name": "stdout",
     "output_type": "stream",
     "text": [
      "[1, 2]\n",
      "[1, 2, 3, 4, 5, 2, 3, 4, 5]\n",
      "[1, 2, 3, 4, 5, 1, 2, 3, 4, 5]\n",
      "5\n",
      "[1, 3, 4, 5]\n",
      "[1, 3, 4, 5, 100]\n",
      "[1, 3, 4, 5, 100]\n",
      "[100, 5, 4, 3, 1]\n",
      "1\n",
      "[4, 1, 2, 3]\n",
      "[1, 2, 4, 5, 6, 3]\n",
      "4\n",
      "[1, 2, 3]\n",
      "3\n",
      "[1, 2, 100, 2, 3, 4]\n"
     ]
    }
   ],
   "source": [
    "# 리스트 자료형\n",
    "a=[1,2,3,4,5]\n",
    "print(a[0:2])\n",
    "# 리스트의 연산\n",
    "b= [2,3,4,5]\n",
    "print(a+b)\n",
    "# 리스트 반복하기\n",
    "print(a*2)\n",
    "# list의 길이\n",
    "print(len(a))\n",
    "\n",
    "# 리스트의 수정과 삭제\n",
    "del a[1] # 삭제 del 객체\n",
    "print(a)\n",
    "\n",
    "# 리스트 관련함수 \n",
    "# 리스트에 요소 추가\n",
    "a.append(100)\n",
    "print(a)\n",
    "\n",
    "# 리스트의 정렬\n",
    "a.sort()\n",
    "print(a)\n",
    "\n",
    "# 리스트의 역순 reverse\n",
    "a.reverse()\n",
    "print(a)\n",
    "\n",
    "# 위치 변환\n",
    "a=[1,2,3]\n",
    "print(a.index(2)) # 2는 a의 1번째 요소\n",
    "\n",
    "# 리스트의 요소 삽입\n",
    "a.insert(0,4) # 0 위치에 4를 넣는다\n",
    "print(a)\n",
    "\n",
    "# 리스트의 요소 제거\n",
    "a=[1,2,3,4,5,6,3]\n",
    "a.remove(3) # 가장먼저의 3 을 제거해준다.\n",
    "print(a)\n",
    "\n",
    "# 리스트의 요소 끄집어내기\n",
    "a=[1,2,3,4]\n",
    "print(a.pop()) # 마지막 값을 주고 제거해준다.\n",
    "print(a)\n",
    "print(a.pop(2)) # index 2 값을 주고 제거해준다.\n",
    "a.count(1) # 1의 갯수를 찾고 돌려준다\n",
    "# 리스트의 확장\n",
    "b=[100,2,3,4]\n",
    "a.extend(b)\n",
    "print(a)\n"
   ]
  },
  {
   "cell_type": "code",
   "execution_count": 38,
   "metadata": {},
   "outputs": [
    {
     "name": "stdout",
     "output_type": "stream",
     "text": [
      "{'name': 'pay', 'phone': '01110232130', 'birh': '0613'}\n",
      "{'name': 'pay', 'phone': '01110232130', 'birh': '0613', 'add': 'addValue'}\n",
      "{'name': 'pay', 'phone': '01110232130', 'birh': '0613'}\n",
      "pay\n",
      "dict_keys(['name', 'phone', 'birh'])\n",
      "['name', 'phone', 'birh']\n"
     ]
    }
   ],
   "source": [
    "dic = {'name' : 'pay','phone' : '01110232130','birh':'0613'}\n",
    "print(dic)\n",
    "# 딕셔너리 추가\n",
    "dic[\"add\"] = 'addValue'\n",
    "print(dic)\n",
    "# 딕셔너리 요소 제거\n",
    "del dic[\"add\"] # key값을 넣어주면 관련 데이터를 모두 삭제한다.\n",
    "print(dic)\n",
    "# Value 불러오기\n",
    "print(dic['name'])\n",
    "\n",
    "# 딕셔너리 관련 함수들\n",
    "print(dic.keys()) # key값들을 dict_keys로 변환해준다.\n",
    "print(list(dic.keys()))# list형식으로 바꿔준다.\n",
    "print(dic.values()) # value갑을 얻을 수 있다.\n",
    "print(dic.items()) # key와 value의 쌍을 튜플로 묶은 값을 dict_item으로 돌려준다\n",
    "print(dic.get('name')) # key에 대응되는 value를 돌려준다.\n",
    "print(dic.get('monkey','name')) # monkey라는 key가 없으면 name값을 가지고오라고 해준다.\n",
    "print(dic.clear()) # 관련된 쌍을 모두 제거해준다.\n",
    "print('name' in dic) # 해당 key값이 있는지 조사해준다.\n"
   ]
  },
  {
   "cell_type": "code",
   "execution_count": 39,
   "metadata": {},
   "outputs": [
    {
     "name": "stdout",
     "output_type": "stream",
     "text": [
      "{2, 355, 4, 6, 7}\n"
     ]
    }
   ],
   "source": [
    "# 집합 자료구조\n",
    "s1 = set([2,355,6,7,4])\n",
    "print(s1)\n",
    "s2 = list(s1)\n",
    "print(s2)\n",
    "s3 = set([2,3,4,5,6,7])\n",
    "\n",
    "# 교집합\n",
    "print(s1 & s3)\n",
    "print(s1.intersection(s3))\n",
    "# 합집합\n",
    "print(s1|s3)\n",
    "print(s1.union(s3))\n",
    "# 차집합\n",
    "print(s1-s3)\n",
    "print(s1.difference(s3))\n",
    "\n",
    "# 값 추가하기\n",
    "s1.add(1000)\n",
    "print(s1)\n",
    "# 여러개 추가하기\n",
    "s1.update([100,200,300])\n",
    "print(s1)\n",
    "\n",
    "# 특정값 제거하기\n",
    "print(s1.remove(100))"
   ]
  },
  {
   "cell_type": "code",
   "execution_count": 41,
   "metadata": {},
   "outputs": [
    {
     "name": "stdout",
     "output_type": "stream",
     "text": [
      "False\n"
     ]
    }
   ],
   "source": [
    "# 튜플 만들기\n",
    "a,b=('life','is good')\n",
    "(a,b) = 'python','good'\n",
    "# 리스트 만들기\n",
    "[c,d] = ['python','very']\n",
    "a=1\n",
    "b=2\n",
    "a,b=b,a # 간단하게 값교환을 바꿈\n",
    "# 메모리 위치의 같음을 확인할 때에는 is를 사용한다\n",
    "a=[1,2,3]\n",
    "b=[1,2,3]\n",
    "print( a is b)"
   ]
  },
  {
   "cell_type": "code",
   "execution_count": 47,
   "metadata": {},
   "outputs": [
    {
     "name": "stdout",
     "output_type": "stream",
     "text": [
      "텍시를 탈 수 있습니다.\n",
      "True\n",
      "False\n",
      "True\n",
      "paper가 있습니다\n",
      "success\n"
     ]
    }
   ],
   "source": [
    "money = 2000\n",
    "card = True\n",
    "if money>3000 or card:\n",
    "    print(\"텍시를 탈 수 있습니다.\")\n",
    "else:\n",
    "    print('택시를 탈 수 없습니다.')\n",
    "    \n",
    "print(1 in [1,2,3,4]) # True\n",
    "print(1 not in [1,2,3,4]) #False\n",
    "\n",
    "print('p' in \"python\") # True\n",
    "\n",
    "pocket = ['paper','cellphone']\n",
    "if 'money' in pocket:\n",
    "    print(\"money가 있습니다.\")\n",
    "elif 'paper' in pocket:\n",
    "    print(\"paper가 있습니다\")\n",
    "else:\n",
    "    print(\"둘다 없습니다\")\n",
    "    \n",
    "# 직관적으로 쓰기\n",
    "score=80\n",
    "message = \"success\" if score>=60 else \"fail\"\n",
    "print(message)"
   ]
  },
  {
   "cell_type": "code",
   "execution_count": 48,
   "metadata": {},
   "outputs": [
    {
     "name": "stdout",
     "output_type": "stream",
     "text": [
      "1번 돌아가는 중입니다\n",
      "2번 돌아가는 중입니다\n",
      "3번 돌아가는 중입니다\n",
      "4번 돌아가는 중입니다\n",
      "5번 돌아가는 중입니다\n",
      "6번 돌아가는 중입니다\n",
      "7번 돌아가는 중입니다\n",
      "8번 돌아가는 중입니다\n",
      "9번 돌아가는 중입니다\n",
      "10번 돌아가는 중입니다\n"
     ]
    }
   ],
   "source": [
    "treeHit = 0\n",
    "while treeHit<10:\n",
    "    treeHit+=1\n",
    "    print(f\"{treeHit}번 돌아가는 중입니다\")\n",
    "    \n",
    "    "
   ]
  },
  {
   "cell_type": "code",
   "execution_count": 49,
   "metadata": {},
   "outputs": [
    {
     "name": "stdout",
     "output_type": "stream",
     "text": [
      "\n",
      "1. ADD\n",
      "2. DEL\n",
      "3. List\n",
      "4. Quit\n",
      "\n",
      "\n",
      "1. ADD\n",
      "2. DEL\n",
      "3. List\n",
      "4. Quit\n",
      "\n",
      "\n",
      "1. ADD\n",
      "2. DEL\n",
      "3. List\n",
      "4. Quit\n",
      "\n",
      "\n",
      "1. ADD\n",
      "2. DEL\n",
      "3. List\n",
      "4. Quit\n",
      "\n"
     ]
    }
   ],
   "source": [
    "prompt = '''\n",
    "1. ADD\n",
    "2. DEL\n",
    "3. List\n",
    "4. Quit\n",
    "'''\n",
    "number =0\n",
    "while number !=4:\n",
    "    print(prompt)\n",
    "    number=int(input())"
   ]
  },
  {
   "cell_type": "code",
   "execution_count": 54,
   "metadata": {},
   "outputs": [
    {
     "name": "stdout",
     "output_type": "stream",
     "text": [
      "1\n",
      "3\n",
      "5\n",
      "7\n",
      "9\n"
     ]
    }
   ],
   "source": [
    "a=0\n",
    "while a<10:\n",
    "    a+=1\n",
    "    if a%2 ==0:continue\n",
    "    print(a) # a를 2로 나누었을때 나머지가0이면 맨앞으로돌아간다"
   ]
  },
  {
   "cell_type": "code",
   "execution_count": 59,
   "metadata": {},
   "outputs": [
    {
     "name": "stdout",
     "output_type": "stream",
     "text": [
      "one\n",
      "two\n",
      "three\n",
      "1 2\n",
      "3 4\n",
      "5 6\n",
      "3번 학생은 합격이니다\n",
      "4번 학생은 합격이니다\n",
      "5번 학생은 합격이니다\n"
     ]
    }
   ],
   "source": [
    "# list를 이용한 for문\n",
    "text_list=['one','two','three']\n",
    "\n",
    "for i in text_list:\n",
    "    print(i)\n",
    "# 튜플을 이용한 for문\n",
    "a= [(1,2),(3,4),(5,6)]\n",
    "for (first,second) in a:\n",
    "    print(first,second)\n",
    "# continue\n",
    "marks = [10,20,30,40,50]\n",
    "number= 0\n",
    "for mark in marks:\n",
    "    number+=1\n",
    "    if mark<30:continue\n",
    "    print(f'{number}번 학생은 합격이니다')"
   ]
  },
  {
   "cell_type": "code",
   "execution_count": 65,
   "metadata": {},
   "outputs": [
    {
     "name": "stdout",
     "output_type": "stream",
     "text": [
      "range(0, 10)\n",
      "range(1, 10)\n",
      "55\n",
      "[3, 6, 9, 12, 15]\n",
      "[3, 6, 9, 12, 15]\n",
      "[3, 6]\n"
     ]
    }
   ],
   "source": [
    "# for문과 range\n",
    "a=range(10)\n",
    "print(a)\n",
    "\n",
    "a=range(1,10)\n",
    "print(a)\n",
    "\n",
    "add = 0\n",
    "for i in range(1,11):\n",
    "    add+=i\n",
    "\n",
    "print(add)\n",
    "\n",
    "# 리스트 내포하기\n",
    "a=[1,2,3,4,5]\n",
    "result = []\n",
    "for num in a:\n",
    "    result.append(num*3)\n",
    "    \n",
    "print(result)\n",
    "result = [num*3 for num in a]\n",
    "print(result)\n",
    "result = [num*3 for num in a  if num<3]\n",
    "print(result)"
   ]
  },
  {
   "cell_type": "code",
   "execution_count": 78,
   "metadata": {},
   "outputs": [
    {
     "name": "stdout",
     "output_type": "stream",
     "text": [
      "7\n",
      "6\n",
      "21\n",
      "{'name': 'foo', 'age': 3}\n",
      "(7, 12)\n",
      "7 12\n",
      "초깃값,설정\n",
      "남자\n"
     ]
    }
   ],
   "source": [
    "# 매개변수와 인수\n",
    "def add(a,b): # 매개변수\n",
    "    return a+b\n",
    "\n",
    "print(add(3,4)) # 인수\n",
    "\n",
    "# 입력값의 개수를 모를떄\n",
    "# *매개변수를 사용한다.\n",
    "def add_many(*args):\n",
    "    result = 0\n",
    "    for i in args:\n",
    "        result+=i\n",
    "    return result\n",
    "arg=[1,2,3,4,5,6,7]\n",
    "print(add_many(1,2,3))\n",
    "print(add_many(1,2,3,4,5,6))\n",
    "# *args 의경우 입력값을 모두 튜플로 바꿔준다.\n",
    "\n",
    "#**args 키워드 파라미터 사용하는 매개변수\n",
    "def print_kwargs(**kwargs):\n",
    "    print(kwargs)\n",
    "\n",
    "print_kwargs(name='foo',age=3)\n",
    "# 딕셔너리가 되고 key=value형태의 결과값이 그 딕셔너리에 저장된다.\n",
    "\n",
    "def add_mul(a,b):\n",
    "    return a+b,a*b\n",
    "\n",
    "print(add_mul(3,4)) # 튜플형식으로 결과를 준다.\n",
    "a1,a2 = add_mul(3,4)\n",
    "print(a1,a2)\n",
    "\n",
    "# 매개변수에 초깃값 설정하기\n",
    "def say_myself(name,old,man=True):\n",
    "    print(f\"{name},{old}\")\n",
    "    if man:\n",
    "        print(\"남자\")\n",
    "    else:\n",
    "        print(\"여자\")\n",
    "        \n",
    "say_myself(\"초기값\",\"설정\")\n",
    "\n"
   ]
  },
  {
   "cell_type": "code",
   "execution_count": 79,
   "metadata": {},
   "outputs": [],
   "source": [
    "# lambda 사용하기\n",
    "add = lambda a,b:a+b\n",
    "print(add(3,4))\n"
   ]
  },
  {
   "cell_type": "code",
   "execution_count": null,
   "metadata": {},
   "outputs": [],
   "source": []
  },
  {
   "cell_type": "code",
   "execution_count": 80,
   "metadata": {},
   "outputs": [
    {
     "name": "stdout",
     "output_type": "stream",
     "text": [
      "5\n",
      "[6, 5, 4, 3, 2, 1]\n"
     ]
    }
   ],
   "source": [
    "# 데이터 갯수입력\n",
    "n=int(input())\n",
    "\n",
    "print(n)\n",
    "# 각 데이터를 공백으로 구분하여 입력\n",
    "data = list(map(int,input().split()))\n",
    "data.sort(reverse=True)\n",
    "print(data)\n",
    "\n",
    "# 공백을 기준으로 적은 수 입력\n",
    "n,m,k = map(int,input().split())\n",
    "print(n,m,k)\n",
    "\n"
   ]
  },
  {
   "cell_type": "code",
   "execution_count": 87,
   "metadata": {},
   "outputs": [
    {
     "name": "stdout",
     "output_type": "stream",
     "text": [
      "\n"
     ]
    }
   ],
   "source": [
    "# 한줄 입력받기\n",
    "import sys\n",
    "# readline으로 입력하면 입력후 엔터가 줄바꿈 기호로 입력, 이 공백 문자를 제거하기위해 rstrip()사용\n",
    "data = sys.stdin.readline().rstrip()\n",
    "\n",
    "print(data)"
   ]
  },
  {
   "cell_type": "code",
   "execution_count": null,
   "metadata": {},
   "outputs": [],
   "source": []
  },
  {
   "cell_type": "code",
   "execution_count": null,
   "metadata": {},
   "outputs": [],
   "source": []
  },
  {
   "cell_type": "code",
   "execution_count": null,
   "metadata": {},
   "outputs": [],
   "source": []
  },
  {
   "cell_type": "code",
   "execution_count": null,
   "metadata": {},
   "outputs": [],
   "source": []
  }
 ],
 "metadata": {
  "interpreter": {
   "hash": "31f2aee4e71d21fbe5cf8b01ff0e069b9275f58929596ceb00d14d90e3e16cd6"
  },
  "kernelspec": {
   "display_name": "Python 3.8.9 64-bit",
   "language": "python",
   "name": "python3"
  },
  "language_info": {
   "codemirror_mode": {
    "name": "ipython",
    "version": 3
   },
   "file_extension": ".py",
   "mimetype": "text/x-python",
   "name": "python",
   "nbconvert_exporter": "python",
   "pygments_lexer": "ipython3",
   "version": "3.8.9"
  },
  "orig_nbformat": 4
 },
 "nbformat": 4,
 "nbformat_minor": 2
}
