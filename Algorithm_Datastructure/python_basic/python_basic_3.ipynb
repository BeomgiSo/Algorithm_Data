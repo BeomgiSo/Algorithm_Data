{
 "cells": [
  {
   "cell_type": "markdown",
   "metadata": {},
   "source": [
    "- 다양한 입력"
   ]
  },
  {
   "cell_type": "code",
   "execution_count": null,
   "metadata": {},
   "outputs": [],
   "source": [
    "# 1 2 입력값 받기\n",
    "a,b = map(int, input().split())"
   ]
  },
  {
   "cell_type": "code",
   "execution_count": null,
   "metadata": {},
   "outputs": [],
   "source": [
    "# 입력 출력 가속\n",
    "import sys \n",
    "read = sys.stdin.readline\n",
    "print = sys.stdout.write"
   ]
  },
  {
   "cell_type": "code",
   "execution_count": null,
   "metadata": {},
   "outputs": [],
   "source": [
    "# 배열입력\n",
    "\n",
    "# 3\n",
    "# 1 2 3\n",
    "# 4 5 6\n",
    "# 7 8 9\n",
    "\n",
    "for i in range(int(input())):\n",
    "    inputStr = input()\n",
    "    arr = list(inputStr)\n",
    "    MAP.append(arr)\n",
    "    \n",
    "MAP = [list(map(int,input().split()) for_in range((int(input()))))]\n",
    "\n",
    "# 정수와 배열이 같은 줄에 들어오는 경우\n",
    "# 4 10 20 30 40\n",
    "# 3 7 5 12\n",
    "# 3 125 15 25\n",
    "# 변수앞에 * arr을 붙이면 뒤이어 나오는 값이 arr 배열로 저장된다.\n",
    "N,*arr = map(int,input().split())\n",
    "\n"
   ]
  },
  {
   "cell_type": "code",
   "execution_count": null,
   "metadata": {},
   "outputs": [],
   "source": [
    "# 문자열을 한 글자씩 배열에 저장\n",
    "# 3\n",
    "# AAAA\n",
    "# ABCA\n",
    "# AAAA\n",
    "\n",
    "arr = [input() for _ in range(N)] # 잘못된 코드\n",
    "# arr = ['AAAA','ABCA','AAAA']\n",
    "arr = [list(input()) for _ in rnage(N)]\n",
    "print(arr)"
   ]
  },
  {
   "cell_type": "code",
   "execution_count": null,
   "metadata": {},
   "outputs": [],
   "source": [
    "# 배열에서 연결해서 출력하기\n",
    "arr = [1,2,3,4]\n",
    "# 1 2 3 4\n",
    "print(*arr)"
   ]
  },
  {
   "cell_type": "code",
   "execution_count": null,
   "metadata": {},
   "outputs": [],
   "source": [
    "# 정수 최대값 설정하기\n",
    "import sys\n",
    "ans = sys.maxsize\n",
    "\n",
    "# 진법 변환 10진수 -> 2,8,16\n",
    "print(bin(42))\n",
    "print(oct(42))\n",
    "print(hex(42))\n",
    "\n",
    "# 2,8,16 -> 10진수 변환\n",
    "print(int('0b111100', 2))\n",
    "print(int('0o74', 8))\n",
    "print(int('0x3c', 16))\n",
    "\n",
    "# 3\n",
    "# 1001101 10010\n",
    "# 1001001 11001\n",
    "# 1000111 1010110\n",
    "for _ in range(int(input())):  \n",
    "    A, B = map(int, input().split())  \n",
    "    print(bin(A)+bin(B))"
   ]
  },
  {
   "cell_type": "code",
   "execution_count": null,
   "metadata": {},
   "outputs": [],
   "source": [
    "# 문자열\n",
    "_string = 'abcd'\n",
    "print(_string[::-1])\n",
    "ord() # 문자를 아스키코드로 변환하는 함수 \n",
    "chr() # 아스키코드를 문자로 변환하는 함수"
   ]
  },
  {
   "cell_type": "code",
   "execution_count": null,
   "metadata": {},
   "outputs": [],
   "source": [
    "# 배열\n",
    "# 4-1 배열의 초기화\n",
    "\n",
    "N, M = map(int, input().split())\n",
    "arr = [[0] * N for _ in range(M)]\n",
    "\n",
    "# 배열의 원소를 거꾸로\n",
    "arr.reverse()\n",
    "# 반환값이 없다.\n",
    "A = int(input())  \n",
    "B = int(input())\n",
    "arr_B = [int(i) for i in str(B)]  \n",
    "arr_B.reverse()  \n",
    " \n",
    "for i in range(len(arr_B)):  \n",
    "    print(A * arr_B[i])  \n",
    "print(A * B)\n",
    "\n",
    "# B의 값을 문자열로 변환한 다음 앞에서 한글자씩 배열에 넣는 코드\n",
    "arr = list(map(int, list(String)))  \n",
    "arr = [int(i) for i in String]"
   ]
  },
  {
   "cell_type": "code",
   "execution_count": null,
   "metadata": {},
   "outputs": [],
   "source": [
    "# 1. 순열 조합\n",
    "\n",
    "# nC2\n",
    "# for i in range(0, N-1): \n",
    "#     for j in range(i+1, N): \n",
    "#         print(i, j)\n",
    "\n",
    "from itertools import combinations  \n",
    "print(list(combinations([1, 2, 3, 4], 3)))\n",
    "list(combinations([0, 1, 2, 3], 2))\n",
    "\n",
    "# - 1부터 N까지 자연수 중에서 중복 없이 M개를 고른 수열\n",
    "# - 고른 수열은 오름차순이어야 한다.\n",
    "\n",
    "from itertools import combinations  \n",
    " \n",
    "N, M = map(int, input().split())  \n",
    "arr = [str(i+1) for i in range(N)]  \n",
    " \n",
    "for e in list(combinations(arr, M)):  \n",
    "    print(\" \".join(e))\n",
    "    \n",
    "# - 1부터 N까지 자연수 중에서 중복 없이 M개를 고른 수열\n",
    "\n",
    "from itertools import permutations  \n",
    " \n",
    "N, M = map(int, input().split())  \n",
    "arr = [str(i+1) for i in range(N)]  \n",
    " \n",
    "for e in list(permutations(arr, M)):  \n",
    "    print(\" \".join(e))"
   ]
  },
  {
   "cell_type": "code",
   "execution_count": null,
   "metadata": {},
   "outputs": [],
   "source": [
    "# 2 빈도계산\n",
    "from collections import Counter  \n",
    " \n",
    "arr = [int(input()) for _ in range(10)]  \n",
    "val = Counter(arr).most_common()  \n",
    "print(sum(arr) // 10)  \n",
    "print(val[0][0])"
   ]
  },
  {
   "cell_type": "code",
   "execution_count": null,
   "metadata": {},
   "outputs": [],
   "source": [
    "# 힙\n",
    "# 3.1 최소힙, 최대힙\n",
    "import heapq\n",
    " \n",
    "heap = []  \n",
    "heapq.heappush(heap, 3)  \n",
    "heapq.heappush(heap, 1)  \n",
    "heapq.heappush(heap, 10)  \n",
    "heapq.heappush(heap, 5)  \n",
    "heapq.heappush(heap, 8)\n",
    "\n",
    "print(len(heap))\n",
    "\n",
    "heapq.heappop(heap)\n",
    "\n",
    "import sys, heapq  \n",
    "heap = []  \n",
    " \n",
    "for i in range(int(sys.stdin.readline())):  \n",
    "    N = int(sys.stdin.readline()) * -1  \n",
    "  if N == 0:  \n",
    "        if len(heap) == 0:  \n",
    "            print(0)  \n",
    "        else:  \n",
    "            print(heapq.heappop(heap) * -1)  \n",
    "    else:  \n",
    "        heapq.heappush(heap, N)\n",
    "\n",
    "# [1, 3, 10, 5, 8]"
   ]
  },
  {
   "cell_type": "code",
   "execution_count": null,
   "metadata": {},
   "outputs": [],
   "source": [
    "from collections import deque \n",
    "deq = deque() # 덱 초기화 \n",
    "\n",
    "deq = deque([i for i in range(1, 5)]) \n",
    "deq.appendleft(10) # 왼쪽에 값을 추가\n",
    "deq.append(-10) # 오른쪽에 값을 추가\n",
    "print(deq.pop())  # 오른쪽 값제거\n",
    "print(deq.popleft()) # 덱 길이 \n",
    "len(deq) \n",
    "print(deq) \n",
    "deq.rotate(-1) # 음수면 왼쪽으로 회전\n",
    "\n",
    "from collections import deque  \n",
    " \n",
    "N = int(input())  \n",
    "card_deque = deque([i for i in range(1, N + 1)])  \n",
    "while len(card_deque) != 1:  \n",
    "    card_deque.popleft()  \n",
    "    card_deque.rotate(-1)  \n",
    " \n",
    "print(card_deque[0])"
   ]
  },
  {
   "cell_type": "code",
   "execution_count": 1,
   "metadata": {},
   "outputs": [],
   "source": [
    "import sys\n",
    "# 숫자 하나 입력하기\n",
    "read = sys.stdin.readline\n",
    "a= read()\n",
    "print(a)\n",
    "\n",
    "# 정해진 개수의 정수를 한줄에 입력받기\n",
    "a,b,c = map(int,read().split())\n",
    "print(\"a =\",a,\"b=\" ,b, \"c =\",c)\n",
    "\n",
    "# 임의의 개수의 정수를 한줄로 입력받아 리스트를 출력하기\n",
    "data = list(map(int,read().split()))\n",
    "print(data)\n",
    "\n",
    "# 임의의 개수 정수를 n줄 입략받아 2차원 리스트에 저장할 떄\n",
    "data = []\n",
    "n = int(read())\n",
    "for i in range(n):\n",
    "    data.append(list(map(int,read().split())))\n",
    "\n",
    "import sys\n",
    "# 숫자 하나 입력하기\n",
    "read = sys.stdin.readline\n",
    "\n",
    "# 문자열 n줄을 입력받아 리스트에 저장할 떄\n",
    "n = int(read())\n",
    "data = [read().strip() for i in range(n)]\n",
    "\n",
    "print(data)\n",
    "\n",
    "\n",
    "import sys\n",
    "read = sys.stdin.readline\n",
    "\n",
    "# 문자열 n줄을 입력받아 리스트에 저장할 떄\n",
    "n = int(read())\n",
    "for i in range(n):\n",
    "    a,b = map(int, read().split())\n",
    "    print(a+b)\n"
   ]
  }
 ],
 "metadata": {
  "interpreter": {
   "hash": "ee431ac274e33366c10c3ac30cd4fb33ff3ed0dd6a8cc3f05073bd47291a9c12"
  },
  "kernelspec": {
   "display_name": "Python 3.8.12",
   "language": "python",
   "name": "python3"
  },
  "language_info": {
   "codemirror_mode": {
    "name": "ipython",
    "version": 3
   },
   "file_extension": ".py",
   "mimetype": "text/x-python",
   "name": "python",
   "nbconvert_exporter": "python",
   "pygments_lexer": "ipython3",
   "version": "3.8.12"
  },
  "orig_nbformat": 4
 },
 "nbformat": 4,
 "nbformat_minor": 2
}
