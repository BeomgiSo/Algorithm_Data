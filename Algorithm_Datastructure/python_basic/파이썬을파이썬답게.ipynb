{
 "cells": [
  {
   "cell_type": "markdown",
   "metadata": {},
   "source": [
    "- 문제\n",
    "\n",
    "\n",
    "숫자 a, b가 주어졌을 때 a를 b로 나눈 몫과 a를 b로 나눈 나머지를 공백으로 구분해 출력해보세요."
   ]
  },
  {
   "cell_type": "code",
   "execution_count": null,
   "metadata": {},
   "outputs": [],
   "source": [
    "a, b = map(int, input().strip().split(' '))\n",
    "\n",
    "print(a//b,a%b)\n",
    "\n"
   ]
  },
  {
   "cell_type": "code",
   "execution_count": 1,
   "metadata": {},
   "outputs": [
    {
     "name": "stdout",
     "output_type": "stream",
     "text": [
      "1 2\n"
     ]
    }
   ],
   "source": [
    "a = 7\n",
    "b = 5\n",
    "print(*divmod(a, b))"
   ]
  },
  {
   "cell_type": "markdown",
   "metadata": {},
   "source": [
    "- 무조건 divmod를 사용하는 게 좋은 방법은 아닙니다.\n",
    "- 가독성이나, 팀의 코드 스타일에 따라서, a//b, a%b와 같이 쓸 때가 더 좋을 수도 있습니다.\n",
    "- 또한, divmod는 작은 숫자를 다룰 때는 a//b, a%b 보다 느립니다. 대신, 큰 숫자를 다룰 때는 전자가 후자보다 더 빠르지요."
   ]
  },
  {
   "cell_type": "markdown",
   "metadata": {},
   "source": [
    "- 문제 설명\n",
    "    - base 진법으로 표기된 숫자를 10진법 숫자 출력해보세요.\n",
    "\n",
    "- 입력 설명\n",
    "    입력으로는 공백으로 구분된 숫자가 두 개 주어집니다.\n",
    "    첫 번째 숫자는 num을 나타내며, 두 번째 숫자는 base를 나타냅니다.\n",
    "\n",
    "- 출력 설명\n",
    "    base 진법으로 표기된 num을 10진법 숫자로 출력해보세요.\n",
    "\n",
    "- 제한 조건\n",
    "    base는 10 이하인 자연수입니다.\n",
    "    num은 3000 이하인 자연수입니다."
   ]
  },
  {
   "cell_type": "code",
   "execution_count": 6,
   "metadata": {},
   "outputs": [
    {
     "name": "stdout",
     "output_type": "stream",
     "text": [
      "5\n"
     ]
    }
   ],
   "source": [
    "num, base = map(int, input().strip().split(' '))\n",
    "num = str(num)\n",
    "num = list(map(int,num))\n",
    "n = len(num)\n",
    "reseult = 0\n",
    "for i in range(n):\n",
    "    reseult += num[i] * base ** (n-i-1)\n",
    "\n",
    "\n",
    "print(reseult)"
   ]
  },
  {
   "cell_type": "code",
   "execution_count": null,
   "metadata": {},
   "outputs": [],
   "source": [
    "# 일반적으로\n",
    "num = '3212'\n",
    "base = 5\n",
    "\n",
    "answer = 0\n",
    "for idx, number in enumerate(num[::-1]):\n",
    "    answer += int(number) * (base ** idx)\n",
    "\n",
    "# 파이썬 에서는\n",
    "num = '3212'\n",
    "base = 5\n",
    "answer = int(num, base)"
   ]
  },
  {
   "cell_type": "markdown",
   "metadata": {},
   "source": [
    "파이썬의 int(x, base=10) 함수는 진법 변환을 지원합니다.\n",
    "이 기본적인 함수를 잘 쓰면 코드를 짧게 쓸 수 있고, 또 시간을 절약할 수 있습니다."
   ]
  }
 ],
 "metadata": {
  "interpreter": {
   "hash": "31f2aee4e71d21fbe5cf8b01ff0e069b9275f58929596ceb00d14d90e3e16cd6"
  },
  "kernelspec": {
   "display_name": "Python 3.8.9 64-bit",
   "language": "python",
   "name": "python3"
  },
  "language_info": {
   "codemirror_mode": {
    "name": "ipython",
    "version": 3
   },
   "file_extension": ".py",
   "mimetype": "text/x-python",
   "name": "python",
   "nbconvert_exporter": "python",
   "pygments_lexer": "ipython3",
   "version": "3.8.9"
  },
  "orig_nbformat": 4
 },
 "nbformat": 4,
 "nbformat_minor": 2
}
