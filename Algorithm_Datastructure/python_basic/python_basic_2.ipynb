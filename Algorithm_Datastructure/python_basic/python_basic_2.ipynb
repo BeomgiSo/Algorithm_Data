{
 "cells": [
  {
   "cell_type": "markdown",
   "metadata": {},
   "source": [
    "# 이것이 코딩테스트다 코딩테스트를 위한 파이썬 문법\n",
    "# 엘리스 python의 추가 문법\n",
    "\n",
    "- 쉬운건 넘어가고 필요한 부분만 정리하기\n",
    "## 1.1 리스트\n",
    "- 리스트 관련 메서드\n",
    "\n",
    "|메서드 명|사용법|설명|시간복잡도|\n",
    "|---|---|---|---|\n",
    "|len()|len(a)|전체요소의 개수를 리턴한다|O(1)|\n",
    "|a[i]|a[i]|인덱스 i를 리턴한다|O(1)|\n",
    "|a[i:j]|a[k]|i부터j까지 스라이스의 길이만큼인 요소K개의 요소를 가져온다|O(K)|\n",
    "|a.pop|a.pop()|리스트 마지막 요소를 추출한다. 스택의 연산이다|O(1)|\n",
    "|a.pop|a.pop(0)|첫번쨰 요소를 추출한다. 큐의 연산이다. 이 경우 전체 복사가 필요하므로 O(n)이다. 나중에 다시 살펴보겠지만 큐의 연산을 주로 사용한다면 리스트도바는 O(1)에 가능한 데크(deque)를 권장한다.|O(n)|\n",
    "|del a[i]| i번째 원소를 제거한다|O(n)|\n",
    "|append()|A.append()|리스트에 원소를 하나 삽입할 떄 사용한다.|O(1)|\n",
    "|sort()|A.sort()|기본정렬 기능으로 오름차순으로 정렬한다|O(NlogN)|\n",
    "|sort()|A.sort(reverse = True)|기본정렬 기능으로 내림차순으로 정렬한다|O(NlogN)|\n",
    "|reverse()|A.reverse()|뒤집는다. 리스트는 입력 순서가 유지되므로 뒤집게 되면 입련순서가 반대로 된다.|O(N)|\n",
    "|insert|A.insert(삽입할 위치, 삽입할 값)|특정한 인덱스 위치에 데이터를 삽입할 떄 사용한다|O(N)|\n",
    "|count()|A.count(특정값)|리스트에서 특정한 값을 가지는 데이터의 개수를 샐 떄 사용한다|O(N)|\n",
    "|remove()|A.remove(특정값)|특정한 값을 갖는 원소를 제거하는데 사용한다. 갑슬 가진 원소가 여러개 면 하나만 제거한다.|O(N)|\n",
    "\n",
    "- insert 와 append는 같은 추가 기능이지만 시간 복잡도 에서 차이가 있다.\n",
    "- remove함수 : 중간에 데이터를 찾아 삭제하고 원소위치를 조정하기 떄문에 O(N)\n",
    "- 리스트 요소변경\n",
    "    - 인덱스로 삭제하기\n",
    "    - 값으로 삭제하기"
   ]
  },
  {
   "cell_type": "code",
   "execution_count": 2,
   "metadata": {},
   "outputs": [
    {
     "name": "stdout",
     "output_type": "stream",
     "text": [
      "[0, 0, 0, 0, 0, 0, 0, 0, 0, 0]\n",
      "[[0, 0, 0, 0, 0], [0, 0, 0, 0, 0], [0, 0, 0, 0, 0], [0, 0, 0, 0, 0]]\n",
      "[[0, 0, 0, 0], [0, 0, 0, 0], [0, 0, 0, 0]]\n",
      "[[0, 5, 0, 0], [0, 5, 0, 0], [0, 5, 0, 0]]\n",
      "[3, 4, 5, 6, 7, 3, 4]\n"
     ]
    }
   ],
   "source": [
    "# list선언하기\n",
    "a = []\n",
    "b = list()\n",
    "# 크기가 N인 리스트 초기화\n",
    "n = 10\n",
    "a = [0]*n\n",
    "print(a)\n",
    "\n",
    "# 리스트 컴프리핸션\n",
    "# 리시트의 초기화 방법중 하나 : 대괄호 안에 조건문과 반복문을 넣는 방식으로 리스트르 ㄹ초기화 할 수 있다.\n",
    "array1 = [i for i in range(20) if 1 % 2 == 1]\n",
    "array2 = [i*i for i in range(1,9)]\n",
    "\n",
    "# 2차원 배열 초기화\n",
    "# N by M matircs 초기화\n",
    "n=4\n",
    "m=5\n",
    "array3 = [[0]*m for _ in range(n)]\n",
    "print(array3)\n",
    "\n",
    "# _ 의 역활 : 파이썬 자료구조/알고리즘에서 반복을 수행하되 반복을위한 변수의 값을 무시하고자 할때 언더바를 자주사용한다.\n",
    "# 특정크기의 2차원 리스트를 초기화 할때는 반드시 리스트 컴프리핸션을 사용해야한다. 만역 n바이m 크기의 2차원 리스트를 초기화 한다면 의도하지않은 결과를 얻을 수 있다.\n",
    "\n",
    "# 잘못된 예시\n",
    "n=3\n",
    "m=4\n",
    "array_worng = [[0]*m]*n\n",
    "print(array_worng)\n",
    "array_worng[1][1]=5\n",
    "print(array_worng)\n",
    "\n",
    "# 특정원소 모든 값 제거하기\n",
    "a = [1,2,3,4,5,6,7,1,2,3,4]\n",
    "remove_set = {1,2}\n",
    "\n",
    "result  = [i for i in a if i not in remove_set]\n",
    "print(result)\n"
   ]
  },
  {
   "cell_type": "markdown",
   "metadata": {},
   "source": [
    "## 1.1.2 딕셔너리\n",
    "- 파이썬의 딕셔너리는 키/값 구조로 이뤄진 딕셔너리이다.\n",
    "- 내부적으로 hash table로 구현되어 있다.\n",
    "|연산|시간복잡도|설명|\n",
    "|---|---|---|\n",
    "|len(a)|o(1)|요소의 개수를 리턴한다.|\n",
    "|a[key]|o(1)|키를 조회하여 값을 리턴한다.|\n",
    "|a[key]=value|o(1)|키/값을 삽입한다.|\n",
    "|key in a|o(1)|딕셔너리에 키가 존재하는지 확인한다.|\n",
    "\n"
   ]
  },
  {
   "cell_type": "markdown",
   "metadata": {},
   "source": [
    "## 1.2 문자열 자료형과 튜플 자료형\n",
    "- 파이썬의 튜플 자료형의 특징\n",
    "    - 튜플은 한 번 선언된 값을 변경할 수 없다.\n",
    "    - 리스트는 대괄호를 사용하지만 튜플은 소괄호를 사용한다.\n",
    "    - 대입이 불가능하다.\n",
    "\n",
    "- 튜플은 그래프 알고리즘을 구현할 때 자주 사용된다. 예를 들어 다익스트라 최단경로 알고리즘처럼 최단 경로를 찾아주는 알고리즘의 내부에소는 우선순위 큐를 이용하는데 해당 알고리즘에서 우선순위 큐에 한번 들어간 값이 변경되지 않는다.\n",
    "- 우선순위 큐에 들어가는 데이터를 튜플로 구성하여 소스코드를 작성한다.\n",
    "- 튜플은 리스트에 비해 상대적으로 공간이 효율적이고 일반적으로 각 원소의 성질을 서로 다를 때 주로 사용한다. 흔히 다익스트라 최단경로 알고리즘에서는 비용과 노드번호라는 서러다른 성질의 데이터를 (비용,노드번호)의 형태로 묶어서 관리하는것이 관례이다\n"
   ]
  },
  {
   "cell_type": "code",
   "execution_count": 3,
   "metadata": {},
   "outputs": [
    {
     "name": "stdout",
     "output_type": "stream",
     "text": [
      "hello python\n"
     ]
    }
   ],
   "source": [
    "a=''\n",
    "# 문자열의 연산\n",
    "a=\"hello\"\n",
    "b=\"python\"\n",
    "print(a+\" \"+b)\n",
    "print(a*3)\n",
    "\n",
    "# 파이썬 문자열은 내부적으로 리스트와 같이 처리된다.\n",
    "print(a[2:3])\n"
   ]
  },
  {
   "cell_type": "code",
   "execution_count": null,
   "metadata": {},
   "outputs": [],
   "source": [
    "# 펜드럼 유뮤\n",
    "def isPalindrome(self,s:str)->bool:\n",
    "    strs = []\n",
    "    for char in s:\n",
    "        if char.islnum(): # 문자열이 영어, 한글 혹은 숫자로 되어있으면 참 리턴, 아니면 거짓 리턴.\n",
    "            strs.append(char.lower())\n",
    "    \n",
    "    while len(strs)>1:\n",
    "        if strs.pop(0) != strs.pop():\n",
    "            return False\n",
    "\n",
    "    return True\n",
    "\n",
    "def isPalidrom2(self,s:str)->bool:\n",
    "    strs: Deque = collections.deque()\n",
    "\n",
    "    for char in s:\n",
    "        if char.isalnum():\n",
    "            strs.append(char.lower())\n",
    "\n",
    "    while len(strs)>1:\n",
    "        if strs.popleft() !=strs.pop()\n",
    "            return false\n",
    "\n",
    "# two point 스왑\n",
    "def reverString(self, s:List[str]) -> None:\n",
    "    left, right = 0 , len(s)-1\n",
    "    while left<right:\n",
    "        s[left],s[right] = s[right],s[left]\n",
    "        left +=1\n",
    "        right -=1"
   ]
  },
  {
   "cell_type": "markdown",
   "metadata": {},
   "source": [
    "# 2. 입출력\n",
    "\n",
    "- 입력예시\n",
    "```\n",
    "5\n",
    "70 79 40 30 20 10\n",
    "```\n",
    "- 파이썬에서 데이터를 입력받을때는 input을 사용한다.\n",
    "- int를 통해 숫자로 바꿔준다.\n",
    "- 여러개의 데이터를 받을때 공백으로 받는 경우가 있다\n",
    "- list(map(int, input().split())) 을 이용한다.\n",
    "    - input으로 입력을 받은다음 split을 이요해 공백을 나눈 리스트로 바꾼뒤에 map을 이요하여 할당 리스트의 모든 원소에 int() 함수를 적용한다.\n",
    "\n",
    "- sys.stdin.readline().rstrip()\n",
    "    - sys 라이브러리를 사용할 떄는 한줄 입력을 받고 나서 rstrip() 함수를 꼭 호출해야 한다.\n",
    "    - stdin : standard input\n",
    "    - readline()으로 입력후 엔터가 줄바꿈 기호로 입력되는데, 이 공백 문자를 제거하려면 rstrip()함수를 사용해야한다.\n",
    "\n",
    "    "
   ]
  },
  {
   "cell_type": "code",
   "execution_count": null,
   "metadata": {},
   "outputs": [],
   "source": [
    "# 데이터 입력갯수\n",
    "n=int(input())\n",
    "# 각 데이터를 공백으로 구분하여 입력\n",
    "data =  list(map(int,input().split()))\n",
    "# 공백을 기준으로 구분하여 적은 수의 데이터 입력\n",
    "n,m,k =  map(int,input().split())\n",
    "# sys를 통해 데이터 입력받기\n",
    "import sys\n",
    "data2 = sys.stdin.readline().rstrip()\n",
    "print(data2)"
   ]
  },
  {
   "cell_type": "markdown",
   "metadata": {},
   "source": [
    "# 1.3 주요 라이브러리의 문법과 유의점\n",
    "- 표준라이브러리란 ? `특정한 프로그래밍 언어에서 자주 사용되는 표준 소스코드를 미리 구현해 놓은 라이브러리를 의미`\n",
    "- 그러나 파이썬의 일부 라이브러리를 잘못 사용하면 수행 시간이 비효율적으로 증가하므로 이 절에서 설명하는 내용을 잘 기억해야한다.\n",
    "- 핵심 6가지 기본 라이브러리\n",
    "    - 1. 내장함수 : input, print, sorted() 와같은 정렬기능을 포함하고 있는 기본 내장 라이브러리\n",
    "    - 2. itertools : 파이썬에서 반복되는 형태의 데이터를 처리하는 기능을 제공하는 라이브러리이다. 순열과 조합 라이브러리를 제공한다.\n",
    "    - 3. heapq: 힙(Heap)의 기능을 제공하는 라이브러리이다. 우선순위 큐 기능을 구현하기 위해 사용된다.\n",
    "    - 4. bisec : 이진 탐색기능을 제공하는 라이브러리이다.\n",
    "    - 5. collections : 덱(deque), 카운터(Counter)등의 유요한 자료구조를 포함하고 있는 라이브러리 이다.\n",
    "    - 6. math 필수적인 수학 기능을 제공하는 라이브러리이다. 펙토리얼, 제곱근, GCD, 삼각함수관련 상수를 포함하고 있다.\n",
    "\n",
    "> 내장함수\n",
    "- sum() 함수는 리스트와 같은 iterable 객체*가 입력으로 주어졌을때 모든원소의 합을 반환한다.\n",
    "- min() 가장작은 원소\n",
    "- max() 가장큰 원소\n",
    "- eval() 수학 수식이 문자열 형식으로 들어오면 해당 수식을 계산한 결과를 반환한다.\n",
    "- sorted() 함수는 iterable한 객체가 들어 왓을때 정렬된 결과를 반환한다. key속성으로 정력 기준을 명시할 수 있으며 reverse속성으로 정력된 결과의 리스트를 뒤집을 수 있다.\n"
   ]
  },
  {
   "cell_type": "code",
   "execution_count": 6,
   "metadata": {},
   "outputs": [
    {
     "name": "stdout",
     "output_type": "stream",
     "text": [
      "15\n",
      "1\n",
      "1\n",
      "[1, 1, 2, 3, 4, 4, 4, 5, 6, 6, 7]\n",
      "[7, 6, 6, 5, 4, 4, 4, 3, 2, 1, 1]\n",
      "[('아무개', 50), ('차돌밖이', 20), ('홍길동', 45)]\n"
     ]
    }
   ],
   "source": [
    "result = sum([1,2,3,4,5])\n",
    "print(result)\n",
    "\n",
    "result = min([1,2,3,4,5])\n",
    "print(result)\n",
    "\n",
    "reuslt = eval(\"(3+4)*7\")\n",
    "print(result)\n",
    "\n",
    "result = sorted([1,4,6,7,6,4,2,4,5,3,1])\n",
    "print(result)\n",
    "\n",
    "result = sorted([1,4,6,7,6,4,2,4,5,3,1], reverse=True)\n",
    "print(result)\n",
    "\n",
    "result = sorted([(\"홍길동\",45),(\"아무개\",50),(\"차돌밖이\",20)])\n",
    "print(result)\n",
    "\n"
   ]
  },
  {
   "cell_type": "markdown",
   "metadata": {},
   "source": [
    "> itertools\n",
    "- 파이썬의 반복되는 데이터를 처리하는 기능을 포함하고 있는 라이브러리이다.\n",
    "- 제공되는 클래스는 매우 다양하지만, 코딩테스트에서 유용하게 사용하는 permutations, combinations이다"
   ]
  },
  {
   "cell_type": "code",
   "execution_count": 7,
   "metadata": {},
   "outputs": [],
   "source": [
    "from itertools import permutations,combinations,product, combinations_with_replacement\n",
    "\n",
    "data=['A','B','C']\n",
    "result = list(permutations(data,3))\n",
    "print(result)\n",
    "\n",
    "result = list(combinations(data,2))\n",
    "print(result)\n",
    "\n",
    "# 중복을 포함한경우\n",
    "result = list(product(data,repeat=2)) # 2개를 뽑는 모든 순열 구하기(중복 허용)\n",
    "print(result)\n",
    "\n",
    "# 중복 조합\n",
    "result = list(combinations_with_replacement(data,2))\n",
    "print(result)\n"
   ]
  },
  {
   "cell_type": "markdown",
   "metadata": {},
   "source": [
    "# 엘리스 기본 정리\n",
    "> math , random\n",
    "- random.random : 난수생성\n",
    "- random.randrange(1,7) : 1에서 6까지의 정수중 하나를 무작위로 뽑음\n",
    "- random.suffle(lst) : lst내의 원소들의 순서를 무작위로 섞음\n",
    "- random.choice(lst) : lst내의 원소들중 하나를 무작위로 뽑음"
   ]
  },
  {
   "cell_type": "code",
   "execution_count": 9,
   "metadata": {},
   "outputs": [
    {
     "name": "stdout",
     "output_type": "stream",
     "text": [
      "3.141592653589793\n",
      "1.0986122886681098\n",
      "2.302585092994046\n",
      "120\n",
      "3\n",
      "4\n",
      "10\n",
      "None\n",
      "6\n"
     ]
    }
   ],
   "source": [
    "import math\n",
    "print(math.pi)\n",
    "print(math.log(3))\n",
    "print(math.log(10))\n",
    "print(math.factorial(5))\n",
    "print(math.floor(3.63))\n",
    "print(math.ceil(3.14))\n",
    "\n",
    "import random\n",
    "lst = [1,2,3,4,5,6,7]\n",
    "print(random.randrange(1,11))\n",
    "print(random.shuffle(lst))\n",
    "print(random.choice(lst))"
   ]
  },
  {
   "cell_type": "markdown",
   "metadata": {},
   "source": [
    "> iterator, iterable\n",
    "- itertor는 순서대로 다음값을 리턴해주는 객체이다\n",
    "- 리스트에 iter()함수를 사용하면 iterator을 생성할 수 있다.\n",
    "- 그리고 next()를 이용하여 원소를 하나씩 꺼낼 수 있다.\n",
    "- unpacking(for 문, * operator)으로도 꺼낼수 있다.즉, 반복문을 이용하여 한번에 꺼낼 수 있다.\n",
    "\n",
    "> iterable\n",
    "- iterable 객체 - 반복 가능한 객체\n",
    "- Type이란 개념으로 받아들이자\n",
    "- list,dict,set,bytes,tuple,range\n",
    "\n",
    "- How to check iterable\n",
    "1. for i in iterable\n",
    "2. * 연산자 사용\n",
    "3. Iterable 이용\n",
    "\n",
    "> unpacking\n",
    "- iterator는 언패킹이 가능합니다. 즉, iterator의 값을 여러 변수에 나눠서 저장할 수가 있습니다.\n",
    "\n"
   ]
  },
  {
   "cell_type": "code",
   "execution_count": 18,
   "metadata": {},
   "outputs": [
    {
     "name": "stdout",
     "output_type": "stream",
     "text": [
      "e\n",
      "e\n",
      "l\n",
      "i\n",
      "c\n",
      "e\n",
      "e l i c e\n",
      "<class 'list_iterator'>\n",
      "1 a\n",
      "2 b\n",
      "3 c\n",
      "1 a\n",
      "2 b\n",
      "3 c\n",
      "1 a\n",
      "2 b\n",
      "3 c\n",
      "1 2 3\n",
      "1\n",
      "2\n"
     ]
    }
   ],
   "source": [
    "lst = ['e', 'l', 'i', 'c', 'e']\n",
    "\n",
    "# iter로 선언한다.\n",
    "lst_iter = iter(lst)\n",
    "\n",
    "print(next(lst_iter)) # iterate로 뽑아내기\n",
    "\n",
    "# 전부 다 꺼내면 iterator가 끝났다고 생각할 수 있다.\n",
    "\n",
    "# iterable 확인방법\n",
    "\n",
    "# 1. for 사용\n",
    "\n",
    "# a=1\n",
    "# for i in a:\n",
    "#     print(i)\n",
    "for i in lst:\n",
    "    print(i)\n",
    "\n",
    "# 2. *별을 확인 할 수 있다.\n",
    "print(*lst)\n",
    "\n",
    "# 3. isinstance\n",
    "from typing import Iterable\n",
    "isinstance(lst, Iterable)\n",
    "\n",
    "print(type(lst_iter)) # <class 'list_iterator'>\n",
    "\n",
    "# lst_iter2 = lst.__iter__()\n",
    "# print(type(lst_iter2)) # <class 'list_iterator'>\n",
    "\n",
    "# for i in lst_iter:\n",
    "#     print(i)\n",
    "\n",
    "# for i in lst_iter2:\n",
    "#     print(i)\n",
    "\n",
    "sample_dict = { 1: 'a', 2: 'b', 3: 'c' }\n",
    "\n",
    "# 반복문을 이용해 딕셔너리의 key와 value를 한 줄씩 출력하세요.\n",
    "#print(*sample_dict)\n",
    "for i in sample_dict:\n",
    "    print(i,sample_dict[i])\n",
    "    \n",
    "# items를 쓰면 tuple형태로 받아온다.\n",
    "for i in sample_dict.items():\n",
    "    print(i[0],i[1])\n",
    "\n",
    "for key,values in sample_dict.items():\n",
    "    print(key,values)\n",
    "    \n",
    "# unpacking\n",
    "lst=[1,2,3]\n",
    "a,b,c, = lst\n",
    "print(a,b,c)\n",
    "\n",
    "# generator\n",
    "def sample_genreator():\n",
    "    yield 1\n",
    "    yield 2\n",
    "    \n",
    "sample = sample_genreator()\n",
    "\n",
    "print(next(sample))\n",
    "print(next(sample))\n"
   ]
  },
  {
   "cell_type": "code",
   "execution_count": null,
   "metadata": {},
   "outputs": [],
   "source": []
  },
  {
   "cell_type": "markdown",
   "metadata": {},
   "source": [
    "> generator\n",
    "- generator는 iterator를 생성하는 함수로 yield 키워드를 이용해서 만들 수 있다.\n",
    "- Lazy하게 로딩된다.(Lazy Evaluation, Loading)\n",
    "    - 필요할 때, 값을 사용할 때 메모리에 올린다.\n",
    "\n",
    "- https://livetodaykono.tistory.com/25 참고\n",
    "\n",
    "예를 들어 아래와 같이 간단한 generator도 있습니다."
   ]
  },
  {
   "cell_type": "code",
   "execution_count": 20,
   "metadata": {},
   "outputs": [
    {
     "name": "stdout",
     "output_type": "stream",
     "text": [
      "The Number: 6\n",
      "The Number: 12\n",
      "The Number: 18\n",
      "The Number: 24\n",
      "The Number: 30\n"
     ]
    }
   ],
   "source": [
    "def even_filter(nums):\n",
    "    for num in nums:\n",
    "        if num % 2 == 0:\n",
    "            yield num\n",
    "            \n",
    "def multiply_by_three(nums):\n",
    "    for num in nums:\n",
    "        yield num * 3\n",
    "        \n",
    "def convert_to_string(nums):\n",
    "    for num in nums:\n",
    "        yield 'The Number: %s' % num\n",
    "\n",
    "num = [i for i in range(20)]\n",
    "iterator = even_filter(num)\n",
    "print(next(iterator))\n",
    "print(next(iterator))\n",
    "print(next(iterator))\n",
    "\n",
    "nums = [1, 2, 3, 4, 5, 6, 7, 8, 9, 10]\n",
    "\n",
    "pipeline = convert_to_string(multiply_by_three(even_filter(nums)))\n",
    "for num in pipeline:\n",
    "    print(num)\n"
   ]
  },
  {
   "cell_type": "markdown",
   "metadata": {},
   "source": [
    "> Lambda\n",
    "- 함수를 쉽게 나타낸다\n",
    "- lambda 매개변수 : 결과\n",
    "- sort에서 정렬기준을 정해주고 싶을때 사용\n",
    "    ex) 단어의 길이 순 , 튜플의 다른 인덱스 기준\n",
    "- map 또는 filter에서 많이 사용된다.\n",
    "\n",
    "> map, filter\n",
    "- 적용할 원소에 적용할 함수를 사용할 수 있다.\n",
    "- input을 통해 list comprehension 할 떄 자주 사용된다.\n",
    "- filter를 사용하면 true인 값들을 리턴 해 줄 수 있다."
   ]
  },
  {
   "cell_type": "code",
   "execution_count": 29,
   "metadata": {},
   "outputs": [
    {
     "name": "stdout",
     "output_type": "stream",
     "text": [
      "[0, 0, 0, 0, 0, 0, 0, 0, 0, 0]\n",
      "[0, 0, 0, 0, 0, 0, 0, 0, 0, 0]\n",
      "[0, 0, 0, 0, 0, 0, 0, 0, 0, 0]\n",
      "[0, 0, 0, 0, 0, 0, 0, 0, 0, 0]\n",
      "[0, 0, 0, 0, 0, 0, 0, 0, 0, 0]\n",
      "[0, 0, 0, 0, 0, 0, 0, 0, 0, 0]\n",
      "[0, 0, 0, 0, 0, 0, 0, 0, 0, 0]\n",
      "[0, 0, 0, 0, 0, 0, 0, 0, 0, 0]\n",
      "[0, 0, 0, 0, 0, 0, 0, 0, 0, 0]\n",
      "[0, 0, 0, 0, 0, 0, 0, 0, 0, 0]\n",
      "[1, 4, 6]\n",
      "[(3, 0), (5, 1), (5, 2), (0, 3), (1, 6)]\n",
      "['asdfasdf', 'asdfasdf', 'cvdvd', 'abc']\n",
      "8\n",
      "[1, 4, 9, 16, 25, 36]\n",
      "[2, 4, 6]\n",
      "[1, 4, 9]\n",
      "12\n",
      "3\n"
     ]
    }
   ],
   "source": [
    "# list comprehension\n",
    "n=10\n",
    "space = [[0]*10 for _ in range(10)]\n",
    "for i in space:\n",
    "    print(i)\n",
    "    \n",
    "    \n",
    "# msg의 각 단어들의 길이를 원소로 가지는 리스트 word_len_list를 구현\n",
    "\n",
    "msg = \"I_love_python\"\n",
    "\n",
    "word_len_list = []\n",
    "for word in msg.split('_'):\n",
    "    word_len_list.append(len(word))\n",
    "print(word_len_list)\n",
    "\n",
    "# lambda 활용하기\n",
    "add_one = lambda n,m:n+m\n",
    "lst1 = [(3,0),(5,1),(0,3),(1,6),(5,2)]\n",
    "\n",
    "# list가 있으면 뒤에 있는것들을 기준으로하여 리스트로 맏들어서 해결한 결과값을 리턴하겠다.\n",
    "lst1.sort(key = lambda x : (x[1]))\n",
    "print(lst1)\n",
    "\n",
    "lst2=['abc','asdfasdf','cvdvd','asdfasdf']\n",
    "\n",
    "lst2.sort(key = lambda x : (len(x)), reverse=True)\n",
    "print(lst2)\n",
    "\n",
    "add = lambda x,y : x+y\n",
    "print(add(3,5))\n",
    "\n",
    "\n",
    "# 숫자 리스트를 입력받으세요.\n",
    "x = list(map(int,input().split()))\n",
    "\n",
    "# 입력된 리스트의 각 요소를 제곱하여 한 줄씩 출력하세요.\n",
    "x= list(map(lambda x : x**2,x))\n",
    "print(x)\n",
    "    \n",
    "# 정수 값이 있는 이차원 배열이 주어졌을때 리스트의 요소값들의 최댓값을 구하시오\n",
    "lst = [[1,2,3],[4,5,6],[7,8,9],[10,11,12]]\n",
    "\n",
    "answer = max(map(lambda x : max(x),lst))\n",
    "print(answer)\n",
    "answer = min(map(max,lst))\n",
    "print(answer)\n",
    "\n",
    "numbers = [1,2,3,4,5,6]\n",
    "\n",
    "numbers_squared = list(map(lambda x : x**2,numbers))\n",
    "print(numbers_squared)\n",
    "\n",
    "numbers_even = list(filter(lambda x : x%2==0, numbers))\n",
    "print(numbers_even)"
   ]
  },
  {
   "cell_type": "markdown",
   "metadata": {},
   "source": [
    "- iterator를 활용하는 내장 함수 중 하나인 enumerate()에 대해 알아봅시다.\n",
    "\n",
    "- enumerate() 함수는 iterable 객체를 매개변수로 받아서 인덱스와 인덱스에 해당하는 값을 튜플로 반환해줍니다.\n",
    "\n",
    "- sorted() 함수를 이용하면 iterable 객체를 정렬할 수 있습니다.\n",
    "\n",
    "- any()와 all()은 iterable 객체 요소들의 참, 거짓 여부를 판단합니다.\n",
    "\n",
    "- any()는 요소 중 하나라도 참인 경우 True를 반환하고, 모두 거짓인 경우에만 `False를 반환합니다.\n",
    "\n",
    "> zip()\n",
    "- zip() 함수는 iterable 객체를 매개변수로 받아서 인덱스와 인덱스에 해당하는 값을 튜플로 반환.\n",
    "- 예를 들어 아래 예제는 number 리스트와 string 리스트를 묶어 튜플로 생성합니다."
   ]
  },
  {
   "cell_type": "code",
   "execution_count": 49,
   "metadata": {},
   "outputs": [
    {
     "name": "stdout",
     "output_type": "stream",
     "text": [
      "('elice', 'rabbit') ('mad', 'hatter') ('cheshire', 'cat') ('dodo', 'bird') ('heart', 'queen')\n",
      "('elice', 'rabbit')/n('mad', 'hatter')/n('cheshire', 'cat')/n('dodo', 'bird')/n('heart', 'queen')\n",
      "('elice', 'rabbit')\n",
      "('mad', 'hatter')\n",
      "('cheshire', 'cat')\n",
      "('dodo', 'bird')\n",
      "('heart', 'queen')\n",
      "zip이 다른경우\n",
      "(3, 'a')\n",
      "(4, 'b')\n",
      "0 is a\n",
      "1 is b\n",
      "2 is c\n",
      "[1, 2, 3, 4, 5]\n",
      "True\n",
      "False\n",
      "False\n",
      "True\n"
     ]
    }
   ],
   "source": [
    "first_name = ['elice', 'mad', 'cheshire', 'dodo', 'heart']\n",
    "last_name = ['rabbit', 'hatter', 'cat', 'bird', 'queen']\n",
    "\n",
    "# 튜플형태로 보여준다.\n",
    "print(*zip(first_name,last_name))\n",
    "print(*zip(first_name,last_name), sep=\"/n\")\n",
    "\n",
    "for i , j in zip(first_name,last_name):\n",
    "        print((i,j))\n",
    "        \n",
    "# 갯수가 다른 zip은 ? 짧은걸 기준으로 짜른다.\n",
    "print(\"zip이 다른경우\")\n",
    "lst1=[3,4,5]\n",
    "lst2=['a','b']\n",
    "for _tuple in zip(lst1,lst2):\n",
    "        print(_tuple)\n",
    "\n",
    "\n",
    "for index, value in enumerate(['a', 'b', 'c']):\n",
    "        print(index,\"is\",value)\n",
    "        \n",
    "sample_list = [5, 2, 3, 4, 1]\n",
    "\n",
    "print(sorted(sample_list))\n",
    "\n",
    "print(any([True, False, False])) # True\n",
    "print(any([False, False, False])) # False\n",
    "\n",
    "print(all([True, True, False])) # False\n",
    "print(all([True, True, True])) # True\n",
    "\n"
   ]
  },
  {
   "cell_type": "code",
   "execution_count": 47,
   "metadata": {},
   "outputs": [
    {
     "name": "stdout",
     "output_type": "stream",
     "text": [
      "(3, 6, 9)\n",
      "(3, 9, 6)\n",
      "(6, 3, 9)\n",
      "(6, 9, 3)\n",
      "(9, 3, 6)\n",
      "(9, 6, 3)\n"
     ]
    }
   ],
   "source": [
    "# itertools 라이브러리\n",
    "import itertools\n",
    "\n",
    "# print(*itertools.repeat(3,3))\n",
    "_iter = itertools.repeat(3,3)\n",
    "# 생성한 값의 누적값\n",
    "# print(*itertools.accumulate(_iter))\n",
    "_iter=itertools.accumulate(_iter)\n",
    "# print(*itertools.permutations(_iter,3))\n",
    "_iter=itertools.permutations(_iter,3)\n",
    "for i in _iter:\n",
    "    print(i)"
   ]
  },
  {
   "cell_type": "code",
   "execution_count": null,
   "metadata": {},
   "outputs": [],
   "source": [
    "a=[\"vrklnkva\",\"bqwkje\",\"cqwmlk\",\"ddfljv\"]\n",
    "\n",
    "# 배열참조하는 값이 같다.\n",
    "a.sort()\n",
    "b=a\n",
    "print(id(b))\n",
    "print(id(a))\n",
    "\n",
    "# 리스트자체를 복사를해서 사용한다.\n",
    "# 여러 방향을 쓸때 사용된다.\n",
    "c=sorted(a,key=lambda x : len(x))\n",
    "print(id(c))\n",
    "print(id(a))\n"
   ]
  },
  {
   "cell_type": "code",
   "execution_count": null,
   "metadata": {},
   "outputs": [],
   "source": []
  },
  {
   "cell_type": "code",
   "execution_count": null,
   "metadata": {},
   "outputs": [],
   "source": []
  },
  {
   "cell_type": "code",
   "execution_count": null,
   "metadata": {},
   "outputs": [],
   "source": []
  },
  {
   "cell_type": "code",
   "execution_count": null,
   "metadata": {},
   "outputs": [],
   "source": []
  },
  {
   "cell_type": "code",
   "execution_count": null,
   "metadata": {},
   "outputs": [],
   "source": []
  },
  {
   "cell_type": "code",
   "execution_count": null,
   "metadata": {},
   "outputs": [],
   "source": []
  },
  {
   "cell_type": "code",
   "execution_count": null,
   "metadata": {},
   "outputs": [],
   "source": []
  },
  {
   "cell_type": "code",
   "execution_count": null,
   "metadata": {},
   "outputs": [],
   "source": []
  },
  {
   "cell_type": "code",
   "execution_count": null,
   "metadata": {},
   "outputs": [],
   "source": []
  }
 ],
 "metadata": {
  "interpreter": {
   "hash": "ee431ac274e33366c10c3ac30cd4fb33ff3ed0dd6a8cc3f05073bd47291a9c12"
  },
  "kernelspec": {
   "display_name": "Python 3.8.12",
   "language": "python",
   "name": "python3"
  },
  "language_info": {
   "codemirror_mode": {
    "name": "ipython",
    "version": 3
   },
   "file_extension": ".py",
   "mimetype": "text/x-python",
   "name": "python",
   "nbconvert_exporter": "python",
   "pygments_lexer": "ipython3",
   "version": "3.8.12"
  },
  "orig_nbformat": 4
 },
 "nbformat": 4,
 "nbformat_minor": 2
}
