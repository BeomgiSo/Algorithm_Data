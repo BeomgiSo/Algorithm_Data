{
 "cells": [
  {
   "cell_type": "code",
   "execution_count": 2,
   "metadata": {},
   "outputs": [
    {
     "name": "stdout",
     "output_type": "stream",
     "text": [
      "1\n"
     ]
    }
   ],
   "source": [
    "class stack:\n",
    "    def __init__(self):\n",
    "        self.stack=[]\n",
    "        \n",
    "    def push(self,n):\n",
    "        self.stack.append(n)\n",
    "    \n",
    "    def pop(self,n):\n",
    "        if self.empty() == 1:\n",
    "            return\n",
    "        else:\n",
    "            self.stack.pop()\n",
    "            \n",
    "    def size(self):\n",
    "        return len(self.stack)\n",
    "    \n",
    "    def empty(self):\n",
    "        if self.size() == 0:\n",
    "            return 1\n",
    "        else:\n",
    "            return 0\n",
    "        \n",
    "    def top(self):\n",
    "        if self.empty() == 1:\n",
    "            return -1\n",
    "        else:\n",
    "            return self.stack[-1]\n",
    "\n",
    "\n",
    "n = int(input())\n",
    "\n",
    "mystack = stack()\n",
    "\n",
    "for _ in range(n):\n",
    "    order = [ int(v) for v in input().split()]\n",
    "    if order[0] == 1:\n",
    "        mystack.push(order[1])\n",
    "    elif order[0] == 2:\n",
    "        mystack.pop()\n",
    "    elif order[0] == 3:\n",
    "        print(mystack.size())\n",
    "    elif order[0] == 4:\n",
    "        print(mystack.empty())\n",
    "    elif order[0] == 5:\n",
    "        print(mystack.top())\n",
    "    \n",
    "               "
   ]
  },
  {
   "cell_type": "markdown",
   "metadata": {},
   "source": [
    "- linked list\n",
    "    - node insection o(1)\n",
    "    - node delectie o(1)\n",
    "- Array = sorting two point\n",
    "- singly linked list\n",
    "- ddoubly linked list\n"
   ]
  },
  {
   "cell_type": "code",
   "execution_count": 3,
   "metadata": {},
   "outputs": [],
   "source": [
    "class ListNode:\n",
    "    def  __init__(self,val):\n",
    "        self.val = val\n",
    "        self.next = None\n",
    "        \n",
    "head_node =ListNode(1)\n",
    "head_node.next =ListNode(2)\n",
    "head_node.next.next =ListNode(3)\n",
    "head_node.next.next.next =ListNode(4)\n"
   ]
  },
  {
   "cell_type": "code",
   "execution_count": 4,
   "metadata": {},
   "outputs": [
    {
     "name": "stdout",
     "output_type": "stream",
     "text": [
      "1 2 3 4 \n",
      "----------------------------------------------------------------------------------------------------\n",
      "1 2 3 4 "
     ]
    }
   ],
   "source": [
    "# 탐색하는법\n",
    "# class\n",
    "def printNodes(node:ListNode):\n",
    "    crnt_node = node\n",
    "    while crnt_node is not None:\n",
    "        print(crnt_node.val, end = ' ')\n",
    "        crnt_node = crnt_node.next\n",
    "\n",
    "printNodes(head_node)\n",
    "print(\"\")\n",
    "print(\"-\"*100)\n",
    "def printNodesRecur(node:ListNode):\n",
    "    print(node.val, end = ' ')\n",
    "    if node.next is not None:\n",
    "        printNodesRecur(node.next)\n",
    "        \n",
    "printNodesRecur(head_node)"
   ]
  },
  {
   "cell_type": "markdown",
   "metadata": {},
   "source": [
    "- class Linked List\n",
    "- class <- oop\n",
    "    - addatHead\n",
    "    - addat bach/after\n",
    "    - find\n",
    "    - delete(delteAt)\n"
   ]
  },
  {
   "cell_type": "code",
   "execution_count": 5,
   "metadata": {},
   "outputs": [],
   "source": [
    "class ListNode:\n",
    "    def __init__(self,val):\n",
    "        self.val = val\n",
    "        self.next = None\n",
    "\n",
    "def printNodes(node:ListNode):\n",
    "    crnt_node = node\n",
    "    while crnt_node is not None:\n",
    "        print(crnt_node.val, end = ' ')\n",
    "        crnt_node = crnt_node.next\n",
    "\n",
    "class SLinkedList:\n",
    "    def __init__(self):\n",
    "        self.head =  None\n",
    "    #O(1)\n",
    "    def addAtHead(self,val):\n",
    "        node=ListNode(val)\n",
    "        node.next = self.head\n",
    "        self.head = node\n",
    "    \n",
    "    # but when the list 없으면 동작안함\n",
    "    #O(n)\n",
    "    def addBack(self,val):\n",
    "        node = ListNode(val)\n",
    "        crnt_node = self.head\n",
    "        while crnt_node.next:\n",
    "            crnt_node = crnt_node.next\n",
    "        crnt_node.next = node\n",
    "    #O(n)\n",
    "    def findNode(self,val):\n",
    "        crnt_node = self.head\n",
    "        while crnt_node is not None:\n",
    "            if crnt_node.val == val:\n",
    "                return crnt_node\n",
    "            crnt_node = crnt_node.next\n",
    "        raise RuntimeError(\"Node not found\") \n",
    "    #O(1)\n",
    "    def addAfter(self,node,val):\n",
    "        new_node = ListNode(val)\n",
    "        new_node.next = node.next\n",
    "        node.next= new_node\n",
    "        \n",
    "    #O(1)\n",
    "    def deleteAfter(self, prev_node):\n",
    "        if prev_node.next is not None:\n",
    "            prev_node.next = prev_node.next.next       \n",
    "    \n",
    "        "
   ]
  },
  {
   "cell_type": "code",
   "execution_count": 6,
   "metadata": {},
   "outputs": [
    {
     "name": "stdout",
     "output_type": "stream",
     "text": [
      "2 1 3 "
     ]
    }
   ],
   "source": [
    "slist = SLinkedList()\n",
    "slist.addAtHead(1)\n",
    "slist.addAtHead(2)\n",
    "slist.addBack(3)\n",
    "printNodes(slist.head)\n",
    "\n",
    "node1 = slist.findNode(3)\n",
    "\n"
   ]
  },
  {
   "cell_type": "code",
   "execution_count": 7,
   "metadata": {},
   "outputs": [],
   "source": [
    "class Queue:\n",
    "    def __init__(self):\n",
    "        self.queue = []\n",
    "    \n",
    "    def push(self,n):\n",
    "        self.queue.append(n)\n",
    "    \n",
    "    def pop(self):\n",
    "        if self.empty() == 1:\n",
    "            return\n",
    "        del self.queue[0]\n",
    "    \n",
    "    def front(self):\n",
    "        if self.empty() == 1:\n",
    "            return -1\n",
    "        return self.queue[0]\n",
    "    \n",
    "    def back(self):\n",
    "        if self.empty() == 1:\n",
    "            return -1\n",
    "        \n",
    "        return self.queue[-1]"
   ]
  },
  {
   "cell_type": "code",
   "execution_count": 8,
   "metadata": {},
   "outputs": [
    {
     "name": "stdout",
     "output_type": "stream",
     "text": [
      "[5, 9, 3, 2, 4, 1, 6]\n",
      "6 [5, 9, 3, 2, 4, 1]\n",
      "6\n",
      "1\n",
      "False\n"
     ]
    }
   ],
   "source": [
    "# 엘리스\n",
    "stack = []\n",
    "stack.append(5)\n",
    "stack.append(9)\n",
    "stack.append(3)\n",
    "stack.append(2)\n",
    "stack.append(4)\n",
    "stack.append(1)\n",
    "stack.append(6)\n",
    "print(stack)\n",
    "\n",
    "a = stack.pop()\n",
    "print(a, stack)\n",
    "#갯수\n",
    "print(len(stack))\n",
    "#top\n",
    "print(stack[-1])\n",
    "#empty\n",
    "print(len(stack) == 0) # is stack\n",
    "\n"
   ]
  },
  {
   "cell_type": "markdown",
   "metadata": {},
   "source": [
    "## 이것이 코딩테스트다 스택\n",
    "- `탐색(search)` : 많은 양의 데이터 중에서 원하는 데이터를 찾는과정\n",
    "- 프로그래밍에서는 `그래프, 트리` 등의 자료구조 안에서 탐색을 하는 문제를 다룸\n",
    "- 대표적인 탐색알고리즘은 `DFS//BFS`\n",
    "- DFS // BFS의 자료구조인 `스텍`과 `큐`로 구현된다.\n",
    "\n",
    "- 자료구조(Data structure)란 ? 데이터를 표현하고 관리하고 처리하기 위한 구조\n",
    "    - `삽입(push)` : 데이터를 삽입한다.\n",
    "    - `삭제(pop)` : 데이터를 삭제한다.\n",
    "\n",
    "- 스텍과 큐를 사용할 때는 사입과 삭제 외에도 오버플로와 언더플로를 고민해야한다.\n",
    "- `오버플로(Overflow)`는 특정한 자료구조가 수용할 수 있는 데이터의 크기를 이미 가득 찬 상태에서 삽입연산을 수행할 때 발생한다.\n",
    "- `언더플로(Underflow)` 특정한 자료구조에 데이터가 전혀 들어 있지 않은 상태에서 삭제 연산을 수행하면 데이터가 전혀 없는 상태인 언더플로우 발생\n",
    "\n",
    "# stack : FILO(선입선출 구조) or LIFO(후입선출)\n",
    "- first in last out // last in first out\n",
    "- 파이썬에서 스택을 이용할 떄에는 별도의 라이브러리가 필요없고 기본 리스트에서 append()와 pop()메서드를 사용하여 쓴다\n"
   ]
  },
  {
   "cell_type": "code",
   "execution_count": 1,
   "metadata": {},
   "outputs": [
    {
     "name": "stdout",
     "output_type": "stream",
     "text": [
      "[5, 2, 3, 1]\n",
      "[1, 3, 2, 5]\n"
     ]
    }
   ],
   "source": [
    "# 초기 상태\n",
    "# 삽입 5 - 삽입 2 - 삽입 3 - 삽입 7 - 삭제() - 삽입 1 - 삽입 4 - 삭제()\n",
    "stack = []\n",
    "stack.append(5)\n",
    "stack.append(2)\n",
    "stack.append(3)\n",
    "stack.append(7)\n",
    "stack.pop()\n",
    "stack.append(1)\n",
    "stack.append(4)\n",
    "stack.pop()\n",
    "\n",
    "print(stack)\n",
    "print(stack[::-1])\n",
    "\n",
    "#"
   ]
  },
  {
   "cell_type": "code",
   "execution_count": null,
   "metadata": {},
   "outputs": [],
   "source": []
  },
  {
   "cell_type": "markdown",
   "metadata": {},
   "source": [
    "# 연습문제\n",
    "- 이번 문제에서는 괄호가 포함된 수식p이 있을 때, 어느 괄호부터 계산해야 하는지를 구해봅니다.\n",
    "\n",
    "- 괄호 쌍이 주어질 때, 각 괄호가 몇 번째로 계산되어야 하는 괄호인지를 출력하는 find_order(p)를 작성하세요.\n",
    "\n",
    "- 입력\n",
    "첫 번째 줄에 길이가 n인 괄호 문자열 p가 주어집니다. 2≤n≤200002 \\le n \\le 200002≤n≤20000\n",
    "\n",
    "주어지는 문자열 p는 항상 올바른 괄호 문자열입니다. 즉, ‘)(‘이나 ‘())’ 과 같은 입력은 주어지지 않습니다.\n",
    "\n",
    "- 출력\n",
    "각 괄호가 몇 번째로 계산되어야 하는 괄호인지 공백으로 구분한 결과를 리스트로 담아 반환합니다."
   ]
  },
  {
   "cell_type": "code",
   "execution_count": 11,
   "metadata": {},
   "outputs": [
    {
     "name": "stdout",
     "output_type": "stream",
     "text": [
      "[6, 5, 1, 1, 2, 2, 4, 3, 3, 4, 5, 6]\n"
     ]
    }
   ],
   "source": [
    "\n",
    "a = input()\n",
    "def find_order(p):\n",
    "    result = [0]*len(p)\n",
    "    \n",
    "    cnt = 1\n",
    "    \n",
    "    stack = []\n",
    "    \n",
    "    for i in range(len(p)):\n",
    "        if p[i] == \"(\":\n",
    "            stack.append(i)\n",
    "        else:\n",
    "            index = stack[-1]\n",
    "            stack.pop()\n",
    "            \n",
    "            result[index] = cnt\n",
    "            result[i] = cnt\n",
    "            \n",
    "            cnt = cnt+1\n",
    "            \n",
    "    return result\n",
    "\n",
    "print(find_order(a))"
   ]
  },
  {
   "cell_type": "markdown",
   "metadata": {},
   "source": [
    "스택으로 수열 만들기\n",
    "1부터 N까지의 모든 정수를 한 번씩 스택에 입력하고, 출력합니다.\n",
    "\n",
    "이 때, 무조건 작은 수는 큰 수보다 먼저 입력되어야 합니다.\n",
    "\n",
    "예를 들어 1보다 3이 먼저 입력되는 경우는 없습니다.\n",
    "\n",
    "위와 같은 규칙대로 수를 입출력했을 때, 주어진 수열을 만들 수 있는지 없는지 알아보는 프로그램을 작성해봅시다.\n",
    "\n",
    "예를 들어 [2, 1, 4, 3]은 위 규칙으로 만들 수 있는 예시입니다.\n",
    "\n",
    "1넣기 -> 2넣기 -> 2뽑기 -> 1뽑기 -> 3넣기 -> 4넣기 -> 4뽑기 -> 3뽑기의 과정으로 만들 수 있기 때문입니다.\n",
    "\n",
    "그러나 [3, 1, 2, 4]는 만들 수 없는 예시입니다."
   ]
  },
  {
   "cell_type": "code",
   "execution_count": null,
   "metadata": {},
   "outputs": [],
   "source": [
    "def is_stack_sequence(nums):\n",
    "    stack = []\n",
    "    \n",
    "    # 무조건 1 푸쉬해줘여다한다.\n",
    "    stack.append(1)\n",
    "    \n",
    "    # 현재의 위치\n",
    "    crnt = 0\n",
    "    \n",
    "    for i in range(2,len(nums)+1):\n",
    "        while len(stack)>0 and stack[-1] == nums[crnt]:\n",
    "            stack.pop()\n",
    "            crnt+=1\n",
    "\n",
    "        if len(stack) == 0 or stack[-1] <nums[currnet]:\n",
    "            stack.append(i)\n",
    "            \n",
    "        \n",
    "    \n",
    "    return \"Yes\""
   ]
  },
  {
   "cell_type": "code",
   "execution_count": null,
   "metadata": {},
   "outputs": [],
   "source": []
  }
 ],
 "metadata": {
  "interpreter": {
   "hash": "ee431ac274e33366c10c3ac30cd4fb33ff3ed0dd6a8cc3f05073bd47291a9c12"
  },
  "kernelspec": {
   "display_name": "Python 3.8.12",
   "language": "python",
   "name": "python3"
  },
  "language_info": {
   "codemirror_mode": {
    "name": "ipython",
    "version": 3
   },
   "file_extension": ".py",
   "mimetype": "text/x-python",
   "name": "python",
   "nbconvert_exporter": "python",
   "pygments_lexer": "ipython3",
   "version": "3.8.12"
  },
  "orig_nbformat": 4
 },
 "nbformat": 4,
 "nbformat_minor": 2
}
