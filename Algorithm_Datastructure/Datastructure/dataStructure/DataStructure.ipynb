{
 "cells": [
  {
   "cell_type": "markdown",
   "metadata": {},
   "source": [
    "> 지시 사항\n",
    "- 입력\n",
    "- 첫 번째 줄에 최댓값 기계가 수행할 명령의 수를 나타내는 정수 n을 입력합니다. (500≤n≤55000500 \\le n \\le 55000500≤n≤55000)\n",
    "\n",
    "두 번째 줄부터 n개의 줄에 걸쳐 수행할 명령을 입력합니다. 명령의 종류는 다음과 같습니다.\n",
    "\n",
    "0 x : 정수 x를 입력\n",
    "1 x : 정수 x를 제거\n",
    "2 : 최댓값 반환\n",
    "\n",
    "- 입력예시\n",
    "9\n",
    "0 1\n",
    "0 2\n",
    "0 4\n",
    "0 5\n",
    "2\n",
    "1 5\n",
    "2\n",
    "1 2\n",
    "2\n",
    "\n",
    "- 출력예시\n",
    "5\n",
    "4\n",
    "4\n",
    "\n",
    "> 최대값 기계\n",
    "- 최대값 기계는 여러 정수를 담을 수 있는 컨터이너를 가져야한다.\n",
    "- 컨테이너란 ? 리스트,튜플,딕셔너리등 비롯한 하나 이상의 요소를 담을 수 있는것. 내부적으로 Container 클래스를 클래스를 상속 받은 sub class에 해당함.\n",
    "> 연산\n",
    "- 해당 컨테이너에 아래의 연산을 수행하는 메서드를 가져야한다.\n",
    "    1. 정수를 컨테이너에 추가\n",
    "    1. 정수를 컨테이너에서 제거\n",
    "    1. 컨테이너 내의 정수 중 최댓값 반환\n",
    "    "
   ]
  },
  {
   "cell_type": "code",
   "execution_count": 3,
   "metadata": {},
   "outputs": [
    {
     "name": "stdout",
     "output_type": "stream",
     "text": [
      "5\n",
      "4\n",
      "4\n"
     ]
    }
   ],
   "source": [
    "class maxMachine :\n",
    "    def __init__(self):\n",
    "        self.numbers = []\n",
    "        \n",
    "    def addNumber(self,n):\n",
    "        self.numbers.append(n)\n",
    "    \n",
    "    def removeNumber(self,n):\n",
    "        self.numbers.remove(n)\n",
    "    \n",
    "    def getMax(self):\n",
    "        return max(self.numbers)\n",
    "\n",
    "myMachine = maxMachine()\n",
    "\n",
    "n=int(input())\n",
    "\n",
    "for i in range(n):\n",
    "    line = [int(v) for v in input().split()]\n",
    "    if line[0] == 0:\n",
    "        myMachine.addNumber(line[1])\n",
    "    elif line[0] == 1:\n",
    "        myMachine.removeNumber(line[1])\n",
    "    elif line[0] == 2:\n",
    "        print(myMachine.getMax())"
   ]
  },
  {
   "cell_type": "code",
   "execution_count": null,
   "metadata": {},
   "outputs": [],
   "source": []
  },
  {
   "cell_type": "markdown",
   "metadata": {},
   "source": [
    "> 지시사항\n",
    "- 입력\n",
    "    입력의 첫 번째 줄에는 구슬의 개수 n이 주어집니다. (100≤n≤200000100 \\le n \\le 200000100≤n≤200000)\n",
    "\n",
    "    두 번째 줄부터는 토끼가 구슬을 넣는 행위가 주어집니다.\n",
    "\n",
    "    각 줄은 두 개의 정수 a, b로 이루어지며, 이 뜻은 구슬 a를 왼쪽 혹은 오른쪽으로 넣는다는 의미입니다. (1≤a≤10000000001 \\le a \\le 10000000001≤a≤1000000000)\n",
    "\n",
    "    (b가 0이면 왼쪽, b가 1이면 오른쪽이며 그 외의 입력은 주어지지 않는다)"
   ]
  },
  {
   "cell_type": "code",
   "execution_count": 11,
   "metadata": {},
   "outputs": [
    {
     "name": "stdout",
     "output_type": "stream",
     "text": [
      "[3, 1, 2]\n"
     ]
    }
   ],
   "source": [
    "class problem2:\n",
    "    def __init__(self):\n",
    "        self.mylist=[]\n",
    "    \n",
    "    def leftaddNumber(self,n):\n",
    "        self.mylist.insert(0,n)\n",
    "    \n",
    "    def rightaddNumber(self,n):\n",
    "        self.mylist.append(n)\n",
    "    \n",
    "    def showall(self):\n",
    "        return self.mylist\n",
    "\n",
    "gusle = problem2()\n",
    "\n",
    "n=int(input())\n",
    "\n",
    "for i in range(n):\n",
    "    line = [int(v) for v in input().split()]\n",
    "    if line[1] == 0:\n",
    "        gusle.leftaddNumber(line[0])\n",
    "    elif line[1] == 1:\n",
    "        gusle.rightaddNumber(line[0])\n",
    "        \n",
    "print(gusle.showall())\n",
    "    "
   ]
  },
  {
   "cell_type": "markdown",
   "metadata": {},
   "source": [
    "# 링크드 리스트 구현\n"
   ]
  },
  {
   "cell_type": "code",
   "execution_count": 17,
   "metadata": {},
   "outputs": [],
   "source": [
    "class ListNode:\n",
    "    def __init__(self,val):\n",
    "        self.val = val\n",
    "        self.next = None\n",
    "        \n",
    "head_node = ListNode(1)\n",
    "head_node.next=ListNode(2)\n",
    "head_node.next.next=ListNode(3)\n",
    "head_node.next.next.next=ListNode(4)\n",
    "# 1->2->3->4"
   ]
  },
  {
   "cell_type": "code",
   "execution_count": 15,
   "metadata": {},
   "outputs": [
    {
     "name": "stdout",
     "output_type": "stream",
     "text": [
      "1 2 3 4 "
     ]
    }
   ],
   "source": [
    "# 1. iterative 방법 recursive방법\n",
    "def printNodes(node:ListNode):\n",
    "    crnt_node = node\n",
    "    while crnt_node is not None:\n",
    "        print(crnt_node.val , end = ' ')\n",
    "        crnt_node = crnt_node.next\n",
    "        \n",
    "printNodes(head_node)"
   ]
  },
  {
   "cell_type": "code",
   "execution_count": 19,
   "metadata": {},
   "outputs": [
    {
     "name": "stdout",
     "output_type": "stream",
     "text": [
      "1 2 3 4 "
     ]
    }
   ],
   "source": [
    "def printNodesRecur(node: ListNode):\n",
    "    print(node.val, end= ' ')\n",
    "    if node.next is not None:\n",
    "        printNodesRecur(node.next)\n",
    "\n",
    "printNodesRecur(head_node)"
   ]
  },
  {
   "cell_type": "code",
   "execution_count": null,
   "metadata": {},
   "outputs": [],
   "source": [
    "class SLinkedList:\n",
    "    def __init__(self):\n",
    "        self.head = None\n",
    "    \n",
    "    def addAtHead(self,val):\n",
    "        node = ListNode(val)\n",
    "        node.next = self.head\n",
    "        self.head = node\n",
    "        \n",
    "    def addBack(self,val):\n",
    "        node = ListNode(val)\n",
    "        crnt_node = self.head\n",
    "        while crnt_node.next:\n",
    "            crnt_node = crnt_node.next()\n",
    "        crnt_node.next= node"
   ]
  },
  {
   "cell_type": "code",
   "execution_count": null,
   "metadata": {},
   "outputs": [],
   "source": [
    "# 구슬넣기 문제 linked list 구현\n",
    "class LinkedListElement:\n",
    "    def __init__(self,val,ptr):\n",
    "        self.value = val\n",
    "        self.next = ptr\n",
    "\n",
    "class LinkedListPipe:\n",
    "    def __init__(self):\n",
    "        self.start = None\n",
    "        self.end = None\n",
    "    \n",
    "    def addLeft(self,n):\n",
    "        if self.start == None and self.end == None:\n",
    "            elem = LinkedListElement(n,None)\n",
    "            self.start = elem\n",
    "            self.end = elem\n",
    "        \n",
    "        else:\n",
    "            elem = LinkedListElement(n,self.start)\n",
    "            self.start = elem\n",
    "        \n",
    "    def addRight(self,n):\n",
    "        if self.start == None and self.end==None:\n",
    "            elem = LinkedListElement(n,None)\n",
    "            \n",
    "            self.start = elem\n",
    "            self.end = elem\n",
    "        else:\n",
    "            elem = LinkedListElement(n,None)\n",
    "            self.end.next = elem\n",
    "            self.end = elem\n",
    "            \n",
    "    def getBeads(self):\n",
    "        result = []\n",
    "        current = self.start\n",
    "        while current !=None:\n",
    "            result.append(current.value)\n",
    "            current = current.next\n",
    "        \n",
    "        return result"
   ]
  },
  {
   "cell_type": "code",
   "execution_count": null,
   "metadata": {},
   "outputs": [],
   "source": []
  },
  {
   "cell_type": "markdown",
   "metadata": {},
   "source": [
    "- 입력\n",
    "- 첫째줄에 n개의 정수들이 공백으로 구분되어 입력됩니다. (100≤n≤200000100 \\le n \\le 200000100≤n≤200000)\n",
    "\n",
    "- 출력\n",
    "- 입력된 정수들을 내림차순으로 정렬하여 출력합니다."
   ]
  },
  {
   "cell_type": "code",
   "execution_count": 31,
   "metadata": {},
   "outputs": [
    {
     "name": "stdout",
     "output_type": "stream",
     "text": [
      "[]\n"
     ]
    }
   ],
   "source": [
    "# ???\n",
    "import sys\n",
    "\n",
    "input_data = list(map(int,sys.stdin.readline().split()))\n",
    "\n",
    "print(input_data)\n"
   ]
  },
  {
   "cell_type": "code",
   "execution_count": 46,
   "metadata": {},
   "outputs": [
    {
     "name": "stdout",
     "output_type": "stream",
     "text": [
      "[5, 4, 3, 3, 2, 2, 1]\n"
     ]
    }
   ],
   "source": [
    "class sortingMachine:\n",
    "    def __init__(self):\n",
    "        self.mydata = []\n",
    "    \n",
    "    def addNumber(self,n):\n",
    "        self.mydata.append(n)\n",
    "    \n",
    "    def removeNumber(self,n):\n",
    "        self.mydata.remove(n)\n",
    "    \n",
    "    def getMax(self):\n",
    "        return max(self.mydata)\n",
    "    \n",
    "    def Sorting(self):\n",
    "        result = []\n",
    "        \n",
    "        for i in range(len(self.mydata)):\n",
    "            maxValue = sortingMachine.getMax(self)\n",
    "            result.append(maxValue)\n",
    "            sortingMachine.removeNumber(self,maxValue)\n",
    "            \n",
    "        print(result)\n",
    "\n",
    "\n",
    "input_data = list(map(int,input().split()))\n",
    "\n",
    "myMachine = sortingMachine()\n",
    "\n",
    "for element in input_data:\n",
    "    myMachine.addNumber(element)\n",
    "\n",
    "myMachine.Sorting()\n"
   ]
  },
  {
   "cell_type": "code",
   "execution_count": null,
   "metadata": {},
   "outputs": [],
   "source": []
  },
  {
   "cell_type": "code",
   "execution_count": null,
   "metadata": {},
   "outputs": [],
   "source": []
  }
 ],
 "metadata": {
  "interpreter": {
   "hash": "ee431ac274e33366c10c3ac30cd4fb33ff3ed0dd6a8cc3f05073bd47291a9c12"
  },
  "kernelspec": {
   "display_name": "Python 3.8.12",
   "language": "python",
   "name": "python3"
  },
  "language_info": {
   "codemirror_mode": {
    "name": "ipython",
    "version": 3
   },
   "file_extension": ".py",
   "mimetype": "text/x-python",
   "name": "python",
   "nbconvert_exporter": "python",
   "pygments_lexer": "ipython3",
   "version": "3.8.12"
  },
  "orig_nbformat": 4
 },
 "nbformat": 4,
 "nbformat_minor": 2
}
