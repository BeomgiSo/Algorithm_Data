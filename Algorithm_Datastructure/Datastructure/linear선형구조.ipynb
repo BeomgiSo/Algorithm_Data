{
 "cells": [
  {
   "cell_type": "markdown",
   "metadata": {},
   "source": [
    "# 3부 선형자료구조\n",
    "- 데이터 요소가 순차적(Sequential)으로 배열되는 자료구조를 선형(Linear) 자료구조라고 한다. 선형 자료구조는 단일 레벨로 구성된다.\n",
    "- 따라서 한 번에 탐색이 가능하며, 구현하기도 쉽다.\n",
    "- 스택 큐 연결리스트 데크 등이 있다.\n",
    "\n",
    "# 3.1.1 배열\n",
    "- 배열은 값 또는 변수 엘리먼트의 집합으로 구성된 구조로, 하나 이상의 인덱스 또는 키로 식별된다.\n",
    "- 자료구조는 크게 `메모리 공간 기반`의 연속(contiguous)방식과 `포인터 기반`의 연결(Link)방식으로 나뉜다. ->`연결리스트로 나타냄`\n",
    "- 추상 자료형(Abstract Data Type,ADT)의 실제 구현 대부분 배열 또는 연결리스트를 기반으로 한다.\n",
    "\n"
   ]
  },
  {
   "cell_type": "code",
   "execution_count": 3,
   "metadata": {},
   "outputs": [
    {
     "ename": "NameError",
     "evalue": "name 'List' is not defined",
     "output_type": "error",
     "traceback": [
      "\u001b[0;31m---------------------------------------------------------------------------\u001b[0m",
      "\u001b[0;31mNameError\u001b[0m                                 Traceback (most recent call last)",
      "Input \u001b[0;32mIn [3]\u001b[0m, in \u001b[0;36m<module>\u001b[0;34m\u001b[0m\n\u001b[1;32m      3\u001b[0m target \u001b[38;5;241m=\u001b[39m \u001b[38;5;241m9\u001b[39m\n\u001b[1;32m      5\u001b[0m \u001b[38;5;66;03m# 출력 0,1\u001b[39;00m\n\u001b[1;32m      6\u001b[0m \n\u001b[1;32m      7\u001b[0m \u001b[38;5;66;03m# 브루트 포스로 계산(Brute-Force) : 무차별 대입 방식\u001b[39;00m\n\u001b[1;32m      8\u001b[0m \u001b[38;5;66;03m# 배열을 2번 반복하면서 모든 조합을\u001b[39;00m\n\u001b[0;32m----> 9\u001b[0m \u001b[38;5;28;01mdef\u001b[39;00m \u001b[38;5;21mtwoSum\u001b[39m(\u001b[38;5;28mself\u001b[39m, nums: \u001b[43mList\u001b[49m[\u001b[38;5;28mint\u001b[39m],target:\u001b[38;5;28mint\u001b[39m) \u001b[38;5;241m-\u001b[39m\u001b[38;5;241m>\u001b[39m List[\u001b[38;5;28mint\u001b[39m]:\n\u001b[1;32m     10\u001b[0m     \u001b[38;5;28;01mfor\u001b[39;00m i \u001b[38;5;129;01min\u001b[39;00m \u001b[38;5;28mrange\u001b[39m(\u001b[38;5;28mlen\u001b[39m(nums)\u001b[38;5;241m-\u001b[39m\u001b[38;5;241m1\u001b[39m):\n\u001b[1;32m     11\u001b[0m         \u001b[38;5;28;01mfor\u001b[39;00m j \u001b[38;5;129;01min\u001b[39;00m \u001b[38;5;28mrange\u001b[39m(i\u001b[38;5;241m+\u001b[39m\u001b[38;5;241m1\u001b[39m,\u001b[38;5;28mlen\u001b[39m(nums)):\n",
      "\u001b[0;31mNameError\u001b[0m: name 'List' is not defined"
     ]
    }
   ],
   "source": [
    "# 두수의 합\n",
    "nums = [2,7,11,15]\n",
    "target = 9\n",
    "\n",
    "# 출력 0,1\n",
    "\n",
    "# 브루트 포스로 계산(Brute-Force) : 무차별 대입 방식\n",
    "# 배열을 2번 반복하면서 모든 조합을\n",
    "def twoSum(self, nums: List[int],target:int) -> List[int]:\n",
    "    for i in range(len(nums)-1):\n",
    "        for j in range(i+1,len(nums)):\n",
    "            if nums[i] + nums[j] == target:\n",
    "                return [i,j]\n",
    "\n",
    "print(twoSum(nums,target))\n",
    "# 복잡도 o(n^2)\n",
    "\n",
    "# in을 탐색한 방법\n",
    "# O(n)\n",
    "\n",
    "# enumerate를 사용한방법\n",
    "\n",
    "# 조회 구조 개선\n",
    "\n",
    "# 투 포인터 이용\n",
    "# 정렬된 포인터 사용\n",
    "right = 0\n",
    "left = len(nums)-1\n",
    "\n",
    "def twopointsum(right,left,nums):\n",
    "    \n"
   ]
  },
  {
   "cell_type": "code",
   "execution_count": null,
   "metadata": {},
   "outputs": [],
   "source": [
    "# 빗물 트래핑\n",
    "# [0,1,0,2,1,0,1,3,2,1,2,1]"
   ]
  },
  {
   "cell_type": "code",
   "execution_count": null,
   "metadata": {},
   "outputs": [],
   "source": [
    "# 배열의 파티션 1\n",
    "# n개의 페어를 이용한 min(a,b)의 합으로 마들 수 있는 가장 큰 수를 출력하라\n",
    "input_list=[1,4,3,2]"
   ]
  },
  {
   "cell_type": "markdown",
   "metadata": {},
   "source": [
    "> 3.로그파일 재정렬 \n",
    "1. 로그의 가장 앞 부분은 식별자다.\n",
    "2. 문자로 구성된 로그가 숫자 로그보다 앞에 온다.\n",
    "3. 식별자는 순서에 영향을 끼치지 않지만, 문자가 동일할 경우 식별자 순으로 한다.\n",
    "4. 숫자 로그는 입력 순서대로 한다."
   ]
  },
  {
   "cell_type": "code",
   "execution_count": null,
   "metadata": {},
   "outputs": [],
   "source": []
  },
  {
   "cell_type": "markdown",
   "metadata": {},
   "source": [
    ">4 가장흔한단어\n",
    "- 금지된 단어를 제외한 가장 흔하게 등장하는 단어를 출력해라\n",
    "- 단, 대소 문자를 구분하지 않으며 구두점 또한 무시한다.\n"
   ]
  },
  {
   "cell_type": "code",
   "execution_count": 25,
   "metadata": {},
   "outputs": [
    {
     "name": "stdout",
     "output_type": "stream",
     "text": [
      "Counter({'hit': 3, 'bob': 1, 'a': 1, 'ball,': 1, 'the': 1, 'ball': 1, 'flew': 1, 'far': 1, 'after': 1, 'is': 1, 'was': 1})\n"
     ]
    }
   ],
   "source": [
    "from collections import Counter\n",
    "problem = \"Bob hit a ball, the hit BALL flew far after is was hit\"\n",
    "\n",
    "a=problem.lower().split(' ')\n",
    "\n",
    "a=Counter(a)\n",
    "\n",
    "\n",
    "print(a)\n",
    "\n",
    "def solution(problem):\n",
    "    _list = problem.lower().split()"
   ]
  },
  {
   "cell_type": "code",
   "execution_count": null,
   "metadata": {},
   "outputs": [],
   "source": [
    "# 풀이1 리스트 컴프리핸션, Counter 객체 사용\n",
    "# 전처리\n",
    "words = [word for in re.sub(r'[^\\w]',' ', paragraph).lower().split() if word not in banned]\n",
    "\n",
    "counts = collections.defaultdict(int)\n",
    "for word in words:\n",
    "    counts[word] +=1\n",
    "# 개수를 담아두는 변수는 딕셔너리를 사용하며 defaultdict()를 사용해 int 기본값이 자동으로 부여되게 했다. 따라서 여기서 키 존재유무는 확인할 필요없이 즉시 사용할 수 있다.\n",
    "return max(counts, key=count.get)"
   ]
  }
 ],
 "metadata": {
  "interpreter": {
   "hash": "31f2aee4e71d21fbe5cf8b01ff0e069b9275f58929596ceb00d14d90e3e16cd6"
  },
  "kernelspec": {
   "display_name": "Python 3.8.9 64-bit",
   "language": "python",
   "name": "python3"
  },
  "language_info": {
   "codemirror_mode": {
    "name": "ipython",
    "version": 3
   },
   "file_extension": ".py",
   "mimetype": "text/x-python",
   "name": "python",
   "nbconvert_exporter": "python",
   "pygments_lexer": "ipython3",
   "version": "3.8.9"
  },
  "orig_nbformat": 4
 },
 "nbformat": 4,
 "nbformat_minor": 2
}
