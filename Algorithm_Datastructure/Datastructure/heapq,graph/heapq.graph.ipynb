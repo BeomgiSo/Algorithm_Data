{
 "cells": [
  {
   "cell_type": "markdown",
   "metadata": {},
   "source": [
    "# elice 자료구조 4장\n",
    "## 우선순위 큐와 힙\n",
    "1. 우선순위 큐의 구현방법과 힙\n",
    "2. 힙을 이요한 문제풀이"
   ]
  },
  {
   "cell_type": "markdown",
   "metadata": {},
   "source": [
    "> ## 01.우선순위 큐의 구현 방법과 힙\n",
    "- 우선순위 큐란?(ADT)\n",
    "    - 우선순위가 높은 원소가 먼저 출력되는 추상적 자료형\n",
    "    - 가정 : 출력 연산 시 가장 우선순위가 높은 원소를 출력한다.\n",
    "    - 출력 연산 시 가장 `우선순위가 높은 원소`를 출력한다.\n",
    "    - 단순하게 배열로 구현하면\n",
    "    - 1 5 4 3\n",
    "        - 출력값 5 4 3 2 1\n",
    "        - 우선순위 큐를 단순한 접근 방법으로 구현한 경우\n",
    "            - 입력 : O(1), 출력 : O(N)\n",
    "    \n",
    "    - 우선순위가 가장 높은 원소를 `찾는 과정`과, 그 원소를 `제거`하는 것이 비효율적이다.\n",
    "    - 따라서, heap을 사용하여 구현한다.\n",
    "\n",
    "- 힙\n",
    "    - `최솟값` 또는 `최댓값`을 빠르게 찾기위해 고안된 `완전 이진트리`\n",
    "    - `최대 힙(max heap)` : 부모 노드는 항상 자식 노드보다 큰 값을 갖고 있다.\n",
    "    - `최소 힙(min heap)` : 부모 노드는 항상 자식 노드보다 작은 값을 갖고 있다.\n",
    "    - 파이썬의 heapq모듈로 `최소 힙을` 사용할 수 있다.\n",
    "    - 최대 힙이 필요한 경우에는 값을 저장할 때 `-1을 곱한 값`을 저장하면 된다.\n",
    "        - 단, 이 방법은 힙이 저장한는 값이 `수` 일떄만 유효하다.\n",
    "\n",
    "- 힙에 자료를 입,출력때 이루어지는 연산은\n",
    "- 힙은 완전 이진 크리의 특성을 유지해야한다.\n",
    "- 따라서 입력된 자료는 `항상 마지막 레벨의 가장 오른쪽 자리`에 채워진다.\n",
    "- 힙의 입력\n",
    "    - 부모노드와의 `대소관계`와 `완전 이진 트리`의 특석을 유지한 채 자료를 입력하면 된다.\n",
    "    - 최악의 경우는 `새로운 최솟값이` 이력되는 경우이고, 루트노드까지 거슬러 올라가게 된다.\n",
    "    - 이때 발생한느 연산의 횟수는 트리의 `높이와 비례`하므로 O(logN)의 시간 복잡도를 갖는다.\n",
    "- 힙 : 자료 출력하기\n",
    "    - 이번에는 힙에서 자료를 `출력`하고자한다.\n",
    "    - 힙에서 출력뇌는 자료는 무조건 `루트노드`이다. 우선순위가 가장 높은 순위이기 떄문이다.\n",
    "    - 루트노드를 출력한다. -> 루트 노드의 빈 자리는 마지막 노드가 대신한다. -> 자식 노드와 값을 비교하며 자리를 바꾼다.\n",
    "    - 최악의 경우는 힙의 맨 마지막 원소가 가장 큰 값을 가진 경우이다.\n",
    "    - 이때 자리를 바꾸는 연산의 횟수는 트리의 높이만큼 이루어지므로 마찬가지로 O(logN)의 시간 복잡도를 갖는다.\n"
   ]
  },
  {
   "cell_type": "markdown",
   "metadata": {},
   "source": [
    "> Heap\n",
    "- 여러 값의 최댓값과 최솟값을 빠르게 찾아내도록 만든 자료 구조\n",
    "- 트리 기반의 자료구조이다\n",
    "- 루트 노드에 최대값 혹은 최소값이 정력되어 있다.\n",
    "- 삽입과 삭제가 모두 `O(logn)`이다\n",
    "- 작동원리\n",
    "    - https://gmlwjd9405.github.io/2018/05/10/data-structure-heap.html\n",
    "    - https://ratsgo.github.io/data%20structure&algorithm/2017/09/27/heapsort/\n",
    "\n",
    "- https://docs.python.org/ko/3/library/heapq.html\n",
    "- heapq.heappush(heap, item) :힙 불변성을 유지하면서, item 값을 heap으로 푸시합니다\n",
    "- heapq.heappop(heap) : 힙 불변성을 유지하면서, heap에서 가장 작은 항목을 팝하고 반환합니다. 힙이 비어 있으면, IndexError가 발생합니다. 팝 하지 않고 가장 작은 항목에 액세스하려면, heap[0]을 사용하십시오.\n",
    "- heapq.heappushpop(heap, item) : 힙에 item을 푸시한 다음, heap에서 가장 작은 항목을 팝하고 반환합니다. 결합한 액션은 heappush()한 다음 heappop()을 별도로 호출하는 것보다 더 효율적으로 실행합니다.\n"
   ]
  },
  {
   "cell_type": "code",
   "execution_count": 1,
   "metadata": {},
   "outputs": [
    {
     "name": "stdout",
     "output_type": "stream",
     "text": [
      "-30\n",
      "-30\n",
      "-100\n"
     ]
    }
   ],
   "source": [
    "import heapq\n",
    "# 파이썬은 최소 heap으로 이루어져 있다.\n",
    "\n",
    "lst= [5,10,15,25,20,40,60,100,-30]\n",
    "\n",
    "# heap으로 만들기\n",
    "heapq.heapify(lst)\n",
    "print(min(lst))\n",
    "\n",
    "# heapq로 최솟값구하기\n",
    "a =heapq.heappop(lst)\n",
    "print(a)\n",
    "\n",
    "heapq.heappush(lst,-100)\n",
    "b=heapq.heappop(lst) #log(n)으로 최솟값을 가지고온다\n",
    "print(b)"
   ]
  },
  {
   "cell_type": "code",
   "execution_count": null,
   "metadata": {},
   "outputs": [],
   "source": []
  },
  {
   "cell_type": "markdown",
   "metadata": {},
   "source": [
    "## 힙을 이용한 문제\n",
    "1. 완전이진트리는 배열로 구현될 수 있고, 힙도 배열로 구현할 수 있다.\n"
   ]
  },
  {
   "cell_type": "code",
   "execution_count": null,
   "metadata": {},
   "outputs": [],
   "source": [
    "class PriorityQueue:\n",
    "    '''\n",
    "    우선순위 큐를 힙으로 구현합니다\n",
    "    '''\n",
    "\n",
    "    # 0*n = 0 의미가 없어서\n",
    "    # 2n,2n+1\n",
    "    # 0 더미 데이터로 만들어주어야한다.\n",
    "    def __init__(self) :\n",
    "        self.data = [0]\n",
    "        \n",
    "    \n",
    "    def push(self, value) :\n",
    "        '''\n",
    "        우선순위 큐에 value를 삽입합니다.\n",
    "        '''\n",
    "        self.data.append(value)\n",
    "        # value 와 root비교\n",
    "        index = len(self.data) - 1\n",
    "        # 맨위로 올라가야한다.\n",
    "        # 마지막으로 삽입한 값이 루트 노드가 되면 반복문을 종료한다.\n",
    "        while index !=1:\n",
    "            # 자신의 부모 노드에 접근한다.\n",
    "            if self.data[index//2] > self.data[index] :\n",
    "                temp =  self.data[index]\n",
    "                self.data[index] = self.data[index//2]\n",
    "                self.data[index//2] = temp\n",
    "                index = index //2\n",
    "\n",
    "            else:\n",
    "                break\n",
    "\n",
    "    def pop(self) :\n",
    "        '''\n",
    "        우선순위가 가장 높은 원소를 제거합니다.\n",
    "        '''\n",
    "        if len(self.data) == 1:\n",
    "            return\n",
    "        # 예 [1,2,3,4] -> [4,2,3,4] -> [4,2,3]\n",
    "\n",
    "        # 마지막 노드를 루트 노드 자리로 이동한다.\n",
    "        self.data[1] = self.data[-1]\n",
    "        self.data.pop()\n",
    "\n",
    "        index = 1\n",
    "\n",
    "        while True:\n",
    "            priority=-1\n",
    "            # 1. 노드에 아무런 자식이 없는 경우\n",
    "            # priorirtuy 왼쪽으로 갈껀지 오른쪽으로 갈건지\n",
    "            # [0,1,2,3,4]\n",
    "            if len(self.data) - 1 < index * 2:\n",
    "                break\n",
    "            #오직 왼쪽에만 자식이 있는 경우\n",
    "            elif len(self.data) - 1 < index * 2 + 1:\n",
    "                priority = index * 2 \n",
    "            else:\n",
    "                if self.data[index*2] < self.data[index*2 + 1]\n",
    "            \n",
    "            if self.data[index] > self.data[prioirty]:\n",
    "                temp = self.data[index]\n",
    "                self.data[index] = self.data[prioirty]\n",
    "                self.data[prioirty] = temp\n",
    "\n",
    "                index = prioirty\n",
    "            else:\n",
    "                break\n",
    "\n",
    "    def top(self) :\n",
    "        '''\n",
    "        우선순위가 가장 높은 원소를 반환합니다. 만약 우선순위 큐가 비어있다면 -1을 반환합니다.\n",
    "        '''\n",
    "        if len(self.data) == 1: # 더미데이터만 있는경우\n",
    "            return -1\n",
    "        else : # root노드 반환\n",
    "            return self.data[1]"
   ]
  },
  {
   "cell_type": "code",
   "execution_count": null,
   "metadata": {},
   "outputs": [],
   "source": []
  },
  {
   "cell_type": "code",
   "execution_count": null,
   "metadata": {},
   "outputs": [],
   "source": []
  },
  {
   "cell_type": "code",
   "execution_count": null,
   "metadata": {},
   "outputs": [],
   "source": []
  },
  {
   "cell_type": "code",
   "execution_count": null,
   "metadata": {},
   "outputs": [],
   "source": []
  }
 ],
 "metadata": {
  "interpreter": {
   "hash": "ee431ac274e33366c10c3ac30cd4fb33ff3ed0dd6a8cc3f05073bd47291a9c12"
  },
  "kernelspec": {
   "display_name": "Python 3.8.12",
   "language": "python",
   "name": "python3"
  },
  "language_info": {
   "codemirror_mode": {
    "name": "ipython",
    "version": 3
   },
   "file_extension": ".py",
   "mimetype": "text/x-python",
   "name": "python",
   "nbconvert_exporter": "python",
   "pygments_lexer": "ipython3",
   "version": "3.8.12"
  },
  "orig_nbformat": 4
 },
 "nbformat": 4,
 "nbformat_minor": 2
}
