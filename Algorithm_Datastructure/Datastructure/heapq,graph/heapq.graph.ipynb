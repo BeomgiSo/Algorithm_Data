{
 "cells": [
  {
   "cell_type": "markdown",
   "metadata": {},
   "source": [
    "> Heap\n",
    "- 여러 값의 최댓값과 최솟값을 빠르게 찾아내도록 만든 자료 구조\n",
    "- 트리 기반의 자료구조이다\n",
    "- 루트 노드에 최대값 혹은 최소값이 정력되어 있다.\n",
    "- 삽입과 삭제가 모두 `O(logn)`이다\n",
    "- 작동원리\n",
    "    - https://gmlwjd9405.github.io/2018/05/10/data-structure-heap.html\n",
    "    - https://ratsgo.github.io/data%20structure&algorithm/2017/09/27/heapsort/\n",
    "\n",
    "- https://docs.python.org/ko/3/library/heapq.html\n",
    "- heapq.heappush(heap, item) :힙 불변성을 유지하면서, item 값을 heap으로 푸시합니다\n",
    "- heapq.heappop(heap) : 힙 불변성을 유지하면서, heap에서 가장 작은 항목을 팝하고 반환합니다. 힙이 비어 있으면, IndexError가 발생합니다. 팝 하지 않고 가장 작은 항목에 액세스하려면, heap[0]을 사용하십시오.\n",
    "- heapq.heappushpop(heap, item) : 힙에 item을 푸시한 다음, heap에서 가장 작은 항목을 팝하고 반환합니다. 결합한 액션은 heappush()한 다음 heappop()을 별도로 호출하는 것보다 더 효율적으로 실행합니다.\n"
   ]
  },
  {
   "cell_type": "code",
   "execution_count": 1,
   "metadata": {},
   "outputs": [
    {
     "name": "stdout",
     "output_type": "stream",
     "text": [
      "-30\n",
      "-30\n",
      "-100\n"
     ]
    }
   ],
   "source": [
    "import heapq\n",
    "# 파이썬은 최소 heap으로 이루어져 있다.\n",
    "\n",
    "lst= [5,10,15,25,20,40,60,100,-30]\n",
    "\n",
    "# heap으로 만들기\n",
    "heapq.heapify(lst)\n",
    "print(min(lst))\n",
    "\n",
    "# heapq로 최솟값구하기\n",
    "a =heapq.heappop(lst)\n",
    "print(a)\n",
    "\n",
    "heapq.heappush(lst,-100)\n",
    "b=heapq.heappop(lst) #log(n)으로 최솟값을 가지고온다\n",
    "print(b)"
   ]
  },
  {
   "cell_type": "code",
   "execution_count": null,
   "metadata": {},
   "outputs": [],
   "source": []
  },
  {
   "cell_type": "code",
   "execution_count": null,
   "metadata": {},
   "outputs": [],
   "source": []
  },
  {
   "cell_type": "code",
   "execution_count": null,
   "metadata": {},
   "outputs": [],
   "source": []
  },
  {
   "cell_type": "code",
   "execution_count": null,
   "metadata": {},
   "outputs": [],
   "source": []
  },
  {
   "cell_type": "code",
   "execution_count": null,
   "metadata": {},
   "outputs": [],
   "source": []
  }
 ],
 "metadata": {
  "interpreter": {
   "hash": "ee431ac274e33366c10c3ac30cd4fb33ff3ed0dd6a8cc3f05073bd47291a9c12"
  },
  "kernelspec": {
   "display_name": "Python 3.8.12",
   "language": "python",
   "name": "python3"
  },
  "language_info": {
   "codemirror_mode": {
    "name": "ipython",
    "version": 3
   },
   "file_extension": ".py",
   "mimetype": "text/x-python",
   "name": "python",
   "nbconvert_exporter": "python",
   "pygments_lexer": "ipython3",
   "version": "3.8.12"
  },
  "orig_nbformat": 4
 },
 "nbformat": 4,
 "nbformat_minor": 2
}
