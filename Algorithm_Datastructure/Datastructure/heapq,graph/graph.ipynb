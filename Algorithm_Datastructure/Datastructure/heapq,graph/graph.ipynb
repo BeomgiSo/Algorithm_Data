{
 "cells": [
  {
   "cell_type": "markdown",
   "metadata": {},
   "source": [
    "# elice_알고리즘의 정석2_그래프 알고리즘\n",
    "\n",
    "## content\n",
    "1. 그래프의 개념\n",
    "2. 그래프의 표현\n",
    "3. 너비우선탐색\n",
    "4. 깊이수선탐색\n",
    "5. 문제를 그래프로 표현하기\n",
    "6. 정리"
   ]
  },
  {
   "cell_type": "markdown",
   "metadata": {},
   "source": [
    "> ### 01.그래프의 개념\n",
    "- 그래프란?\n",
    "    - `정점`과 `간선`으로 이루어진 자료구조, `정점간의 관계`를 조직도로 표현\n",
    "\n",
    "- 정점 : `여러가지 특성을` 가질 수 있는 `객체`를 의미\n",
    "- 간선 : `간선`은 `정점들 간의 관계`를 의미 예) 거리,가중치 등등\n",
    "\n",
    "- 그래프의 종류\n",
    "    - 무방향 그래프 : 정점간 간선에 `방향이 없는` 그래프\n",
    "    - 방향 그래프 : 정점간 간선에 `방향이 있는` 그래프\n",
    "\n",
    "- 그래프의 특징\n",
    "    1. `자기 자신을 향하는` 간선은 없다.\n",
    "    2. `중복된 간선`을 허용하지 않는다.\n",
    "\n"
   ]
  },
  {
   "cell_type": "markdown",
   "metadata": {},
   "source": [
    "> ### 02.그래프의 표현\n",
    "- 그래프를 표현하는 방식\n",
    "    - 인접행렬 : 무방향 그래프\n",
    "\n",
    "    - 인접행렬 : 무방향 그래프 with 가중치\n",
    "\n",
    "    - 인접행렬 : 방향 그래프\n",
    "\n",
    "    - 인접행렬 : 방향 그래프 with 가중치\n",
    "\n",
    "\n"
   ]
  },
  {
   "cell_type": "code",
   "execution_count": null,
   "metadata": {},
   "outputs": [],
   "source": [
    "graph = {0:{1:5,2:1,3:1},2:{1,4},3:{0,3}}\n",
    "graph = [[0,5,1,1],[0,0,0,0],[0,4,0,0],[3,0,0,0]]"
   ]
  },
  {
   "cell_type": "code",
   "execution_count": null,
   "metadata": {},
   "outputs": [],
   "source": [
    "class AdjNode:\n",
    "    def __init__(self,vertex,value):\n",
    "        self.vertex = vertex #노드\n",
    "        self.value = value # 가중치\n",
    "        self.next = None\n",
    "\n",
    "class Graph:\n",
    "    def __init__(self,num):\n",
    "        self.V = num\n",
    "        self.graph = [None]*self.V\n",
    "\n",
    "    def add_edge(self,s,d,w):\n",
    "        node = AdjNode(d)\n",
    "        node.next = self.graph[s]\n",
    "        node.value = w\n",
    "        self.graph[s] = node\n",
    "        "
   ]
  },
  {
   "cell_type": "markdown",
   "metadata": {},
   "source": [
    "> ### 03.너비우선탐색(Breadth-First Search)\n",
    "- 그래프의 탐색 기법 중 하나로, 부모를 공유하는 인접 노드들을 우선적으로 탐색"
   ]
  },
  {
   "cell_type": "code",
   "execution_count": null,
   "metadata": {},
   "outputs": [],
   "source": [
    "def BFS(graph,root):\n",
    "    visited = set([root])\n",
    "    search = []\n",
    "    queue = deque([root])\n",
    "\n",
    "    while queue:\n",
    "        cur = queue.popleft()\n",
    "        search.append(cur)\n",
    "        for node in graph[cur]:\n",
    "            if node not in visited:\n",
    "                queue.append(node)\n",
    "                visited.add(node)\n",
    "    return search"
   ]
  },
  {
   "cell_type": "markdown",
   "metadata": {},
   "source": [
    "> ### 04.깊이우선탐색(Depth-First Search)\n",
    "- 그래프를 탐색하는 기법중 하나로, `다음 분기로 넘어가기 전에 해당 분기를 우선적`으로 탐색하는 방법"
   ]
  },
  {
   "cell_type": "code",
   "execution_count": null,
   "metadata": {},
   "outputs": [],
   "source": [
    "def DFS(graph,start_node):\n",
    "    visit = [start_node]\n",
    "    stack = []\n",
    "\n",
    "    stack.append(start_node)\n",
    "    cur = start_node\n",
    "\n",
    "    while stack:\n",
    "        for node in graph[cur]:\n",
    "            if node not in visited:\n",
    "                stack.append(node)\n",
    "                visited.append(node)\n",
    "            else:\n",
    "                stack.pop()\n",
    "                if stack : cur = stack[-1]\n",
    "    \n",
    "    return visited\n",
    "\n",
    "\n",
    "visited = []\n",
    "\n",
    "def DFS_2(graph,cur):\n",
    "    global visited\n",
    "    if cur not in visited:\n",
    "        for node in graph[cur]:\n",
    "            DFS(graph.node)"
   ]
  }
 ],
 "metadata": {
  "interpreter": {
   "hash": "7f37ace014b0799cdc10553b04f703fe005a16849524b5a284da527bf27cbf80"
  },
  "kernelspec": {
   "display_name": "Python 3.8.12",
   "language": "python",
   "name": "python3"
  },
  "language_info": {
   "name": "python",
   "version": "3.8.12"
  },
  "orig_nbformat": 4
 },
 "nbformat": 4,
 "nbformat_minor": 2
}
