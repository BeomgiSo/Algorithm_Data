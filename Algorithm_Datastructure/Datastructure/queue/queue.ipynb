{
 "cells": [
  {
   "cell_type": "markdown",
   "metadata": {},
   "source": [
    "- Queue\n",
    "- stack -FILO\n",
    "- queue = FIFO\n",
    "    - 1 3 5 7 9 로 들어왔다면 (enqueue)\n",
    "    - 1 3 5 7 9 로 나간다(dequeue)\n",
    "\n",
    "- queue는 2개\n",
    "- enqueue = O(1)\n",
    "- dequeue = O(1)\n",
    "\n",
    "- Doubly Linked List로 구현한다."
   ]
  },
  {
   "cell_type": "code",
   "execution_count": null,
   "metadata": {},
   "outputs": [],
   "source": [
    "class QueueNode:\n",
    "    def __init__(self,val:int):\n",
    "        self.val =val\n",
    "        self.left = None\n",
    "        self.right= None\n",
    "\n",
    "class Queue:\n",
    "    def __init__(self):\n",
    "        self._head = QueueNode(0)\n",
    "        self._tail = QueueNode(0)\n",
    "        self._head.right = self._tail\n",
    "        self._tail.left = "
   ]
  },
  {
   "cell_type": "code",
   "execution_count": null,
   "metadata": {},
   "outputs": [],
   "source": []
  },
  {
   "cell_type": "code",
   "execution_count": 1,
   "metadata": {},
   "outputs": [
    {
     "name": "stdout",
     "output_type": "stream",
     "text": [
      "deque([])\n",
      "deque([4, 5, 6, 7, 2, 1])\n",
      "4\n",
      "deque([5, 6, 7, 2, 1])\n",
      "5\n",
      "1\n",
      "5 6 7 2\n"
     ]
    }
   ],
   "source": [
    "# 엘리스 Queue\n",
    "from collections import deque\n",
    "q=deque()\n",
    "print(q)\n",
    "\n",
    "q.append(4)\n",
    "q.append(5)\n",
    "q.append(6)\n",
    "q.append(7)\n",
    "q.append(2)\n",
    "q.append(1)\n",
    "print(q)\n",
    "\n",
    "print(q.popleft())\n",
    "print(q)\n",
    "\n",
    "print(len(q))\n",
    "\n",
    "print(q.pop())\n",
    "\n",
    "print(*q)\n"
   ]
  },
  {
   "cell_type": "markdown",
   "metadata": {},
   "source": [
    "## `이것이 코딩테스트이다`\n",
    "- `큐(Queue)`는 대기 줄에 비유할 수 있다.\n",
    "- `먼저 온 사람이 먼저` 들어가게 된다. 나중에 온 사람이 나중에 들어간다.\n",
    "- `FIFO(first in first out)` 선입선출 구조이다.\n",
    "- python의 `deque`를 이용해서 활용한다.\n",
    "    - deque는 스텍과 큐의 장점으 모두 채택한 것인데 데이터를 넣고 뺴는 속도가 리스트 자료형에 비해 효율적이며 queue 라이브러리를 활용하는것 보다 더 간단하다.\n",
    "    - 먼저 들어온 사람이 왼쪽으로 부터 쌓이게 된다.\n",
    "\n",
    "- 리스트를 통해 나타낼 수 있지만(pop을 사용하면 시간복잡도가 O(N)이된다.), 시간복잡도이유로 deque의 라이브러리를 사용하자.\n",
    "\n",
    "- .append(요소)\t요소값을 오른쪽 끝에 넣음\n",
    "- .appendleft(요소)\t요소값을 왼쪽 끝에 넣음\n",
    "- .pop()\t오른쪽 끝의 요소 빼옴\n",
    "- .popleft()\t왼쪽 끝의 요소 빼옴\n",
    "- .remove(요소)\t해당 요소값 찾아 삭제\n",
    "- .extend(배열)\t해당 배열을 순환하며 오른쪽에 변수 추가\n",
    "- .extendleft(배열)\t해당 배열을 순환하며 왼쪽에 변수 추가\n",
    "- .rotate(숫자)\t숫자 만큼 회전\n",
    "\n",
    "\n",
    "\n",
    "- 용어\n",
    "- enqueue : 큐에 데이터를 넣는기능\n",
    "- dequeue : 큐에 데이터를 꺼내는 기능\n",
    "\n",
    "```python\n",
    "import queue\n",
    "Queue: 일번적인 큐\n",
    "LifoQueue : 나중에 입력된 데이터가 만저 출력되는 구조(스택과 비슷)\n",
    "Priorityqueue : 데이터에 우선순이를 매겨 우선순위가 높은 순으로 출력하는 구조\n",
    "```\n",
    "\n",
    "\n"
   ]
  },
  {
   "cell_type": "code",
   "execution_count": 4,
   "metadata": {},
   "outputs": [
    {
     "name": "stdout",
     "output_type": "stream",
     "text": [
      "deque([2, 3, 1, 4])\n",
      "deque([4, 1, 3, 2])\n"
     ]
    }
   ],
   "source": [
    "from collections import deque\n",
    "\n",
    "# 큐(Queue)의 구현을 위해  deque 라이브러리 사용\n",
    "queue= deque()\n",
    "# 5삽입 - 2삽입 - 3삽입 - 7삽입 - 삭제 - 1삽입 - 4삽입 -삭제\n",
    "# 가장 오른쪽에 넣는다\n",
    "queue.append(5)\n",
    "queue.append(2)\n",
    "queue.append(3)\n",
    "queue.append(7)\n",
    "queue.popleft()\n",
    "queue.pop()\n",
    "queue.append(1)\n",
    "queue.append(4)\n",
    "\n",
    "print(queue)\n",
    "queue.reverse()\n",
    "print(queue)\n",
    "\n",
    "\n",
    "\n"
   ]
  },
  {
   "cell_type": "markdown",
   "metadata": {},
   "source": [
    "- 리스트에서는 첫번째 요소를 삭제할 떄 pop(0)을 사용하지만, deque는 popleft()를 사용한다. \n",
    "- 어울러 deque를 쓰는것과 마찬가지 효과를 낼 수 있자만, deque를 사용하여 스택, 큐 작업시 다음과같은장점이 있다.\n",
    "- deque는 list보다 속도가 빠르다. pop(0)와 같은 메서드를 수행할 떄 리시트라면 O(N)을 연산하지만 deque를 사용하면 O(1)연산을 수행한다.\n",
    "- 쓰레드 환경에서 안전하다.\n"
   ]
  },
  {
   "cell_type": "code",
   "execution_count": 6,
   "metadata": {},
   "outputs": [
    {
     "name": "stdout",
     "output_type": "stream",
     "text": [
      "[4, 5, 1, 2, 3]\n",
      "deque([1, 2, 3, 4, 5, 6])\n",
      "deque([0, 1, 2, 3, 4, 5, 6])\n",
      "6\n",
      "0\n",
      "deque([1, 2, 3, 4, 5])\n"
     ]
    }
   ],
   "source": [
    "# [1,2,3,4,5] 의다이얼이 그리키고 있고 눈금은 1이라고하자\n",
    "# 다이얼을 오른쪽으로 2칸 돌리면 가르키는 눈금이 어떻게 될까?\n",
    "# [4,5,1,2,3]\n",
    "\n",
    "from collections import deque\n",
    "\n",
    "a = [1,2,3,4,5]\n",
    "q= deque(a)\n",
    "q.rotate(2)\n",
    "result = list(q)\n",
    "print(result)\n",
    "\n",
    "# deque의 사용법\n",
    "d = deque([1,2,3,4,5])\n",
    "d.append(6)\n",
    "print(d) # 1,2,3,4,5,6\n",
    "\n",
    "d.appendleft(0)\n",
    "print(d) # 0,1,2,3,4,5,6\n",
    "\n",
    "print(d.pop()) # print(5)\n",
    "print(d.popleft())\n",
    "print(d)\n"
   ]
  },
  {
   "cell_type": "code",
   "execution_count": null,
   "metadata": {},
   "outputs": [],
   "source": []
  },
  {
   "cell_type": "code",
   "execution_count": null,
   "metadata": {},
   "outputs": [],
   "source": [
    "import queue\n",
    "data_queue = queue.Queue()\n",
    "\n",
    "# 큐에 데이터 넣기\n",
    "data_queue.put(\"cobugi\")\n",
    "data_queue.put(7)\n",
    "\n",
    "# 큐에 데이터가 몇개인지 확인\n",
    "data_queue.qsize()\t\t\t# 2\n",
    "\n",
    "# 큐에서 데이터 꺼내기\n",
    "data_queue.get()\n",
    "\t# \"cobugi\" (why?:제일 먼저 들어간 데이터가 \"cobugi\"니까)\n",
    "    \n",
    "# 큐에 데이터가 몇개인지 다시 확인\n",
    "data_queue.qsize()\t\t\t# 1\n",
    "\n",
    "# 큐에서 데이터 또 꺼내기\n",
    "data_queue.get()\t\t\t# 7\n",
    "\n",
    "# 큐에 데이터가 몇개인지 다시 확인\n",
    "data_queue.qsize()\t\t\t# 0 (다 꺼냄)"
   ]
  },
  {
   "cell_type": "code",
   "execution_count": null,
   "metadata": {},
   "outputs": [],
   "source": [
    "import queue\n",
    "data_queue = queue.LifoQueue()\n",
    "\n",
    "# 큐에 데이터 넣기\n",
    "data_queue.put(\"cobugi\")\n",
    "data_queue.put(7)\n",
    "\n",
    "# 큐에 데이터가 몇개인지 확인\n",
    "data_queue.qsize()\t\t\t# 2\n",
    "\n",
    "# 큐에서 데이터 꺼내기\n",
    "data_queue.get()\n",
    "\t# 7 (why?:제일 나중에 들어간 데이터가 7 이니까)\n",
    "    \n",
    "# 큐에 데이터가 몇개인지 다시 확인\n",
    "data_queue.qsize()\t\t\t# 1\n",
    "\n",
    "# 큐에서 데이터 또 꺼내기\n",
    "data_queue.get()\t\t\t# \"cobugi\"\n",
    "\n",
    "# 큐에 데이터가 몇개인지 다시 확인\n",
    "data_queue.qsize()\t\t\t# 0 (다 꺼냄)"
   ]
  },
  {
   "cell_type": "code",
   "execution_count": null,
   "metadata": {},
   "outputs": [],
   "source": [
    "import queue\n",
    "data_queue = queue.PriorityQueue()\n",
    "\n",
    "# 큐에 데이터 넣기\n",
    "# tuple형식으로 넣기 (우선순위, 넣을 데이터)\n",
    "# 우선순위는 숫자가 작을수록 높음(= 1위 > 3위)\n",
    "data_queue.put((10, \"cobugi\"))\n",
    "data_queue.put((5, 7))\n",
    "data_queue.put((15, \"rabbit\"))\n",
    "\n",
    "# 큐에 데이터가 몇개인지 확인\n",
    "data_queue.qsize()\t\t\t# 3\n",
    "\n",
    "# 큐에서 데이터 꺼내기\n",
    "data_queue.get()\n",
    "\t# (5, 1) (why?:우선순위가 제일 높으니까)\n",
    "    \n",
    "# 큐에서 데이터 또 꺼내기\n",
    "data_queue.get()\t\t\t# (10, \"cobugi\")"
   ]
  },
  {
   "cell_type": "code",
   "execution_count": null,
   "metadata": {},
   "outputs": [],
   "source": []
  },
  {
   "cell_type": "code",
   "execution_count": null,
   "metadata": {},
   "outputs": [],
   "source": []
  },
  {
   "cell_type": "code",
   "execution_count": null,
   "metadata": {},
   "outputs": [],
   "source": []
  },
  {
   "cell_type": "markdown",
   "metadata": {},
   "source": []
  }
 ],
 "metadata": {
  "interpreter": {
   "hash": "ee431ac274e33366c10c3ac30cd4fb33ff3ed0dd6a8cc3f05073bd47291a9c12"
  },
  "kernelspec": {
   "display_name": "Python 3.8.12",
   "language": "python",
   "name": "python3"
  },
  "language_info": {
   "codemirror_mode": {
    "name": "ipython",
    "version": 3
   },
   "file_extension": ".py",
   "mimetype": "text/x-python",
   "name": "python",
   "nbconvert_exporter": "python",
   "pygments_lexer": "ipython3",
   "version": "3.8.12"
  },
  "orig_nbformat": 4
 },
 "nbformat": 4,
 "nbformat_minor": 2
}
