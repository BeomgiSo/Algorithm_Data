{
 "cells": [
  {
   "cell_type": "markdown",
   "metadata": {},
   "source": [
    "# python data structure\n",
    "- 스택과 큐\n",
    "- 튜플과 집합\n",
    "- 사전\n",
    "- collection 모듈"
   ]
  },
  {
   "cell_type": "code",
   "execution_count": 1,
   "metadata": {},
   "outputs": [
    {
     "name": "stdout",
     "output_type": "stream",
     "text": [
      "True\n",
      "27\n",
      "27\n",
      "3.5\n",
      "3\n",
      "1\n",
      "123.46\n"
     ]
    }
   ],
   "source": [
    "f1 = 10\n",
    "f2 = 10\n",
    "print(f1 == f2)\n",
    "print(3*3*3)\n",
    "print(3**3)\n",
    "\n",
    "print(7/2)\n",
    "print(7//2)\n",
    "print(7%2)\n",
    "\n",
    "print(round(123.456,2))\n"
   ]
  },
  {
   "cell_type": "code",
   "execution_count": 3,
   "metadata": {},
   "outputs": [
    {
     "name": "stdout",
     "output_type": "stream",
     "text": [
      "10\n",
      "10.0\n",
      "3.3333333333333335\n"
     ]
    }
   ],
   "source": [
    "a = 10 \n",
    "print(a)\n",
    "a = float(10)\n",
    "print(a)\n",
    "b=3\n",
    "print(a/b)\n"
   ]
  },
  {
   "cell_type": "code",
   "execution_count": 4,
   "metadata": {},
   "outputs": [
    {
     "name": "stdout",
     "output_type": "stream",
     "text": [
      "10 10\n"
     ]
    }
   ],
   "source": [
    "# 실수형에서 정수형으로 변환시 소수점 이하에서 내림한다!\n",
    "a = 10.3\n",
    "b = 10.7\n",
    "print(int(a),int(b))"
   ]
  },
  {
   "cell_type": "code",
   "execution_count": null,
   "metadata": {},
   "outputs": [],
   "source": [
    "# 문자열로 선언되도 int float으로 변환이 가능하다.\n",
    "a='76.3'\n",
    "b=float(a)\n",
    "print(b)\n",
    "print(a+b) # 문자열과 숫자열의 덧셈은 불가능해 애러가 발생"
   ]
  },
  {
   "cell_type": "code",
   "execution_count": 9,
   "metadata": {},
   "outputs": [
    {
     "name": "stdout",
     "output_type": "stream",
     "text": [
      "<class 'int'> 10\n",
      "<class 'float'> 10.3\n",
      "<class 'str'> 10.3\n",
      "True\n",
      "True\n",
      "True\n"
     ]
    }
   ],
   "source": [
    "a=int(10.3)\n",
    "b=float(10.3)\n",
    "c=str(10.3)\n",
    "print(type(a),a)\n",
    "print(type(b),b)\n",
    "print(type(c),c)\n",
    "print(type(c) == str)\n",
    "print(type(b) == float)\n",
    "print(type(a) == int)"
   ]
  },
  {
   "cell_type": "markdown",
   "metadata": {},
   "source": [
    "- 8bit = 1byte\n"
   ]
  },
  {
   "cell_type": "code",
   "execution_count": 11,
   "metadata": {},
   "outputs": [
    {
     "name": "stdout",
     "output_type": "stream",
     "text": [
      "[1, 2, 3, 4, 5, 6, 7, 8, 9, 10]\n"
     ]
    }
   ],
   "source": [
    "a=list(range(1,11))\n",
    "print(a)"
   ]
  },
  {
   "cell_type": "code",
   "execution_count": 14,
   "metadata": {},
   "outputs": [
    {
     "name": "stdout",
     "output_type": "stream",
     "text": [
      "[1, 2, 3, 4, 5, 6]\n",
      "[2, 3, 4, 5, 6, 7, 8, 9, 10]\n",
      "[1, 2, 3, 4, 5, 6, 7, 8, 9, 10]\n",
      "[1, 2, 3, 4, 5, 6, 7, 8, 9, 10]\n",
      "[1, 3, 5, 7, 9]\n",
      "[10, 9, 8, 7, 6, 5, 4, 3, 2, 1]\n"
     ]
    }
   ],
   "source": [
    "print(a[0:6])\n",
    "print(a[-9:]) # -9 부터 끝까지\n",
    "print(a[:])\n",
    "print(a[-50:50]) # 범위가 넘어갈 경우 자동으로 최대범위를 지정한다\n",
    "print(a[::2]) # 2 칸씩\n",
    "print(a[::-1]) # 역 슬라이싱\n",
    "#[start : finish : n칸]"
   ]
  },
  {
   "cell_type": "code",
   "execution_count": null,
   "metadata": {},
   "outputs": [],
   "source": [
    "print([1,2,3]+[4,5,6]) # 리스트의 합\n",
    "print([1,2,3]*2)"
   ]
  },
  {
   "cell_type": "code",
   "execution_count": 15,
   "metadata": {},
   "outputs": [
    {
     "name": "stdout",
     "output_type": "stream",
     "text": [
      "[1, 2, 3, 4, 5, 6]\n",
      "[1, 2, 3, 4, 5, 6, 1, 2, 3]\n",
      "[-1, 1, 2, 3, 4, 5, 6, 1, 2, 3]\n",
      "[1, 2, 3, 4, 5, 6, 1, 2, 3]\n",
      "[2, 3, 4, 5, 6, 1, 2, 3]\n"
     ]
    }
   ],
   "source": [
    "# list => append,extend,insert,remove,del\n",
    "a=[1,2,3,4,5]\n",
    "a.append(6)\n",
    "print(a)\n",
    "a.extend([1,2,3]) #여러개 추가\n",
    "print(a)\n",
    "a.insert(0,-1)\n",
    "print(a)\n",
    "a.remove(-1)\n",
    "print(a)\n",
    "del a[0]\n",
    "print(a)"
   ]
  },
  {
   "cell_type": "code",
   "execution_count": 17,
   "metadata": {},
   "outputs": [
    {
     "name": "stdout",
     "output_type": "stream",
     "text": [
      "[5, 4, 3, 2, 1]\n",
      "[1, 2, 3, 4, 5]\n",
      "[6, 7, 8, 9, 10]\n",
      "[1, 2, 3, 4, 5]\n"
     ]
    }
   ],
   "source": [
    "a=[5,4,3,2,1]\n",
    "b=[1,2,3,4,5]\n",
    "# = 의 의미는 같다가아닌 메모리 주소에 해당값을 연결(할당)한다는 의미\n",
    "b=a\n",
    "print(b)\n",
    "a.sort()\n",
    "print(b)\n",
    "\n",
    "b = [6,7,8,9,10]\n",
    "print(b)\n",
    "print(a)"
   ]
  },
  {
   "cell_type": "code",
   "execution_count": null,
   "metadata": {},
   "outputs": [],
   "source": [
    "# 패킹 , 언패킹\n",
    "t=[1,2,3]\n",
    "a,b,c=t\n",
    "print(t,a,b,c)"
   ]
  },
  {
   "cell_type": "code",
   "execution_count": 20,
   "metadata": {},
   "outputs": [
    {
     "name": "stdout",
     "output_type": "stream",
     "text": [
      "1 2 3\n",
      "a bc\n",
      "a,b,c\n",
      "value is 10\n"
     ]
    }
   ],
   "source": [
    "# 형식에 맞춰 출력하기\n",
    "print(1,2,3)\n",
    "print(\"a\"+\" \"+\"b\"+\"c\")\n",
    "print(\"{},{},{}\".format(\"a\",\"b\",\"c\",\"d\"))\n",
    "value = 10\n",
    "print(f\"value is {value}\")"
   ]
  },
  {
   "cell_type": "code",
   "execution_count": 23,
   "metadata": {},
   "outputs": [
    {
     "name": "stdout",
     "output_type": "stream",
     "text": [
      "This is 1.23\n",
      "This is 1.235\n",
      "This is 1.2346\n",
      "This is 1.23457\n"
     ]
    }
   ],
   "source": [
    "# %-format\n",
    "a=1.234567\n",
    "print(\"This is %3.2f\" %(a))\n",
    "print(\"This is %1.3f\" %(a))\n",
    "print(\"This is %2.4f\" %(a))\n",
    "print(\"This is %2.5f\" %(a)) # 유효숫자 5개 반올림\n",
    "\n"
   ]
  },
  {
   "cell_type": "code",
   "execution_count": 2,
   "metadata": {},
   "outputs": [
    {
     "name": "stdout",
     "output_type": "stream",
     "text": [
      "a\n",
      "b\n",
      "c\n",
      "d\n",
      "e\n",
      "f\n",
      "****************************************************************************************************\n",
      "g\n",
      "f\n",
      "e\n",
      "d\n",
      "c\n",
      "b\n",
      "a\n"
     ]
    }
   ],
   "source": [
    "# 7 \n",
    "for i in \"abcdef\":\n",
    "    print(i)\n",
    "\n",
    "print(\"*\"*100)\n",
    "a = \"abcdefg\"\n",
    "for i in range(len(a)-1,0-1,-1):\n",
    "    print(a[i])"
   ]
  },
  {
   "cell_type": "code",
   "execution_count": null,
   "metadata": {},
   "outputs": [],
   "source": [
    "# list comprehension\n",
    "array = [ i for i in range(20) if i % 2 == 1]\n",
    "# 2차원 배열 초기화 방법\n",
    "n = 3\n",
    "m = 4\n",
    "array = [[0]*m for _ in range(n)]\n",
    "print(array)\n",
    "# 잘못된 초기화\n",
    "arraty = [[0]*m]*n\n",
    "# list 함수 append sort reverse insert count remove"
   ]
  },
  {
   "cell_type": "code",
   "execution_count": 5,
   "metadata": {},
   "outputs": [
    {
     "name": "stdout",
     "output_type": "stream",
     "text": [
      "[1, 2, 4]\n"
     ]
    }
   ],
   "source": [
    "a = [1,2,3,4,5,5,5,5]\n",
    "remove_set = {3,5}\n",
    "result = [x for x in a if x not in remove_set]\n",
    "print(result)"
   ]
  },
  {
   "cell_type": "markdown",
   "metadata": {},
   "source": [
    "> 튜플 자료형"
   ]
  },
  {
   "cell_type": "markdown",
   "metadata": {},
   "source": [
    "> 딕셔너리 자료형"
   ]
  },
  {
   "cell_type": "code",
   "execution_count": 7,
   "metadata": {},
   "outputs": [
    {
     "name": "stdout",
     "output_type": "stream",
     "text": [
      "dict_keys(['사과', '바나나', '코코넛', '당근'])\n",
      "dict_values(['Apple', 'Banana', 'Coconet', 'Carrat'])\n"
     ]
    }
   ],
   "source": [
    "# dictionary\n",
    "data = dict()\n",
    "\n",
    "data['사과'] = \"Apple\"\n",
    "data['바나나'] = \"Banana\"\n",
    "data['코코넛'] = \"Coconet\"\n",
    "data['당근'] = \"Carrat\"\n",
    "key_list = data.keys()\n",
    "value_list = data.values()\n",
    "print(key_list)\n",
    "print(value_list)\n"
   ]
  },
  {
   "cell_type": "code",
   "execution_count": 89,
   "metadata": {},
   "outputs": [
    {
     "data": {
      "text/plain": [
       "{'america': 1, 'korea': 2, 'china': 3, 'japan': 4}"
      ]
     },
     "execution_count": 89,
     "metadata": {},
     "output_type": "execute_result"
    }
   ],
   "source": [
    "country_code = {\"america\" : 1 ,\"korea\" : 2,\"china\" : 3, \"japan\" : 4}\n",
    "country_code"
   ]
  },
  {
   "cell_type": "code",
   "execution_count": 90,
   "metadata": {},
   "outputs": [
    {
     "data": {
      "text/plain": [
       "dict_items([('america', 1), ('korea', 2), ('china', 3), ('japan', 4)])"
      ]
     },
     "execution_count": 90,
     "metadata": {},
     "output_type": "execute_result"
    }
   ],
   "source": [
    "country_code.items()"
   ]
  },
  {
   "cell_type": "code",
   "execution_count": 92,
   "metadata": {},
   "outputs": [
    {
     "name": "stdout",
     "output_type": "stream",
     "text": [
      "america\n",
      "1\n",
      "korea\n",
      "2\n",
      "china\n",
      "3\n",
      "japan\n",
      "4\n"
     ]
    }
   ],
   "source": [
    "for k,v in country_code.items():\n",
    "    print(k)\n",
    "    print(v)"
   ]
  },
  {
   "cell_type": "code",
   "execution_count": null,
   "metadata": {},
   "outputs": [],
   "source": []
  },
  {
   "cell_type": "markdown",
   "metadata": {},
   "source": [
    "> 집합 (set)"
   ]
  },
  {
   "cell_type": "code",
   "execution_count": 87,
   "metadata": {},
   "outputs": [
    {
     "name": "stdout",
     "output_type": "stream",
     "text": [
      "{1, 2, 3, 4, 5, 6, 7}\n",
      "{1, 2, 3, 4, 5}\n",
      "set()\n"
     ]
    }
   ],
   "source": [
    "# 집합함수\n",
    "set_data = set()\n",
    "#print(set_data1)\n",
    "a=set([1,2,3,4,5])\n",
    "b=set([1,2,3,4,4,5,6,7])\n",
    "print(a|b) # 합집합\n",
    "print(a&b) # 교집합\n",
    "print(a-b) # 차집합\n",
    "# add remove update"
   ]
  },
  {
   "cell_type": "code",
   "execution_count": null,
   "metadata": {},
   "outputs": [],
   "source": []
  },
  {
   "cell_type": "markdown",
   "metadata": {},
   "source": [
    "> collecions\n",
    "- list, tuple, dict에 대한 python built-in 확장 자료구조(모듈)\n",
    "- 편의성,실행 효율등을 사용자에게 제공함\n",
    "- 아래 모듈이 존재함\n",
    "    - deque\n",
    "    - Counter\n",
    "    - OrderDict\n",
    "    - defaultdict\n"
   ]
  },
  {
   "cell_type": "code",
   "execution_count": 96,
   "metadata": {},
   "outputs": [
    {
     "name": "stdout",
     "output_type": "stream",
     "text": [
      "deque([0, 1, 2, 3, 4])\n",
      "deque([3, 0, 1, 2, 3, 4])\n"
     ]
    }
   ],
   "source": [
    "from collections import deque\n",
    "dq = deque()\n",
    "for i in range(5):\n",
    "    dq.append(i)\n",
    "print(dq)\n",
    "\n",
    "dq.appendleft(3)\n",
    "print(dq)\n",
    "\n",
    "# reverse, rotate등 linked list의 특성을 지원함"
   ]
  },
  {
   "cell_type": "code",
   "execution_count": 103,
   "metadata": {},
   "outputs": [
    {
     "name": "stdout",
     "output_type": "stream",
     "text": [
      "deque([4, 0, 1, 2, 3])\n"
     ]
    }
   ],
   "source": [
    "dq = deque([0,1,2,3,4])\n",
    "dq.rotate(1)\n",
    "print(dq)"
   ]
  },
  {
   "cell_type": "code",
   "execution_count": 104,
   "metadata": {},
   "outputs": [
    {
     "name": "stdout",
     "output_type": "stream",
     "text": [
      "deque([3, 4, 0, 1, 2])\n"
     ]
    }
   ],
   "source": [
    "dq = deque([0,1,2,3,4])\n",
    "dq.rotate(2)\n",
    "print(dq)"
   ]
  },
  {
   "cell_type": "code",
   "execution_count": 105,
   "metadata": {},
   "outputs": [
    {
     "name": "stdout",
     "output_type": "stream",
     "text": [
      "deque([0, 1, 2, 3, 4])\n",
      "deque([4, 3, 2, 1, 0])\n"
     ]
    }
   ],
   "source": [
    "dq = deque([0,1,2,3,4])\n",
    "print(dq)\n",
    "print(deque(reversed(dq)))"
   ]
  },
  {
   "cell_type": "markdown",
   "metadata": {},
   "source": [
    "> OrderDict\n",
    "- dict과 달리, 데이터를 입력한 순서대로 dict반환\n",
    "- 그러나 dict도 python3.6 부터 입력한 순서를 보장하여 출력함\n",
    "- dict type의 값을 value혹은 key값으로 정렬할 때 사용이 가능하다"
   ]
  },
  {
   "cell_type": "code",
   "execution_count": 113,
   "metadata": {},
   "outputs": [],
   "source": [
    "from collections import OrderedDict\n"
   ]
  },
  {
   "cell_type": "markdown",
   "metadata": {},
   "source": [
    "- defaultdict\n",
    "- Dict type의 값에 기본 값을 지정, 신규값 생성시 사용하는 방법"
   ]
  },
  {
   "cell_type": "code",
   "execution_count": 106,
   "metadata": {},
   "outputs": [
    {
     "ename": "KeyError",
     "evalue": "'1'",
     "output_type": "error",
     "traceback": [
      "\u001b[0;31m---------------------------------------------------------------------------\u001b[0m",
      "\u001b[0;31mKeyError\u001b[0m                                  Traceback (most recent call last)",
      "Input \u001b[0;32mIn [106]\u001b[0m, in \u001b[0;36m<cell line: 2>\u001b[0;34m()\u001b[0m\n\u001b[1;32m      1\u001b[0m d \u001b[38;5;241m=\u001b[39m \u001b[38;5;28mdict\u001b[39m()\n\u001b[0;32m----> 2\u001b[0m \u001b[38;5;28mprint\u001b[39m(\u001b[43md\u001b[49m\u001b[43m[\u001b[49m\u001b[38;5;124;43m'\u001b[39;49m\u001b[38;5;124;43m1\u001b[39;49m\u001b[38;5;124;43m'\u001b[39;49m\u001b[43m]\u001b[49m)\n",
      "\u001b[0;31mKeyError\u001b[0m: '1'"
     ]
    }
   ],
   "source": [
    "d = dict()\n",
    "print(d['1'])"
   ]
  },
  {
   "cell_type": "code",
   "execution_count": 108,
   "metadata": {},
   "outputs": [
    {
     "name": "stdout",
     "output_type": "stream",
     "text": [
      "0\n"
     ]
    }
   ],
   "source": [
    "from collections import defaultdict\n",
    "d = defaultdict(object) # default dictionary 생성\n",
    "d = defaultdict(lambda : 0) # default값을 0으로 설정함 - 함수형태로 넣어주어야 한다/\n",
    "print(d[\"first\"])"
   ]
  },
  {
   "cell_type": "code",
   "execution_count": 110,
   "metadata": {},
   "outputs": [],
   "source": [
    "text = \"\"\"A press release is the quickest and easiest way to get free publicity. If well written, a press release can result in multiple published articles about your firm and its products. And that can mean new prospects contacting you asking you to sell to them. ….\"\"\".lower().split()"
   ]
  },
  {
   "cell_type": "code",
   "execution_count": 114,
   "metadata": {},
   "outputs": [
    {
     "name": "stdout",
     "output_type": "stream",
     "text": [
      "and 3\n",
      "to 3\n",
      "a 2\n",
      "press 2\n",
      "release 2\n",
      "can 2\n",
      "you 2\n",
      "is 1\n",
      "the 1\n",
      "quickest 1\n",
      "easiest 1\n",
      "way 1\n",
      "get 1\n",
      "free 1\n",
      "publicity. 1\n",
      "if 1\n",
      "well 1\n",
      "written, 1\n",
      "result 1\n",
      "in 1\n",
      "multiple 1\n",
      "published 1\n",
      "articles 1\n",
      "about 1\n",
      "your 1\n",
      "firm 1\n",
      "its 1\n",
      "products. 1\n",
      "that 1\n",
      "mean 1\n",
      "new 1\n",
      "prospects 1\n",
      "contacting 1\n",
      "asking 1\n",
      "sell 1\n",
      "them. 1\n",
      "…. 1\n"
     ]
    }
   ],
   "source": [
    "word_count = defaultdict(lambda : 0)\n",
    "for word in text:\n",
    "    word_count[word] +=1\n",
    "for i,v in OrderedDict(sorted(word_count.items(),key = lambda t : t[1],reverse = True)).items():\n",
    "    print(i,v)"
   ]
  },
  {
   "cell_type": "code",
   "execution_count": 115,
   "metadata": {},
   "outputs": [
    {
     "name": "stdout",
     "output_type": "stream",
     "text": [
      "Counter({'hi': 2, 'hei': 1, 'good': 1, 'hello': 1})\n",
      "dict_values([2, 1, 1, 1])\n",
      "dict_keys(['hi', 'hei', 'good', 'hello'])\n"
     ]
    }
   ],
   "source": [
    "from collections import Counter\n",
    "a = Counter([\"hi\",\"hei\",\"hi\",\"good\",\"hello\"])\n",
    "# print(list(Counter))\n",
    "print(a)\n",
    "print(a.values())\n",
    "print(a.keys())\n",
    "word = 'hello word'\n",
    "counter = {}\n",
    "\n",
    "\n",
    "\n"
   ]
  },
  {
   "cell_type": "code",
   "execution_count": 116,
   "metadata": {},
   "outputs": [
    {
     "name": "stdout",
     "output_type": "stream",
     "text": [
      "{'h': 1, 'e': 1, 'l': 2, 'o': 2, ' ': 1, 'w': 1, 'r': 1, 'd': 1}\n"
     ]
    }
   ],
   "source": [
    "for letter in word:\n",
    "    if letter not in counter:\n",
    "        counter[letter] = 0\n",
    "    counter[letter] +=1\n",
    "print(counter)"
   ]
  },
  {
   "cell_type": "code",
   "execution_count": 117,
   "metadata": {},
   "outputs": [
    {
     "name": "stdout",
     "output_type": "stream",
     "text": [
      "[('l', 2), ('o', 2), ('h', 1), ('e', 1), (' ', 1), ('w', 1), ('r', 1), ('d', 1)]\n",
      "[('l', 2)]\n",
      "Counter({'A': 2, 'B': 2, 'C': 2})\n"
     ]
    }
   ],
   "source": [
    "\n",
    "b=Counter(word).most_common()\n",
    "print(b)\n",
    "\n",
    "b=Counter(word).most_common(1)\n",
    "print(b)\n",
    "\n",
    "counter1 = Counter(['A','B','C'])\n",
    "counter2 = Counter(['A','B','C'])    \n",
    "print(counter1 + counter2)"
   ]
  },
  {
   "cell_type": "code",
   "execution_count": 118,
   "metadata": {},
   "outputs": [
    {
     "name": "stdout",
     "output_type": "stream",
     "text": [
      "['red', 'red', 'red', 'red', 'blue', 'blue', 'blue']\n"
     ]
    }
   ],
   "source": [
    "c=Counter({'red' : 4, 'blue':3})\n",
    "print(list(c.elements()))"
   ]
  },
  {
   "cell_type": "code",
   "execution_count": 119,
   "metadata": {},
   "outputs": [
    {
     "name": "stdout",
     "output_type": "stream",
     "text": [
      "['cats', 'cats', 'cats', 'cats', 'dog', 'dog', 'dog', 'dog', 'dog']\n"
     ]
    }
   ],
   "source": [
    "d = Counter(cats = 4 , dog =5)\n",
    "print(list(d.elements()))"
   ]
  },
  {
   "cell_type": "code",
   "execution_count": 126,
   "metadata": {},
   "outputs": [
    {
     "name": "stdout",
     "output_type": "stream",
     "text": [
      "Counter({'a': 0, 'd': 0, 'b': -1, 'c': -1})\n",
      "Counter({'a': 8, 'b': 7, 'd': 2, 'c': 1})\n",
      "Counter({'a': 4, 'b': 3, 'd': 1})\n",
      "Counter({'a': 4, 'b': 4, 'c': 1, 'd': 1})\n"
     ]
    }
   ],
   "source": [
    "c = Counter(a=4,b=3,c=0,d=1)\n",
    "d = Counter(a=4,b=4,c=1,d=1)\n",
    "c.subtract(d)\n",
    "print(c)\n",
    "c = Counter(a=4,b=3,c=0,d=1)\n",
    "d = Counter(a=4,b=4,c=1,d=1)\n",
    "print(c+d)\n",
    "print(c&d)\n",
    "print(c|d)"
   ]
  },
  {
   "cell_type": "code",
   "execution_count": 128,
   "metadata": {},
   "outputs": [
    {
     "name": "stdout",
     "output_type": "stream",
     "text": [
      "Counter({'and': 3, 'to': 3, 'a': 2, 'press': 2, 'release': 2, 'can': 2, 'you': 2, 'is': 1, 'the': 1, 'quickest': 1, 'easiest': 1, 'way': 1, 'get': 1, 'free': 1, 'publicity.': 1, 'if': 1, 'well': 1, 'written,': 1, 'result': 1, 'in': 1, 'multiple': 1, 'published': 1, 'articles': 1, 'about': 1, 'your': 1, 'firm': 1, 'its': 1, 'products.': 1, 'that': 1, 'mean': 1, 'new': 1, 'prospects': 1, 'contacting': 1, 'asking': 1, 'sell': 1, 'them.': 1, '….': 1})\n",
      "2\n"
     ]
    }
   ],
   "source": [
    "text = \"\"\"A press release is the quickest and easiest way to get free publicity. If well written, a press release can result in multiple published articles about your firm and its products. And that can mean new prospects contacting you asking you to sell to them. ….\"\"\".lower().split()\n",
    "print(Counter(text)) \n",
    "print(Counter(text)[\"a\"])"
   ]
  },
  {
   "cell_type": "markdown",
   "metadata": {},
   "source": [
    "# debugging(디버깅)\n",
    "- 코드의 오류를 발견하여 수정하는 과정\n",
    "- 오류의 원인을 알고 해결책을 찾아야함\n",
    "- 문법적 에러를 찾기 위한 에러 메시지 분석\n",
    "- 논리적 에러를 찾기위한 데스트도 중요\n"
   ]
  },
  {
   "cell_type": "markdown",
   "metadata": {},
   "source": [
    "# 8.String and advanced function concept\n",
    "## String\n",
    "- 시퀀스 자료형으로 문자형 data를 메모리에 저장\n",
    "- 영문자 한 글자는 1byte의 메모리 공간, 한글은 2byte를 사용하여 메모리를 사용\n",
    "- 1byte = 8bit = $2^{8}$까지 저장이 가능하다.\n"
   ]
  },
  {
   "cell_type": "markdown",
   "metadata": {},
   "source": [
    "## 문자열의 특징\n",
    "> 인덱싱\n",
    "- 문자열의 각 문자는 개별주소를 가짐\n",
    "- 이 주소를 사용해 할당된 값을 가져오는 것을 인덱싱\n",
    "- list와 같은 형태로 데이터를 처리함\n",
    "\n",
    "> 문자열 함수\n",
    "|||\n"
   ]
  },
  {
   "cell_type": "code",
   "execution_count": null,
   "metadata": {},
   "outputs": [],
   "source": [
    "#"
   ]
  },
  {
   "cell_type": "code",
   "execution_count": null,
   "metadata": {},
   "outputs": [],
   "source": []
  },
  {
   "cell_type": "code",
   "execution_count": 21,
   "metadata": {},
   "outputs": [
    {
     "name": "stdout",
     "output_type": "stream",
     "text": [
      "11\n"
     ]
    }
   ],
   "source": [
    "# 내장함수\n",
    "result=eval('5+1+2+3')\n",
    "print(result)"
   ]
  },
  {
   "cell_type": "code",
   "execution_count": 24,
   "metadata": {},
   "outputs": [
    {
     "name": "stdout",
     "output_type": "stream",
     "text": [
      "[('A', 'B'), ('A', 'C'), ('B', 'A'), ('B', 'C'), ('C', 'A'), ('C', 'B')]\n"
     ]
    }
   ],
   "source": [
    "# itertools\n",
    "from itertools import permutations,combinations,product,combinations_with_replacement\n",
    "data = ['A','B',\"C\"]\n",
    "result = list(permutations(data,2))\n",
    "print(result)"
   ]
  },
  {
   "cell_type": "code",
   "execution_count": 25,
   "metadata": {},
   "outputs": [
    {
     "name": "stdout",
     "output_type": "stream",
     "text": [
      "[('A', 'B'), ('A', 'C'), ('B', 'C')]\n"
     ]
    }
   ],
   "source": [
    "result = list(combinations(data,2))\n",
    "print(result)"
   ]
  },
  {
   "cell_type": "code",
   "execution_count": 27,
   "metadata": {},
   "outputs": [
    {
     "name": "stdout",
     "output_type": "stream",
     "text": [
      "[('A', 'A'), ('A', 'B'), ('A', 'C'), ('B', 'A'), ('B', 'B'), ('B', 'C'), ('C', 'A'), ('C', 'B'), ('C', 'C')]\n"
     ]
    }
   ],
   "source": [
    "result = list(product(data,repeat=2))\n",
    "print(result)"
   ]
  },
  {
   "cell_type": "code",
   "execution_count": 29,
   "metadata": {},
   "outputs": [
    {
     "name": "stdout",
     "output_type": "stream",
     "text": [
      "[('A', 'A'), ('A', 'B'), ('A', 'C'), ('B', 'B'), ('B', 'C'), ('C', 'C')]\n"
     ]
    }
   ],
   "source": [
    "result = list(combinations_with_replacement(data,2))\n",
    "print(result)"
   ]
  },
  {
   "cell_type": "code",
   "execution_count": 57,
   "metadata": {},
   "outputs": [
    {
     "name": "stdout",
     "output_type": "stream",
     "text": [
      "[1, 2, 5, 3, 9]\n",
      "1\n",
      "[1, 1, 3, 2, 3, 5, 6, 6, 3]\n",
      "[(-8, 8), (-7, 7), (-5, 5), (-1, 1), (-3, 3), (-4, 4)]\n",
      "8\n",
      "7\n",
      "5\n",
      "4\n",
      "3\n",
      "1\n"
     ]
    }
   ],
   "source": [
    "# heapq\n",
    "import heapq\n",
    "data = []\n",
    "heapq.heappush(data,2)\n",
    "heapq.heappush(data,3)\n",
    "heapq.heappush(data,5)\n",
    "heapq.heappush(data,1)\n",
    "heapq.heappush(data,9)\n",
    "print(list(data))\n",
    "\n",
    "print(heapq.heappop(data))\n",
    "\n",
    "data1 = [3,6,3,2,3,5,6,1,1]\n",
    "heapq.heapify(data1)\n",
    "print(data1)\n",
    "# 최대 힙으로 변경\n",
    "nums = [4,1,7,3,8,5]\n",
    "hq = []\n",
    "for num in nums:\n",
    "    heapq.heappush(hq,(-num,num))\n",
    "\n",
    "print(hq)\n",
    "while hq:\n",
    "    print(heapq.heappop(hq)[1])"
   ]
  },
  {
   "cell_type": "code",
   "execution_count": 59,
   "metadata": {},
   "outputs": [
    {
     "name": "stdout",
     "output_type": "stream",
     "text": [
      "120\n",
      "7\n"
     ]
    }
   ],
   "source": [
    "import math\n",
    "print(math.factorial(5))\n",
    "print(math.gcd(21,14))"
   ]
  },
  {
   "cell_type": "markdown",
   "metadata": {},
   "source": [
    "## String and advanced function concept\n",
    "> String\n",
    "- 시퀀스 자료형으로 문자형 data를 메모리에 저장\n",
    "- 영문자 한글자는 1byte의 메모리공간을 사용\n",
    "    - 컴퓨터는 2진수로 데이터를 저장\n",
    "    - 이진수 한 자릿수는 1bitdmfh wjwkdehla\n",
    "    - 즉 1bit 0 or 1\n",
    "    - 1byte = 8bit = 256까지 저장 가능\n",
    "- 컴퓨터는 문자를 직접 인식하지 않고, 모든 데이터는 2진수로 인식\n",
    "- 이를 위해 2진수를 문자로 변환하는 표준 규칙을 정함\n",
    "- 이러한 규칙에 달라 문자를 2진수로 변환하여 저장하거나 저장된 2진수를 숫자로 변환하여 표시함\n"
   ]
  },
  {
   "cell_type": "code",
   "execution_count": 60,
   "metadata": {
    "scrolled": true
   },
   "outputs": [
    {
     "name": "stdout",
     "output_type": "stream",
     "text": [
      "50 51 52\n"
     ]
    }
   ],
   "source": [
    "import sys # sys 모듈을 호출\n",
    "print (sys.getsizeof(\"a\"), sys.getsizeof(\"ab\"), sys.getsizeof(\"abc\")) "
   ]
  },
  {
   "cell_type": "markdown",
   "metadata": {},
   "source": [
    "> 문자열 인덱싱\n",
    "- 문자열의 각 문자는 개별 주소(offset)을 가짐\n",
    "- 이 주소를 사용해 할당된 값을 가져오는 것이 인덱싱\n",
    "- list와 같은 형태로 데이터를 처리함\n"
   ]
  },
  {
   "cell_type": "code",
   "execution_count": 66,
   "metadata": {},
   "outputs": [
    {
     "name": "stdout",
     "output_type": "stream",
     "text": [
      "\n",
      "e\n",
      "de\n",
      "cde\n",
      "bcde\n",
      "abcde\n"
     ]
    }
   ],
   "source": [
    "a='abcde'\n",
    "for i in range(len(a),-1,-1):\n",
    "    print(a[i:])"
   ]
  },
  {
   "cell_type": "code",
   "execution_count": 67,
   "metadata": {},
   "outputs": [
    {
     "name": "stdout",
     "output_type": "stream",
     "text": [
      "Artifi  AND   Learning\n",
      "Artificial Intelligence and Machine Learning\n",
      "Artificial Intelligence and Machine Learning\n",
      "Atfca nelgneadMcieLann  AND  gninraeL enihcaM dna ecnegilletnI laicifitrA\n"
     ]
    }
   ],
   "source": [
    "a = \"Artificial Intelligence and Machine Learning\" \n",
    "print(a[0:6], \" AND \", a[-9:]) # a 변수의 0부터 5까지, -9부터 끝까지 Artifi AND   Learning \n",
    "print(a[:]) # a변수의 처음부터 끝까지 Artificial Intelligence and Machine Learning \n",
    "print(a[-50:50]) # 범위를 넘어갈 경우 자동으로 최대 범위를 지정 Artificial Intelligence and Machine Learning \n",
    "print(a[::2], \" AND \", a[::-1]) # 2칸 단위로, 역으로 슬라이싱 Atfca nelgneadMcieLann AND  gninraeL enihcaM dna ecnegilletnI laicifitrA\n"
   ]
  },
  {
   "cell_type": "markdown",
   "metadata": {},
   "source": [
    "|함수|기능|\n",
    "|---|---|\n",
    "|len(a)|문자열의 문자 개수를 반환|\n",
    "|a.upper()|대문자로 변환|\n",
    "|a.lower()|소문자로 변환|\n",
    "|a.capitalize()|첫 문자를 대문자로 변환|\n",
    "|a.titile()|제목 형태로 변환, 띄어쓰기 후 첫 글자만 대문자|\n",
    "|a.count('abc')|abc가 들어간 횟수 반환|\n",
    "|a.find('abc'), a.rfind('abc')(뒤에서부터)|'abc'가 들어간 위치 반환|\n",
    "|a.startswith('abc')|'abc'로 시작하는 문자열 여부 반환|\n",
    "|a.endswith('abc')|문자열 a는 'abc'로 끝나느 문자열 여부 반환|"
   ]
  },
  {
   "cell_type": "markdown",
   "metadata": {},
   "source": [
    "|함수|기능|\n",
    "|---|---|\n",
    "|a.strip()|좌우 공백을 없앰|\n",
    "|a.rstrip()|오른쪽 공백을 없앰|\n",
    "|a.lstrip()|왼쪽 공백을 없앰|\n",
    "|a.split()|공백 기준으로 나눠 리스트로 반환|\n",
    "|a.isdigit() & a.isalpha()|문자열이 숫자인지 여부 반환|\n",
    "|a.islower()|문자열이 소문자인지 여부 확인|\n",
    "|a.isupper()|문자열이 대문자인지 여부 확인|\n",
    "|a.replace(old,new)|old 문자열을 new문자열로 고침|\n"
   ]
  },
  {
   "cell_type": "code",
   "execution_count": 68,
   "metadata": {},
   "outputs": [
    {
     "data": {
      "text/plain": [
       "'TEAMLAB X UPSTAGE'"
      ]
     },
     "execution_count": 68,
     "metadata": {},
     "output_type": "execute_result"
    }
   ],
   "source": [
    "title = \"TEAMLAB X Upstage\" \n",
    "title.upper() "
   ]
  },
  {
   "cell_type": "code",
   "execution_count": 69,
   "metadata": {},
   "outputs": [
    {
     "data": {
      "text/plain": [
       "'teamlab x upstage'"
      ]
     },
     "execution_count": 69,
     "metadata": {},
     "output_type": "execute_result"
    }
   ],
   "source": [
    "title.lower()"
   ]
  },
  {
   "cell_type": "code",
   "execution_count": 70,
   "metadata": {},
   "outputs": [
    {
     "data": {
      "text/plain": [
       "['TEAMLAB', 'X', 'Upstage']"
      ]
     },
     "execution_count": 70,
     "metadata": {},
     "output_type": "execute_result"
    }
   ],
   "source": [
    "title.split(\" \")"
   ]
  },
  {
   "cell_type": "code",
   "execution_count": 71,
   "metadata": {},
   "outputs": [
    {
     "data": {
      "text/plain": [
       "False"
      ]
     },
     "execution_count": 71,
     "metadata": {},
     "output_type": "execute_result"
    }
   ],
   "source": [
    "title.isdigit() "
   ]
  },
  {
   "cell_type": "code",
   "execution_count": 72,
   "metadata": {},
   "outputs": [
    {
     "data": {
      "text/plain": [
       "'Teamlab X Upstage'"
      ]
     },
     "execution_count": 72,
     "metadata": {},
     "output_type": "execute_result"
    }
   ],
   "source": [
    "title.title() "
   ]
  },
  {
   "cell_type": "code",
   "execution_count": 76,
   "metadata": {},
   "outputs": [
    {
     "data": {
      "text/plain": [
       "True"
      ]
     },
     "execution_count": 76,
     "metadata": {},
     "output_type": "execute_result"
    }
   ],
   "source": [
    "title.startswith(\"T\")"
   ]
  },
  {
   "cell_type": "code",
   "execution_count": 74,
   "metadata": {},
   "outputs": [
    {
     "data": {
      "text/plain": [
       "False"
      ]
     },
     "execution_count": 74,
     "metadata": {},
     "output_type": "execute_result"
    }
   ],
   "source": [
    "title.startswith(\"X\") "
   ]
  },
  {
   "cell_type": "code",
   "execution_count": 77,
   "metadata": {},
   "outputs": [
    {
     "data": {
      "text/plain": [
       "1"
      ]
     },
     "execution_count": 77,
     "metadata": {},
     "output_type": "execute_result"
    }
   ],
   "source": [
    "title.count(\"a\")"
   ]
  },
  {
   "cell_type": "code",
   "execution_count": 78,
   "metadata": {},
   "outputs": [
    {
     "data": {
      "text/plain": [
       "True"
      ]
     },
     "execution_count": 78,
     "metadata": {},
     "output_type": "execute_result"
    }
   ],
   "source": [
    "\"12345\".isdigit() "
   ]
  },
  {
   "cell_type": "code",
   "execution_count": 80,
   "metadata": {},
   "outputs": [
    {
     "data": {
      "text/plain": [
       "-1"
      ]
     },
     "execution_count": 80,
     "metadata": {},
     "output_type": "execute_result"
    }
   ],
   "source": [
    "title.find(\"Naver\")"
   ]
  },
  {
   "cell_type": "code",
   "execution_count": 83,
   "metadata": {},
   "outputs": [
    {
     "data": {
      "text/plain": [
       "0"
      ]
     },
     "execution_count": 83,
     "metadata": {},
     "output_type": "execute_result"
    }
   ],
   "source": [
    "title.upper().find(\"TEAMLAB\")"
   ]
  },
  {
   "cell_type": "code",
   "execution_count": 129,
   "metadata": {},
   "outputs": [
    {
     "data": {
      "text/plain": [
       "-1"
      ]
     },
     "execution_count": 129,
     "metadata": {},
     "output_type": "execute_result"
    }
   ],
   "source": [
    "title.find(\"Naver\")"
   ]
  },
  {
   "cell_type": "code",
   "execution_count": 84,
   "metadata": {},
   "outputs": [
    {
     "name": "stdout",
     "output_type": "stream",
     "text": [
      "3\n",
      "3 18 10 -1\n",
      "3 18 10\n",
      "True False True True\n"
     ]
    }
   ],
   "source": [
    "inputStr = \"아기 판다와 어른 판다는 둘 다 판다입니다\"\n",
    "\n",
    "print(inputStr.count(\"판다\"))\n",
    "#3\n",
    "print(inputStr.find(\"판다\"), inputStr.rfind(\"판다\"), inputStr.find(\"판다\", 6), inputStr.find(\"불곰\"))\n",
    "#3 18 10 -1\n",
    "print(inputStr.index(\"판다\"), inputStr.rindex(\"판다\"), inputStr.index(\"판다\", 6))\n",
    "#3 18 10\n",
    "print(inputStr.startswith(\"아기\"), inputStr.startswith(\"사자\"), inputStr.startswith(\"판다\", 3), inputStr.endswith(\"판다입니다\"))\n",
    "#True False True True\n"
   ]
  },
  {
   "cell_type": "markdown",
   "metadata": {},
   "source": [
    "# pythonic code\n",
    "- split & join\n",
    "- list comprehension\n",
    "- enumerate & zip\n",
    "- lambda map reduce\n",
    "- generator\n",
    "- asterist\n",
    "\n",
    "- 많은 개발자들이 python스타일로 코딩한다.\n",
    "- 단순 for loop append보다 list가 더 빠르다\n",
    "- 익해지면 코드가 짧아진다."
   ]
  },
  {
   "cell_type": "code",
   "execution_count": 131,
   "metadata": {},
   "outputs": [
    {
     "name": "stdout",
     "output_type": "stream",
     "text": [
      "redbluewhitegreen\n",
      "redbluewhitegreen\n"
     ]
    }
   ],
   "source": [
    "colors = ['red','blue','white','green']\n",
    "result = ''\n",
    "for s in colors:\n",
    "    result += s\n",
    "    \n",
    "result2 = ''.join(colors)\n",
    "print(result)\n",
    "print(result2)"
   ]
  },
  {
   "cell_type": "code",
   "execution_count": 134,
   "metadata": {},
   "outputs": [
    {
     "name": "stdout",
     "output_type": "stream",
     "text": [
      "['zero', 'one', 'two', 'three']\n"
     ]
    }
   ],
   "source": [
    "items = 'zero one two three'.split() # 빈칸을 기준으로 문자열 나누기 \n",
    "print(items)\n",
    "example = 'python,java,javascript'\n",
    "example.split(\",\")\n",
    "a, b, c = example.split(\",\") # 리스트에 있는 각 값을 a,b,c 변수로 unpacking \n",
    "example = 'teamlab.technology.io' \n",
    "subdomain, domain, tld = example.split('.') "
   ]
  },
  {
   "cell_type": "code",
   "execution_count": 135,
   "metadata": {},
   "outputs": [
    {
     "data": {
      "text/plain": [
       "'redbluegreenyellow'"
      ]
     },
     "execution_count": 135,
     "metadata": {},
     "output_type": "execute_result"
    }
   ],
   "source": [
    "colors = ['red', 'blue', 'green', 'yellow'] \n",
    "result = ''.join(colors)\n",
    "result"
   ]
  },
  {
   "cell_type": "code",
   "execution_count": null,
   "metadata": {},
   "outputs": [],
   "source": [
    "result = ' '.join(colors)\n",
    "result"
   ]
  },
  {
   "cell_type": "markdown",
   "metadata": {},
   "source": [
    "> list comprehension\n",
    "- 기존 list사용하여 간단히 다른 list를 만드는 기법\n",
    "- 포괄적인 list, 포함되는 리스트라는 의미로 사용됨\n",
    "- 파이썬에서 가장 많이 사용되는 기법중 하나\n",
    "- 일반적으로 for + append 보다 속도가 빠름"
   ]
  },
  {
   "cell_type": "code",
   "execution_count": 141,
   "metadata": {},
   "outputs": [
    {
     "name": "stdout",
     "output_type": "stream",
     "text": [
      "[0, 1, 2, 3, 4, 5, 6, 7, 8, 9]\n",
      "[0, 2, 4, 6, 8]\n",
      "['hw', 'ho', 'hr', 'hl', 'hd', 'ew', 'eo', 'er', 'el', 'ed', 'lw', 'lo', 'lr', 'll', 'ld', 'lw', 'lo', 'lr', 'll', 'ld', 'ow', 'oo', 'or', 'ol', 'od']\n",
      "['ad', 'ae', 'af', 'bd', 'be', 'bf', 'cd', 'ce', 'cf']\n"
     ]
    }
   ],
   "source": [
    "list_ = [i for i in range(10)]\n",
    "print(list_)\n",
    "list_ = [i for i in range(10) if i%2==0]\n",
    "print(list_)\n",
    "word_1 = \"hello\"\n",
    "word_2 = 'world'\n",
    "result = [i+j for i in word_1 for j in word_2]\n",
    "print(result)\n",
    "case1 = ['a','b','c']\n",
    "case2 = ['d','e','f']\n",
    "result = [i+j for i in case1 for j in case2 if not (i==j)]\n",
    "print(result)"
   ]
  },
  {
   "cell_type": "code",
   "execution_count": 145,
   "metadata": {},
   "outputs": [
    {
     "name": "stdout",
     "output_type": "stream",
     "text": [
      "['the', 'quick', 'brown', 'fox', 'jupms', 'over', 'the', 'lazy', 'dog']\n"
     ]
    }
   ],
   "source": [
    "words = 'the quick brown fox jupms over the lazy dog'.split()\n",
    "print(words)\n"
   ]
  },
  {
   "cell_type": "code",
   "execution_count": 146,
   "metadata": {},
   "outputs": [
    {
     "name": "stdout",
     "output_type": "stream",
     "text": [
      "[['THE', 'the', 3], ['QUICK', 'quick', 5], ['BROWN', 'brown', 5], ['FOX', 'fox', 3], ['JUPMS', 'jupms', 5], ['OVER', 'over', 4], ['THE', 'the', 3], ['LAZY', 'lazy', 4], ['DOG', 'dog', 3]]\n"
     ]
    }
   ],
   "source": [
    "stuff = [[w.upper(),w.lower(),len(w)] for w in words]\n",
    "print(stuff)"
   ]
  },
  {
   "cell_type": "code",
   "execution_count": 148,
   "metadata": {},
   "outputs": [
    {
     "name": "stdout",
     "output_type": "stream",
     "text": [
      "['ad', 'ae', 'af', 'bd', 'be', 'bf', 'cd', 'ce', 'cf']\n",
      "[['ad', 'bd', 'cd'], ['ae', 'be', 'ce'], ['af', 'bf', 'cf']]\n"
     ]
    }
   ],
   "source": [
    "case1 = ['a','b','c']\n",
    "case2 = ['d','e','f']\n",
    "result = [i+j for i in case1 for j in case2]\n",
    "result2 = [[i+j for i in case1] for j in case2]\n",
    "print(result)\n",
    "print(result2)"
   ]
  },
  {
   "cell_type": "markdown",
   "metadata": {},
   "source": [
    "> enumerate,zip\n",
    "- enumerate : list의 element를 추출할 떄 번호를 붙여서 추출\n"
   ]
  },
  {
   "cell_type": "code",
   "execution_count": 149,
   "metadata": {},
   "outputs": [
    {
     "name": "stdout",
     "output_type": "stream",
     "text": [
      "0 tic\n",
      "1 tac\n",
      "2 toe\n"
     ]
    }
   ],
   "source": [
    "for i, v in enumerate(['tic', 'tac', 'toe']): \n",
    "    print(i,v)"
   ]
  },
  {
   "cell_type": "code",
   "execution_count": null,
   "metadata": {},
   "outputs": [],
   "source": [
    "mylist = ['a', 'b', 'c', 'd'] "
   ]
  },
  {
   "cell_type": "code",
   "execution_count": null,
   "metadata": {},
   "outputs": [],
   "source": [
    "list(enumerate(mylist))"
   ]
  },
  {
   "cell_type": "code",
   "execution_count": 151,
   "metadata": {
    "scrolled": true
   },
   "outputs": [
    {
     "data": {
      "text/plain": [
       "{0: 'Artificial',\n",
       " 1: 'intelligence',\n",
       " 2: '(AI),',\n",
       " 3: 'is',\n",
       " 4: 'intelligence',\n",
       " 5: 'demonstrated',\n",
       " 6: 'by',\n",
       " 7: 'machines,',\n",
       " 8: 'unlike',\n",
       " 9: 'the',\n",
       " 10: 'natural',\n",
       " 11: 'intelligence',\n",
       " 12: 'displayed',\n",
       " 13: 'by',\n",
       " 14: 'humans',\n",
       " 15: 'and',\n",
       " 16: 'animals.'}"
      ]
     },
     "execution_count": 151,
     "metadata": {},
     "output_type": "execute_result"
    }
   ],
   "source": [
    "{i:j for i,j in enumerate('Artificial intelligence (AI), is intelligence demonstrated by machines, unlike the natural intelligence displayed by humans and animals.'.split())}\n",
    "# 문장을 list로 만들고 list의 index와 값을 unpacking하여 dict로 저장 "
   ]
  },
  {
   "cell_type": "code",
   "execution_count": 158,
   "metadata": {},
   "outputs": [
    {
     "name": "stdout",
     "output_type": "stream",
     "text": [
      "a1 b1\n",
      "a2 b2\n",
      "a3 b3\n",
      "0 a1 b1\n",
      "1 a2 b2\n",
      "2 a3 b3\n"
     ]
    }
   ],
   "source": [
    "alist = ['a1', 'a2', 'a3'] \n",
    "blist = ['b1', 'b2', 'b3'] \n",
    "for a, b in zip(alist, blist):\n",
    "    print(a,b)\n",
    "          \n",
    "for i, (a, b) in enumerate(zip(alist, blist)):\n",
    "    print(i,a,b)"
   ]
  },
  {
   "cell_type": "code",
   "execution_count": 154,
   "metadata": {},
   "outputs": [
    {
     "data": {
      "text/plain": [
       "(1, 10, 100)"
      ]
     },
     "execution_count": 154,
     "metadata": {},
     "output_type": "execute_result"
    }
   ],
   "source": [
    "a,b,c =zip((1,2,3),(10,20,30),(100,200,300))\n",
    "a"
   ]
  },
  {
   "cell_type": "code",
   "execution_count": 155,
   "metadata": {},
   "outputs": [
    {
     "data": {
      "text/plain": [
       "[111, 222, 333]"
      ]
     },
     "execution_count": 155,
     "metadata": {},
     "output_type": "execute_result"
    }
   ],
   "source": [
    "[sum(x) for x in zip((1,2,3), (10,20,30), (100,200,300))] "
   ]
  }
 ],
 "metadata": {
  "interpreter": {
   "hash": "31f2aee4e71d21fbe5cf8b01ff0e069b9275f58929596ceb00d14d90e3e16cd6"
  },
  "kernelspec": {
   "display_name": "Python 3 (ipykernel)",
   "language": "python",
   "name": "python3"
  },
  "language_info": {
   "codemirror_mode": {
    "name": "ipython",
    "version": 3
   },
   "file_extension": ".py",
   "mimetype": "text/x-python",
   "name": "python",
   "nbconvert_exporter": "python",
   "pygments_lexer": "ipython3",
   "version": "3.9.10"
  }
 },
 "nbformat": 4,
 "nbformat_minor": 2
}
