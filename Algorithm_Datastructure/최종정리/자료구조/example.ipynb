{
 "cells": [
  {
   "cell_type": "code",
   "execution_count": 4,
   "metadata": {},
   "outputs": [
    {
     "name": "stdout",
     "output_type": "stream",
     "text": [
      "4\n"
     ]
    }
   ],
   "source": [
    "# 2164 카드 뒤집기\n",
    "from collections import deque\n",
    "\n",
    "card = []\n",
    "N = 6\n",
    "for i in range(1,N+1):\n",
    "    card.append(i)\n",
    "\n",
    "card = deque(card)\n",
    "while len(card) > 1:\n",
    "    card.popleft()\n",
    "    temp = card.popleft()\n",
    "    card.append(temp)\n",
    "\n",
    "print(card[0])"
   ]
  },
  {
   "cell_type": "code",
   "execution_count": 12,
   "metadata": {},
   "outputs": [
    {
     "name": "stdout",
     "output_type": "stream",
     "text": [
      "deque([4])\n",
      "range(1, 7)\n"
     ]
    }
   ],
   "source": [
    "# udemy\n",
    "from collections import deque\n",
    "dq = deque()\n",
    "N = int(input())\n",
    "for i in range(1,N+1):\n",
    "    dq.append(i)\n",
    "# dq = deque(range(1,N+1))\n",
    "\n",
    "while len(dq) > 1:\n",
    "    dq.popleft()\n",
    "    dq.append(dq.popleft())\n",
    "\n",
    "print(dq)\n",
    "\n",
    "## 배열로 풀기\n",
    "arr = []\n",
    "for i in range(1,N+1):\n",
    "    arr.append(i)\n",
    "    \n",
    "while len(arr)>1:\n",
    "    arr.pop(0)\n",
    "    arr.append(arr.pop(0))\n",
    "    print(arr)\n",
    "\n",
    "print(arr.pop())"
   ]
  },
  {
   "cell_type": "code",
   "execution_count": null,
   "metadata": {},
   "outputs": [],
   "source": [
    "# 11286\n",
    "import heapq as hq\n",
    "\n",
    "l = []\n",
    "hq = hq()"
   ]
  },
  {
   "cell_type": "markdown",
   "metadata": {},
   "source": [
    "# 1302"
   ]
  },
  {
   "cell_type": "code",
   "execution_count": null,
   "metadata": {},
   "outputs": [],
   "source": [
    "N = int(input())\n",
    "a = {}\n",
    "for _ in range(N):\n",
    "    title = input()\n",
    "    if title in a:\n",
    "        a[title] += 1\n",
    "    else:\n",
    "        a[title] = 1\n",
    "\n",
    "# 가장 많이 팔린 권수\n",
    "# d.keys()\n",
    "# d.values()\n",
    "# d.items()\n",
    "candidate = []\n",
    "m = max(a.values())\n",
    "for k,v in d.items():zw\n",
    "    if v == m :\n",
    "        candi.append(k)\n",
    "\n",
    "candi = sorted(candiated)\n",
    "# candidate.sort()\n",
    "# print(candidate[0])"
   ]
  }
 ],
 "metadata": {
  "interpreter": {
   "hash": "31f2aee4e71d21fbe5cf8b01ff0e069b9275f58929596ceb00d14d90e3e16cd6"
  },
  "kernelspec": {
   "display_name": "Python 3.8.9 64-bit",
   "language": "python",
   "name": "python3"
  },
  "language_info": {
   "codemirror_mode": {
    "name": "ipython",
    "version": 3
   },
   "file_extension": ".py",
   "mimetype": "text/x-python",
   "name": "python",
   "nbconvert_exporter": "python",
   "pygments_lexer": "ipython3",
   "version": "3.8.9"
  },
  "orig_nbformat": 4
 },
 "nbformat": 4,
 "nbformat_minor": 2
}
