{
 "cells": [
  {
   "cell_type": "markdown",
   "metadata": {},
   "source": [
    "# 자료구조\n",
    "1. 자료구조의 의미\n",
    "1. 추상적 자료형\n",
    "1. 배열과 연결리스트\n",
    "\n",
    "\n",
    "> ## 1.자료구조의 의미\n",
    "- `자료`를 `저장`하는 구조\n",
    "    - 여러가지 종류가 있으며, 저장된 자료에 대해 `접근`하는 방법등의 차이가 존재한다.\n",
    "- 자료구조 또한 형태에 따라 `장단점`이 존재하며 구현하고자 하는 프로그램의 `성능`을 고려하여 알맞은 자료구조를 선택해야 한다.\n",
    "- 프로그램에 필요한 자료를 `효율적`을 담기 위해 자료구조를 배운다.\n",
    "- `프로그램`에서 `특정 알고리즘`을 구현하기 위해 적절한 `자료구조`를 사용해야 좋은 성능을 낼 수 있다.\n",
    "\n",
    "> ## 2.추상적 자료형\n",
    "- `추상적 자료형` : 어떤 자료와 그 자료에 대한 연산(동작)들의 수학적인 정의를 의미한다. 그리고 `정의`를 구현 하는 방법은 **명시되어 있지 않다**\n",
    "- `자료형` : 자료형은 어떤 자료가 `식별`될 수 있는 방법과, 그 자료에 대한 여러가지 `연산(동작)`을 제공한다.\n"
   ]
  },
  {
   "cell_type": "code",
   "execution_count": null,
   "metadata": {},
   "outputs": [],
   "source": []
  }
 ],
 "metadata": {
  "kernelspec": {
   "display_name": "Python 3 (ipykernel)",
   "language": "python",
   "name": "python3"
  },
  "language_info": {
   "codemirror_mode": {
    "name": "ipython",
    "version": 3
   },
   "file_extension": ".py",
   "mimetype": "text/x-python",
   "name": "python",
   "nbconvert_exporter": "python",
   "pygments_lexer": "ipython3",
   "version": "3.9.10"
  }
 },
 "nbformat": 4,
 "nbformat_minor": 2
}
