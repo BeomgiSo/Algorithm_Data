{
 "cells": [
  {
   "cell_type": "code",
   "execution_count": null,
   "metadata": {},
   "outputs": [],
   "source": []
  },
  {
   "cell_type": "markdown",
   "metadata": {},
   "source": [
    "> 배열 array\n",
    "- 삽입/삭제 : O(N)\n",
    "- 탐색 : O(1)\n",
    "- 동적 배열 : size 변경 가능"
   ]
  },
  {
   "cell_type": "code",
   "execution_count": 2,
   "metadata": {},
   "outputs": [
    {
     "name": "stdout",
     "output_type": "stream",
     "text": [
      "[10, 11, 5, 13]\n",
      "size :  2\n",
      "(123, 456)\n",
      "(456, 798)\n"
     ]
    }
   ],
   "source": [
    "arr = [10,11,12,13]\n",
    "arr[2] = 5\n",
    "print(arr)\n",
    "\n",
    "v = []\n",
    "v.append((123,456))\n",
    "v.append((456,798))\n",
    "print(\"size : \",len(v))\n",
    "for i in v:\n",
    "    print(i)"
   ]
  },
  {
   "cell_type": "markdown",
   "metadata": {},
   "source": [
    "> 연결 리스트 Linked list\n",
    "- 삽입/삭제 : O(1)\n",
    "- 탐색 : O(N)\n",
    "- ps에서는 별로 안쓰이지만(연결리스트를 굳이 안써도 해결하는 자료구조가 많아서), 다른 구조들을 구현할 때 많이 쓰인다. "
   ]
  },
  {
   "cell_type": "markdown",
   "metadata": {},
   "source": [
    "> 스택(Stack)\n",
    "- FILO(First in last out)\n",
    "- 삽입/삭제 : O(1)\n",
    "- 실사용 후 예시 : 홈페이지 이전 홈페이지 다음 홈페이지, 재귀함수,  "
   ]
  },
  {
   "cell_type": "code",
   "execution_count": 3,
   "metadata": {},
   "outputs": [
    {
     "name": "stdout",
     "output_type": "stream",
     "text": [
      "size :  3\n",
      "789\n",
      "456\n",
      "123\n"
     ]
    }
   ],
   "source": [
    "s = []\n",
    "s.append(123)\n",
    "s.append(456)\n",
    "s.append(789)\n",
    "print(\"size : \",len(s))\n",
    "while len(s)>0:\n",
    "    print(s[-1])\n",
    "    s.pop()"
   ]
  },
  {
   "cell_type": "markdown",
   "metadata": {},
   "source": [
    "> 큐 Queue\n",
    "- FIFO\n",
    "- 삽입/삭제 : O(1) // 일반적으로 배열로 구현하게 된다면 O(N)이된다.\n",
    "- O(1)이 연결리스트로 구현한다면 가능하게 된다."
   ]
  },
  {
   "cell_type": "code",
   "execution_count": 5,
   "metadata": {},
   "outputs": [
    {
     "name": "stdout",
     "output_type": "stream",
     "text": [
      "size 4\n",
      "456\n",
      "789\n",
      "123\n",
      "456\n"
     ]
    }
   ],
   "source": [
    "from collections import deque\n",
    "# double ended queue\n",
    "q = deque()\n",
    "q.append(123)\n",
    "q.append(456)\n",
    "q.append(789)\n",
    "q.appendleft(456)\n",
    "print(\"size\" , len(q))\n",
    "while len(q) > 0:\n",
    "    print(q.popleft())\n",
    "    print(q.pop())\n",
    "\n"
   ]
  },
  {
   "cell_type": "code",
   "execution_count": null,
   "metadata": {},
   "outputs": [],
   "source": [
    "from queue import Queue\n",
    "# 멀티 thread환경에서 안정성을 위해 사용해서 코테에서는 느려서 잘 안사용된다.\n",
    "# thread safe하기 때문에 사용한다.\n",
    "q = Queue()\n",
    "q.put(123)\n",
    "q.put(456)\n",
    "q.put(789)\n",
    "\n",
    "while q:\n",
    "    print(q.get())"
   ]
  },
  {
   "cell_type": "markdown",
   "metadata": {},
   "source": [
    "> 우선순위 큐 Prioirty Queue(Heap)\n",
    "- 삽입/삭제 : O(logN)\n",
    "- python은 min-heap/ C++ max-heap\n"
   ]
  },
  {
   "cell_type": "code",
   "execution_count": 8,
   "metadata": {},
   "outputs": [
    {
     "name": "stdout",
     "output_type": "stream",
     "text": [
      "size :  4\n",
      "123\n",
      "234\n",
      "456\n",
      "789\n"
     ]
    }
   ],
   "source": [
    "import heapq as hq\n",
    "pq = []\n",
    "heapq.heappush(pq,456)\n",
    "heapq.heappush(pq,123)\n",
    "heapq.heappush(pq,789)\n",
    "heapq.heappush(pq,234)\n",
    "print(\"size : \",len(pq))\n",
    "while len(pq)>0:\n",
    "    print(heapq.heappop(pq))\n"
   ]
  },
  {
   "cell_type": "code",
   "execution_count": 7,
   "metadata": {},
   "outputs": [
    {
     "name": "stdout",
     "output_type": "stream",
     "text": [
      "-4\n",
      "2\n",
      "3\n",
      "6\n",
      "10\n",
      "62\n"
     ]
    }
   ],
   "source": [
    "from queue import PriorityQueue\n",
    "# thead 안전.. 느림..\n",
    "pq = PriorityQueue()\n",
    "pq.put(6)\n",
    "pq.put(10)\n",
    "pq.put(-4)\n",
    "pq.put(3)\n",
    "pq.put(2)\n",
    "pq.put(62)\n",
    "\n",
    "while not pq.empty():\n",
    "    print(pq.get())\n"
   ]
  },
  {
   "cell_type": "markdown",
   "metadata": {},
   "source": [
    "> 맵 map(Dictionary)\n",
    "- key, value\n",
    "- 삽입/삭제 O(1) : python은 hash로 구현되어 있다."
   ]
  },
  {
   "cell_type": "code",
   "execution_count": 9,
   "metadata": {},
   "outputs": [
    {
     "name": "stdout",
     "output_type": "stream",
     "text": [
      "size :  3\n",
      "yondy 40\n",
      "key 100\n",
      "jerry 50\n"
     ]
    }
   ],
   "source": [
    "m = {}\n",
    "m[\"yondy\"] = 40\n",
    "m[\"key\"] = 100\n",
    "m[\"jerry\"] = 50\n",
    "print(\"size : \",len(m))\n",
    "for k in m:\n",
    "    print(k,m[k])"
   ]
  },
  {
   "cell_type": "markdown",
   "metadata": {},
   "source": [
    "> 집합 Set\n",
    "- python O(1)"
   ]
  },
  {
   "cell_type": "code",
   "execution_count": 21,
   "metadata": {},
   "outputs": [
    {
     "name": "stdout",
     "output_type": "stream",
     "text": [
      "{456, 40, 10, 20, 30}\n",
      "{40, 10, 20, 30}\n"
     ]
    }
   ],
   "source": [
    "s = set()\n",
    "s.add(456)\n",
    "s.add(10)\n",
    "s.add(20)\n",
    "s.add(30)\n",
    "s.add(40)\n",
    "s.add(10)\n",
    "print(s)\n",
    "s.pop() # 어떤 값이빠질지 모른다.. 일반적으로 안씀\n",
    "print(s)\n",
    "try:\n",
    "    s.remove(100)\n",
    "except:\n",
    "    \n",
    "\n"
   ]
  }
 ],
 "metadata": {
  "interpreter": {
   "hash": "31f2aee4e71d21fbe5cf8b01ff0e069b9275f58929596ceb00d14d90e3e16cd6"
  },
  "kernelspec": {
   "display_name": "Python 3 (ipykernel)",
   "language": "python",
   "name": "python3"
  },
  "language_info": {
   "codemirror_mode": {
    "name": "ipython",
    "version": 3
   },
   "file_extension": ".py",
   "mimetype": "text/x-python",
   "name": "python",
   "nbconvert_exporter": "python",
   "pygments_lexer": "ipython3",
   "version": "3.9.10"
  }
 },
 "nbformat": 4,
 "nbformat_minor": 2
}
