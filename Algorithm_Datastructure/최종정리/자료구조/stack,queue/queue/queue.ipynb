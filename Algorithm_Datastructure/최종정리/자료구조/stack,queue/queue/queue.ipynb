{
 "cells": [
  {
   "cell_type": "markdown",
   "metadata": {},
   "source": [
    "> 큐\n",
    "- 입구와 출구가 `각각 한 쪽 끝에 존재`하는 자료구조\n",
    "- 큐의 `연산목록`\n",
    "    - push :  큐에 자료를 넣는 연산\n",
    "    - pop : 큐에서 자료를 빼는 연산\n",
    "    - front : 큐의 가장 앞에 있는 자료를 반환하는 연산\n",
    "    - back :  큐의 가장 뒤에 있는 자료를 반환하는 연산\n",
    "    - empty : 큐가 비어있는지 여부를 반환하는 연산\n",
    "\n",
    "- ex\n",
    "    - push 1 \n",
    "    - 1 \n",
    "    - push 2\n",
    "    - 1 2\n",
    "    - pop 1 출력 \n",
    "    - 2\n",
    "    - push 3\n",
    "    - 2 3\n",
    "\n",
    "- 선형 자료구조 이기 때문에 `배열을 이용`하여 구현이 가능하지만 `여러 문제가 존재`한다.\n"
   ]
  },
  {
   "cell_type": "markdown",
   "metadata": {},
   "source": [
    "> 문제점 해결 방안\n",
    "- 배열로 구현된 크기가 6인 큐\n",
    "- head(첫 번째)와 rear(마지막)는 인덱스를 나타내며, 큐에 포함되는 내용은 head이상 rear미만의 인덱스이다.\n",
    "    - push 1  head ->0 rear->1\n",
    "    - push 2  head ->0 rear->2\n",
    "    - pop  head가 가르키는 값 제거\n",
    "    - 즉, push = `rear위치에 자료를 추가`하고 `rear를 1증가 시킴`\n",
    "    - pop = `head위치의 자료를 제거하고` head를 1증가 시킴\n",
    "- 기존에 배열로 할당할 경우 rear의 가르키는것의 한계가 존재한다는 문제가 발생한다.\n",
    "- 배열로 큐로 구현하였을 떄의 문제를 해결하기위해 **원형 큐 등장**\n",
    "- 원형 큐의 경우, rear나 head가 큐의 끝에 도달하면 큐의 맨 앞으로 보내어 문제를 해결한다.\n",
    "\n",
    "- `링크드 큐` : 연결리스트로 구현할 큐를 `'링크드 큐'` 라고한다.\n",
    "- 삽입과 삭제가 제한되지 않는 점과, 크기의 제한이 존재하지 않는 점이 편리하다.\n",
    "\n",
    "\n",
    "```python\n",
    "import queue\n",
    "q = queue.Queue()\n",
    "\n",
    "```python\n",
    "from collections import deque\n",
    "q= deque()\n",
    "```\n",
    "\n",
    "- 큐를 실제로 사용하고자 할 때는 파이썬의 기본라이브러리의 queue모듈의 Queue클래스를 사용할 수 있다.\n"
   ]
  },
  {
   "cell_type": "markdown",
   "metadata": {},
   "source": [
    ">정리\n",
    "- 스택과 큐는 `선형구조`이다.\n",
    "- 선형구조는 `자료들이 순서`를 가지고 `연속된 자료`이다.\n",
    "- 스택은 `나중에 들어온 자료가 먼저 출력되고(LIFO)`, 큐는 `먼저 들어온 자료가 먼저 출력`이 된다(FIFO)\n",
    "- 스택 = append pop\n",
    "- 큐 = 여러가지 문제가 발생한다.\n",
    "- 배열을 통해 큐구현 연습\n",
    "- 큐의 문제를 해결하기 위해 `링크드큐`, `원형큐`를 사용한다.\n",
    "- 스택은 그냥 리스트 큐는 큐 클래스를 사용하면 된다."
   ]
  },
  {
   "cell_type": "markdown",
   "metadata": {},
   "source": [
    "- Queue\n",
    "- stack -FILO\n",
    "- queue = FIFO\n",
    "    - 1 3 5 7 9 로 들어왔다면 (enqueue)\n",
    "    - 1 3 5 7 9 로 나간다(dequeue)\n",
    "\n",
    "- queue는 2개\n",
    "- enqueue = O(1)\n",
    "- dequeue = O(1)\n",
    "\n",
    "- Doubly Linked List로 구현한다."
   ]
  },
  {
   "cell_type": "code",
   "execution_count": 6,
   "metadata": {},
   "outputs": [
    {
     "name": "stdout",
     "output_type": "stream",
     "text": [
      "[3, 6, 2, 7, 5, 1, 4]\n"
     ]
    }
   ],
   "source": [
    "# elice_예제 _ 요세프스 순열\n",
    "'''\n",
    "요세푸스 순열\n",
    "1번부터 NNN번까지 번호를 가진 NNN명의 사람들이 있습니다.\n",
    "\n",
    "1번부터 순서대로 KKK번째 사람을 원에서 제거합니다.\n",
    "\n",
    "원을 이루고 있는 사람들이 모두 제거되었을 때,\n",
    "\n",
    "제거된 사람들의 번호를 순서대로 나열한 것을 요세푸스 순열이라고 합니다.\n",
    "\n",
    "두 정수NNN과 KKK가 주어졌을 때의 요세푸스 순열을 리스트로 반환하는 함수 josephus_sequence를 작성하세요.\n",
    "\n",
    "\n",
    "지시사항\n",
    "입력\n",
    "첫 번째 줄에 정수 NNN과 KKK가 공백을 기준으로 입력됩니다.\n",
    "\n",
    "(1≤K≤N≤10001 \\le K \\le N \\le 10001≤K≤N≤1000)\n",
    "\n",
    "출력\n",
    "josephus_sequence 함수는 주어진 정수 NNN과 KKK의 요세푸스 순열을 리스트 형태로 반환해야 합니다.\n",
    "\n",
    "입력 예시\n",
    "7 3\n",
    "Copy\n",
    "출력 예시\n",
    "3 6 2 7 5 1 4\n",
    "'''\n",
    "from collections import deque\n",
    "\n",
    "N,K = map(int,input().split())\n",
    "result = []\n",
    "queue = deque([ i+1 for i in range(N)])\n",
    "\n",
    "while queue:\n",
    "    for _ in range(K-1):\n",
    "        temp = queue.popleft()\n",
    "        queue.append(temp)\n",
    "    result.append(queue.popleft())\n",
    "\n",
    "print(result)\n",
    "\n"
   ]
  },
  {
   "cell_type": "code",
   "execution_count": null,
   "metadata": {},
   "outputs": [],
   "source": [
    "class QueueNode:\n",
    "    def __init__(self,val:int):\n",
    "        self.val =val\n",
    "        self.left = None\n",
    "        self.right= None\n",
    "\n",
    "class Queue:\n",
    "    def __init__(self):\n",
    "        self._head = QueueNode(0)\n",
    "        self._tail = QueueNode(0)\n",
    "        self._head.right = self._tail\n",
    "        self._tail.left = "
   ]
  },
  {
   "cell_type": "code",
   "execution_count": null,
   "metadata": {},
   "outputs": [],
   "source": []
  },
  {
   "cell_type": "code",
   "execution_count": 1,
   "metadata": {},
   "outputs": [
    {
     "name": "stdout",
     "output_type": "stream",
     "text": [
      "deque([])\n",
      "deque([4, 5, 6, 7, 2, 1])\n",
      "4\n",
      "deque([5, 6, 7, 2, 1])\n",
      "5\n",
      "1\n",
      "5 6 7 2\n"
     ]
    }
   ],
   "source": [
    "# 엘리스 Queue\n",
    "from collections import deque\n",
    "q=deque()\n",
    "print(q)\n",
    "\n",
    "q.append(4)\n",
    "q.append(5)\n",
    "q.append(6)\n",
    "q.append(7)\n",
    "q.append(2)\n",
    "q.append(1)\n",
    "print(q)\n",
    "\n",
    "print(q.popleft())\n",
    "print(q)\n",
    "\n",
    "print(len(q))\n",
    "\n",
    "print(q.pop())\n",
    "\n",
    "print(*q)\n"
   ]
  },
  {
   "cell_type": "markdown",
   "metadata": {},
   "source": [
    "## `이것이 코딩테스트이다`\n",
    "- `큐(Queue)`는 대기 줄에 비유할 수 있다.\n",
    "- `먼저 온 사람이 먼저` 들어가게 된다. 나중에 온 사람이 나중에 들어간다.\n",
    "- `FIFO(first in first out)` 선입선출 구조이다.\n",
    "- python의 `deque`를 이용해서 활용한다.\n",
    "    - deque는 스텍과 큐의 장점으 모두 채택한 것인데 데이터를 넣고 뺴는 속도가 리스트 자료형에 비해 효율적이며 queue 라이브러리를 활용하는것 보다 더 간단하다.\n",
    "    - 먼저 들어온 사람이 왼쪽으로 부터 쌓이게 된다.\n",
    "\n",
    "- 리스트를 통해 나타낼 수 있지만(pop을 사용하면 시간복잡도가 O(N)이된다.), 시간복잡도이유로 deque의 라이브러리를 사용하자.\n",
    "\n",
    "- .append(요소)\t요소값을 오른쪽 끝에 넣음\n",
    "- .appendleft(요소)\t요소값을 왼쪽 끝에 넣음\n",
    "- .pop()\t오른쪽 끝의 요소 빼옴\n",
    "- .popleft()\t왼쪽 끝의 요소 빼옴\n",
    "- .remove(요소)\t해당 요소값 찾아 삭제\n",
    "- .extend(배열)\t해당 배열을 순환하며 오른쪽에 변수 추가\n",
    "- .extendleft(배열)\t해당 배열을 순환하며 왼쪽에 변수 추가\n",
    "- .rotate(숫자)\t숫자 만큼 회전\n",
    "\n",
    "\n",
    "\n",
    "- 용어\n",
    "- enqueue : 큐에 데이터를 넣는기능\n",
    "- dequeue : 큐에 데이터를 꺼내는 기능\n",
    "\n",
    "```python\n",
    "import queue\n",
    "Queue: 일번적인 큐\n",
    "LifoQueue : 나중에 입력된 데이터가 만저 출력되는 구조(스택과 비슷)\n",
    "Priorityqueue : 데이터에 우선순이를 매겨 우선순위가 높은 순으로 출력하는 구조\n",
    "```\n",
    "\n",
    "\n"
   ]
  },
  {
   "cell_type": "code",
   "execution_count": 4,
   "metadata": {},
   "outputs": [
    {
     "name": "stdout",
     "output_type": "stream",
     "text": [
      "deque([2, 3, 1, 4])\n",
      "deque([4, 1, 3, 2])\n"
     ]
    }
   ],
   "source": [
    "from collections import deque\n",
    "\n",
    "# 큐(Queue)의 구현을 위해  deque 라이브러리 사용\n",
    "queue= deque()\n",
    "# 5삽입 - 2삽입 - 3삽입 - 7삽입 - 삭제 - 1삽입 - 4삽입 -삭제\n",
    "# 가장 오른쪽에 넣는다\n",
    "queue.append(5)\n",
    "queue.append(2)\n",
    "queue.append(3)\n",
    "queue.append(7)\n",
    "queue.popleft()\n",
    "queue.pop()\n",
    "queue.append(1)\n",
    "queue.append(4)\n",
    "\n",
    "print(queue)\n",
    "queue.reverse()\n",
    "print(queue)\n",
    "\n",
    "\n",
    "\n"
   ]
  },
  {
   "cell_type": "code",
   "execution_count": null,
   "metadata": {},
   "outputs": [],
   "source": [
    "from collections import deque\n",
    "# double ended queue\n",
    "q = deque()\n",
    "q.append(123)\n",
    "q.append(456)\n",
    "q.append(789)\n",
    "q.appendleft(456)\n",
    "print(\"size\" , len(q))\n",
    "while len(q) > 0:\n",
    "    print(q.popleft())\n",
    "    print(q.pop())"
   ]
  },
  {
   "cell_type": "markdown",
   "metadata": {},
   "source": [
    "- 리스트에서는 첫번째 요소를 삭제할 떄 pop(0)을 사용하지만, deque는 popleft()를 사용한다. \n",
    "- 어울러 deque를 쓰는것과 마찬가지 효과를 낼 수 있자만, deque를 사용하여 스택, 큐 작업시 다음과같은장점이 있다.\n",
    "- deque는 list보다 속도가 빠르다. pop(0)와 같은 메서드를 수행할 떄 리시트라면 O(N)을 연산하지만 deque를 사용하면 O(1)연산을 수행한다.\n",
    "- 쓰레드 환경에서 안전하다.\n"
   ]
  },
  {
   "cell_type": "code",
   "execution_count": 6,
   "metadata": {},
   "outputs": [
    {
     "name": "stdout",
     "output_type": "stream",
     "text": [
      "[4, 5, 1, 2, 3]\n",
      "deque([1, 2, 3, 4, 5, 6])\n",
      "deque([0, 1, 2, 3, 4, 5, 6])\n",
      "6\n",
      "0\n",
      "deque([1, 2, 3, 4, 5])\n"
     ]
    }
   ],
   "source": [
    "# [1,2,3,4,5] 의다이얼이 그리키고 있고 눈금은 1이라고하자\n",
    "# 다이얼을 오른쪽으로 2칸 돌리면 가르키는 눈금이 어떻게 될까?\n",
    "# [4,5,1,2,3]\n",
    "\n",
    "from collections import deque\n",
    "\n",
    "a = [1,2,3,4,5]\n",
    "q= deque(a)\n",
    "q.rotate(2)\n",
    "result = list(q)\n",
    "print(result)\n",
    "\n",
    "# deque의 사용법\n",
    "d = deque([1,2,3,4,5])\n",
    "d.append(6)\n",
    "print(d) # 1,2,3,4,5,6\n",
    "\n",
    "d.appendleft(0)\n",
    "print(d) # 0,1,2,3,4,5,6\n",
    "\n",
    "print(d.pop()) # print(5)\n",
    "print(d.popleft())\n",
    "print(d)\n"
   ]
  },
  {
   "cell_type": "code",
   "execution_count": null,
   "metadata": {},
   "outputs": [],
   "source": []
  },
  {
   "cell_type": "code",
   "execution_count": null,
   "metadata": {},
   "outputs": [],
   "source": [
    "import queue\n",
    "data_queue = queue.Queue()\n",
    "\n",
    "# 큐에 데이터 넣기\n",
    "data_queue.put(\"cobugi\")\n",
    "data_queue.put(7)\n",
    "\n",
    "# 큐에 데이터가 몇개인지 확인\n",
    "data_queue.qsize()\t\t\t# 2\n",
    "\n",
    "# 큐에서 데이터 꺼내기\n",
    "data_queue.get()\n",
    "\t# \"cobugi\" (why?:제일 먼저 들어간 데이터가 \"cobugi\"니까)\n",
    "    \n",
    "# 큐에 데이터가 몇개인지 다시 확인\n",
    "data_queue.qsize()\t\t\t# 1\n",
    "\n",
    "# 큐에서 데이터 또 꺼내기\n",
    "data_queue.get()\t\t\t# 7\n",
    "\n",
    "# 큐에 데이터가 몇개인지 다시 확인\n",
    "data_queue.qsize()\t\t\t# 0 (다 꺼냄)"
   ]
  },
  {
   "cell_type": "code",
   "execution_count": null,
   "metadata": {},
   "outputs": [],
   "source": [
    "import queue\n",
    "data_queue = queue.LifoQueue()\n",
    "\n",
    "# 큐에 데이터 넣기\n",
    "data_queue.put(\"cobugi\")\n",
    "data_queue.put(7)\n",
    "\n",
    "# 큐에 데이터가 몇개인지 확인\n",
    "data_queue.qsize()\t\t\t# 2\n",
    "\n",
    "# 큐에서 데이터 꺼내기\n",
    "data_queue.get()\n",
    "\t# 7 (why?:제일 나중에 들어간 데이터가 7 이니까)\n",
    "    \n",
    "# 큐에 데이터가 몇개인지 다시 확인\n",
    "data_queue.qsize()\t\t\t# 1\n",
    "\n",
    "# 큐에서 데이터 또 꺼내기\n",
    "data_queue.get()\t\t\t# \"cobugi\"\n",
    "\n",
    "# 큐에 데이터가 몇개인지 다시 확인\n",
    "data_queue.qsize()\t\t\t# 0 (다 꺼냄)"
   ]
  },
  {
   "cell_type": "code",
   "execution_count": null,
   "metadata": {},
   "outputs": [],
   "source": [
    "import queue\n",
    "data_queue = queue.PriorityQueue()\n",
    "\n",
    "# 큐에 데이터 넣기\n",
    "# tuple형식으로 넣기 (우선순위, 넣을 데이터)\n",
    "# 우선순위는 숫자가 작을수록 높음(= 1위 > 3위)\n",
    "data_queue.put((10, \"cobugi\"))\n",
    "data_queue.put((5, 7))\n",
    "data_queue.put((15, \"rabbit\"))\n",
    "\n",
    "# 큐에 데이터가 몇개인지 확인\n",
    "data_queue.qsize()\t\t\t# 3\n",
    "\n",
    "# 큐에서 데이터 꺼내기\n",
    "data_queue.get()\n",
    "\t# (5, 1) (why?:우선순위가 제일 높으니까)\n",
    "    \n",
    "# 큐에서 데이터 또 꺼내기\n",
    "data_queue.get()\t\t\t# (10, \"cobugi\")"
   ]
  },
  {
   "cell_type": "code",
   "execution_count": 8,
   "metadata": {},
   "outputs": [
    {
     "name": "stdout",
     "output_type": "stream",
     "text": [
      "deque([]) deque([[1, 1, 3], [2, 4, 3], [3, 7, 3], [4, 10, 3]])\n"
     ]
    },
    {
     "ename": "IndexError",
     "evalue": "pop from an empty deque",
     "output_type": "error",
     "traceback": [
      "\u001b[0;31m---------------------------------------------------------------------------\u001b[0m",
      "\u001b[0;31mIndexError\u001b[0m                                Traceback (most recent call last)",
      "Input \u001b[0;32mIn [8]\u001b[0m, in \u001b[0;36m<module>\u001b[0;34m\u001b[0m\n\u001b[1;32m     29\u001b[0m general_temp \u001b[38;5;241m=\u001b[39m general[\u001b[38;5;241m0\u001b[39m]\n\u001b[1;32m     30\u001b[0m \u001b[38;5;28;01mif\u001b[39;00m time \u001b[38;5;241m>\u001b[39m\u001b[38;5;241m=\u001b[39m general_temp[\u001b[38;5;241m1\u001b[39m]:\n\u001b[0;32m---> 31\u001b[0m     general_temp \u001b[38;5;241m=\u001b[39m \u001b[43mprior\u001b[49m\u001b[38;5;241;43m.\u001b[39;49m\u001b[43mpopleft\u001b[49m\u001b[43m(\u001b[49m\u001b[43m)\u001b[49m\n\u001b[1;32m     32\u001b[0m     time \u001b[38;5;241m+\u001b[39m\u001b[38;5;241m=\u001b[39m general_temp[\u001b[38;5;241m2\u001b[39m]\n\u001b[1;32m     33\u001b[0m     result\u001b[38;5;241m.\u001b[39mappend(general_temp[\u001b[38;5;241m0\u001b[39m])\n",
      "\u001b[0;31mIndexError\u001b[0m: pop from an empty deque"
     ]
    }
   ],
   "source": [
    "from collections import deque\n",
    "\n",
    "prior = deque()\n",
    "general = deque()\n",
    "N = int(input())\n",
    "\n",
    "for i in range(N):\n",
    "    data = list(map(int,input().split()))\n",
    "    if data[-1] == 0:\n",
    "        general.append([i+1] + data[:-1])\n",
    "    else:\n",
    "        prior.append([i+1]+data[:-1])\n",
    "time = 0\n",
    "result = []\n",
    "print(prior,general)\n",
    "while general:\n",
    "    time+=1\n",
    "    while len(prior) != 0:\n",
    "        prior_temp = prior[0]\n",
    "        if time >= prior_temp[1]:\n",
    "            prior_temp = prior.popleft()\n",
    "            time +=prior_temp[2]\n",
    "            result.append(prior_temp[0])\n",
    "        else:\n",
    "            break\n",
    "            \n",
    "        \n",
    "    \n",
    "    general_temp = general[0]\n",
    "    if time >= general_temp[1]:\n",
    "        general_temp = prior.popleft()\n",
    "        time += general_temp[2]\n",
    "        result.append(general_temp[0])\n",
    "    else:\n",
    "        continue\n",
    "\n",
    "print(result)\n",
    "\n",
    "\n",
    "print(general)\n",
    "print(prior)"
   ]
  },
  {
   "cell_type": "code",
   "execution_count": null,
   "metadata": {},
   "outputs": [],
   "source": []
  },
  {
   "cell_type": "code",
   "execution_count": null,
   "metadata": {},
   "outputs": [],
   "source": []
  },
  {
   "cell_type": "markdown",
   "metadata": {},
   "source": []
  }
 ],
 "metadata": {
  "interpreter": {
   "hash": "ee431ac274e33366c10c3ac30cd4fb33ff3ed0dd6a8cc3f05073bd47291a9c12"
  },
  "kernelspec": {
   "display_name": "Python 3.8.12",
   "language": "python",
   "name": "python3"
  },
  "language_info": {
   "codemirror_mode": {
    "name": "ipython",
    "version": 3
   },
   "file_extension": ".py",
   "mimetype": "text/x-python",
   "name": "python",
   "nbconvert_exporter": "python",
   "pygments_lexer": "ipython3",
   "version": "3.8.12"
  },
  "orig_nbformat": 4
 },
 "nbformat": 4,
 "nbformat_minor": 2
}
