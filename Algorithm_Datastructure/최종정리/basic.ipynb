{
 "cells": [
  {
   "cell_type": "markdown",
   "metadata": {},
   "source": []
  },
  {
   "cell_type": "markdown",
   "metadata": {},
   "source": []
  },
  {
   "cell_type": "code",
   "execution_count": 2,
   "metadata": {},
   "outputs": [
    {
     "name": "stdout",
     "output_type": "stream",
     "text": [
      "True\n",
      "27\n",
      "27\n",
      "3.5\n",
      "3\n",
      "1\n"
     ]
    }
   ],
   "source": [
    "f1 = 10\n",
    "f2 = 10\n",
    "print(f1 == f2)\n",
    "print(3*3*3)\n",
    "print(3**3)\n",
    "\n",
    "print(7/2)\n",
    "print(7//2)\n",
    "print(7%2)\n",
    "\n"
   ]
  },
  {
   "cell_type": "code",
   "execution_count": 3,
   "metadata": {},
   "outputs": [
    {
     "name": "stdout",
     "output_type": "stream",
     "text": [
      "10\n",
      "10.0\n",
      "3.3333333333333335\n"
     ]
    }
   ],
   "source": [
    "a = 10 \n",
    "print(a)\n",
    "a = float(10)\n",
    "print(a)\n",
    "b=3\n",
    "print(a/b)\n"
   ]
  },
  {
   "cell_type": "code",
   "execution_count": 4,
   "metadata": {},
   "outputs": [
    {
     "name": "stdout",
     "output_type": "stream",
     "text": [
      "10 10\n"
     ]
    }
   ],
   "source": [
    "# 실수형에서 정수형으로 변환시 소수점 이하에서 내림한다!\n",
    "a = 10.3\n",
    "b = 10.7\n",
    "print(int(a),int(b))"
   ]
  },
  {
   "cell_type": "code",
   "execution_count": null,
   "metadata": {},
   "outputs": [],
   "source": [
    "# 문자열로 선언되도 int float으로 변환이 가능하다.\n",
    "a='76.3'\n",
    "b=float(a)\n",
    "print(b)\n",
    "print(a+b) # 문자열과 숫자열의 덧셈은 불가능해 애러가 발생"
   ]
  },
  {
   "cell_type": "code",
   "execution_count": 9,
   "metadata": {},
   "outputs": [
    {
     "name": "stdout",
     "output_type": "stream",
     "text": [
      "<class 'int'> 10\n",
      "<class 'float'> 10.3\n",
      "<class 'str'> 10.3\n",
      "True\n",
      "True\n",
      "True\n"
     ]
    }
   ],
   "source": [
    "a=int(10.3)\n",
    "b=float(10.3)\n",
    "c=str(10.3)\n",
    "print(type(a),a)\n",
    "print(type(b),b)\n",
    "print(type(c),c)\n",
    "print(type(c) == str)\n",
    "print(type(b) == float)\n",
    "print(type(a) == int)\n",
    "\n",
    "\n",
    "\n",
    "\n",
    "\n"
   ]
  },
  {
   "cell_type": "markdown",
   "metadata": {},
   "source": [
    "- 8bit = 1byte\n"
   ]
  },
  {
   "cell_type": "code",
   "execution_count": 11,
   "metadata": {},
   "outputs": [
    {
     "name": "stdout",
     "output_type": "stream",
     "text": [
      "[1, 2, 3, 4, 5, 6, 7, 8, 9, 10]\n"
     ]
    }
   ],
   "source": [
    "a=list(range(1,11))\n",
    "print(a)"
   ]
  },
  {
   "cell_type": "code",
   "execution_count": 14,
   "metadata": {},
   "outputs": [
    {
     "name": "stdout",
     "output_type": "stream",
     "text": [
      "[1, 2, 3, 4, 5, 6]\n",
      "[2, 3, 4, 5, 6, 7, 8, 9, 10]\n",
      "[1, 2, 3, 4, 5, 6, 7, 8, 9, 10]\n",
      "[1, 2, 3, 4, 5, 6, 7, 8, 9, 10]\n",
      "[1, 3, 5, 7, 9]\n",
      "[10, 9, 8, 7, 6, 5, 4, 3, 2, 1]\n"
     ]
    }
   ],
   "source": [
    "print(a[0:6])\n",
    "print(a[-9:]) # -9 부터 끝까지\n",
    "print(a[:])\n",
    "print(a[-50:50]) # 범위가 넘어갈 경우 자동으로 최대범위를 지정한다\n",
    "print(a[::2]) # 2 칸씩\n",
    "print(a[::-1]) # 역 슬라이싱\n",
    "#[start : finish : n칸]\n",
    "\n",
    "\n"
   ]
  },
  {
   "cell_type": "code",
   "execution_count": null,
   "metadata": {},
   "outputs": [],
   "source": [
    "print([1,2,3]+[4,5,6]) # 리스트의 합\n",
    "print([1,2,3]*2)"
   ]
  },
  {
   "cell_type": "code",
   "execution_count": 15,
   "metadata": {},
   "outputs": [
    {
     "name": "stdout",
     "output_type": "stream",
     "text": [
      "[1, 2, 3, 4, 5, 6]\n",
      "[1, 2, 3, 4, 5, 6, 1, 2, 3]\n",
      "[-1, 1, 2, 3, 4, 5, 6, 1, 2, 3]\n",
      "[1, 2, 3, 4, 5, 6, 1, 2, 3]\n",
      "[2, 3, 4, 5, 6, 1, 2, 3]\n"
     ]
    }
   ],
   "source": [
    "# list => append,extend,insert,remove,del\n",
    "a=[1,2,3,4,5]\n",
    "a.append(6)\n",
    "print(a)\n",
    "a.extend([1,2,3]) #여러개 추가\n",
    "print(a)\n",
    "a.insert(0,-1)\n",
    "print(a)\n",
    "a.remove(-1)\n",
    "print(a)\n",
    "del a[0]\n",
    "print(a)"
   ]
  },
  {
   "cell_type": "code",
   "execution_count": 17,
   "metadata": {},
   "outputs": [
    {
     "name": "stdout",
     "output_type": "stream",
     "text": [
      "[5, 4, 3, 2, 1]\n",
      "[1, 2, 3, 4, 5]\n",
      "[6, 7, 8, 9, 10]\n",
      "[1, 2, 3, 4, 5]\n"
     ]
    }
   ],
   "source": [
    "a=[5,4,3,2,1]\n",
    "b=[1,2,3,4,5]\n",
    "# = 의 의미는 같다가아닌 메모리 주소에 해당값을 연결(할당)한다는 의미\n",
    "b=a\n",
    "print(b)\n",
    "a.sort()\n",
    "print(b)\n",
    "\n",
    "b = [6,7,8,9,10]\n",
    "print(b)\n",
    "print(a)"
   ]
  },
  {
   "cell_type": "code",
   "execution_count": null,
   "metadata": {},
   "outputs": [],
   "source": [
    "# 패킹 , 언패킹\n",
    "t=[1,2,3]\n",
    "a,b,c=t\n",
    "print(t,a,b,c)"
   ]
  },
  {
   "cell_type": "code",
   "execution_count": 20,
   "metadata": {},
   "outputs": [
    {
     "name": "stdout",
     "output_type": "stream",
     "text": [
      "1 2 3\n",
      "a bc\n",
      "a,b,c\n",
      "value is 10\n"
     ]
    }
   ],
   "source": [
    "\n",
    "# 형식에 맞춰 출력하기\n",
    "print(1,2,3)\n",
    "print(\"a\"+\" \"+\"b\"+\"c\")\n",
    "print(\"{},{},{}\".format(\"a\",\"b\",\"c\",\"d\"))\n",
    "value = 10\n",
    "print(f\"value is {value}\")"
   ]
  },
  {
   "cell_type": "code",
   "execution_count": 21,
   "metadata": {},
   "outputs": [
    {
     "name": "stdout",
     "output_type": "stream",
     "text": [
      "This is 1.23\n"
     ]
    }
   ],
   "source": [
    "# %-format\n",
    "a=1.2345\n",
    "print(\"This is %3.2f\" %(a))"
   ]
  },
  {
   "cell_type": "code",
   "execution_count": null,
   "metadata": {},
   "outputs": [],
   "source": []
  },
  {
   "cell_type": "code",
   "execution_count": null,
   "metadata": {},
   "outputs": [],
   "source": [
    "\n"
   ]
  },
  {
   "cell_type": "code",
   "execution_count": null,
   "metadata": {},
   "outputs": [],
   "source": []
  },
  {
   "cell_type": "code",
   "execution_count": null,
   "metadata": {},
   "outputs": [],
   "source": []
  },
  {
   "cell_type": "code",
   "execution_count": null,
   "metadata": {},
   "outputs": [],
   "source": [
    "\n"
   ]
  },
  {
   "cell_type": "code",
   "execution_count": null,
   "metadata": {},
   "outputs": [],
   "source": []
  },
  {
   "cell_type": "code",
   "execution_count": null,
   "metadata": {},
   "outputs": [],
   "source": []
  },
  {
   "cell_type": "code",
   "execution_count": null,
   "metadata": {},
   "outputs": [],
   "source": []
  },
  {
   "cell_type": "code",
   "execution_count": null,
   "metadata": {},
   "outputs": [],
   "source": []
  }
 ],
 "metadata": {
  "interpreter": {
   "hash": "31f2aee4e71d21fbe5cf8b01ff0e069b9275f58929596ceb00d14d90e3e16cd6"
  },
  "kernelspec": {
   "display_name": "Python 3.8.9 64-bit",
   "language": "python",
   "name": "python3"
  },
  "language_info": {
   "codemirror_mode": {
    "name": "ipython",
    "version": 3
   },
   "file_extension": ".py",
   "mimetype": "text/x-python",
   "name": "python",
   "nbconvert_exporter": "python",
   "pygments_lexer": "ipython3",
   "version": "3.8.9"
  },
  "orig_nbformat": 4
 },
 "nbformat": 4,
 "nbformat_minor": 2
}
