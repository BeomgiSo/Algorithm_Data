{
 "cells": [
  {
   "cell_type": "code",
   "execution_count": null,
   "metadata": {},
   "outputs": [],
   "source": []
  },
  {
   "cell_type": "markdown",
   "metadata": {},
   "source": [
    "> 동적계획법 Dynamic Programming\n",
    "- 하나도 다이나믹하지 않다.... 그냥 멋있어 보일려고 붙인 이름\n",
    "- 문제를 쪼개서 `작은 문제의 답`을 구하고, 그걸로 `더 큰 문제의 답을 구하는 걸 반복`\n",
    "- `분할정복과 비슷한 느낌`이다.\n",
    "- 프로그래밍의 동적의 의미는 runtime이후에 나온 결과물을 다시 사용하는걸의미하지만, 현재 동적의 알고리즘과 다른의미이다.\n",
    "\n",
    "- DP구현반복\n",
    "    - Top-down : 재귀 // 메모라이제이션(memoryzation)\n",
    "    - bottom-up : 반복문 // 타뷸레이션(Tabulation)\n",
    "\n",
    "- Top-down\n",
    "    - `한번 답 구한 답들은 저장`해 둔다(Memoization)\n",
    "    - 부분 문제들의 답을 한 번 구했으면, 또 구하지 안호도록(중복연산 방지) cache에 저장해두고 다음 부턴 갖다 쓰자\n",
    "    - `메모라이제이션`이 아니다. `메모이제이션`\n",
    "        - 필요한 부분 문제들만 구한다.(Lazy-Evaluation)\n",
    "        - Top-down 방식에서 사용\n",
    "    - 직관적이라 코드 가독성이 좋다\n",
    "    - 재귀함수 호출을 많이 해서 느릴 수 있다.\n",
    "\n",
    "    \n",
    "- `미리 다 구해놓자` Tabulation\n",
    "    - 부분 문제들의 답을 미리 다 구해두면 편하다.\n",
    "    - 테이블을 채워나간다는 의미라서 타뷸레이션이다.\n",
    "    - Bottom-up 방식\n",
    "    - 시간과 메모리를 좀 더 아낄 수 있다.\n",
    "    - DP테이블 채워 나가는 순서를 알아야 한다."
   ]
  },
  {
   "cell_type": "code",
   "execution_count": 2,
   "metadata": {},
   "outputs": [
    {
     "name": "stdout",
     "output_type": "stream",
     "text": [
      "55\n"
     ]
    }
   ],
   "source": [
    "# 2784 피보나치 수열 2\n",
    "'''\n",
    "문제\n",
    "피보나치 수는 0과 1로 시작한다. 0번째 피보나치 수는 0이고, 1번째 피보나치 수는 1이다. 그 다음 2번째 부터는 바로 앞 두 피보나치 수의 합이 된다.\n",
    "\n",
    "이를 식으로 써보면 Fn = Fn-1 + Fn-2 (n ≥ 2)가 된다.\n",
    "\n",
    "n=17일때 까지 피보나치 수를 써보면 다음과 같다.\n",
    "\n",
    "0, 1, 1, 2, 3, 5, 8, 13, 21, 34, 55, 89, 144, 233, 377, 610, 987, 1597\n",
    "\n",
    "n이 주어졌을 때, n번째 피보나치 수를 구하는 프로그램을 작성하시오.\n",
    "\n",
    "입력\n",
    "첫째 줄에 n이 주어진다. n은 90보다 작거나 같은 자연수이다.\n",
    "\n",
    "출력\n",
    "첫째 줄에 n번째 피보나치 수를 출력한다.\n",
    "'''\n",
    "\n",
    "# Top down\n",
    "N = int(input())\n",
    "\n",
    "def f(n):\n",
    "    if n == 0:\n",
    "        return 0\n",
    "    elif n == 1 :\n",
    "        return 1\n",
    "    return f(n-1)+f(n-2)\n",
    "\n",
    "print(f(N))\n",
    "\n",
    "cache = [-1]*100 # 모든수가 양수 이기때문에 구한문제인지 아닌지 구분할 수 있게 -1을 해준다\n",
    "cache[0] = 0\n",
    "cache[1] = 1\n",
    "\n",
    "def fib(n):\n",
    "    if cache[n] == -1:\n",
    "        cache[n] = f(n-1) + f(n-2)\n",
    "\n",
    "    return cache[n]"
   ]
  },
  {
   "cell_type": "code",
   "execution_count": 3,
   "metadata": {},
   "outputs": [
    {
     "name": "stdout",
     "output_type": "stream",
     "text": [
      "55\n"
     ]
    }
   ],
   "source": [
    "N = int(input())\n",
    "\n",
    "cache=[-1]*(N+1)\n",
    "cache[0] = 0\n",
    "cache[1] = 1 \n",
    "def fib(n):\n",
    "    if cache[n] == -1:\n",
    "        cache[n] = fib(n-1) + fib(n-2)\n",
    "\n",
    "    return cache[n]\n",
    "\n",
    "print(fib(N))"
   ]
  },
  {
   "cell_type": "code",
   "execution_count": null,
   "metadata": {},
   "outputs": [],
   "source": [
    "N = int(input())\n",
    "\n",
    "cache=[-1]*(N+1)\n",
    "cache[0] = 0\n",
    "cache[1] = 1 \n",
    "\n",
    "for i in range(2,N+1):\n",
    "    cache[i] = cache[i-1]+cache[i-2]\n",
    "\n",
    "print(cache[N])"
   ]
  },
  {
   "cell_type": "markdown",
   "metadata": {},
   "source": [
    "> 이항계수\n",
    "- bino(n,0) = 1\n",
    "- bino(n,n) = 1\n",
    "- bino(n,r) = bino(n-1,r-1)+ bino(n-1,r)\n"
   ]
  },
  {
   "cell_type": "code",
   "execution_count": 11,
   "metadata": {},
   "outputs": [
    {
     "ename": "KeyboardInterrupt",
     "evalue": "",
     "output_type": "error",
     "traceback": [
      "\u001b[0;31m---------------------------------------------------------------------------\u001b[0m",
      "\u001b[0;31mKeyboardInterrupt\u001b[0m                         Traceback (most recent call last)",
      "Input \u001b[0;32mIn [11]\u001b[0m, in \u001b[0;36m<module>\u001b[0;34m\u001b[0m\n\u001b[1;32m     18\u001b[0m         \u001b[38;5;28;01mreturn\u001b[39;00m \u001b[38;5;241m1\u001b[39m\n\u001b[1;32m     19\u001b[0m     \u001b[38;5;28;01mreturn\u001b[39;00m \u001b[38;5;28mbin\u001b[39m(n\u001b[38;5;241m-\u001b[39m\u001b[38;5;241m1\u001b[39m,r\u001b[38;5;241m-\u001b[39m\u001b[38;5;241m1\u001b[39m)\u001b[38;5;241m+\u001b[39m\u001b[38;5;28mbin\u001b[39m(n\u001b[38;5;241m-\u001b[39m\u001b[38;5;241m1\u001b[39m,r)\n\u001b[0;32m---> 21\u001b[0m \u001b[38;5;28mprint\u001b[39m(\u001b[38;5;28;43mbin\u001b[39;49m\u001b[43m(\u001b[49m\u001b[43mn\u001b[49m\u001b[43m,\u001b[49m\u001b[43mr\u001b[49m\u001b[43m)\u001b[49m\u001b[38;5;241m%\u001b[39m\u001b[38;5;241m10007\u001b[39m)\n",
      "Input \u001b[0;32mIn [11]\u001b[0m, in \u001b[0;36mbin\u001b[0;34m(n, r)\u001b[0m\n\u001b[1;32m     17\u001b[0m \u001b[38;5;28;01melif\u001b[39;00m r \u001b[38;5;241m==\u001b[39m \u001b[38;5;241m0\u001b[39m:\n\u001b[1;32m     18\u001b[0m     \u001b[38;5;28;01mreturn\u001b[39;00m \u001b[38;5;241m1\u001b[39m\n\u001b[0;32m---> 19\u001b[0m \u001b[38;5;28;01mreturn\u001b[39;00m \u001b[38;5;28;43mbin\u001b[39;49m\u001b[43m(\u001b[49m\u001b[43mn\u001b[49m\u001b[38;5;241;43m-\u001b[39;49m\u001b[38;5;241;43m1\u001b[39;49m\u001b[43m,\u001b[49m\u001b[43mr\u001b[49m\u001b[38;5;241;43m-\u001b[39;49m\u001b[38;5;241;43m1\u001b[39;49m\u001b[43m)\u001b[49m\u001b[38;5;241m+\u001b[39m\u001b[38;5;28mbin\u001b[39m(n\u001b[38;5;241m-\u001b[39m\u001b[38;5;241m1\u001b[39m,r)\n",
      "Input \u001b[0;32mIn [11]\u001b[0m, in \u001b[0;36mbin\u001b[0;34m(n, r)\u001b[0m\n\u001b[1;32m     17\u001b[0m \u001b[38;5;28;01melif\u001b[39;00m r \u001b[38;5;241m==\u001b[39m \u001b[38;5;241m0\u001b[39m:\n\u001b[1;32m     18\u001b[0m     \u001b[38;5;28;01mreturn\u001b[39;00m \u001b[38;5;241m1\u001b[39m\n\u001b[0;32m---> 19\u001b[0m \u001b[38;5;28;01mreturn\u001b[39;00m \u001b[38;5;28;43mbin\u001b[39;49m\u001b[43m(\u001b[49m\u001b[43mn\u001b[49m\u001b[38;5;241;43m-\u001b[39;49m\u001b[38;5;241;43m1\u001b[39;49m\u001b[43m,\u001b[49m\u001b[43mr\u001b[49m\u001b[38;5;241;43m-\u001b[39;49m\u001b[38;5;241;43m1\u001b[39;49m\u001b[43m)\u001b[49m\u001b[38;5;241m+\u001b[39m\u001b[38;5;28mbin\u001b[39m(n\u001b[38;5;241m-\u001b[39m\u001b[38;5;241m1\u001b[39m,r)\n",
      "    \u001b[0;31m[... skipping similar frames: bin at line 19 (921 times)]\u001b[0m\n",
      "Input \u001b[0;32mIn [11]\u001b[0m, in \u001b[0;36mbin\u001b[0;34m(n, r)\u001b[0m\n\u001b[1;32m     17\u001b[0m \u001b[38;5;28;01melif\u001b[39;00m r \u001b[38;5;241m==\u001b[39m \u001b[38;5;241m0\u001b[39m:\n\u001b[1;32m     18\u001b[0m     \u001b[38;5;28;01mreturn\u001b[39;00m \u001b[38;5;241m1\u001b[39m\n\u001b[0;32m---> 19\u001b[0m \u001b[38;5;28;01mreturn\u001b[39;00m \u001b[38;5;28;43mbin\u001b[39;49m\u001b[43m(\u001b[49m\u001b[43mn\u001b[49m\u001b[38;5;241;43m-\u001b[39;49m\u001b[38;5;241;43m1\u001b[39;49m\u001b[43m,\u001b[49m\u001b[43mr\u001b[49m\u001b[38;5;241;43m-\u001b[39;49m\u001b[38;5;241;43m1\u001b[39;49m\u001b[43m)\u001b[49m\u001b[38;5;241m+\u001b[39m\u001b[38;5;28mbin\u001b[39m(n\u001b[38;5;241m-\u001b[39m\u001b[38;5;241m1\u001b[39m,r)\n",
      "Input \u001b[0;32mIn [11]\u001b[0m, in \u001b[0;36mbin\u001b[0;34m(n, r)\u001b[0m\n\u001b[1;32m     15\u001b[0m \u001b[38;5;28;01mif\u001b[39;00m n \u001b[38;5;241m==\u001b[39m r:\n\u001b[1;32m     16\u001b[0m     \u001b[38;5;28;01mreturn\u001b[39;00m \u001b[38;5;241m1\u001b[39m\n\u001b[0;32m---> 17\u001b[0m \u001b[38;5;28;01melif\u001b[39;00m \u001b[43mr\u001b[49m\u001b[43m \u001b[49m\u001b[38;5;241;43m==\u001b[39;49m\u001b[43m \u001b[49m\u001b[38;5;241;43m0\u001b[39;49m:\n\u001b[1;32m     18\u001b[0m     \u001b[38;5;28;01mreturn\u001b[39;00m \u001b[38;5;241m1\u001b[39m\n\u001b[1;32m     19\u001b[0m \u001b[38;5;28;01mreturn\u001b[39;00m \u001b[38;5;28mbin\u001b[39m(n\u001b[38;5;241m-\u001b[39m\u001b[38;5;241m1\u001b[39m,r\u001b[38;5;241m-\u001b[39m\u001b[38;5;241m1\u001b[39m)\u001b[38;5;241m+\u001b[39m\u001b[38;5;28mbin\u001b[39m(n\u001b[38;5;241m-\u001b[39m\u001b[38;5;241m1\u001b[39m,r)\n",
      "\u001b[0;31mKeyboardInterrupt\u001b[0m: "
     ]
    }
   ],
   "source": [
    "'''\n",
    "문제\n",
    "자연수 \\(N\\)과 정수 \\(K\\)가 주어졌을 때 이항 계수 \n",
    "\\(\\binom{N}{K}\\)를 10,007로 나눈 나머지를 구하는 프로그램을 작성하시오.\n",
    "\n",
    "입력\n",
    "첫째 줄에 \\(N\\)과 \\(K\\)가 주어진다. (1 ≤ \\(N\\) ≤ 1,000, 0 ≤ \\(K\\) ≤ \\(N\\))\n",
    "\n",
    "출력\n",
    " \n",
    "\\(\\binom{N}{K}\\)를 10,007로 나눈 나머지를 출력한다.\n",
    "'''\n",
    "n,r = map(int,input().split())\n",
    "def bin(n,r):\n",
    "    if n == r:\n",
    "        return 1\n",
    "    elif r == 0:\n",
    "        return 1\n",
    "    return bin(n-1,r-1)+bin(n-1,r)\n",
    "\n",
    "print(bin(n,r)%10007)\n"
   ]
  },
  {
   "cell_type": "code",
   "execution_count": 14,
   "metadata": {},
   "outputs": [
    {
     "name": "stdout",
     "output_type": "stream",
     "text": [
      "15\n"
     ]
    }
   ],
   "source": [
    "import sys\n",
    "sys.setrecursionlimit(10**7)\n",
    "N,K = map(int,input().split())\n",
    "\n",
    "cache = [[0]*1001 for _ in range(1001)]\n",
    "\n",
    "def bino(n,k):\n",
    "    if cache[n][k]:\n",
    "        return cache[n][k]\n",
    "\n",
    "    if k == 0 or k == n:\n",
    "        cache[n][k] = 1\n",
    "    else:\n",
    "        cache[n][k] =  bino(n-1,k-1) + bino(n-1,k)\n",
    "    return cache[n][k]\n",
    "\n",
    "\n",
    "print(bino(N,K)%10007)"
   ]
  },
  {
   "cell_type": "code",
   "execution_count": null,
   "metadata": {},
   "outputs": [],
   "source": [
    "# 11726"
   ]
  },
  {
   "cell_type": "code",
   "execution_count": null,
   "metadata": {},
   "outputs": [],
   "source": [
    "# 10844"
   ]
  },
  {
   "cell_type": "markdown",
   "metadata": {},
   "source": []
  }
 ],
 "metadata": {
  "interpreter": {
   "hash": "31f2aee4e71d21fbe5cf8b01ff0e069b9275f58929596ceb00d14d90e3e16cd6"
  },
  "kernelspec": {
   "display_name": "Python 3.8.9 64-bit",
   "language": "python",
   "name": "python3"
  },
  "language_info": {
   "codemirror_mode": {
    "name": "ipython",
    "version": 3
   },
   "file_extension": ".py",
   "mimetype": "text/x-python",
   "name": "python",
   "nbconvert_exporter": "python",
   "pygments_lexer": "ipython3",
   "version": "3.8.9"
  },
  "orig_nbformat": 4
 },
 "nbformat": 4,
 "nbformat_minor": 2
}
