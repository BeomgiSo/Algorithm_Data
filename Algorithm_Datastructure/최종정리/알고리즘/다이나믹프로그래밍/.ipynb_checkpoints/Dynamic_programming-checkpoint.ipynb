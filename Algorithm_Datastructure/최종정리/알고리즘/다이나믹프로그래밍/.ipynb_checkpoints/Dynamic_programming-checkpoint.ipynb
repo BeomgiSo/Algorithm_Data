{
 "cells": [
  {
   "cell_type": "markdown",
   "metadata": {},
   "source": [
    "# 동적계획법 Dynamic Programming\n",
    "- < 이것이 코딩테스트다 / elice / udemy>\n",
    "\n",
    "- `하나도 다이나믹하지 않다....` 그냥 멋있어 보일려고 붙인 이름\n",
    "- `한 번 계산한 문제`는 `다시 계산하지 않도록` 하는 알고리즘\n",
    "- 문제를 쪼개서 `작은 문제의 답`을 구하고, 그걸로 `더 큰 문제의 답을 구하는 걸 반복`\n",
    "- `분할정복과 비슷한 느낌`이다.\n",
    "- 분할정복법과 동적계획법의 차이\n",
    "    - `중복되는 부분문제(Overlapping subprobelms)` : 작은 하위문제들이 나타난다.\n",
    "    - 즉, `점점 종합하여 해결해야하는 문제`들이 많이 생겨나는 경우 분할 정복법을 사용하여 문제를 해결한다.\n",
    "- 복접한 문제를 간단한 `여러 개의 하위 문제로 나누어 푸는 방법`\n",
    "- 이 때, 하위 문제의 답을 `저장`하여 `중복연산을 하지 않는다`.\n",
    "\n",
    "\n",
    "\n",
    "\n",
    "> 다이나믹 프로그래밍과 동적 할당의 다이나믹은 같은 의미일까?\n",
    "- 프로그래밍에서 다이나믹은 `프로그램이 실행되는 도중에`라는 의미이다. 예를 들어 자료구조에서 동적 할당은 `프로그램 실행 중`에 프로그램 실행에 필요한 `메모리를 할당`하는 기법이다. 그러나 다이나믹 프로그래밍에서의 다이나믹은 이런의미가 아니라는 의미이다.\n",
    "- 프로그래밍의 동적의 의미는 runtime이후에 나온 결과물을 다시 사용하는걸의미하지만, 현재 동적의 알고리즘과 다른의미이다.\n",
    "- 수열 => 배열이나 리스트로 표현할 수 있다. \"연속된 많은 데이터\"를 처리\n",
    "\n"
   ]
  },
  {
   "cell_type": "markdown",
   "metadata": {},
   "source": [
    "> 동적계획법 문제의 특성\n",
    "- 조건\n",
    "    - 중복되는 부분문제(Overlapping subproblems)\n",
    "        - 작은 하위문제들이 중복되어 나타난다.\n",
    "    - 최적 부분 구조(optimal substructure)\n",
    "        - 최적해는 부분 문제의 최적해로부터 구할 수 있다.\n",
    "    - 즉, 1. 큰 문제를 작은 문제로 나눌 수 있다. 2. 작은 문제에서 구한 정답은 그것을 포함하는 큰 문제에서도 동일하다.\n",
    "\n",
    "- `메모제이션(Memorization)기법`을 사용해보자.\n",
    "- 다이나믹 프로그래밍을 구현하는 방법중 한 종류로, 한번 `구한 결과를 메모리 공간에 메모`해두고 같은 식을 다시 호출하면 메모리 결과를 그대로 가져오는 기법이다.\n",
    "- `메모제이션은 값`을 저장하는 방법이므로 `캐싱(Caching)`이라고 한다.\n"
   ]
  },
  {
   "cell_type": "markdown",
   "metadata": {},
   "source": [
    "> 시간/공간 복잡도 계산하기\n",
    "- 예시 fibonachi\n",
    "- 간단한 재귀호출\n",
    "    - 지수적으로 시간 복잡도가 증가함을 알 수 있다.\n",
    "    - ex f(6)을 구하기 위해 f(5)와 f(4)를 구해야하고 그것도 $2^{n}$만큼의 갯수가 지속적으로 증가해야한다.\n",
    "- 동적계획법\n",
    "    - O(N)\n",
    "    - 하위 문제들의 답을 저장해 놓기 때문에, 하위 문제의 수 만큼 저장 공간이 필요하다."
   ]
  },
  {
   "cell_type": "markdown",
   "metadata": {},
   "source": [
    "> 동적계획법 문제풀이 한번 구한 답들은 저장해주자 `Memoization`\n",
    "1. `구하고자하는 값` 정의하기\n",
    "    - 구하고자 하고는 값이 무엇인지 파악한다.\n",
    "2. `부분문제로 표현하여 점화식` 구하기\n",
    "    - 구하고자 하는 값을 부분문제로 구성된 식으로 표현한다.\n",
    "3. 코드로 옮기기\n",
    "    - `점화식을 재귀호츨`, `반복문식`으로 코드로 작성한다."
   ]
  },
  {
   "cell_type": "markdown",
   "metadata": {},
   "source": [
    "> 중복되는 연산을 줄이자\n",
    "- 다이나믹 프로그래밍의 2가지방식 `Top-down`방식 `Bottom-up`방식\n",
    "- DP구현반복\n",
    "    - Top-down : 재귀 // 메모라이제이션(memoryzation)\n",
    "    - bottom-up : 반복문 // 타뷸레이션(Tabulation)\n",
    "\n",
    "- 동적계획법을 구현하는 태크닉\n",
    "    - 점화식 : 복잡한 문제를 작은 하위문제로 표현한 식\n",
    "    - Top-down vs Bottom-up\n",
    "    - Top-down \n",
    "        - 1. 큰 문제를 작은 문제로 나눈다.\n",
    "        - 2. 작은 문제를 풀어 return 해준다.\n",
    "    - Bottom-up\n",
    "        - 1. 작은 문제부터 차례로 풀어 적는다.\n",
    "        - 2. 크기를 조금씩 늘려서 문제를 푼다.\n",
    "        - 반복문 식 방법\n",
    "        \n",
    "- Top-down\n",
    "    - `한번 답 구한 답들은 저장`해 둔다(Memoization)\n",
    "    - 부분 문제들의 답을 한 번 구했으면, 또 구하지 안호도록(중복연산 방지) cache에 저장해두고 다음 부턴 갖다 쓰자\n",
    "    - `메모라이제이션`이 아니다. `메모이제이션`\n",
    "        - 필요한 부분 문제들만 구한다.(Lazy-Evaluation)\n",
    "        - Top-down 방식에서 사용\n",
    "    - 직관적이라 코드 가독성이 좋다\n",
    "    - 재귀함수 호출을 많이 해서 느릴 수 있다.\n",
    "\n",
    "    \n",
    "- `미리 다 구해놓자` Tabulation\n",
    "    - 부분 문제들의 답을 미리 다 구해두면 편하다.\n",
    "    - 테이블을 채워나간다는 의미라서 타뷸레이션이다.\n",
    "    - Bottom-up 방식\n",
    "    - 시간과 메모리를 좀 더 아낄 수 있다.\n",
    "    - DP테이블 채워 나가는 순서를 알아야 한다."
   ]
  },
  {
   "cell_type": "code",
   "execution_count": null,
   "metadata": {},
   "outputs": [],
   "source": [
    "# Top-down방식\n",
    "fibonacci = {1: 1 , 2: 1}\n",
    "\n",
    "def fibo(n):\n",
    "    if n in fibonacci:\n",
    "        return fibonacci[n]\n",
    "    else:\n",
    "        fibonacci[n] = fibo(n-1) + fibo(n-2)\n",
    "        return fibonacci[n]\n",
    "\n",
    "# bottom-up 방식\n",
    "def fibo(n):\n",
    "    fibonacci = [-1,1,1]\n",
    "    if n<3: return 1\n",
    "    for i in range(3,n+1):\n",
    "        fibonacci.append(fibonacci[i-1]+fibonacci[n-2])\n",
    "    \n",
    "    return fibonacci[n]"
   ]
  },
  {
   "cell_type": "markdown",
   "metadata": {},
   "source": [
    "> 정리\n",
    "- 다이나믹 프로그래밍이란 큰 문제를 작게 나누고, 같은 문제라면 한 번씩만 풀어 문제를 효율적으로 해결하는 알고리즘 기법\n",
    "- 퀵정렬은 정렬을 수행할 때 정렬한 리스트를 분할하며 전체적으로 정렬이 될 수 있도록 한다.\n",
    "- 분할 정복(Divide and conquer)알고리즘 으로 분류된다.\n",
    "- 다이나믹 프로그래밍과 분할 정복의 차이점은 다이나믹 프로그래밍은 문제들이 서로 영항을 미치고 있다는 점이다.\n",
    "- 퀵정렬\n",
    "    - 퀵 정렬은 한 번 기준 원소(Pivot)가 자리를 변경해서 자를 잡게 되면 그 기준 원소의 위치는 더 이상 바뀌지 않고 그 피벗값을 다시 처리하는 문제는 존재하지 않는다.\n",
    "\n",
    "- 다이나믹 프로그래밍\n",
    "    - 한번 해결했던 문제를 다시금 해결한다는 점이 특징이다.\n",
    "    - 그렇기에 이미 해결된 부분 문제에 대한 답을 저장해 놓고, 이 문제는 이미 해결이된 부분 문제에 대한 답을 저장해 놓고, 이 문제는 이미 해결이 됐던 것이니깐 다시 해결할 필요가 없다.\n",
    "\n",
    "- 재귀함수를 사용하면 시스템에서 함수를 다시 호출했을 떄 메모리상에 적재되는 일련의 과정에서 오버헤드가 발생할 수 있다.\n",
    "- 따라서 재귀함수 대신에 반복문을 사용하여 오버헤드를 줄일 수 있다.\n",
    "- 일반적으로 반복문을 이용한 다이나믹 프로그래밍이 더 성능이 좋기 떄문이다."
   ]
  },
  {
   "cell_type": "code",
   "execution_count": 1,
   "metadata": {},
   "outputs": [
    {
     "name": "stdout",
     "output_type": "stream",
     "text": [
      "89\n"
     ]
    }
   ],
   "source": [
    "# 엘리스 예제1\n",
    "'''\n",
    "2 x n 의 상자를 2 x 1 의 블럭으로 채우는 경우의 수를 구하는 프로그램을 작성하세요. 단, 그 경우의 수가 매우 커질 수 있기 때문에, 경우의 수를 1,000,000,007으로 나눈 나머지를 출력합니다.\n",
    "'''\n",
    "def fillBox(n) :\n",
    "    '''\n",
    "    2 x n 의 상자를 2 x 1 의 블럭으로 채우는 경우의 수를 1,000,000,007로 나눈 나머지를 반환하는 함수를 작성하세요.\n",
    "    '''\n",
    "    store = [1,1]\n",
    "    \n",
    "    for i in range(2,n+1):\n",
    "        store.append(store[i-2]+store[i-1])\n",
    "    \n",
    "    \n",
    "    return store[n]%1000000007;\n",
    "    \n",
    "    \n",
    "n = int(input())\n",
    "\n",
    "print(fillBox(n))\n"
   ]
  },
  {
   "cell_type": "code",
   "execution_count": null,
   "metadata": {},
   "outputs": [],
   "source": [
    "# 엘리스 예제2\n",
    "'''\n",
    "1부터 3까지의 수를 더하여 5을 만드는 경우의 수는 다음과 같이 13가지가 존재합니다.\n",
    "\n",
    "1 + 1 + 1 + 1 + 1\n",
    "\n",
    "1 + 1 + 1 + 2\n",
    "\n",
    "1 + 1 + 2 + 1\n",
    "\n",
    "1 + 2 + 1 + 1\n",
    "\n",
    "2 + 1 + 1 + 1\n",
    "\n",
    "1 + 2 + 2\n",
    "\n",
    "2 + 1 + 2\n",
    "\n",
    "2 + 2 + 1\n",
    "\n",
    "1 + 1 + 3\n",
    "\n",
    "1 + 3 + 1\n",
    "\n",
    "3 + 1 + 1\n",
    "\n",
    "2 + 3\n",
    "\n",
    "3 + 2\n",
    "\n",
    "1부터 mmm까지의 수를 더하여 nnn을 만드는 경우의 수를 구하는 프로그램을 작성하세요. 단, 경우의 수가 매우 커질 수 있으므로, 경우의 수를 1,000,000,007 로 나눈 나머지를 출력합니다.\n",
    "'''\n",
    "\n",
    "def makeNumber(n, m) :\n",
    "    '''\n",
    "    1 ~ m 까지의 수를 더하여 n을 만드는 경우의 수를 1,000,000,007로 나눈 나머지를 반환하는 함수를 작성하세요.\n",
    "    '''\n",
    "    # 점화식 cache[n] = sum(result(n-1) ... (m-n))\n",
    "    cache = [1]\n",
    "\n",
    "    for i in range(1,n+1):\n",
    "        sum_temp = 0 \n",
    "        for j in range(1,min(i,m)+1):\n",
    "            sum_temp += cache[i-j]\n",
    "        cache.append(sum_temp%1000000007)\n",
    "\n",
    "    return cache[n];\n",
    "\n",
    "# firstLine = [int(x) for x in input().split()]\n",
    "# N,M = map(int,input().split())\n",
    "\n",
    "# print(makeNumber(N,M))\n"
   ]
  },
  {
   "cell_type": "code",
   "execution_count": null,
   "metadata": {},
   "outputs": [],
   "source": [
    "'''\n",
    "연속 부분 최대합\n",
    "nnn개의 숫자가 주어질 때, 연속 부분을 선택하여 그 합을 최대화 하는 프로그램을 작성하시오. 예를 들어, 다음과 같이 8개의 숫자가 있다고 하자.\n",
    "\n",
    "1 2 -4 5 3 -2 9 -10\n",
    "\n",
    "이 때, 연속 부분이란 연속하여 숫자를 선택하는 것을 말한다. 가능한 연속 부분으로써 [1, 2, -4], [5, 3, -2, 9], [9, -10] 등이 있을 수 있다. 이 연속 부분들 중에서 가장 합이 큰 연속 부분은 [5, 3, -2, 9] 이며, 이보다 더 합을 크게 할 수는 없다. 따라서 연속 부분 최대합은 5+3+(-2)+9 = 15 이다.\n",
    "'''\n",
    "def getSubsum(data) :\n",
    "    '''\n",
    "    n개의 숫자가 list로 주어질 때, 그 연속 부분 최대합을 반환하는 함수를 작성하세요.\n",
    "    '''\n",
    "    maxSum = []\n",
    "    final_max = data[0]\n",
    "    #final_max = -float('inf')\n",
    "\n",
    "    maxSum.append(data[0])\n",
    "\n",
    "    for n in range(1,len(data)):\n",
    "        maxSum.append(max(maxSum[n-1],0)+data[n])\n",
    "        if final_max < maxSum[n]:\n",
    "            final_max = maxSum[n]\n",
    "    return final_max"
   ]
  },
  {
   "cell_type": "code",
   "execution_count": null,
   "metadata": {},
   "outputs": [],
   "source": [
    "# 연습문제 \n",
    "\n"
   ]
  },
  {
   "cell_type": "code",
   "execution_count": 2,
   "metadata": {},
   "outputs": [
    {
     "name": "stdout",
     "output_type": "stream",
     "text": [
      "55\n"
     ]
    }
   ],
   "source": [
    "# 2784 피보나치 수열 2\n",
    "'''\n",
    "문제\n",
    "피보나치 수는 0과 1로 시작한다. 0번째 피보나치 수는 0이고, 1번째 피보나치 수는 1이다. 그 다음 2번째 부터는 바로 앞 두 피보나치 수의 합이 된다.\n",
    "\n",
    "이를 식으로 써보면 Fn = Fn-1 + Fn-2 (n ≥ 2)가 된다.\n",
    "\n",
    "n=17일때 까지 피보나치 수를 써보면 다음과 같다.\n",
    "\n",
    "0, 1, 1, 2, 3, 5, 8, 13, 21, 34, 55, 89, 144, 233, 377, 610, 987, 1597\n",
    "\n",
    "n이 주어졌을 때, n번째 피보나치 수를 구하는 프로그램을 작성하시오.\n",
    "\n",
    "입력\n",
    "첫째 줄에 n이 주어진다. n은 90보다 작거나 같은 자연수이다.\n",
    "\n",
    "출력\n",
    "첫째 줄에 n번째 피보나치 수를 출력한다.\n",
    "'''\n",
    "\n",
    "# Top down\n",
    "N = int(input())\n",
    "\n",
    "def f(n):\n",
    "    if n == 0:\n",
    "        return 0\n",
    "    elif n == 1 :\n",
    "        return 1\n",
    "    return f(n-1)+f(n-2)\n",
    "\n",
    "print(f(N))\n",
    "\n",
    "cache = [-1]*100 # 모든수가 양수 이기때문에 구한문제인지 아닌지 구분할 수 있게 -1을 해준다\n",
    "cache[0] = 0\n",
    "cache[1] = 1\n",
    "\n",
    "def fib(n):\n",
    "    if cache[n] == -1:\n",
    "        cache[n] = f(n-1) + f(n-2)\n",
    "\n",
    "    return cache[n]"
   ]
  },
  {
   "cell_type": "code",
   "execution_count": 3,
   "metadata": {},
   "outputs": [
    {
     "name": "stdout",
     "output_type": "stream",
     "text": [
      "55\n"
     ]
    }
   ],
   "source": [
    "N = int(input())\n",
    "\n",
    "cache=[-1]*(N+1)\n",
    "cache[0] = 0\n",
    "cache[1] = 1 \n",
    "def fib(n):\n",
    "    if cache[n] == -1:\n",
    "        cache[n] = fib(n-1) + fib(n-2)\n",
    "\n",
    "    return cache[n]\n",
    "\n",
    "print(fib(N))"
   ]
  },
  {
   "cell_type": "code",
   "execution_count": null,
   "metadata": {},
   "outputs": [],
   "source": [
    "N = int(input())\n",
    "\n",
    "cache=[-1]*(N+1)\n",
    "cache[0] = 0\n",
    "cache[1] = 1 \n",
    "\n",
    "for i in range(2,N+1):\n",
    "    cache[i] = cache[i-1]+cache[i-2]\n",
    "\n",
    "print(cache[N])"
   ]
  },
  {
   "cell_type": "markdown",
   "metadata": {},
   "source": [
    "> 이항계수\n",
    "- bino(n,0) = 1\n",
    "- bino(n,n) = 1\n",
    "- bino(n,r) = bino(n-1,r-1)+ bino(n-1,r)\n"
   ]
  },
  {
   "cell_type": "code",
   "execution_count": 11,
   "metadata": {},
   "outputs": [
    {
     "ename": "KeyboardInterrupt",
     "evalue": "",
     "output_type": "error",
     "traceback": [
      "\u001b[0;31m---------------------------------------------------------------------------\u001b[0m",
      "\u001b[0;31mKeyboardInterrupt\u001b[0m                         Traceback (most recent call last)",
      "Input \u001b[0;32mIn [11]\u001b[0m, in \u001b[0;36m<module>\u001b[0;34m\u001b[0m\n\u001b[1;32m     18\u001b[0m         \u001b[38;5;28;01mreturn\u001b[39;00m \u001b[38;5;241m1\u001b[39m\n\u001b[1;32m     19\u001b[0m     \u001b[38;5;28;01mreturn\u001b[39;00m \u001b[38;5;28mbin\u001b[39m(n\u001b[38;5;241m-\u001b[39m\u001b[38;5;241m1\u001b[39m,r\u001b[38;5;241m-\u001b[39m\u001b[38;5;241m1\u001b[39m)\u001b[38;5;241m+\u001b[39m\u001b[38;5;28mbin\u001b[39m(n\u001b[38;5;241m-\u001b[39m\u001b[38;5;241m1\u001b[39m,r)\n\u001b[0;32m---> 21\u001b[0m \u001b[38;5;28mprint\u001b[39m(\u001b[38;5;28;43mbin\u001b[39;49m\u001b[43m(\u001b[49m\u001b[43mn\u001b[49m\u001b[43m,\u001b[49m\u001b[43mr\u001b[49m\u001b[43m)\u001b[49m\u001b[38;5;241m%\u001b[39m\u001b[38;5;241m10007\u001b[39m)\n",
      "Input \u001b[0;32mIn [11]\u001b[0m, in \u001b[0;36mbin\u001b[0;34m(n, r)\u001b[0m\n\u001b[1;32m     17\u001b[0m \u001b[38;5;28;01melif\u001b[39;00m r \u001b[38;5;241m==\u001b[39m \u001b[38;5;241m0\u001b[39m:\n\u001b[1;32m     18\u001b[0m     \u001b[38;5;28;01mreturn\u001b[39;00m \u001b[38;5;241m1\u001b[39m\n\u001b[0;32m---> 19\u001b[0m \u001b[38;5;28;01mreturn\u001b[39;00m \u001b[38;5;28;43mbin\u001b[39;49m\u001b[43m(\u001b[49m\u001b[43mn\u001b[49m\u001b[38;5;241;43m-\u001b[39;49m\u001b[38;5;241;43m1\u001b[39;49m\u001b[43m,\u001b[49m\u001b[43mr\u001b[49m\u001b[38;5;241;43m-\u001b[39;49m\u001b[38;5;241;43m1\u001b[39;49m\u001b[43m)\u001b[49m\u001b[38;5;241m+\u001b[39m\u001b[38;5;28mbin\u001b[39m(n\u001b[38;5;241m-\u001b[39m\u001b[38;5;241m1\u001b[39m,r)\n",
      "Input \u001b[0;32mIn [11]\u001b[0m, in \u001b[0;36mbin\u001b[0;34m(n, r)\u001b[0m\n\u001b[1;32m     17\u001b[0m \u001b[38;5;28;01melif\u001b[39;00m r \u001b[38;5;241m==\u001b[39m \u001b[38;5;241m0\u001b[39m:\n\u001b[1;32m     18\u001b[0m     \u001b[38;5;28;01mreturn\u001b[39;00m \u001b[38;5;241m1\u001b[39m\n\u001b[0;32m---> 19\u001b[0m \u001b[38;5;28;01mreturn\u001b[39;00m \u001b[38;5;28;43mbin\u001b[39;49m\u001b[43m(\u001b[49m\u001b[43mn\u001b[49m\u001b[38;5;241;43m-\u001b[39;49m\u001b[38;5;241;43m1\u001b[39;49m\u001b[43m,\u001b[49m\u001b[43mr\u001b[49m\u001b[38;5;241;43m-\u001b[39;49m\u001b[38;5;241;43m1\u001b[39;49m\u001b[43m)\u001b[49m\u001b[38;5;241m+\u001b[39m\u001b[38;5;28mbin\u001b[39m(n\u001b[38;5;241m-\u001b[39m\u001b[38;5;241m1\u001b[39m,r)\n",
      "    \u001b[0;31m[... skipping similar frames: bin at line 19 (921 times)]\u001b[0m\n",
      "Input \u001b[0;32mIn [11]\u001b[0m, in \u001b[0;36mbin\u001b[0;34m(n, r)\u001b[0m\n\u001b[1;32m     17\u001b[0m \u001b[38;5;28;01melif\u001b[39;00m r \u001b[38;5;241m==\u001b[39m \u001b[38;5;241m0\u001b[39m:\n\u001b[1;32m     18\u001b[0m     \u001b[38;5;28;01mreturn\u001b[39;00m \u001b[38;5;241m1\u001b[39m\n\u001b[0;32m---> 19\u001b[0m \u001b[38;5;28;01mreturn\u001b[39;00m \u001b[38;5;28;43mbin\u001b[39;49m\u001b[43m(\u001b[49m\u001b[43mn\u001b[49m\u001b[38;5;241;43m-\u001b[39;49m\u001b[38;5;241;43m1\u001b[39;49m\u001b[43m,\u001b[49m\u001b[43mr\u001b[49m\u001b[38;5;241;43m-\u001b[39;49m\u001b[38;5;241;43m1\u001b[39;49m\u001b[43m)\u001b[49m\u001b[38;5;241m+\u001b[39m\u001b[38;5;28mbin\u001b[39m(n\u001b[38;5;241m-\u001b[39m\u001b[38;5;241m1\u001b[39m,r)\n",
      "Input \u001b[0;32mIn [11]\u001b[0m, in \u001b[0;36mbin\u001b[0;34m(n, r)\u001b[0m\n\u001b[1;32m     15\u001b[0m \u001b[38;5;28;01mif\u001b[39;00m n \u001b[38;5;241m==\u001b[39m r:\n\u001b[1;32m     16\u001b[0m     \u001b[38;5;28;01mreturn\u001b[39;00m \u001b[38;5;241m1\u001b[39m\n\u001b[0;32m---> 17\u001b[0m \u001b[38;5;28;01melif\u001b[39;00m \u001b[43mr\u001b[49m\u001b[43m \u001b[49m\u001b[38;5;241;43m==\u001b[39;49m\u001b[43m \u001b[49m\u001b[38;5;241;43m0\u001b[39;49m:\n\u001b[1;32m     18\u001b[0m     \u001b[38;5;28;01mreturn\u001b[39;00m \u001b[38;5;241m1\u001b[39m\n\u001b[1;32m     19\u001b[0m \u001b[38;5;28;01mreturn\u001b[39;00m \u001b[38;5;28mbin\u001b[39m(n\u001b[38;5;241m-\u001b[39m\u001b[38;5;241m1\u001b[39m,r\u001b[38;5;241m-\u001b[39m\u001b[38;5;241m1\u001b[39m)\u001b[38;5;241m+\u001b[39m\u001b[38;5;28mbin\u001b[39m(n\u001b[38;5;241m-\u001b[39m\u001b[38;5;241m1\u001b[39m,r)\n",
      "\u001b[0;31mKeyboardInterrupt\u001b[0m: "
     ]
    }
   ],
   "source": [
    "'''\n",
    "문제\n",
    "자연수 \\(N\\)과 정수 \\(K\\)가 주어졌을 때 이항 계수 \n",
    "\\(\\binom{N}{K}\\)를 10,007로 나눈 나머지를 구하는 프로그램을 작성하시오.\n",
    "\n",
    "입력\n",
    "첫째 줄에 \\(N\\)과 \\(K\\)가 주어진다. (1 ≤ \\(N\\) ≤ 1,000, 0 ≤ \\(K\\) ≤ \\(N\\))\n",
    "\n",
    "출력\n",
    " \n",
    "\\(\\binom{N}{K}\\)를 10,007로 나눈 나머지를 출력한다.\n",
    "'''\n",
    "n,r = map(int,input().split())\n",
    "def bin(n,r):\n",
    "    if n == r:\n",
    "        return 1\n",
    "    elif r == 0:\n",
    "        return 1\n",
    "    return bin(n-1,r-1)+bin(n-1,r)\n",
    "\n",
    "print(bin(n,r)%10007)\n"
   ]
  },
  {
   "cell_type": "code",
   "execution_count": 14,
   "metadata": {},
   "outputs": [
    {
     "name": "stdout",
     "output_type": "stream",
     "text": [
      "15\n"
     ]
    }
   ],
   "source": [
    "import sys\n",
    "sys.setrecursionlimit(10**7)\n",
    "N,K = map(int,input().split())\n",
    "\n",
    "cache = [[0]*1001 for _ in range(1001)]\n",
    "\n",
    "def bino(n,k):\n",
    "    if cache[n][k]:\n",
    "        return cache[n][k]\n",
    "\n",
    "    if k == 0 or k == n:\n",
    "        cache[n][k] = 1\n",
    "    else:\n",
    "        cache[n][k] =  bino(n-1,k-1) + bino(n-1,k)\n",
    "    return cache[n][k]\n",
    "\n",
    "\n",
    "print(bino(N,K)%10007)"
   ]
  },
  {
   "cell_type": "code",
   "execution_count": null,
   "metadata": {},
   "outputs": [],
   "source": [
    "# 11726"
   ]
  },
  {
   "cell_type": "code",
   "execution_count": null,
   "metadata": {},
   "outputs": [],
   "source": [
    "# 10844"
   ]
  },
  {
   "cell_type": "markdown",
   "metadata": {},
   "source": []
  }
 ],
 "metadata": {
  "interpreter": {
   "hash": "31f2aee4e71d21fbe5cf8b01ff0e069b9275f58929596ceb00d14d90e3e16cd6"
  },
  "kernelspec": {
   "display_name": "Python 3 (ipykernel)",
   "language": "python",
   "name": "python3"
  },
  "language_info": {
   "codemirror_mode": {
    "name": "ipython",
    "version": 3
   },
   "file_extension": ".py",
   "mimetype": "text/x-python",
   "name": "python",
   "nbconvert_exporter": "python",
   "pygments_lexer": "ipython3",
   "version": "3.9.10"
  }
 },
 "nbformat": 4,
 "nbformat_minor": 2
}
