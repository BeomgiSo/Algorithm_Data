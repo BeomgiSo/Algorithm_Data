{
 "cells": [
  {
   "cell_type": "markdown",
   "metadata": {},
   "source": [
    "> 탐욕법(greedy algorithm)\n",
    "- 매 순간마다 최선의 경우만 골라간다.\n",
    "- 다른 경우는 고려하지 않는다. 나중에 생각한다.\n",
    "- 모든 경우를 다 보지 않으니 `완전탐색보다` 빠르다.\n",
    "- 어떤 경우 최선인지 찾는게 포인트\n",
    "    - 규칙성을 찾아 나아가야한다.\n",
    "- 어려운점 : 이 문제가 그리디 문제인지 판별하기 어렵다..\n",
    "\n"
   ]
  },
  {
   "cell_type": "code",
   "execution_count": 20,
   "metadata": {},
   "outputs": [
    {
     "name": "stdout",
     "output_type": "stream",
     "text": [
      "6\n"
     ]
    }
   ],
   "source": [
    "# 11047\n",
    "'''\n",
    "문제\n",
    "준규가 가지고 있는 동전은 총 N종류이고, 각각의 동전을 매우 많이 가지고 있다.\n",
    "\n",
    "동전을 적절히 사용해서 그 가치의 합을 K로 만들려고 한다. 이때 필요한 동전 개수의 최솟값을 구하는 프로그램을 작성하시오.\n",
    "\n",
    "입력\n",
    "첫째 줄에 N과 K가 주어진다. (1 ≤ N ≤ 10, 1 ≤ K ≤ 100,000,000)\n",
    "\n",
    "둘째 줄부터 N개의 줄에 동전의 가치 Ai가 오름차순으로 주어진다. (1 ≤ Ai ≤ 1,000,000, A1 = 1, i ≥ 2인 경우에 Ai는 Ai-1의 배수)\n",
    "\n",
    "출력\n",
    "첫째 줄에 K원을 만드는데 필요한 동전 개수의 최솟값을 출력한다.\n",
    "'''\n",
    "# 동전의 종류 N , 가치의 합 K\n",
    "N,K = map(int,input().split())\n",
    "kinds=[int(input()) for _ in range(N)]\n",
    "\n",
    "kinds = kinds[::-1]\n",
    "\n",
    "coin = 0\n",
    "for i in kinds:\n",
    "    \n",
    "    if K // i > 0:\n",
    "        coin += K // i\n",
    "    else:\n",
    "        continue\n",
    "\n",
    "    K = K % i\n",
    "\n",
    "    if K == 0:\n",
    "        break\n",
    "\n",
    "print(coin)\n",
    "\n"
   ]
  },
  {
   "cell_type": "code",
   "execution_count": null,
   "metadata": {},
   "outputs": [],
   "source": [
    "N,K = map(int,input().split())\n",
    "kinds=[int(input()) for _ in range(N)]\n",
    "\n",
    "kinds.revers()\n",
    "\n",
    "ans = 0\n",
    "\n",
    "for kind in kinds:\n",
    "    ans += K//kind\n",
    "    K %= kind\n"
   ]
  },
  {
   "cell_type": "code",
   "execution_count": 34,
   "metadata": {},
   "outputs": [
    {
     "name": "stdout",
     "output_type": "stream",
     "text": [
      "[100, 101]\n",
      "[]\n",
      "2\n"
     ]
    }
   ],
   "source": [
    "# 1449 수리공 항승\n",
    "'''\n",
    "문제\n",
    "항승이는 품질이 심각하게 나쁜 수도 파이프 회사의 수리공이다. 항승이는 세준 지하철 공사에서 물이 샌다는 소식을 듣고 수리를 하러 갔다.\n",
    "\n",
    "파이프에서 물이 새는 곳은 신기하게도 가장 왼쪽에서 정수만큼 떨어진 거리만 물이 샌다.\n",
    "\n",
    "항승이는 길이가 L인 테이프를 무한개 가지고 있다.\n",
    "\n",
    "항승이는 테이프를 이용해서 물을 막으려고 한다. 항승이는 항상 물을 막을 때, 적어도 그 위치의 좌우 0.5만큼 간격을 줘야 물이 다시는 안 샌다고 생각한다.\n",
    "\n",
    "물이 새는 곳의 위치와, 항승이가 가지고 있는 테이프의 길이 L이 주어졌을 때, 항승이가 필요한 테이프의 최소 개수를 구하는 프로그램을 작성하시오. 테이프를 자를 수 없고, 테이프를 겹쳐서 붙이는 것도 가능하다.\n",
    "\n",
    "입력\n",
    "첫째 줄에 물이 새는 곳의 개수 N과 테이프의 길이 L이 주어진다. 둘째 줄에는 물이 새는 곳의 위치가 주어진다. N과 L은 1,000보다 작거나 같은 자연수이고, 물이 새는 곳의 위치는 1,000보다 작거나 같은 자연수이다.\n",
    "\n",
    "출력\n",
    "첫째 줄에 항승이가 필요한 테이프의 개수를 출력한다.\n",
    "'''\n",
    "N,L = map(int,input().split())\n",
    "point = list(map(int,input().split()))\n",
    "\n",
    "point.sort()\n",
    "\n",
    "ans = 0\n",
    "\n",
    "while len(point) != 0:\n",
    "    ans += 1\n",
    "    remove_com = point[0]\n",
    "    point.remove(remove_com)\n",
    "    L1 = L\n",
    "    while L1 != 0:\n",
    "        L1 = L1 - 1\n",
    "        if remove_com+L1 in point:\n",
    "            point.remove(remove_com+L1)\n",
    "\n",
    "\n",
    "\n",
    "print(ans)\n",
    "\n",
    "\n"
   ]
  },
  {
   "cell_type": "markdown",
   "metadata": {},
   "source": []
  }
 ],
 "metadata": {
  "interpreter": {
   "hash": "31f2aee4e71d21fbe5cf8b01ff0e069b9275f58929596ceb00d14d90e3e16cd6"
  },
  "kernelspec": {
   "display_name": "Python 3.8.9 64-bit",
   "language": "python",
   "name": "python3"
  },
  "language_info": {
   "codemirror_mode": {
    "name": "ipython",
    "version": 3
   },
   "file_extension": ".py",
   "mimetype": "text/x-python",
   "name": "python",
   "nbconvert_exporter": "python",
   "pygments_lexer": "ipython3",
   "version": "3.8.9"
  },
  "orig_nbformat": 4
 },
 "nbformat": 4,
 "nbformat_minor": 2
}
