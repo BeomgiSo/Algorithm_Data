{
 "cells": [
  {
   "cell_type": "code",
   "execution_count": null,
   "metadata": {},
   "outputs": [],
   "source": []
  },
  {
   "cell_type": "markdown",
   "metadata": {},
   "source": [
    "> 문제 해결의 절차\n",
    "1. 문제를 정확히 이해한다.\n",
    "2. 문제를 해결하는 알고리즘을 개발한다.\n",
    "3. 알고리즘이 문제를 해결한다는 것을 증명한다.\n",
    "4. 알고리즘이 제한시간내에 동작한다는 것을 보인다.\n",
    "5. 알고리즘을 코드로 작성한다.\n",
    "6. 제출"
   ]
  },
  {
   "cell_type": "markdown",
   "metadata": {},
   "source": [
    "> 알고리즘\n",
    "- 알고리즘 :  계산을 통하여 해결할 수 있는 문제를 해결하는 방법\n",
    "- 알고리즘의 특성\n",
    "    1. 유한성 : 무한루프 x\n",
    "    2. 명확성 : 의미가 명확\n",
    "    3. 입력\n",
    "    4. 출력\n",
    "    5. 효율성 : 시간, 공간적으로 효율적이어야 한다.\n",
    "     "
   ]
  },
  {
   "cell_type": "markdown",
   "metadata": {},
   "source": [
    "> 시간 복잡도\n",
    "- 알고리즘의 대략 몇개의 명령을 수행하는가?\n",
    "    - 프로그램의 수행 시간을 유추할 수 있음\n",
    "- Big-O 표기 : 최악의 경우에 수행하는 명령 수"
   ]
  },
  {
   "cell_type": "markdown",
   "metadata": {},
   "source": []
  },
  {
   "cell_type": "markdown",
   "metadata": {},
   "source": []
  },
  {
   "cell_type": "markdown",
   "metadata": {},
   "source": []
  }
 ],
 "metadata": {
  "language_info": {
   "name": "python"
  },
  "orig_nbformat": 4
 },
 "nbformat": 4,
 "nbformat_minor": 2
}
