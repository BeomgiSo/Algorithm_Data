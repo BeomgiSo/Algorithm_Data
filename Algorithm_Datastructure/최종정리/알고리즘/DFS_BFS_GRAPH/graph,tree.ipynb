{
 "cells": [
  {
   "cell_type": "code",
   "execution_count": null,
   "metadata": {},
   "outputs": [],
   "source": []
  },
  {
   "cell_type": "markdown",
   "metadata": {},
   "source": [
    "1. 인접행렬\n",
    "- 2차원 행렬로 나타냄\n",
    "\n",
    "2. 인접리스트\n",
    "\n",
    "- 인접행렬 vs 인접리스트\n",
    "    - 비교\n",
    "    - 인접행렬은 무조건 N^2 vs 인접리스트는 간선의 갯수에 따른 메모리 측면에서 유리하다.\n",
    "    - 인접행렬은 임의접근이 가능하지만O(1), 인접리스트는 임의접근이 효율적이지 않다O(N).\n",
    "    - 따라서 문제에서 정점의 갯수와 간선의 갯수에 따라 선택한다.\n",
    "    "
   ]
  },
  {
   "cell_type": "markdown",
   "metadata": {},
   "source": [
    "> DFS(Depth First Search)\n",
    "- 스택 or 재귀를 사용해서 구현한다.\n"
   ]
  },
  {
   "cell_type": "code",
   "execution_count": 2,
   "metadata": {},
   "outputs": [
    {
     "name": "stdout",
     "output_type": "stream",
     "text": [
      "[0, 1, 0, 0, 0, 0, 0, 1, 0, 0, 0, 0, 0]\n",
      "[0, 0, 1, 0, 0, 1, 0, 0, 0, 0, 0, 0, 0]\n",
      "[0, 0, 0, 0, 0, 0, 0, 0, 0, 0, 0, 0, 0]\n",
      "[0, 0, 0, 0, 0, 0, 0, 0, 0, 0, 0, 0, 0]\n",
      "[0, 0, 0, 0, 0, 0, 0, 0, 0, 0, 0, 0, 0]\n",
      "[0, 0, 0, 0, 0, 0, 0, 0, 0, 0, 0, 0, 0]\n",
      "[0, 0, 0, 0, 0, 0, 0, 0, 0, 0, 0, 0, 0]\n",
      "[0, 0, 0, 0, 0, 0, 0, 0, 0, 0, 0, 0, 0]\n",
      "[0, 0, 0, 0, 0, 0, 0, 0, 0, 0, 0, 0, 0]\n",
      "[0, 0, 0, 0, 0, 0, 0, 0, 0, 0, 0, 0, 0]\n",
      "[0, 0, 0, 0, 0, 0, 0, 0, 0, 0, 0, 0, 0]\n",
      "[0, 0, 0, 0, 0, 0, 0, 0, 0, 0, 0, 0, 0]\n",
      "[0, 0, 0, 0, 0, 0, 0, 0, 0, 0, 0, 0, 0]\n"
     ]
    }
   ],
   "source": [
    "adj = [[0]* 13 for _ in range(13)]\n",
    "adj[0][1] = adj[0][7] = 1\n",
    "adj[1][2] = adj[1][5] = 1\n",
    "#...\n",
    "# for row in adj:\n",
    "#     print(row)\n",
    "\n",
    "def dfs(now) : # 방문한 노드 번호\n",
    "    for nxt in range(13): # 다음 방문하려는 노드\n",
    "        if adj[now][nxt]: # 있을때만 간다\n",
    "            dfs(nxt) \n",
    "\n",
    "\n",
    "\n",
    "dfs(0)"
   ]
  },
  {
   "cell_type": "markdown",
   "metadata": {},
   "source": [
    "> BFS(Breadth First Search)\n",
    "- 큐를 사용해서 구현한다.\n"
   ]
  },
  {
   "cell_type": "code",
   "execution_count": null,
   "metadata": {},
   "outputs": [],
   "source": [
    "from collection import deque\n",
    "adj = [[0]* 13 for _ in range(13)]\n",
    "adj[0][1] = adj[0][7] = 1\n",
    "adj[1][2] = adj[1][5] = 1\n",
    "\n",
    "def bfs():\n",
    "    dq =  deque()\n",
    "    dq.append(0)\n",
    "    while dp:\n",
    "        now = dp.popleft() # 현재 살펴보는 노드\n",
    "        for nxt in range(13):\n",
    "            if adj[now][nxt]:\n",
    "                dp.append(nxt)\n",
    "            \n",
    "bfs()"
   ]
  },
  {
   "cell_type": "markdown",
   "metadata": {},
   "source": [
    "> DFS vs BFS\n",
    "- 공통점\n",
    "    - 그래프 탐색 알고리즘\n",
    "    - 완전 탐색 알고리즘\n",
    "\n",
    "- 차이점\n",
    "    - 찾는 목표 node 최단거리에서 모든 노드의 거리가 같다는 가정하에 BFS가 효과적이다.\n",
    "\n",
    "- 인접행렬 vs 인접리스트\n",
    "    - 인접행렬 O(V^2)\n",
    "    - 인접리스트 O(V+E)"
   ]
  },
  {
   "cell_type": "markdown",
   "metadata": {},
   "source": [
    "> 길찾기문제\n",
    "- 보통 4방향이 많다\n",
    "- 방향값을 미리 코드에 짜두고 for문으로 순회하는 기법을 꼭 익혀두자\n",
    "\n",
    "- 방문체크 필요\n",
    "- 각 칸이 노드\n",
    "- 상하좌우 4방향의 간선\n",
    "\n",
    "- dy,dx 배열을 안쓰고도 구현이 가능하지만 코드가 길어지고 코딩실수가 날 가능성이 높다.\n"
   ]
  },
  {
   "cell_type": "code",
   "execution_count": null,
   "metadata": {},
   "outputs": [],
   "source": [
    "dy = (0,1,0,-1)\n",
    "dx = (1,0,-1,0)\n",
    "\n",
    "chk = [[False]*100 for _ in range(100)]\n",
    "N=int(input()\n",
    "\n",
    "def is_valid_coord(x,y):\n",
    "    return 0<= y<N and 0<=x<N\n",
    "\n",
    "def bfs(start_y,start_x):\n",
    "    q = deque()\n",
    "    q.append((start_y,start_x))\n",
    "    while len(q)>0:\n",
    "        y, x = q.popleft()\n",
    "        chk[y][x] = True\n",
    "        for k in range(4):\n",
    "            ny = y+dy[k]\n",
    "            nx = x+dx[k]\n",
    "            if is_valid_coord(ny,nx) and not chk[ny][nx]:\n",
    "                q.append((ny,nx))\n"
   ]
  },
  {
   "cell_type": "markdown",
   "metadata": {},
   "source": [
    "> 백트랙킹(Backtracking)\n",
    "- 기본적으로 모든 경우를 탐색하며 DFS/BFS와 방식은 유사하다.\n",
    "- 백트래킹은 가지치기를 통해 경우의 수를 줄인다는 차이가 있다.\n",
    "    - 최악의 경우, 모든 경우를 다 설펴보게 될 수도 있지만, 가능한 덜 보겠다는 전략\n",
    "    - '가망성이 없으면 가지 않는다.'"
   ]
  },
  {
   "cell_type": "code",
   "execution_count": null,
   "metadata": {},
   "outputs": [],
   "source": [
    "# 11724"
   ]
  },
  {
   "cell_type": "code",
   "execution_count": null,
   "metadata": {},
   "outputs": [],
   "source": [
    "# 2178"
   ]
  },
  {
   "cell_type": "markdown",
   "metadata": {},
   "source": []
  }
 ],
 "metadata": {
  "interpreter": {
   "hash": "31f2aee4e71d21fbe5cf8b01ff0e069b9275f58929596ceb00d14d90e3e16cd6"
  },
  "kernelspec": {
   "display_name": "Python 3.8.9 64-bit",
   "language": "python",
   "name": "python3"
  },
  "language_info": {
   "codemirror_mode": {
    "name": "ipython",
    "version": 3
   },
   "file_extension": ".py",
   "mimetype": "text/x-python",
   "name": "python",
   "nbconvert_exporter": "python",
   "pygments_lexer": "ipython3",
   "version": "3.8.9"
  },
  "orig_nbformat": 4
 },
 "nbformat": 4,
 "nbformat_minor": 2
}
