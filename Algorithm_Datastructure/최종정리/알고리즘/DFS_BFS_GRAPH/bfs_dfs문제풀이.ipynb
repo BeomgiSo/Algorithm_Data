{
 "cells": [
  {
   "cell_type": "code",
   "execution_count": 4,
   "id": "82fc3d95",
   "metadata": {},
   "outputs": [
    {
     "name": "stdout",
     "output_type": "stream",
     "text": [
      "3\n",
      "110\n",
      "010\n",
      "001\n",
      "[[1, 1, 0], [0, 1, 0], [0, 0, 1]]\n"
     ]
    }
   ],
   "source": [
    "N = int(input())\n",
    "\n",
    "A = [list(map(int,input())) for _ in range(N)]\n",
    "\n",
    "# 방향벡터 설정\n",
    "dx = [1,0,-1,0]\n",
    "dy = [0,1,0,-1]\n",
    "\n",
    "ck = [0 for _ in range(N)]\n",
    "\n",
    "def dfs(i,j):\n",
    "    for way in range(4):\n",
    "        ii,jj =i+dx[way],j+dy[way]\n",
    "        if A[ii][jj] == 1:\n",
    "            dfs(ii,jj)\n",
    "\n",
    "\n",
    "for i in range(N):\n",
    "    for in range(N):\n",
    "        if A[i][j] == 1:\n",
    "            dfs(i,j)\n",
    "            \n",
    "            "
   ]
  },
  {
   "cell_type": "code",
   "execution_count": null,
   "id": "e764df74",
   "metadata": {},
   "outputs": [],
   "source": [
    "# 2667\n",
    "N = int(input())\n",
    "data = [list(map(int,input())) for _ in range(N)]\n",
    "\n",
    "dx = [1,0,-1,0]\n",
    "dy"
   ]
  },
  {
   "cell_type": "code",
   "execution_count": null,
   "id": "f68e7b6d",
   "metadata": {},
   "outputs": [],
   "source": []
  }
 ],
 "metadata": {
  "kernelspec": {
   "display_name": "Python 3.8.12 64-bit ('algorithm': conda)",
   "language": "python",
   "name": "python3812jvsc74a57bd0ee431ac274e33366c10c3ac30cd4fb33ff3ed0dd6a8cc3f05073bd47291a9c12"
  },
  "language_info": {
   "codemirror_mode": {
    "name": "ipython",
    "version": 3
   },
   "file_extension": ".py",
   "mimetype": "text/x-python",
   "name": "python",
   "nbconvert_exporter": "python",
   "pygments_lexer": "ipython3",
   "version": "3.8.12"
  }
 },
 "nbformat": 4,
 "nbformat_minor": 5
}
