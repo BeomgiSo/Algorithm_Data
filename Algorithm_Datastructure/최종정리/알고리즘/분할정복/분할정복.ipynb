{
 "cells": [
  {
   "cell_type": "code",
   "execution_count": null,
   "metadata": {},
   "outputs": [],
   "source": []
  },
  {
   "cell_type": "markdown",
   "metadata": {},
   "source": [
    "# 분할정복법\n",
    "- 문제를 소문제로 `분할`\n",
    "- 각각의 `소문제를 해결`\n",
    "- 소문제의 해결 결과를 이용해 `전체 문제를 해결`\n",
    "\n",
    "- 어렵다 -> 어떤 작은 문제로???\n",
    "- 분할정복법으로 해결할 수 있는 대표적인 예제\n",
    "- 수학적 문제 해결 능력이 가장 중요\n",
    "\n"
   ]
  },
  {
   "cell_type": "markdown",
   "metadata": {},
   "source": [
    "[실습3] 합병 정렬\n",
    "- 분할후 정렬\n",
    "- 각 리스트의 가장 작은 요소를 비교해가며 전체 리스트에 넣어준다.\n",
    "- "
   ]
  },
  {
   "cell_type": "markdown",
   "metadata": {},
   "source": []
  },
  {
   "cell_type": "markdown",
   "metadata": {},
   "source": []
  },
  {
   "cell_type": "markdown",
   "metadata": {},
   "source": []
  }
 ],
 "metadata": {
  "language_info": {
   "name": "python"
  },
  "orig_nbformat": 4
 },
 "nbformat": 4,
 "nbformat_minor": 2
}
