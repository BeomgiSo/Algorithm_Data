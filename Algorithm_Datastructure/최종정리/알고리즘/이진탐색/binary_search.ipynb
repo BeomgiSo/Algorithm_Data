{
 "cells": [
  {
   "cell_type": "markdown",
   "metadata": {},
   "source": [
    "> 이진탐색 binary search\n",
    "- 선형탐색에서 많이 사용된다.\n",
    "- 이진탐색은 탐색전에 `반드시 정렬`이 되어 있어야 한다!\n",
    "- 살펴보는 범위를 `절반 씩 줄여가면서 답`을 찾는다.\n",
    "- 정렬 O(NlogN) + 이진탐색O(logN) -> 결과적으로는 O(NlogN)\n",
    "- 근데 선형 탐색의 경우는 O(N) \n",
    "- 따라서, 상황에 따라 달라진다. 예시) 한번 찾을 경우 단순 N 이지만, 탐색을 2번 이상할 경우는 정렬을 실행후 이진탐색의 경우가 더 빠르다. O(NlogN)\n",
    "- 미리 정렬되어 들어오면 이진 탐색만 하면 된다 O(logN)\n"
   ]
  },
  {
   "cell_type": "code",
   "execution_count": 2,
   "metadata": {},
   "outputs": [
    {
     "name": "stdout",
     "output_type": "stream",
     "text": [
      "number of 3 : 2\n",
      "number of 3 : 0\n",
      "number of 3 : 3\n"
     ]
    }
   ],
   "source": [
    "from bisect import bisect_left,bisect_right\n",
    "\n",
    "v = [0,1,3,3,6,6,6,7,8,8,9]\n",
    "\n",
    "three = bisect_right(v,3) - bisect_left(v,3) # index를 반환해준다.\n",
    "four = bisect_right(v,4) - bisect_left(v,4)\n",
    "six = bisect_right(v,6)- bisect_left(v,6)\n",
    "print(f'number of 3 : {three}')\n",
    "print(f'number of 3 : {four}')\n",
    "print(f'number of 3 : {six}')\n",
    "\n",
    "\n",
    "\n"
   ]
  },
  {
   "cell_type": "markdown",
   "metadata": {},
   "source": [
    "> parametric search(파라메트릭 서치)\n",
    "- 최적화 문제를 결정 문제로 바꿔서 이진탐색으로 푸는 방법이다.\n",
    "    - 최적화 문제(Optimization problem) : 문제상활을 만족하는 변수의 최솟값,최댓값을 구하는 문제\n",
    "    - 결정문제 (decision problem): yes or no problem\n",
    "    - ex) 수강생들의 외모값과 커플/솔로 여부가 주어진다// 커플들은 솔로들보다 외모값이 높다. 그럼 외모값이 최소 몇 이상일때 가능할까?\n",
    "        - 매개변수(parameter)가 주어지면 true or false가 결정되어야 한다.\n",
    "        - 가능한 해의 영역이 연속적이 어야 한다.\n",
    "        - 범위를 반씩 줄여가면서 가운데 값이 true or false값인지 구한다.\n",
    "        - 이진탐색과 같은 원리이다.\n",
    "- 파라메트릭 서치 : 다른문제와 넣어서 잘 나오는다\n",
    "- f(index) -> true or false 의 f에 넣는 문제이다.\n",
    " "
   ]
  },
  {
   "cell_type": "code",
   "execution_count": null,
   "metadata": {},
   "outputs": [],
   "source": [
    "# 2512\n",
    "'''\n",
    "문제\n",
    "국가의 역할 중 하나는 여러 지방의 예산요청을 심사하여 국가의 예산을 분배하는 것이다. 국가예산의 총액은 미리 정해져 있어서 모든 예산요청을 배정해 주기는 어려울 수도 있다. 그래서 정해진 총액 이하에서 가능한 한 최대의 총 예산을 다음과 같은 방법으로 배정한다.\n",
    "\n",
    "모든 요청이 배정될 수 있는 경우에는 요청한 금액을 그대로 배정한다.\n",
    "모든 요청이 배정될 수 없는 경우에는 특정한 정수 상한액을 계산하여 그 이상인 예산요청에는 모두 상한액을 배정한다. 상한액 이하의 예산요청에 대해서는 요청한 금액을 그대로 배정한다. \n",
    "예를 들어, 전체 국가예산이 485이고 4개 지방의 예산요청이 각각 120, 110, 140, 150이라고 하자. 이 경우, 상한액을 127로 잡으면, 위의 요청들에 대해서 각각 120, 110, 127, 127을 배정하고 그 합이 484로 가능한 최대가 된다. \n",
    "\n",
    "여러 지방의 예산요청과 국가예산의 총액이 주어졌을 때, 위의 조건을 모두 만족하도록 예산을 배정하는 프로그램을 작성하시오.\n",
    "\n",
    "입력\n",
    "첫째 줄에는 지방의 수를 의미하는 정수 N이 주어진다. N은 3 이상 10,000 이하이다. 다음 줄에는 각 지방의 예산요청을 표현하는 N개의 정수가 빈칸을 사이에 두고 주어진다. 이 값들은 모두 1 이상 100,000 이하이다. 그 다음 줄에는 총 예산을 나타내는 정수 M이 주어진다. M은 N 이상 1,000,000,000 이하이다. \n",
    "\n",
    "출력\n",
    "첫째 줄에는 배정된 예산들 중 최댓값인 정수를 출력한다. \n",
    "\n",
    "\n",
    "4\n",
    "120 110 140 150\n",
    "485\n",
    "\n",
    "127\n",
    "'''"
   ]
  },
  {
   "cell_type": "markdown",
   "metadata": {},
   "source": []
  }
 ],
 "metadata": {
  "interpreter": {
   "hash": "31f2aee4e71d21fbe5cf8b01ff0e069b9275f58929596ceb00d14d90e3e16cd6"
  },
  "kernelspec": {
   "display_name": "Python 3.8.9 64-bit",
   "language": "python",
   "name": "python3"
  },
  "language_info": {
   "codemirror_mode": {
    "name": "ipython",
    "version": 3
   },
   "file_extension": ".py",
   "mimetype": "text/x-python",
   "name": "python",
   "nbconvert_exporter": "python",
   "pygments_lexer": "ipython3",
   "version": "3.8.9"
  },
  "orig_nbformat": 4
 },
 "nbformat": 4,
 "nbformat_minor": 2
}
