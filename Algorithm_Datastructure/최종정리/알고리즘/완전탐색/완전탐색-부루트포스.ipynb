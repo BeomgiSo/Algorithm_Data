{
 "cells": [
  {
   "cell_type": "markdown",
   "metadata": {},
   "source": [
    "> 완전탐색 - 브루트포스\n",
    "- 장점 : 반드시 답을 찾을 수  있다.\n",
    "    - `답이 존재하지 않는다`는 사실 자체를 알수있다.\n",
    "\n",
    "- 단점 : 오래 걸린다.\n",
    "    - 리소스를 많이 잡아 먹는다\n",
    "    - `trade off` 관계 : 컴퓨팅 자원 <-> 시간\n",
    "\n",
    "- 부르트 포스(Brute-force) : 무차별 대입\n",
    "    - 모든 경우의수 를 넣는다.\n",
    "\n",
    "- 가장 확실한 방법이라 의외로 많이 쓰인다.\n",
    "    - 암호학, 수학 등 학계에서도, PS(problem solving)에서도 널리 쓰이는 알고리즘\n",
    "    - 4색정리 증명에도 쓰였다.\n",
    "    - 보안이 허술한 곳은 진짜 이런 방법으로 계정탈취가 가능하다.\n",
    "\n",
    "> 순열 permutation\n",
    "    - 모든 경우의 수를 순서대로 살펴볼 때 용이하다.\n",
    "    - 삼성에서 사용하면 쉽게 풀수 있게 나오는 경우가 많았다.\n",
    "\n",
    "> 조합 combinations"
   ]
  },
  {
   "cell_type": "code",
   "execution_count": 2,
   "metadata": {},
   "outputs": [
    {
     "name": "stdout",
     "output_type": "stream",
     "text": [
      "(0, 1, 2, 3)\n",
      "(0, 1, 3, 2)\n",
      "(0, 2, 1, 3)\n",
      "(0, 2, 3, 1)\n",
      "(0, 3, 1, 2)\n",
      "(0, 3, 2, 1)\n",
      "(1, 0, 2, 3)\n",
      "(1, 0, 3, 2)\n",
      "(1, 2, 0, 3)\n",
      "(1, 2, 3, 0)\n",
      "(1, 3, 0, 2)\n",
      "(1, 3, 2, 0)\n",
      "(2, 0, 1, 3)\n",
      "(2, 0, 3, 1)\n",
      "(2, 1, 0, 3)\n",
      "(2, 1, 3, 0)\n",
      "(2, 3, 0, 1)\n",
      "(2, 3, 1, 0)\n",
      "(3, 0, 1, 2)\n",
      "(3, 0, 2, 1)\n",
      "(3, 1, 0, 2)\n",
      "(3, 1, 2, 0)\n",
      "(3, 2, 0, 1)\n",
      "(3, 2, 1, 0)\n"
     ]
    }
   ],
   "source": [
    "from itertools import permutations\n",
    "\n",
    "v=[0,1,2,3]\n",
    "\n",
    "for i in permutations(v,4):\n",
    "    print(i)"
   ]
  },
  {
   "cell_type": "code",
   "execution_count": 3,
   "metadata": {},
   "outputs": [
    {
     "name": "stdout",
     "output_type": "stream",
     "text": [
      "(0, 1)\n",
      "(0, 2)\n",
      "(0, 3)\n",
      "(1, 2)\n",
      "(1, 3)\n",
      "(2, 3)\n"
     ]
    }
   ],
   "source": [
    "from itertools import combinations\n",
    "\n",
    "v = [0,1,2,3]\n",
    "for i in combinations(v,2):\n",
    "    print(i)"
   ]
  },
  {
   "cell_type": "code",
   "execution_count": 6,
   "metadata": {},
   "outputs": [
    {
     "ename": "ValueError",
     "evalue": "invalid literal for int() with base 10: '20 7 23 19 10 15 25 8 13'",
     "output_type": "error",
     "traceback": [
      "\u001b[0;31m---------------------------------------------------------------------------\u001b[0m",
      "\u001b[0;31mValueError\u001b[0m                                Traceback (most recent call last)",
      "Input \u001b[0;32mIn [6]\u001b[0m, in \u001b[0;36m<module>\u001b[0;34m\u001b[0m\n\u001b[1;32m     11\u001b[0m key \u001b[38;5;241m=\u001b[39m []\n\u001b[1;32m     12\u001b[0m \u001b[38;5;28;01mfor\u001b[39;00m _ \u001b[38;5;129;01min\u001b[39;00m \u001b[38;5;28mrange\u001b[39m(\u001b[38;5;241m10\u001b[39m):\n\u001b[0;32m---> 13\u001b[0m     key\u001b[38;5;241m.\u001b[39mappend(\u001b[38;5;28;43mint\u001b[39;49m\u001b[43m(\u001b[49m\u001b[38;5;28;43minput\u001b[39;49m\u001b[43m(\u001b[49m\u001b[43m)\u001b[49m\u001b[43m)\u001b[49m)\n\u001b[1;32m     15\u001b[0m key\u001b[38;5;241m.\u001b[39msort()\n\u001b[1;32m     18\u001b[0m \u001b[38;5;28;01mfor\u001b[39;00m i \u001b[38;5;129;01min\u001b[39;00m key[:\u001b[38;5;241m7\u001b[39m]:\n",
      "\u001b[0;31mValueError\u001b[0m: invalid literal for int() with base 10: '20 7 23 19 10 15 25 8 13'"
     ]
    }
   ],
   "source": [
    "# 백준 2309 일곱난쟁이\n",
    "'''\n",
    "입력\n",
    "아홉 개의 줄에 걸쳐 난쟁이들의 키가 주어진다. 주어지는 키는 100을 넘지 않는 자연수이며, 아홉 난쟁이의 키는 모두 다르며, 가능한 정답이 여러 가지인 경우에는 아무거나 출력한다.\n",
    "\n",
    "출력\n",
    "일곱 난쟁이의 키를 오름차순으로 출력한다. 일곱 난쟁이를 찾을 수 없는 경우는 없다.\n",
    "'''\n",
    "\n",
    "\n",
    "key = []\n",
    "for _ in range(9):\n",
    "    key.append(int(input()))\n",
    "\n",
    "key.sort()\n",
    "\n",
    "\n",
    "for i in key[:7]:\n",
    "    print(i)"
   ]
  },
  {
   "cell_type": "code",
   "execution_count": 12,
   "metadata": {},
   "outputs": [
    {
     "name": "stdout",
     "output_type": "stream",
     "text": [
      "7\n",
      "8\n",
      "10\n",
      "13\n",
      "19\n",
      "20\n",
      "23\n"
     ]
    }
   ],
   "source": [
    "from itertools import combinations\n",
    "\n",
    "height = [int(input()) for _ in range(9)]\n",
    "for comb in combinations(height,7):\n",
    "    if sum(comb) == 100:\n",
    "        for height in sorted(comb):\n",
    "            print(height)\n",
    "        break"
   ]
  },
  {
   "cell_type": "markdown",
   "metadata": {},
   "source": [
    "- 정리\n",
    "    - 무식하게 모든 경우의 수를 다 살펴봐도 시간초과 나지 않을지 확인\n",
    "    - 될 거 같으면 완탐 활용\n",
    "        - 안되면 더 효율적인 다른 알고리즘을 생각해본다."
   ]
  }
 ],
 "metadata": {
  "interpreter": {
   "hash": "31f2aee4e71d21fbe5cf8b01ff0e069b9275f58929596ceb00d14d90e3e16cd6"
  },
  "kernelspec": {
   "display_name": "Python 3.8.9 64-bit",
   "language": "python",
   "name": "python3"
  },
  "language_info": {
   "codemirror_mode": {
    "name": "ipython",
    "version": 3
   },
   "file_extension": ".py",
   "mimetype": "text/x-python",
   "name": "python",
   "nbconvert_exporter": "python",
   "pygments_lexer": "ipython3",
   "version": "3.8.9"
  },
  "orig_nbformat": 4
 },
 "nbformat": 4,
 "nbformat_minor": 2
}
