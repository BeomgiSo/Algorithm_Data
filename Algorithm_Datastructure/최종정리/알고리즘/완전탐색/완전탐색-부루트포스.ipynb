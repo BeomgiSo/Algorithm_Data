{
 "cells": [
  {
   "cell_type": "markdown",
   "metadata": {},
   "source": [
    "> 완전탐색 - 브루트포스(Brute-Force)\n",
    "- 장점 : 반드시 답을 찾을 수  있다.\n",
    "    - `답이 존재하지 않는다`는 사실 자체를 알수있다.\n",
    "\n",
    "- 단점 : 오래 걸린다.\n",
    "    - 리소스를 많이 잡아 먹는다\n",
    "    - `trade off` 관계 : 컴퓨팅 자원 <-> 시간\n",
    "\n",
    "- 부르트 포스(Brute-force) : 무차별 대입\n",
    "    - 모든 경우의수 를 넣는다.\n",
    "- `가능한 모든 경우를 전부 고려`해도 괜찮을 경우에는 `단순히 모든 경우를 고려`함으로써 문제를 해결한다.\n",
    "\n",
    "- 문제가 주어지면 무조건 완전탐색법으로 먼저 시도해본다.\n",
    "\n",
    "\n",
    "\n"
   ]
  },
  {
   "cell_type": "code",
   "execution_count": 5,
   "metadata": {},
   "outputs": [
    {
     "name": "stdout",
     "output_type": "stream",
     "text": [
      "15\n"
     ]
    }
   ],
   "source": [
    "#엘리스 예제 1 연속 부분최대합\n",
    "# 연속된 부분을 선택하였을 때 , 그 최대합을 출력\n",
    "'''\n",
    "연속 부분 최대합\n",
    "nnn개의 숫자가 주어질 때, 연속 부분을 선택하여 그 합을 최대화 하는 프로그램을 작성하시오. 예를 들어, 다음과 같이 8개의 숫자가 있다고 하자.\n",
    "\n",
    "1 2 -4 5 3 -2 9 -10\n",
    "\n",
    "이 때, 연속 부분이란 연속하여 숫자를 선택하는 것을 말한다. 가능한 연속 부분으로써 [1, 2, -4], [5, 3, -2, 9], [9, -10] 등이 있을 수 있다. 이 연속 부분들 중에서 가장 합이 큰 연속 부분은 [5, 3, -2, 9] 이며, 이보다 더 합을 크게 할 수는 없다. 따라서 연속 부분 최대합은 5+3+(-2)+9 = 15 이다.\n",
    "\n",
    "입력 예시\n",
    "1 2 -4 5 3 -2 9 -10\n",
    "Copy\n",
    "출력 예시\n",
    "15\n",
    "Copy\n",
    "\n",
    "문제 조건\n",
    "입력되는 수의 개수는 최대 100개입니다.\n",
    "'''\n",
    "def serise_sum(data):\n",
    "    result = -float('inf')\n",
    "    \n",
    "    for start in range(len(data)):\n",
    "        for end in range(start,len(data)):\n",
    "            temp = 0\n",
    "            for i in range(start,end):\n",
    "                temp+=data[i]\n",
    "            result = max(result,temp)\n",
    "    \n",
    "    return result\n",
    "\n",
    "data = [int(x) for x in input().split()]\n",
    "print(serise_sum(data))\n",
    "\n",
    "\n"
   ]
  },
  {
   "cell_type": "code",
   "execution_count": null,
   "metadata": {},
   "outputs": [],
   "source": [
    "import sys\n",
    "import math\n",
    "\n",
    "def getSubsum(data) :\n",
    "    '''\n",
    "    n개의 숫자가 list로 주어질 때, 그 연속 부분 최대합을 반환하는 함수를 작성하세요.\n",
    "    '''\n",
    "    result = - math.inf\n",
    "    \n",
    "    temp = 0\n",
    "    \n",
    "    for start in range(0,len(data)):\n",
    "        for end in range(start, len(data)) :\n",
    "            temp = 0\n",
    "            for i in range(start, end+1) :\n",
    "                temp += data[i]\n",
    "            result = max(result,temp)\n",
    "    \n",
    "    return result\n",
    "\n",
    "def main():\n",
    "    '''\n",
    "    이 부분은 수정하지 마세요.\n",
    "    '''\n",
    "\n",
    "    data = [int(x) for x in input().split()]\n",
    "\n",
    "    print(getSubsum(data))\n",
    "\n",
    "if __name__ == \"__main__\":\n",
    "    main()\n"
   ]
  },
  {
   "cell_type": "code",
   "execution_count": null,
   "metadata": {},
   "outputs": [],
   "source": [
    "# 멱집합 구하기\n",
    "'''\n",
    "멱집합 구하기\n",
    "집합 A에 대하여, A의 모든 부분집합을 원소로 가지는 집합을 A의 멱집합이라고 한다. 예를 들어, 집합 A의 원소가 {1, 2, 3} 일 경우, A의 멱집합은 다음과 같이 8개의 원소를 갖는 집합이다.\n",
    "\n",
    "{}, {1}, {2}, {3}, {1, 2}, {1, 3}, {2, 3}, {1, 2, 3}\n",
    "\n",
    "집합 A의 원소는 1부터 nnn까지의 자연수로 구성된다. nnn이 주어질 때, A의 멱집합의 원소를 사전 순서대로 모두 출력하는 프로그램을 작성하시오. 단, 공집합은 제외하고 출력한다.\n",
    "\n",
    "입력 예시\n",
    "3\n",
    "Copy\n",
    "출력 예시\n",
    "1\n",
    "1 2\n",
    "1 2 3\n",
    "1 3\n",
    "2\n",
    "2 3\n",
    "3\n",
    "Copy\n",
    "\n",
    "문제 조건\n",
    "원소의 개수는 10개를 넘지 않습니다.\n",
    "공집합은 출력하지 않습니다.\n",
    "'''"
   ]
  },
  {
   "cell_type": "markdown",
   "metadata": {},
   "source": [
    "- 가장 확실한 방법이라 의외로 많이 쓰인다.\n",
    "    - 암호학, 수학 등 학계에서도, PS(problem solving)에서도 널리 쓰이는 알고리즘\n",
    "    - 4색정리 증명에도 쓰였다.\n",
    "    - 보안이 허술한 곳은 진짜 이런 방법으로 계정탈취가 가능하다.\n",
    "\n",
    "> 순열 permutation\n",
    "    - 모든 경우의 수를 순서대로 살펴볼 때 용이하다.\n",
    "    - 삼성에서 사용하면 쉽게 풀수 있게 나오는 경우가 많았다.\n",
    "\n",
    "> 조합 combinations"
   ]
  },
  {
   "cell_type": "code",
   "execution_count": 2,
   "metadata": {},
   "outputs": [
    {
     "name": "stdout",
     "output_type": "stream",
     "text": [
      "(0, 1, 2, 3)\n",
      "(0, 1, 3, 2)\n",
      "(0, 2, 1, 3)\n",
      "(0, 2, 3, 1)\n",
      "(0, 3, 1, 2)\n",
      "(0, 3, 2, 1)\n",
      "(1, 0, 2, 3)\n",
      "(1, 0, 3, 2)\n",
      "(1, 2, 0, 3)\n",
      "(1, 2, 3, 0)\n",
      "(1, 3, 0, 2)\n",
      "(1, 3, 2, 0)\n",
      "(2, 0, 1, 3)\n",
      "(2, 0, 3, 1)\n",
      "(2, 1, 0, 3)\n",
      "(2, 1, 3, 0)\n",
      "(2, 3, 0, 1)\n",
      "(2, 3, 1, 0)\n",
      "(3, 0, 1, 2)\n",
      "(3, 0, 2, 1)\n",
      "(3, 1, 0, 2)\n",
      "(3, 1, 2, 0)\n",
      "(3, 2, 0, 1)\n",
      "(3, 2, 1, 0)\n"
     ]
    }
   ],
   "source": [
    "from itertools import permutations\n",
    "\n",
    "v=[0,1,2,3]\n",
    "\n",
    "for i in permutations(v,4):\n",
    "    print(i)"
   ]
  },
  {
   "cell_type": "code",
   "execution_count": 3,
   "metadata": {},
   "outputs": [
    {
     "name": "stdout",
     "output_type": "stream",
     "text": [
      "(0, 1)\n",
      "(0, 2)\n",
      "(0, 3)\n",
      "(1, 2)\n",
      "(1, 3)\n",
      "(2, 3)\n"
     ]
    }
   ],
   "source": [
    "from itertools import combinations\n",
    "\n",
    "v = [0,1,2,3]\n",
    "for i in combinations(v,2):\n",
    "    print(i)"
   ]
  },
  {
   "cell_type": "code",
   "execution_count": 6,
   "metadata": {},
   "outputs": [
    {
     "ename": "ValueError",
     "evalue": "invalid literal for int() with base 10: '20 7 23 19 10 15 25 8 13'",
     "output_type": "error",
     "traceback": [
      "\u001b[0;31m---------------------------------------------------------------------------\u001b[0m",
      "\u001b[0;31mValueError\u001b[0m                                Traceback (most recent call last)",
      "Input \u001b[0;32mIn [6]\u001b[0m, in \u001b[0;36m<module>\u001b[0;34m\u001b[0m\n\u001b[1;32m     11\u001b[0m key \u001b[38;5;241m=\u001b[39m []\n\u001b[1;32m     12\u001b[0m \u001b[38;5;28;01mfor\u001b[39;00m _ \u001b[38;5;129;01min\u001b[39;00m \u001b[38;5;28mrange\u001b[39m(\u001b[38;5;241m10\u001b[39m):\n\u001b[0;32m---> 13\u001b[0m     key\u001b[38;5;241m.\u001b[39mappend(\u001b[38;5;28;43mint\u001b[39;49m\u001b[43m(\u001b[49m\u001b[38;5;28;43minput\u001b[39;49m\u001b[43m(\u001b[49m\u001b[43m)\u001b[49m\u001b[43m)\u001b[49m)\n\u001b[1;32m     15\u001b[0m key\u001b[38;5;241m.\u001b[39msort()\n\u001b[1;32m     18\u001b[0m \u001b[38;5;28;01mfor\u001b[39;00m i \u001b[38;5;129;01min\u001b[39;00m key[:\u001b[38;5;241m7\u001b[39m]:\n",
      "\u001b[0;31mValueError\u001b[0m: invalid literal for int() with base 10: '20 7 23 19 10 15 25 8 13'"
     ]
    }
   ],
   "source": [
    "# 백준 2309 일곱난쟁이\n",
    "'''\n",
    "입력\n",
    "아홉 개의 줄에 걸쳐 난쟁이들의 키가 주어진다. 주어지는 키는 100을 넘지 않는 자연수이며, 아홉 난쟁이의 키는 모두 다르며, 가능한 정답이 여러 가지인 경우에는 아무거나 출력한다.\n",
    "\n",
    "출력\n",
    "일곱 난쟁이의 키를 오름차순으로 출력한다. 일곱 난쟁이를 찾을 수 없는 경우는 없다.\n",
    "'''\n",
    "\n",
    "\n",
    "key = []\n",
    "for _ in range(9):\n",
    "    key.append(int(input()))\n",
    "\n",
    "key.sort()\n",
    "\n",
    "\n",
    "for i in key[:7]:\n",
    "    print(i)"
   ]
  },
  {
   "cell_type": "code",
   "execution_count": 12,
   "metadata": {},
   "outputs": [
    {
     "name": "stdout",
     "output_type": "stream",
     "text": [
      "7\n",
      "8\n",
      "10\n",
      "13\n",
      "19\n",
      "20\n",
      "23\n"
     ]
    }
   ],
   "source": [
    "from itertools import combinations\n",
    "\n",
    "height = [int(input()) for _ in range(9)]\n",
    "for comb in combinations(height,7):\n",
    "    if sum(comb) == 100:\n",
    "        for height in sorted(comb):\n",
    "            print(height)\n",
    "        break"
   ]
  },
  {
   "cell_type": "markdown",
   "metadata": {},
   "source": [
    "- 정리\n",
    "    - 무식하게 모든 경우의 수를 다 살펴봐도 시간초과 나지 않을지 확인\n",
    "    - 될 거 같으면 완탐 활용\n",
    "        - 안되면 더 효율적인 다른 알고리즘을 생각해본다."
   ]
  }
 ],
 "metadata": {
  "interpreter": {
   "hash": "31f2aee4e71d21fbe5cf8b01ff0e069b9275f58929596ceb00d14d90e3e16cd6"
  },
  "kernelspec": {
   "display_name": "Python 3.8.9 64-bit",
   "language": "python",
   "name": "python3"
  },
  "language_info": {
   "codemirror_mode": {
    "name": "ipython",
    "version": 3
   },
   "file_extension": ".py",
   "mimetype": "text/x-python",
   "name": "python",
   "nbconvert_exporter": "python",
   "pygments_lexer": "ipython3",
   "version": "3.8.9"
  },
  "orig_nbformat": 4
 },
 "nbformat": 4,
 "nbformat_minor": 2
}
