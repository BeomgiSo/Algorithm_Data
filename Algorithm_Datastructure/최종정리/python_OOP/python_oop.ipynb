{
 "cells": [
  {
   "cell_type": "markdown",
   "metadata": {},
   "source": [
    "# 클래스와 객체\n",
    "- 객체 지향 언어의 이해\n",
    "\n",
    "- Q. 수강신청 프로그램을 작성하려고할때\n",
    "    - 수강신청이 시작부터 끝가지 순서대로 작성\n",
    "    - 수강신청 관련 주체들(학생,교수,관리자)의 행동(수강신청,과목입력)과 데이터(수강과목, 강의과목)들을 중심으로 프로그램을 작성후 연결시킨다.\n",
    "    - 이러한 프로그램 기법을 객체 지향 프로그램이라 한다."
   ]
  },
  {
   "cell_type": "markdown",
   "metadata": {},
   "source": [
    "- 객체지향 프로그래밍 개요\n",
    "- Object-Oriented Programming, OOP\n",
    "- 객체 : 실생활에서 일종의 물건 속성(Attribute)와 행동(Action)을 가짐\n",
    "- OOP는 이러한 객체 개념을 프로그램으로 표현 속성은 변수(variable), 행동은 함수(Method)로 표현됨\n",
    "- 파이썬 역시 객체지향 프로그램 언어\n",
    "\n",
    "- 인공지능 축구프로그램 작성한다고 가정\n",
    "- 객체 종류 : \n",
    "\n",
    "- OOP는 설계도에 해당하는 클래스(Class)와 실제 구현체인 인스턴스(Instance)로 나눔\n",
    "- ex) 붕어빵틀(clss) 붕어빵(인스턴스)"
   ]
  },
  {
   "cell_type": "markdown",
   "metadata": {},
   "source": []
  },
  {
   "cell_type": "code",
   "execution_count": null,
   "metadata": {},
   "outputs": [],
   "source": [
    "# class\n",
    "# 설계도\n",
    "Class SoccerPlayer(object):\n",
    "#예약어 class이름 상속받는 객체명\n"
   ]
  }
 ],
 "metadata": {
  "language_info": {
   "name": "python"
  },
  "orig_nbformat": 4
 },
 "nbformat": 4,
 "nbformat_minor": 2
}
